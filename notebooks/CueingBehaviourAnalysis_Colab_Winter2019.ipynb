{
  "nbformat": 4,
  "nbformat_minor": 0,
  "metadata": {
    "colab": {
      "name": "CueingBehaviourAnalysis_Colab_Winter2019",
      "version": "0.3.2",
      "provenance": [],
      "collapsed_sections": [],
      "toc_visible": true,
      "include_colab_link": true
    },
    "kernelspec": {
      "name": "python3",
      "display_name": "Python 3"
    }
  },
  "cells": [
    {
      "cell_type": "markdown",
      "metadata": {
        "id": "view-in-github",
        "colab_type": "text"
      },
      "source": [
        "<a href=\"https://colab.research.google.com/github/kylemath/eeg-notebooks/blob/master/notebooks/CueingBehaviourAnalysis_Colab_Winter2019.ipynb\" target=\"_parent\"><img src=\"https://colab.research.google.com/assets/colab-badge.svg\" alt=\"Open In Colab\"/></a>"
      ]
    },
    {
      "metadata": {
        "id": "l_ZRAtVY8nJX",
        "colab_type": "text"
      },
      "cell_type": "markdown",
      "source": [
        "# CueingBehaviourAnalysis_Colab_Winter2019\n",
        "\n",
        "The cueing task can ellicit a number of reliable changes. A central cue indicates the location of an upcoming target onset. Here the task can be changed to be perfectly predictive, or have some level of cue validity. Task is to indicate the orientation of a spatial grating on the target, up for vertical, right for horizontal.\n",
        "\n",
        "ERP - Validly cued targets ellict larger ERP's than invalidly cued targets\n",
        "\n",
        "Response ERPs - Validly cued targets are more quickly identified and better identified\n",
        "\n",
        "Oscillations - Alpha power lateralizes after a spatial cue onset preceeding the upcoming onset of a target. Alpha power becomes smaller contraleral to the target side, and larger ipsilateral with the target."
      ]
    },
    {
      "metadata": {
        "id": "cRRt1FLy8xJs",
        "colab_type": "code",
        "outputId": "4e8cb6c0-ddfc-4d0d-99ac-55a41ade0047",
        "colab": {
          "base_uri": "https://localhost:8080/",
          "height": 51
        }
      },
      "cell_type": "code",
      "source": [
        "!git clone https://github.com/kylemath/eeg-notebooks --recurse-submodules\n",
        "%cd eeg-notebooks/data/visual/cueing/"
      ],
      "execution_count": 1,
      "outputs": [
        {
          "output_type": "stream",
          "text": [
            "fatal: destination path 'eeg-notebooks' already exists and is not an empty directory.\n",
            "/content/eeg-notebooks/data/visual/cueing\n"
          ],
          "name": "stdout"
        }
      ]
    },
    {
      "metadata": {
        "id": "G_2iJn-A8hxR",
        "colab_type": "code",
        "colab": {}
      },
      "cell_type": "code",
      "source": [
        "import scipy.io as sio \n",
        "import os\n",
        "import numpy as np \n",
        "import matplotlib.pyplot as plt \n",
        "import pandas as pd "
      ],
      "execution_count": 0,
      "outputs": []
    },
    {
      "metadata": {
        "id": "BU6QcVVh8sXM",
        "colab_type": "text"
      },
      "cell_type": "markdown",
      "source": [
        "# Analyze .mat behavioural data for Accuracy and RT\n"
      ]
    },
    {
      "metadata": {
        "id": "Yh-JuBMQ7x5T",
        "colab_type": "text"
      },
      "cell_type": "markdown",
      "source": [
        "Load in subjects"
      ]
    },
    {
      "metadata": {
        "id": "ynN5eXFBAy-g",
        "colab_type": "code",
        "colab": {}
      },
      "cell_type": "code",
      "source": [
        "# # Fall 2018\n",
        "# subs = [101, 102, 103, 104, 106, 108, 109, 110, 111, 112,\n",
        "#         202, 203, 204, 205, 207, 208, 209, 210, 211, \n",
        "#         301, 302, 303, 304, 305, 306, 307, 308, 309]\n",
        "\n",
        "# 105 - no trials in one condition\n",
        "\n",
        "# # Winter 2019\n",
        "# subs = [1101, 1102, 1103, 1104, 1105, 1106, 1108, 1109, 1110,\n",
        "#         1202, 1203, 1205, 1206, 1209, 1210, 1211, 1215,\n",
        "#         1301, 1302, 1313, \n",
        "#         1401, 1402, 1403, 1404, 1405,  1408, 1410, 1411, 1412, 1413, 1413, 1414, 1415, 1416]\n",
        "\n",
        "# # 1107 - no csv session 1\n",
        "# # 1201 - no csv session 1\n",
        "# # 1304 - Muse 2\n",
        "# # 1308 - Muse 2\n",
        "# # 1311 - Muse 2\n",
        "# # 1314 - Muse 2\n",
        "# # 1407 - only session1\n",
        "\n",
        "# Both \n",
        "\n",
        "# Fall 2018\n",
        "subs = [101, 102, 103, 104, 106, 108, 109, 110, 111, 112,\n",
        "        202, 203, 204, 205, 207, 208, 209, 210, 211, \n",
        "        301, 302, 303, 304, 305, 306, 307, 308, 309,\n",
        "        1101, 1102, 1103, 1104, 1105, 1106, 1108, 1109, 1110,\n",
        "        1202, 1203, 1205, 1206, 1209, 1210, 1211, 1215,\n",
        "        1301, 1302, 1313, \n",
        "        1401, 1402, 1403, 1404, 1405,  1408, 1410, 1411, 1412, 1413, 1413, 1414, 1415, 1416]\n"
      ],
      "execution_count": 0,
      "outputs": []
    },
    {
      "metadata": {
        "id": "KbqZDtIK8QTM",
        "colab_type": "text"
      },
      "cell_type": "markdown",
      "source": [
        "Set some settings"
      ]
    },
    {
      "metadata": {
        "id": "wCLpWFEs8Qd-",
        "colab_type": "code",
        "colab": {}
      },
      "cell_type": "code",
      "source": [
        "# basic numbers\n",
        "n_subs = len(subs)\n",
        "n_sesh = 2\n",
        "conditions = ['valid','invalid']\n",
        "n_cond = len(conditions)\n",
        "\n",
        "# cutoff trials that are too slow or fast\n",
        "rt_toofast = 250\n",
        "rt_tooslow = 1500\n",
        "\n",
        "#creates arrays to save output\n",
        "count_rt = np.zeros((n_subs, n_sesh, n_cond))\n",
        "median_rt = np.zeros((n_subs, n_sesh, n_cond))\n",
        "prop_accu = np.zeros((n_subs, n_sesh, n_cond))"
      ],
      "execution_count": 0,
      "outputs": []
    },
    {
      "metadata": {
        "id": "1JIk1YN18Qnb",
        "colab_type": "text"
      },
      "cell_type": "markdown",
      "source": [
        "Loop through subjects"
      ]
    },
    {
      "metadata": {
        "id": "iqSua1dT8Qxq",
        "colab_type": "code",
        "colab": {
          "base_uri": "https://localhost:8080/",
          "height": 1071
        },
        "outputId": "81398bf4-6691-4983-ebf1-55c2501f1c2d"
      },
      "cell_type": "code",
      "source": [
        "# loop through subjects\n",
        "for isub, sub in enumerate(subs):\n",
        "\tprint('Subject - ' + str(sub))\n",
        "\tfor sesh in range(n_sesh):\n",
        "\t\t# get the path and file name and load data\n",
        "\t\tpath =  './subject' + str(sub) + '/session' + str(sesh+1) + '/'\n",
        "\t\tfile =  [x for x in os.listdir(path) if x.endswith('.mat')]\n",
        "\t\toutput_dict = sio.loadmat(path + file[0])\n",
        "\n",
        "\t\t# pull out important stuff\n",
        "\t\toutput = output_dict['output']\n",
        "\t\taccuracy = output[:,6]\n",
        "\t\trt = output[:,7]\n",
        "\t\tvalidity = output[:,3]\n",
        "\n",
        "\t\t# count each type of trial\n",
        "\t\tcount_rt[isub,sesh,:] \t= [len( rt[(validity == 1) & \n",
        "\t\t\t\t\t\t\t\t\t\t(rt >= rt_toofast) &\n",
        "\t\t\t\t\t\t\t\t\t\t(rt <= rt_tooslow)]), \n",
        "\t\t\t\t\t\t\t\t   len( rt[(validity == 0) &\n",
        "\t\t\t\t\t\t\t\t\t\t(rt >= rt_toofast) &\n",
        "\t\t\t\t\t\t\t\t\t\t(rt <= rt_tooslow)]) ]\n",
        "\t\t# median rt on each condition\t\n",
        "\t\tmedian_rt[isub,sesh,:] \t= [ np.nanmedian ( rt [ (validity == 1) &\n",
        "\t\t\t\t\t\t\t\t\t\t\t\t\t \t(rt >= rt_toofast) &\n",
        "\t\t\t\t\t\t\t\t\t\t\t\t\t \t(rt <= rt_tooslow)]),\n",
        "\t\t\t\t\t\t\t\t\tnp.nanmedian ( rt [ (validity == 0) &\n",
        "\t\t\t\t\t\t\t\t\t\t\t\t\t\t(rt >= rt_toofast) &\n",
        "\t\t\t\t\t\t\t\t\t\t\t\t\t\t(rt <= rt_tooslow)]) ]\n",
        "\t\t# proportion accurate (number accurate / count)\t\t\t\t\t\t\t\n",
        "\t\tprop_accu[isub,sesh,:]  = [\tnp.sum ( accuracy [ (validity == 1) &\n",
        "\t\t\t\t\t\t\t\t\t\t\t\t\t\t(rt >= rt_toofast) &\n",
        "\t\t\t\t\t\t\t\t\t\t\t\t\t\t(rt <= rt_tooslow)]) / \n",
        "\t\t\t\t\t\t\t\t\tnp.sum((validity == 1) & (rt >= rt_toofast) & (rt <= rt_tooslow)),\n",
        "\n",
        "\t\t\t\t\t\t\t\t\tnp.sum ( accuracy [ (validity == 0) &\n",
        "\t\t\t\t\t\t\t\t\t\t\t\t\t\t(rt >= rt_toofast) &\n",
        "\t\t\t\t\t\t\t\t\t\t\t\t\t\t(rt <= rt_tooslow)]) /\n",
        "\t\t\t\t\t\t\t\t\tnp.sum((validity == 0) & (rt >= rt_toofast) & (rt <= rt_tooslow)) ]\n",
        "\t\n"
      ],
      "execution_count": 14,
      "outputs": [
        {
          "output_type": "stream",
          "text": [
            "Subject - 101\n",
            "Subject - 102\n",
            "Subject - 103\n",
            "Subject - 104\n",
            "Subject - 106\n",
            "Subject - 108\n",
            "Subject - 109\n",
            "Subject - 110\n",
            "Subject - 111\n",
            "Subject - 112\n",
            "Subject - 202\n",
            "Subject - 203\n",
            "Subject - 204\n",
            "Subject - 205\n",
            "Subject - 207\n",
            "Subject - 208\n",
            "Subject - 209\n",
            "Subject - 210\n",
            "Subject - 211\n",
            "Subject - 301\n",
            "Subject - 302\n",
            "Subject - 303\n",
            "Subject - 304\n",
            "Subject - 305\n",
            "Subject - 306\n",
            "Subject - 307\n",
            "Subject - 308\n",
            "Subject - 309\n",
            "Subject - 1101\n",
            "Subject - 1102\n",
            "Subject - 1103\n",
            "Subject - 1104\n",
            "Subject - 1105\n",
            "Subject - 1106\n",
            "Subject - 1108\n",
            "Subject - 1109\n",
            "Subject - 1110\n",
            "Subject - 1202\n",
            "Subject - 1203\n",
            "Subject - 1205\n",
            "Subject - 1206\n",
            "Subject - 1209\n",
            "Subject - 1210\n",
            "Subject - 1211\n",
            "Subject - 1215\n",
            "Subject - 1301\n",
            "Subject - 1302\n",
            "Subject - 1313\n",
            "Subject - 1401\n",
            "Subject - 1402\n",
            "Subject - 1403\n",
            "Subject - 1404\n",
            "Subject - 1405\n",
            "Subject - 1408\n",
            "Subject - 1410\n",
            "Subject - 1411\n",
            "Subject - 1412\n",
            "Subject - 1413\n",
            "Subject - 1413\n",
            "Subject - 1414\n",
            "Subject - 1415\n",
            "Subject - 1416\n"
          ],
          "name": "stdout"
        }
      ]
    },
    {
      "metadata": {
        "id": "irrH-9dP8Q7J",
        "colab_type": "text"
      },
      "cell_type": "markdown",
      "source": [
        "Average over sessions and print data"
      ]
    },
    {
      "metadata": {
        "id": "uU1N8pI_8RE1",
        "colab_type": "code",
        "colab": {
          "base_uri": "https://localhost:8080/",
          "height": 2159
        },
        "outputId": "bcb30507-46b1-4b8d-f837-04bdbe8ad8a0"
      },
      "cell_type": "code",
      "source": [
        "# Summary states and collapse sessions\n",
        "Out_median_RT = np.squeeze(np.nanmean(median_rt,axis=1))\n",
        "Out_prop_accu = np.squeeze(np.nanmean(prop_accu,axis=1))\n",
        "\n",
        "print('Median RT')\n",
        "print(Out_median_RT)\n",
        "print('Proportion Accurate')\n",
        "print(Out_prop_accu)"
      ],
      "execution_count": 15,
      "outputs": [
        {
          "output_type": "stream",
          "text": [
            "Median RT\n",
            "[[ 361.7079635   364.45366275]\n",
            " [ 547.10713075  611.45526175]\n",
            " [ 600.073256    587.019756  ]\n",
            " [ 528.29669975  537.8690605 ]\n",
            " [ 419.24263125  439.1580675 ]\n",
            " [ 456.3330375   631.1320265 ]\n",
            " [ 446.95026625  556.038382  ]\n",
            " [ 484.0763345   478.4887    ]\n",
            " [ 443.5412585   472.331497  ]\n",
            " [ 436.66653125  501.3115865 ]\n",
            " [ 495.63977675  587.358365  ]\n",
            " [ 520.97468575  973.144689  ]\n",
            " [ 395.5098235   370.232933  ]\n",
            " [ 489.59985525  560.08098575]\n",
            " [ 455.6651645   500.22833625]\n",
            " [ 662.9326765   643.0934405 ]\n",
            " [ 488.56224425  474.7125945 ]\n",
            " [ 482.1316255   543.0173155 ]\n",
            " [ 713.4103845   894.0804795 ]\n",
            " [ 485.48053725  533.6649235 ]\n",
            " [ 519.5475525   505.339771  ]\n",
            " [ 488.45884825  500.39610975]\n",
            " [ 527.5814465   533.4898155 ]\n",
            " [ 477.23867575  446.72875575]\n",
            " [ 484.94210575  578.6717025 ]\n",
            " [ 681.7458885   804.780758  ]\n",
            " [ 419.736862    485.569911  ]\n",
            " [ 435.42846425  437.12191   ]\n",
            " [ 598.04465075  621.9017695 ]\n",
            " [ 452.861527    745.96088825]\n",
            " [ 565.5617495  1045.432837  ]\n",
            " [ 464.454593    487.46796025]\n",
            " [ 391.337253    405.795242  ]\n",
            " [ 546.96016475  587.444896  ]\n",
            " [ 559.4202305   678.79757875]\n",
            " [ 522.34808875  567.244541  ]\n",
            " [ 526.939228    528.818419  ]\n",
            " [ 412.412684    419.152454  ]\n",
            " [ 422.56770525  672.7816425 ]\n",
            " [ 404.63243925  407.16631575]\n",
            " [ 313.3582075   384.828721  ]\n",
            " [ 430.504144    446.240827  ]\n",
            " [ 509.060366    582.5048    ]\n",
            " [ 421.1600175   401.79454125]\n",
            " [ 496.34482975  522.21874275]\n",
            " [ 403.026628    405.6318665 ]\n",
            " [ 448.89014675  451.014403  ]\n",
            " [ 494.34384625  656.992261  ]\n",
            " [ 466.1537555   730.76214375]\n",
            " [ 395.75698025  389.14319525]\n",
            " [ 553.026483    673.235512  ]\n",
            " [ 646.36859225  670.039665  ]\n",
            " [ 485.267728    507.74778   ]\n",
            " [ 585.5351605   646.9294855 ]\n",
            " [ 358.78314675  410.99213625]\n",
            " [ 571.50437475  615.67059075]\n",
            " [ 409.3596385   498.345121  ]\n",
            " [ 421.08582125  432.95928575]\n",
            " [ 421.08582125  432.95928575]\n",
            " [ 466.787724    472.81628   ]\n",
            " [ 385.1308235   408.8395635 ]\n",
            " [ 474.7428075   557.85995525]]\n",
            "Proportion Accurate\n",
            "[[0.98305085 0.96428571]\n",
            " [1.         1.        ]\n",
            " [0.91680961 0.88974359]\n",
            " [0.98809524 1.        ]\n",
            " [0.9822995  1.        ]\n",
            " [0.95403439 0.6       ]\n",
            " [0.92346939 0.97727273]\n",
            " [0.99019608 0.97058824]\n",
            " [0.97395994 1.        ]\n",
            " [0.68275862 0.83333333]\n",
            " [0.89914021 0.89732143]\n",
            " [0.92080745 0.73333333]\n",
            " [0.94716042 0.91666667]\n",
            " [0.95755518 1.        ]\n",
            " [0.95959184 0.94949495]\n",
            " [0.88296296 0.94117647]\n",
            " [0.90046296 0.92857143]\n",
            " [0.96551724 0.875     ]\n",
            " [0.91171329 0.92857143]\n",
            " [0.98333333 0.9       ]\n",
            " [0.95535714 0.96153846]\n",
            " [0.94187987 0.95833333]\n",
            " [0.96479592 0.94736842]\n",
            " [1.         0.90833333]\n",
            " [0.94186047 0.8       ]\n",
            " [1.         1.        ]\n",
            " [0.97222222 0.97222222]\n",
            " [0.95718391 1.        ]\n",
            " [0.94887279 0.89182692]\n",
            " [0.89202762 0.96875   ]\n",
            " [0.95995379 0.54195804]\n",
            " [0.97375367 0.94444444]\n",
            " [0.95794931 1.        ]\n",
            " [0.98176393 1.        ]\n",
            " [1.         1.        ]\n",
            " [0.92180851 0.92513369]\n",
            " [0.97011785 0.96666667]\n",
            " [0.88272727 0.83223684]\n",
            " [0.9491238  1.        ]\n",
            " [0.8655811  0.91428571]\n",
            " [0.70820669 0.94117647]\n",
            " [0.98484848 1.        ]\n",
            " [1.         0.97727273]\n",
            " [0.9746941  0.875     ]\n",
            " [1.         1.        ]\n",
            " [0.97540984 0.95454545]\n",
            " [0.96568915 0.95      ]\n",
            " [0.97932651 1.        ]\n",
            " [0.92064394 0.73214286]\n",
            " [0.94751966 0.96428571]\n",
            " [0.91764706 0.96875   ]\n",
            " [0.97826087 0.95454545]\n",
            " [0.96473863 0.85555556]\n",
            " [0.95231911 0.95454545]\n",
            " [0.88974359 0.96153846]\n",
            " [0.97843228 0.94786096]\n",
            " [0.97115385 0.94117647]\n",
            " [0.9787234  0.95238095]\n",
            " [0.9787234  0.95238095]\n",
            " [0.95235656 1.        ]\n",
            " [0.97304625 0.96666667]\n",
            " [0.94272727 0.96428571]]\n"
          ],
          "name": "stdout"
        }
      ]
    },
    {
      "metadata": {
        "id": "hyGntPA6-m2J",
        "colab_type": "text"
      },
      "cell_type": "markdown",
      "source": [
        "Plot barplot of results"
      ]
    },
    {
      "metadata": {
        "id": "k9-zp2mS92Pi",
        "colab_type": "code",
        "colab": {
          "base_uri": "https://localhost:8080/",
          "height": 376
        },
        "outputId": "2c17f3ea-cb4d-45ea-9830-1b59f1fb07c7"
      },
      "cell_type": "code",
      "source": [
        "# bar plot results\n",
        "plt.figure()\n",
        "# Accuracy\n",
        "ax = plt.subplot(211)\n",
        "plt.bar([0,1], np.nanmean(Out_prop_accu,axis=0), 0.6, yerr = np.nanstd(Out_prop_accu,axis=0)/np.sqrt(n_subs))\n",
        "plt.ylim(.9,.96)\n",
        "plt.title('Accuracy')\n",
        "plt.ylabel('Proportion Correct')\n",
        "ax.set_xticks([0,1])\n",
        "ax.set_xticklabels(conditions)\n",
        "# RT\n",
        "ax = plt.subplot(212)\n",
        "plt.bar([0,1], np.nanmean(Out_median_RT,axis=0), 0.6, yerr = np.nanstd(Out_median_RT,axis=0)/np.sqrt(n_subs))\n",
        "plt.ylim(450,600)\n",
        "plt.title('Reaction Time')\n",
        "plt.ylabel('RT (ms)')\n",
        "plt.xlabel('Condition')\n",
        "ax.set_xticks([0,1])\n",
        "ax.set_xticklabels(conditions)\n",
        "plt.show()\n"
      ],
      "execution_count": 16,
      "outputs": [
        {
          "output_type": "display_data",
          "data": {
            "image/png": "[encoded data removed]",
            "text/plain": [
              "<Figure size 576x396 with 2 Axes>"
            ]
          },
          "metadata": {
            "tags": []
          }
        }
      ]
    },
    {
      "metadata": {
        "id": "2gm7igaq-q9t",
        "colab_type": "text"
      },
      "cell_type": "markdown",
      "source": [
        "Output spreadsheet\n",
        "\n"
      ]
    },
    {
      "metadata": {
        "id": "yzWBBoMW-qnK",
        "colab_type": "code",
        "colab": {
          "base_uri": "https://localhost:8080/",
          "height": 1105
        },
        "outputId": "7bfeb7a3-0473-4dca-d1a0-3e2e7ecc2376"
      },
      "cell_type": "code",
      "source": [
        "## CSV output\n",
        "column_dict = {'Participant':subs,\n",
        "\t\t\t\t'AccValid':Out_prop_accu[:,0],\n",
        "\t\t\t\t'AccInvalid':Out_prop_accu[:,1],\n",
        "\t\t\t\t'RTValid':Out_median_RT[:,0],\n",
        "\t\t\t\t'RTInvalid':Out_median_RT[:,1] }\n",
        "df = pd.DataFrame(column_dict)\n",
        "print(df)\n",
        "df.to_csv('375CueingBehPy.csv',index=False)\n"
      ],
      "execution_count": 17,
      "outputs": [
        {
          "output_type": "stream",
          "text": [
            "    AccInvalid  AccValid  Participant   RTInvalid     RTValid\n",
            "0     0.964286  0.983051          101  364.453663  361.707963\n",
            "1     1.000000  1.000000          102  611.455262  547.107131\n",
            "2     0.889744  0.916810          103  587.019756  600.073256\n",
            "3     1.000000  0.988095          104  537.869061  528.296700\n",
            "4     1.000000  0.982299          106  439.158067  419.242631\n",
            "5     0.600000  0.954034          108  631.132027  456.333038\n",
            "6     0.977273  0.923469          109  556.038382  446.950266\n",
            "7     0.970588  0.990196          110  478.488700  484.076334\n",
            "8     1.000000  0.973960          111  472.331497  443.541259\n",
            "9     0.833333  0.682759          112  501.311586  436.666531\n",
            "10    0.897321  0.899140          202  587.358365  495.639777\n",
            "11    0.733333  0.920807          203  973.144689  520.974686\n",
            "12    0.916667  0.947160          204  370.232933  395.509823\n",
            "13    1.000000  0.957555          205  560.080986  489.599855\n",
            "14    0.949495  0.959592          207  500.228336  455.665165\n",
            "15    0.941176  0.882963          208  643.093440  662.932677\n",
            "16    0.928571  0.900463          209  474.712594  488.562244\n",
            "17    0.875000  0.965517          210  543.017316  482.131626\n",
            "18    0.928571  0.911713          211  894.080479  713.410385\n",
            "19    0.900000  0.983333          301  533.664923  485.480537\n",
            "20    0.961538  0.955357          302  505.339771  519.547552\n",
            "21    0.958333  0.941880          303  500.396110  488.458848\n",
            "22    0.947368  0.964796          304  533.489816  527.581447\n",
            "23    0.908333  1.000000          305  446.728756  477.238676\n",
            "24    0.800000  0.941860          306  578.671703  484.942106\n",
            "25    1.000000  1.000000          307  804.780758  681.745889\n",
            "26    0.972222  0.972222          308  485.569911  419.736862\n",
            "27    1.000000  0.957184          309  437.121910  435.428464\n",
            "28    0.891827  0.948873         1101  621.901770  598.044651\n",
            "29    0.968750  0.892028         1102  745.960888  452.861527\n",
            "..         ...       ...          ...         ...         ...\n",
            "32    1.000000  0.957949         1105  405.795242  391.337253\n",
            "33    1.000000  0.981764         1106  587.444896  546.960165\n",
            "34    1.000000  1.000000         1108  678.797579  559.420231\n",
            "35    0.925134  0.921809         1109  567.244541  522.348089\n",
            "36    0.966667  0.970118         1110  528.818419  526.939228\n",
            "37    0.832237  0.882727         1202  419.152454  412.412684\n",
            "38    1.000000  0.949124         1203  672.781642  422.567705\n",
            "39    0.914286  0.865581         1205  407.166316  404.632439\n",
            "40    0.941176  0.708207         1206  384.828721  313.358207\n",
            "41    1.000000  0.984848         1209  446.240827  430.504144\n",
            "42    0.977273  1.000000         1210  582.504800  509.060366\n",
            "43    0.875000  0.974694         1211  401.794541  421.160018\n",
            "44    1.000000  1.000000         1215  522.218743  496.344830\n",
            "45    0.954545  0.975410         1301  405.631867  403.026628\n",
            "46    0.950000  0.965689         1302  451.014403  448.890147\n",
            "47    1.000000  0.979327         1313  656.992261  494.343846\n",
            "48    0.732143  0.920644         1401  730.762144  466.153755\n",
            "49    0.964286  0.947520         1402  389.143195  395.756980\n",
            "50    0.968750  0.917647         1403  673.235512  553.026483\n",
            "51    0.954545  0.978261         1404  670.039665  646.368592\n",
            "52    0.855556  0.964739         1405  507.747780  485.267728\n",
            "53    0.954545  0.952319         1408  646.929485  585.535160\n",
            "54    0.961538  0.889744         1410  410.992136  358.783147\n",
            "55    0.947861  0.978432         1411  615.670591  571.504375\n",
            "56    0.941176  0.971154         1412  498.345121  409.359639\n",
            "57    0.952381  0.978723         1413  432.959286  421.085821\n",
            "58    0.952381  0.978723         1413  432.959286  421.085821\n",
            "59    1.000000  0.952357         1414  472.816280  466.787724\n",
            "60    0.966667  0.973046         1415  408.839564  385.130823\n",
            "61    0.964286  0.942727         1416  557.859955  474.742807\n",
            "\n",
            "[62 rows x 5 columns]\n"
          ],
          "name": "stdout"
        }
      ]
    }
  ]
}