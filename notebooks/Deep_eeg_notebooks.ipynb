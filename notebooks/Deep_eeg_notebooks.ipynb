{
  "nbformat": 4,
  "nbformat_minor": 0,
  "metadata": {
    "colab": {
      "name": "Deep-eeg-notebooks.ipynb",
      "version": "0.3.2",
      "provenance": [],
      "include_colab_link": true
    },
    "kernelspec": {
      "name": "python3",
      "display_name": "Python 3"
    },
    "accelerator": "GPU"
  },
  "cells": [
    {
      "cell_type": "markdown",
      "metadata": {
        "id": "view-in-github",
        "colab_type": "text"
      },
      "source": [
        "<a href=\"https://colab.research.google.com/github/kylemath/eeg-notebooks/blob/master/notebooks/Deep_eeg_notebooks.ipynb\" target=\"_parent\"><img src=\"https://colab.research.google.com/assets/colab-badge.svg\" alt=\"Open In Colab\"/></a>"
      ]
    },
    {
      "metadata": {
        "id": "cH7KRd8ZZPMd",
        "colab_type": "text"
      },
      "cell_type": "markdown",
      "source": [
        "## Deep-eeg-notebooks\n",
        "\n",
        "Goal is to make a deep learning LSTM stack that processes Muse eeg-notebook EEG trials as input and predicts binary trial category as output. This is all made to run on Google Colab notebooks using cloud GPU capabilities, so the git repo's get loaded at the start of the code into the workspace. Minor mods may be needed to use local Jupyter notebook. Long term goal of command line interface and mne toolbox.\n",
        "\n",
        "Strategy:\n",
        "* Load in Muse data, normal pre-processing to get to trials\n",
        "* Decimate down to reduce features in time x frequency x electrode\n",
        "* Avoid CNN?\n",
        "* load time steps into LSTM?\n",
        "* Predict attend left vs attend right on muse 375 data\n",
        "\n",
        "API:\n",
        "* Want to input the data directory of any eeg-notebook experiment (https://github.com/kylemath/eeg-notebooks)\n",
        "* More general with the master eeg-notebooks - https://github.com/NeuroTechX/eeg-notebooks\n",
        "\n",
        "\n",
        "LearningModels:\n",
        "* First try simple CNN\n",
        "* then add in LSTM component to treat time as recurrent\n",
        "\n",
        "DataModels:\n",
        "* First pool data over subjects\n",
        "* Try subject specific models\n",
        "* Then try multilevel models\n",
        "\n",
        "Using: \n",
        "* https://github.com/pbashivan/EEGLearn\n",
        "* https://github.com/tevisgehr/EEG-Classification\n",
        "* https://github.com/kylemath/eeg-notebooks\n",
        "* https://github.com/mne-tools/mne-python\n",
        "* https://github.com/keras-team/keras/blob/master/examples/imdb_cnn_lstm.py\n",
        "* https://github.com/ml4a/ml4a-guides/blob/master/notebooks/keras_classification.ipynb\n",
        "\n",
        "Resources:\n",
        "*   http://proceedings.mlr.press/v56/Thodoroff16.pdf\n",
        "*   https://arxiv.org/abs/1511.06448\n",
        "\n",
        "\n"
      ]
    },
    {
      "metadata": {
        "id": "Kf-1ItUyU380",
        "colab_type": "text"
      },
      "cell_type": "markdown",
      "source": [
        "**Setup**"
      ]
    },
    {
      "metadata": {
        "id": "VXe-o8XtG9ki",
        "colab_type": "code",
        "outputId": "20d60db4-195f-42b7-c75f-431fc84a8b6f",
        "colab": {
          "base_uri": "https://localhost:8080/",
          "height": 85
        }
      },
      "cell_type": "code",
      "source": [
        "!pip install mne\n",
        "from mne import Epochs, find_events, concatenate_raws\n",
        "from mne.time_frequency import tfr_morlet\n",
        "\n",
        "!git clone https://github.com/kylemath/eeg-notebooks.git\n",
        "%cd eeg-notebooks/notebooks\n",
        "from utils import utils\n",
        "\n",
        "import pandas as pd\n",
        "pd.options.display.max_columns = None\n",
        "pd.options.display.precision = 4\n",
        "\n",
        "import numpy as np\n",
        "from numpy import genfromtxt\n",
        "\n",
        "from collections import OrderedDict\n",
        "\n",
        "import matplotlib.pyplot as plt\n",
        "%matplotlib inline\n",
        "plt.rcParams[\"figure.figsize\"] = (12,12)\n",
        "\n",
        "import keras\n",
        "from keras.models import Sequential\n",
        "from keras.layers import Dense, Dropout, Activation, Flatten, Conv2D, MaxPooling2D\n",
        "\n",
        "from sklearn.model_selection import train_test_split"
      ],
      "execution_count": 1,
      "outputs": [
        {
          "output_type": "stream",
          "text": [
            "Requirement already satisfied: mne in /usr/local/lib/python3.6/dist-packages (0.17.0)\n",
            "fatal: destination path 'eeg-notebooks' already exists and is not an empty directory.\n",
            "/content/eeg-notebooks/notebooks\n"
          ],
          "name": "stdout"
        },
        {
          "output_type": "stream",
          "text": [
            "Using TensorFlow backend.\n"
          ],
          "name": "stderr"
        }
      ]
    },
    {
      "metadata": {
        "id": "yR1WkVZKU2Vm",
        "colab_type": "text"
      },
      "cell_type": "markdown",
      "source": [
        "**Parameters**"
      ]
    },
    {
      "metadata": {
        "id": "QGVIiUbAU1nA",
        "colab_type": "code",
        "outputId": "5f9dfd05-5608-4b6f-997b-24ff296fe119",
        "colab": {
          "base_uri": "https://localhost:8080/",
          "height": 34
        }
      },
      "cell_type": "code",
      "source": [
        "#Parameters#\n",
        "#subject folders in data folder\n",
        "subs = [101, 102, 103, 104, 105, 106, 108, 109, 110, 111, 112,\n",
        "        202, 203, 204, 205, 207, 208, 209, 210, 211, \n",
        "        301, 302, 303, 304, 305, 306, 307, 308, 309]\n",
        "\n",
        "#for testing\n",
        "#subs = [ 205, 207, 208, 209]\n",
        "\n",
        "#number of sessions in each subject folder\n",
        "nsesh = 2\n",
        "\n",
        "data_dir = 'visual/cueing'\n",
        "event_ids = ['LeftCue','RightCue']\n",
        "\n",
        "\n",
        "## Can load other experiments like this\n",
        "#subs = [ 1, 2, 3]\n",
        "#nsesh = 2\n",
        "#data_dir = 'visual/P300'\n",
        "#event_ids = ['Standard','Target']\n",
        "##\n",
        "\n",
        "load_verbose = 0 #print output during loading\n",
        "\n",
        "\n",
        "sfreq=256.\n",
        "\n",
        "#filter\n",
        "eeg_filter_highpass = 1\n",
        "eeg_filter_lowpass = 30\n",
        "\n",
        "#artifact rejection\n",
        "rej_thresh_uV = 1000  #300 removes most blinks, 1000 keeps most trials\n",
        "rej_thresh = rej_thresh_uV*1e-6\n",
        "\n",
        "#trial epoch limits \n",
        "tmin=-1\n",
        "tmax=2\n",
        "decim=20  # to decrease number of time features\n",
        "baseline=(-1, 0) #gets removed from training data but used during processing\n",
        "\n",
        "frequency_domain = 1  #if True uses wavelets otherwise use time series\n",
        "#wavelet settings\n",
        "f_low = 4\n",
        "f_high = 20\n",
        "f_bins = 10  # to decrease number of frequency features\n",
        "frequencies =  np.linspace(4, 10, f_bins, endpoint=True)\n",
        "wave_cycles = 6\n",
        "spect_baseline = [-1,-.5] #gets removed from training data but used during processing\n",
        "electrodes_out = [0,1,2,3]  # to decrease number of electrode features from [0,1,2,3] or [0,1,2,3,4] with aux electrode (untested)\n",
        "\n",
        "#Training Settings\n",
        "batch_size = 16\n",
        "train_epochs = 100\n",
        "num_classes = len(event_ids)\n",
        "test_split = 0.2\n",
        "val_split = 0.2\n",
        "random_seed = 1017\n",
        "np.random.seed(random_seed)\n",
        "\n",
        "\n",
        "print('Parameters Set')"
      ],
      "execution_count": 8,
      "outputs": [
        {
          "output_type": "stream",
          "text": [
            "Parameters Set\n"
          ],
          "name": "stdout"
        }
      ]
    },
    {
      "metadata": {
        "id": "g2a98-rwL9wl",
        "colab_type": "text"
      },
      "cell_type": "markdown",
      "source": [
        "**Preprocessing of EEG Data**\n",
        "\n",
        "* LoadData - Each data file is from one session of one subject of the muse cueing task from eeg-notebooks from psych 375 A1 dataset\n",
        "* Filtering - Most ERP components are composed of lower frequency fluctuations in the EEG signal. Thus, we can filter out all frequencies between 1 and 30 hz in order to increase our ability to detect them.\n",
        "* Epoching - Next, we will chunk (epoch) the data into segments representing the data 1000ms before to 2000ms after each cue, we will reject every epoch where the amplitude of the signal exceeded 100 uV, which should most eye blinks."
      ]
    },
    {
      "metadata": {
        "id": "6A3mgX7ILZFK",
        "colab_type": "code",
        "outputId": "a26b8857-70e1-4dcf-c921-885ca1dfe2d5",
        "colab": {
          "base_uri": "https://localhost:8080/",
          "height": 595
        }
      },
      "cell_type": "code",
      "source": [
        "#Load Data\n",
        "print('Loading Data')\n",
        "isub = subs[0]\n",
        "print(isub)\n",
        "raw = utils.load_data(data_dir, sfreq=sfreq ,subject_nb=isub, session_nb=1,verbose=load_verbose)\n",
        "if nsesh == 2:\n",
        "  raw.append(utils.load_data(data_dir, sfreq=sfreq,subject_nb=isub, session_nb=2,verbose=load_verbose))\n",
        "\n",
        "if len(subs)>1:\n",
        "  for isub in subs[1:]:\n",
        "    print(isub)\n",
        "    raw.append(utils.load_data(data_dir, sfreq=sfreq,subject_nb=isub, session_nb=1,verbose=load_verbose))\n",
        "    if nsesh == 2:\n",
        "      raw.append(utils.load_data(data_dir, sfreq=sfreq,subject_nb=isub, session_nb=2,verbose=load_verbose))\n",
        "  \n",
        "#Filtering\n",
        "print('Filtering Data')\n",
        "raw.filter(eeg_filter_highpass,eeg_filter_lowpass, method='iir', verbose='WARNING' )\n",
        "\n",
        "#Plot filtred data spectra if desired\n",
        "#raw.plot_psd(fmin=eeg_filter_highpass, fmax=eeg_filter_lowpass ) \n",
        "\n",
        "#Epoching\n",
        "event_id = {event_ids[0]: 1, event_ids[1]: 2}\n",
        "events = find_events(raw)\n",
        "epochs = Epochs(raw, events=events, event_id=event_id, \n",
        "                tmin=tmin, tmax=tmax, baseline=baseline, \n",
        "                preload=True,reject={'eeg':rej_thresh},\n",
        "                verbose=False, picks=[0, 1, 2, 3])\n",
        "\n",
        "print('sample drop %: ', (1 - len(epochs.events)/len(events)) * 100)\n",
        "%matplotlib inline\n",
        "conditions = OrderedDict()\n",
        "conditions[event_ids[0]] = [1]\n",
        "conditions[event_ids[1]] = [2]\n",
        "\n",
        "#plot ERPs if desired\n",
        "#fig, ax = utils.plot_conditions(epochs, conditions=conditions, ylim=(-20,20) )"
      ],
      "execution_count": 9,
      "outputs": [
        {
          "output_type": "stream",
          "text": [
            "Loading Data\n",
            "101\n",
            "102\n",
            "103\n",
            "104\n",
            "105\n",
            "106\n",
            "108\n",
            "109\n",
            "110\n",
            "111\n",
            "112\n",
            "202\n",
            "203\n",
            "204\n",
            "205\n",
            "207\n",
            "208\n",
            "209\n",
            "210\n",
            "211\n",
            "301\n",
            "302\n",
            "303\n",
            "304\n",
            "305\n",
            "306\n",
            "307\n",
            "308\n",
            "309\n",
            "Filtering Data\n",
            "4583 events found\n",
            "Event IDs: [ 1  2 11 12 21 22]\n",
            "sample drop %:  50.687322714379235\n"
          ],
          "name": "stdout"
        }
      ]
    },
    {
      "metadata": {
        "id": "EmvSu1bOZiO0",
        "colab_type": "text"
      },
      "cell_type": "markdown",
      "source": [
        "** Spectrogram **\n",
        "\n",
        "* All electrodes are considered on each trial\n",
        "* Many frequencies are used in the wavelet analysis while the output of the morlet is decimated in time.\n",
        "* Two conditions are done separate and concatenated\n",
        "* X is a trials x freq x time matrix\n",
        "* Y is a trials array of condition labels (turned into one hot vectors later in code)\n"
      ]
    },
    {
      "metadata": {
        "id": "Xs-_8GRYZar7",
        "colab_type": "code",
        "outputId": "c6e33fd1-3cb1-476e-d731-10a7f4ffd1f5",
        "colab": {
          "base_uri": "https://localhost:8080/",
          "height": 187
        }
      },
      "cell_type": "code",
      "source": [
        "if frequency_domain:\n",
        "  # Condition0\n",
        "  print('Computing Morlet Wavelets on ' + event_ids[0])\n",
        "\n",
        "  tfr0 = tfr_morlet(epochs[event_ids[0]], freqs=frequencies, \n",
        "                        n_cycles=wave_cycles, return_itc=False,\n",
        "                        picks=electrodes_out,average=False,decim=decim)\n",
        "  tfr0 = tfr0.apply_baseline(spect_baseline,mode='mean')\n",
        "  stim_onset = np.argmax(tfr0.times>0)\n",
        "  new_times = tfr0.times[stim_onset:]\n",
        "  cond0_power_out = np.moveaxis(tfr0.data[:,:,:,stim_onset:],1,3)\n",
        "  print('Condition zero trials: ' + str(len(cond0_power_out)))\n",
        "  #cond0_power_out[:,0:5,0:5,:] = 0 #for testing model add mark to image\n",
        "\n",
        "  print(event_ids[0] + ' Time Points: ' + str(len(new_times)))\n",
        "  print(event_ids[0] + ' Frequencies: ' + str(len(tfr0.freqs)))\n",
        "\n",
        "  #Condition1\n",
        "  print('Computing Morlet Wavelets on ' + event_ids[1])\n",
        "  tfr1 = tfr_morlet(epochs[event_ids[1]], freqs=frequencies, \n",
        "                        n_cycles=wave_cycles, return_itc=False,\n",
        "                        picks=electrodes_out,average=False,decim=decim)\n",
        "  tfr1 = tfr1.apply_baseline(spect_baseline,mode='mean')\n",
        "  cond1_power_out = np.moveaxis(tfr1.data[:,:,:,stim_onset:],1,3)\n",
        "  print('Condition one trials: ' + str(len(cond1_power_out)))    \n",
        "  #cond1_power_out[:,0:5,0:5,:] = 1 #for testing model add mark to image\n",
        "\n",
        "  print(event_ids[1] + ' Time Points: ' + str(len(new_times)))\n",
        "  print(event_ids[1] + ' Frequencies: ' + str(len(tfr1.freqs)))\n",
        "\n",
        "  X = np.append(cond0_power_out,cond1_power_out,0);\n",
        "  \n",
        "  #Normalize X - need to save mean and std for future test + val\n",
        "  X = (X - np.mean(X)) / np.std(X)\n",
        "  #Append Data\n",
        "  Y = np.append(np.zeros(len(cond0_power_out)), np.ones(len(cond1_power_out)),0)"
      ],
      "execution_count": 10,
      "outputs": [
        {
          "output_type": "stream",
          "text": [
            "Computing Morlet Wavelets on LeftCue\n",
            "Applying baseline correction (mode: mean)\n",
            "Condition zero trials: 1133\n",
            "LeftCue Time Points: 26\n",
            "LeftCue Frequencies: 10\n",
            "Computing Morlet Wavelets on RightCue\n",
            "Applying baseline correction (mode: mean)\n",
            "Condition one trials: 1127\n",
            "RightCue Time Points: 26\n",
            "RightCue Frequencies: 10\n"
          ],
          "name": "stdout"
        }
      ]
    },
    {
      "metadata": {
        "id": "_d74N_oqMlGF",
        "colab_type": "text"
      },
      "cell_type": "markdown",
      "source": [
        "**Time Domain**\n",
        "\n",
        "* Instead may want to retain time domain data\n",
        "* After Epoching, arange data into useful format with labels"
      ]
    },
    {
      "metadata": {
        "id": "qoBQKZ2uMOpL",
        "colab_type": "code",
        "colab": {}
      },
      "cell_type": "code",
      "source": [
        "if not frequency_domain:\n",
        "  \n",
        "  #epochs = epochs.decimate(10) #probably don't do this\n",
        "  X = np.moveaxis(epochs._data,1,2); #but channels last\n",
        "  \n",
        "  #take post baseline only\n",
        "  stim_onset = np.argmax(epochs.times>0)\n",
        "  new_times = epochs.times[stim_onset:]\n",
        "  X = X[:,stim_onset:,:]\n",
        "  \n",
        "  #Normalize X - need to save mean and std for future test + val\n",
        "  X = (X - np.mean(X)) / np.std(X)\n",
        "  \n",
        "  Y_class = epochs.events[:,2]-1  #subtract 1 to make 0 and 1\n",
        "  \n",
        "  print('X Shape: ' + str(X.shape))\n",
        "  print('Y Shape: ' + str(Y_class.shape))\n",
        "  print('Y Example: ' + str(Y_class[0:10]))"
      ],
      "execution_count": 0,
      "outputs": []
    },
    {
      "metadata": {
        "id": "WqVTXiwrZxbf",
        "colab_type": "text"
      },
      "cell_type": "markdown",
      "source": [
        "**Prepare Data for Model**\n"
      ]
    },
    {
      "metadata": {
        "id": "4xyrsW2kZW8D",
        "colab_type": "code",
        "outputId": "b0a62560-765b-4a76-e5ec-4fd421d54b19",
        "colab": {
          "base_uri": "https://localhost:8080/",
          "height": 658
        }
      },
      "cell_type": "code",
      "source": [
        "# convert class vectors to one hot Y and recast X\n",
        "Y = keras.utils.to_categorical(Y_class, num_classes)\n",
        "X = X.astype('float32')\n",
        "\n",
        "# Split training test and validation data \n",
        "val_prop = val_split / (1-test_split)\n",
        "x_train, x_test, y_train, y_test = train_test_split(X, Y, test_size=test_split,random_state=random_seed) \n",
        "x_train, x_val, y_train, y_val = train_test_split(x_train, y_train, test_size=val_prop, random_state=random_seed)\n",
        "\n",
        "# Compute model input shape\n",
        "input_shape = X.shape[1:]\n",
        "\n",
        "print('Combined X Shape: ' + str(X.shape))\n",
        "print('Combined Y Shape: ' + str(Y.shape))\n",
        "print('X Range: ' + str(np.min(X)) + ':' + str(np.max(X)))\n",
        "print('X Examples:')\n",
        "\n",
        "#for plotting\n",
        "\n",
        "vmin = (np.std(X)/4) * -1\n",
        "vmax = np.std(X)/4  \n",
        "\n",
        "#Plot Example Data\n",
        "f, axarr = plt.subplots(2,2, figsize = (8,8))\n",
        "axarr[0][0].set_title(event_ids[0])\n",
        "axarr[0][0].imshow(X[0],vmin=vmin, vmax=vmax, aspect='auto')\n",
        "\n",
        "axarr[0][0].invert_yaxis()\n",
        "axarr[1][0].imshow(X[1],vmin=vmin, vmax=vmax, aspect='auto')\n",
        "axarr[1][0].invert_yaxis()\n",
        "\n",
        "axarr[0][1].set_title(event_ids[1])\n",
        "axarr[0][1].imshow(X[-1],vmin=vmin, vmax=vmax, aspect='auto')\n",
        "axarr[0][1].invert_yaxis()\n",
        "axarr[1][1].imshow(X[-2],vmin=vmin, vmax=vmax, aspect='auto')\n",
        "axarr[1][1].invert_yaxis()\n",
        ";\n",
        "\n",
        "print('Input Shape: ' + str(input_shape))\n",
        "print('x_train shape:', x_train.shape)\n",
        "print(x_train.shape[0], 'train samples')\n",
        "print(x_test.shape[0], 'test samples')\n",
        "print(x_val.shape[0], 'validation samples')\n"
      ],
      "execution_count": 12,
      "outputs": [
        {
          "output_type": "stream",
          "text": [
            "Combined X Shape: (2260, 10, 26, 4)\n",
            "Combined Y Shape: (2260, 2)\n",
            "X Range: -39.142677:41.262814\n",
            "X Examples:\n",
            "Input Shape: (10, 26, 4)\n",
            "x_train shape: (1356, 10, 26, 4)\n",
            "1356 train samples\n",
            "452 test samples\n",
            "452 validation samples\n"
          ],
          "name": "stdout"
        },
        {
          "output_type": "display_data",
          "data": {
            "image/png": "[encoded data removed]",
            "text/plain": [
              "<Figure size 576x576 with 4 Axes>"
            ]
          },
          "metadata": {
            "tags": []
          }
        }
      ]
    },
    {
      "metadata": {
        "id": "mKzYDoF1TQmK",
        "colab_type": "text"
      },
      "cell_type": "markdown",
      "source": [
        "**Build Model and Train**"
      ]
    },
    {
      "metadata": {
        "scrolled": false,
        "id": "JxjbgyC5G7AZ",
        "colab_type": "code",
        "outputId": "bcea4fde-5aec-4dc0-c0ab-b54181dfffaa",
        "colab": {
          "base_uri": "https://localhost:8080/",
          "height": 4333
        }
      },
      "cell_type": "code",
      "source": [
        "#DenseFeedforward Network\n",
        "model = Sequential()\n",
        "model.add(Flatten())\n",
        "model.add(Dense(10, activation='relu'))\n",
        "model.add(Dropout(.20))\n",
        "model.add(Dense(2, activation='softmax'))\n",
        "\n",
        "# Create CNN in keras\n",
        "# parameters above need to be adjusted until input shape is square on \n",
        "# dimensions 1 and 2 (like an image) and electrodes on third\n",
        "\n",
        "#model = Sequential()\n",
        "#model.add(Conv2D(49, (3, 3), input_shape=input_shape))\n",
        "#model.add(Activation('relu'))\n",
        "#model.add(Conv2D(32, (3, 3)))\n",
        "#model.add(Activation('relu'))\n",
        "#model.add(MaxPooling2D(pool_size=(2, 2)))\n",
        "#model.add(Flatten())\n",
        "#model.add(Dense(10))\n",
        "#model.add(Activation('relu'))\n",
        "#model.add(Dense(num_classes))\n",
        "#model.add(Activation('softmax'))\n",
        "\n",
        "# initiate adam optimizer\n",
        "opt = keras.optimizers.Adam(lr=0.001, beta_1=0.9, beta_2=0.999, \n",
        "                            epsilon=None, decay=0.0, amsgrad=False)\n",
        "\n",
        "# Let's train the model using RMSprop\n",
        "model.compile(loss='categorical_crossentropy',\n",
        "              optimizer=opt,\n",
        "              metrics=['accuracy'])\n",
        "\n",
        "\n",
        "\n",
        "#Train Model\n",
        "history = model.fit(x_train, y_train,\n",
        "          batch_size=batch_size,\n",
        "          epochs=train_epochs,\n",
        "          validation_data=(x_val, y_val),\n",
        "          shuffle=True,\n",
        "          verbose=True)\n",
        "         \n",
        "#Summarize\n",
        "model.summary()\n",
        " \n",
        "  \n",
        "# list all data in history\n",
        "print(history.history.keys())\n",
        "# summarize history for accuracy\n",
        "plt.plot(history.history['acc'])\n",
        "plt.plot(history.history['val_acc'])\n",
        "plt.title('model accuracy')\n",
        "plt.ylabel('accuracy')\n",
        "plt.xlabel('epoch')\n",
        "plt.legend(['train', 'test'], loc='upper left')\n",
        "plt.show()\n",
        "# summarize history for loss\n",
        "plt.plot(np.log(history.history['loss']))\n",
        "plt.plot(np.log(history.history['val_loss']))\n",
        "plt.title('model loss')\n",
        "plt.ylabel('log(loss)')\n",
        "plt.xlabel('epoch')\n",
        "plt.legend(['train', 'test'], loc='upper left')\n",
        "plt.show()\n",
        "\n",
        "# Test on left out Test data\n",
        "score, acc = model.evaluate(x_test, y_test, batch_size=batch_size)\n",
        "print('Test score:', score)\n",
        "print('Test accuracy:', acc)"
      ],
      "execution_count": 19,
      "outputs": [
        {
          "output_type": "stream",
          "text": [
            "Train on 1356 samples, validate on 452 samples\n",
            "Epoch 1/100\n",
            "1356/1356 [==============================] - 1s 606us/step - loss: 0.7979 - acc: 0.5052 - val_loss: 0.7784 - val_acc: 0.4912\n",
            "Epoch 2/100\n",
            "1356/1356 [==============================] - 0s 298us/step - loss: 0.7459 - acc: 0.5221 - val_loss: 0.7281 - val_acc: 0.4978\n",
            "Epoch 3/100\n",
            "1356/1356 [==============================] - 0s 309us/step - loss: 0.7177 - acc: 0.5229 - val_loss: 0.7192 - val_acc: 0.4889\n",
            "Epoch 4/100\n",
            "1356/1356 [==============================] - 0s 321us/step - loss: 0.6986 - acc: 0.5354 - val_loss: 0.7219 - val_acc: 0.5000\n",
            "Epoch 5/100\n",
            "1356/1356 [==============================] - 0s 312us/step - loss: 0.7072 - acc: 0.5236 - val_loss: 0.7306 - val_acc: 0.4978\n",
            "Epoch 6/100\n",
            "1356/1356 [==============================] - 0s 312us/step - loss: 0.7102 - acc: 0.5501 - val_loss: 0.7550 - val_acc: 0.4867\n",
            "Epoch 7/100\n",
            "1356/1356 [==============================] - 0s 304us/step - loss: 0.7025 - acc: 0.5560 - val_loss: 0.7380 - val_acc: 0.4646\n",
            "Epoch 8/100\n",
            "1356/1356 [==============================] - 0s 315us/step - loss: 0.6897 - acc: 0.5442 - val_loss: 0.7274 - val_acc: 0.4912\n",
            "Epoch 9/100\n",
            "1356/1356 [==============================] - 0s 299us/step - loss: 0.6751 - acc: 0.5501 - val_loss: 0.7341 - val_acc: 0.4823\n",
            "Epoch 10/100\n",
            "1356/1356 [==============================] - 0s 304us/step - loss: 0.6768 - acc: 0.5538 - val_loss: 0.7370 - val_acc: 0.5044\n",
            "Epoch 11/100\n",
            "1356/1356 [==============================] - 0s 316us/step - loss: 0.6694 - acc: 0.5524 - val_loss: 0.7108 - val_acc: 0.5022\n",
            "Epoch 12/100\n",
            "1356/1356 [==============================] - 0s 301us/step - loss: 0.6595 - acc: 0.5804 - val_loss: 0.7389 - val_acc: 0.4757\n",
            "Epoch 13/100\n",
            "1356/1356 [==============================] - 0s 318us/step - loss: 0.6659 - acc: 0.5730 - val_loss: 0.7244 - val_acc: 0.4912\n",
            "Epoch 14/100\n",
            "1356/1356 [==============================] - 0s 299us/step - loss: 0.6687 - acc: 0.5863 - val_loss: 0.7202 - val_acc: 0.5133\n",
            "Epoch 15/100\n",
            "1356/1356 [==============================] - 0s 303us/step - loss: 0.6716 - acc: 0.5760 - val_loss: 0.7340 - val_acc: 0.5022\n",
            "Epoch 16/100\n",
            "1356/1356 [==============================] - 0s 312us/step - loss: 0.6804 - acc: 0.5723 - val_loss: 0.7332 - val_acc: 0.4978\n",
            "Epoch 17/100\n",
            "1356/1356 [==============================] - 0s 303us/step - loss: 0.6613 - acc: 0.5833 - val_loss: 0.7259 - val_acc: 0.5066\n",
            "Epoch 18/100\n",
            "1356/1356 [==============================] - 0s 313us/step - loss: 0.6515 - acc: 0.5826 - val_loss: 0.7186 - val_acc: 0.5088\n",
            "Epoch 19/100\n",
            "1356/1356 [==============================] - 0s 297us/step - loss: 0.6662 - acc: 0.5693 - val_loss: 0.7362 - val_acc: 0.4735\n",
            "Epoch 20/100\n",
            "1356/1356 [==============================] - 0s 291us/step - loss: 0.6483 - acc: 0.5914 - val_loss: 0.7310 - val_acc: 0.4912\n",
            "Epoch 21/100\n",
            "1356/1356 [==============================] - 0s 301us/step - loss: 0.6544 - acc: 0.5870 - val_loss: 0.7278 - val_acc: 0.5022\n",
            "Epoch 22/100\n",
            "1356/1356 [==============================] - 0s 298us/step - loss: 0.6616 - acc: 0.6010 - val_loss: 0.7348 - val_acc: 0.5221\n",
            "Epoch 23/100\n",
            "1356/1356 [==============================] - 0s 302us/step - loss: 0.6357 - acc: 0.5959 - val_loss: 0.7430 - val_acc: 0.5022\n",
            "Epoch 24/100\n",
            "1356/1356 [==============================] - 0s 296us/step - loss: 0.6358 - acc: 0.6040 - val_loss: 0.7313 - val_acc: 0.4956\n",
            "Epoch 25/100\n",
            "1356/1356 [==============================] - 0s 294us/step - loss: 0.6449 - acc: 0.5892 - val_loss: 0.7419 - val_acc: 0.5088\n",
            "Epoch 26/100\n",
            "1356/1356 [==============================] - 0s 304us/step - loss: 0.6400 - acc: 0.6032 - val_loss: 0.7326 - val_acc: 0.5022\n",
            "Epoch 27/100\n",
            "1356/1356 [==============================] - 0s 303us/step - loss: 0.6479 - acc: 0.5892 - val_loss: 0.7529 - val_acc: 0.5022\n",
            "Epoch 28/100\n",
            "1356/1356 [==============================] - 0s 312us/step - loss: 0.6411 - acc: 0.5914 - val_loss: 0.7419 - val_acc: 0.5066\n",
            "Epoch 29/100\n",
            "1356/1356 [==============================] - 0s 301us/step - loss: 0.6555 - acc: 0.5944 - val_loss: 0.7519 - val_acc: 0.4934\n",
            "Epoch 30/100\n",
            "1356/1356 [==============================] - 0s 307us/step - loss: 0.6548 - acc: 0.5981 - val_loss: 0.7537 - val_acc: 0.5199\n",
            "Epoch 31/100\n",
            "1356/1356 [==============================] - 0s 305us/step - loss: 0.6340 - acc: 0.6018 - val_loss: 0.7388 - val_acc: 0.5022\n",
            "Epoch 32/100\n",
            "1356/1356 [==============================] - 0s 311us/step - loss: 0.6276 - acc: 0.6114 - val_loss: 0.7445 - val_acc: 0.4956\n",
            "Epoch 33/100\n",
            "1356/1356 [==============================] - 0s 326us/step - loss: 0.6372 - acc: 0.6069 - val_loss: 0.7474 - val_acc: 0.4956\n",
            "Epoch 34/100\n",
            "1356/1356 [==============================] - 0s 308us/step - loss: 0.6243 - acc: 0.6114 - val_loss: 0.7612 - val_acc: 0.5066\n",
            "Epoch 35/100\n",
            "1356/1356 [==============================] - 0s 326us/step - loss: 0.6266 - acc: 0.6136 - val_loss: 0.7531 - val_acc: 0.5044\n",
            "Epoch 36/100\n",
            "1356/1356 [==============================] - 0s 319us/step - loss: 0.6343 - acc: 0.6055 - val_loss: 0.7384 - val_acc: 0.5044\n",
            "Epoch 37/100\n",
            "1356/1356 [==============================] - 0s 321us/step - loss: 0.6323 - acc: 0.6084 - val_loss: 0.7369 - val_acc: 0.5177\n",
            "Epoch 38/100\n",
            "1356/1356 [==============================] - 0s 331us/step - loss: 0.6246 - acc: 0.6187 - val_loss: 0.7537 - val_acc: 0.5066\n",
            "Epoch 39/100\n",
            "1356/1356 [==============================] - 0s 320us/step - loss: 0.6161 - acc: 0.6239 - val_loss: 0.7611 - val_acc: 0.5288\n",
            "Epoch 40/100\n",
            "1356/1356 [==============================] - 0s 331us/step - loss: 0.6304 - acc: 0.6069 - val_loss: 0.7640 - val_acc: 0.5044\n",
            "Epoch 41/100\n",
            "1356/1356 [==============================] - 0s 322us/step - loss: 0.6194 - acc: 0.6202 - val_loss: 0.7446 - val_acc: 0.5155\n",
            "Epoch 42/100\n",
            "1356/1356 [==============================] - 0s 322us/step - loss: 0.6138 - acc: 0.6224 - val_loss: 0.7638 - val_acc: 0.4912\n",
            "Epoch 43/100\n",
            "1356/1356 [==============================] - 0s 323us/step - loss: 0.6249 - acc: 0.6261 - val_loss: 0.7859 - val_acc: 0.5177\n",
            "Epoch 44/100\n",
            "1356/1356 [==============================] - 0s 318us/step - loss: 0.6246 - acc: 0.6180 - val_loss: 0.7606 - val_acc: 0.5044\n",
            "Epoch 45/100\n",
            "1356/1356 [==============================] - 0s 326us/step - loss: 0.6267 - acc: 0.6165 - val_loss: 0.7602 - val_acc: 0.5265\n",
            "Epoch 46/100\n",
            "1356/1356 [==============================] - 0s 315us/step - loss: 0.6298 - acc: 0.6106 - val_loss: 0.7938 - val_acc: 0.4978\n",
            "Epoch 47/100\n",
            "1356/1356 [==============================] - 0s 325us/step - loss: 0.6264 - acc: 0.6143 - val_loss: 0.7789 - val_acc: 0.5221\n",
            "Epoch 48/100\n",
            "1356/1356 [==============================] - 0s 316us/step - loss: 0.6183 - acc: 0.6187 - val_loss: 0.7679 - val_acc: 0.5000\n",
            "Epoch 49/100\n",
            "1356/1356 [==============================] - 0s 313us/step - loss: 0.6131 - acc: 0.6195 - val_loss: 0.7676 - val_acc: 0.5133\n",
            "Epoch 50/100\n",
            "1356/1356 [==============================] - 0s 307us/step - loss: 0.6151 - acc: 0.6283 - val_loss: 0.7665 - val_acc: 0.5133\n",
            "Epoch 51/100\n",
            "1356/1356 [==============================] - 0s 294us/step - loss: 0.6182 - acc: 0.6143 - val_loss: 0.7659 - val_acc: 0.5288\n",
            "Epoch 52/100\n",
            "1356/1356 [==============================] - 0s 303us/step - loss: 0.6130 - acc: 0.6195 - val_loss: 0.7635 - val_acc: 0.5199\n",
            "Epoch 53/100\n",
            "1356/1356 [==============================] - 0s 296us/step - loss: 0.5983 - acc: 0.6357 - val_loss: 0.7765 - val_acc: 0.5000\n",
            "Epoch 54/100\n",
            "1356/1356 [==============================] - 0s 302us/step - loss: 0.6208 - acc: 0.6114 - val_loss: 0.7742 - val_acc: 0.5111\n",
            "Epoch 55/100\n",
            "1356/1356 [==============================] - 0s 303us/step - loss: 0.6052 - acc: 0.6342 - val_loss: 0.7562 - val_acc: 0.5376\n",
            "Epoch 56/100\n",
            "1356/1356 [==============================] - 0s 301us/step - loss: 0.6104 - acc: 0.6276 - val_loss: 0.7874 - val_acc: 0.5044\n",
            "Epoch 57/100\n",
            "1356/1356 [==============================] - 0s 328us/step - loss: 0.6005 - acc: 0.6438 - val_loss: 0.7745 - val_acc: 0.5221\n",
            "Epoch 58/100\n",
            "1356/1356 [==============================] - 0s 312us/step - loss: 0.5964 - acc: 0.6350 - val_loss: 0.7734 - val_acc: 0.5088\n",
            "Epoch 59/100\n",
            "1356/1356 [==============================] - 0s 327us/step - loss: 0.6112 - acc: 0.6239 - val_loss: 0.7864 - val_acc: 0.5044\n",
            "Epoch 60/100\n",
            "1356/1356 [==============================] - 0s 319us/step - loss: 0.5960 - acc: 0.6291 - val_loss: 0.8013 - val_acc: 0.5133\n",
            "Epoch 61/100\n",
            "1356/1356 [==============================] - 0s 318us/step - loss: 0.5925 - acc: 0.6372 - val_loss: 0.8044 - val_acc: 0.5354\n",
            "Epoch 62/100\n",
            "1356/1356 [==============================] - 0s 325us/step - loss: 0.6013 - acc: 0.6224 - val_loss: 0.8028 - val_acc: 0.5066\n",
            "Epoch 63/100\n",
            "1356/1356 [==============================] - 0s 326us/step - loss: 0.5985 - acc: 0.6350 - val_loss: 0.7930 - val_acc: 0.5199\n",
            "Epoch 64/100\n",
            "1356/1356 [==============================] - 0s 339us/step - loss: 0.6027 - acc: 0.6335 - val_loss: 0.7834 - val_acc: 0.5088\n",
            "Epoch 65/100\n",
            "1356/1356 [==============================] - 0s 329us/step - loss: 0.6096 - acc: 0.6327 - val_loss: 0.8107 - val_acc: 0.5155\n",
            "Epoch 66/100\n",
            "1356/1356 [==============================] - 0s 343us/step - loss: 0.6225 - acc: 0.6106 - val_loss: 0.8083 - val_acc: 0.5155\n",
            "Epoch 67/100\n",
            "1356/1356 [==============================] - 0s 334us/step - loss: 0.6102 - acc: 0.6261 - val_loss: 0.8042 - val_acc: 0.5133\n",
            "Epoch 68/100\n",
            "1356/1356 [==============================] - 0s 340us/step - loss: 0.6279 - acc: 0.6136 - val_loss: 0.7991 - val_acc: 0.5022\n",
            "Epoch 69/100\n",
            "1356/1356 [==============================] - 0s 335us/step - loss: 0.6071 - acc: 0.6386 - val_loss: 0.7968 - val_acc: 0.5111\n",
            "Epoch 70/100\n",
            "1356/1356 [==============================] - 0s 327us/step - loss: 0.5854 - acc: 0.6401 - val_loss: 0.7884 - val_acc: 0.5177\n",
            "Epoch 71/100\n",
            "1356/1356 [==============================] - 0s 343us/step - loss: 0.6003 - acc: 0.6224 - val_loss: 0.7919 - val_acc: 0.5288\n",
            "Epoch 72/100\n",
            "1356/1356 [==============================] - 0s 331us/step - loss: 0.6041 - acc: 0.6128 - val_loss: 0.7943 - val_acc: 0.5310\n",
            "Epoch 73/100\n",
            "1356/1356 [==============================] - 0s 341us/step - loss: 0.5845 - acc: 0.6357 - val_loss: 0.8026 - val_acc: 0.5199\n",
            "Epoch 74/100\n",
            "1356/1356 [==============================] - 0s 326us/step - loss: 0.6010 - acc: 0.6283 - val_loss: 0.8235 - val_acc: 0.5066\n",
            "Epoch 75/100\n",
            "1356/1356 [==============================] - 0s 336us/step - loss: 0.5948 - acc: 0.6195 - val_loss: 0.7931 - val_acc: 0.5111\n",
            "Epoch 76/100\n",
            "1356/1356 [==============================] - 0s 327us/step - loss: 0.5911 - acc: 0.6431 - val_loss: 0.8055 - val_acc: 0.5044\n",
            "Epoch 77/100\n",
            "1356/1356 [==============================] - 0s 341us/step - loss: 0.5941 - acc: 0.6394 - val_loss: 0.8074 - val_acc: 0.5265\n",
            "Epoch 78/100\n",
            "1356/1356 [==============================] - 0s 329us/step - loss: 0.5971 - acc: 0.6364 - val_loss: 0.8292 - val_acc: 0.5199\n",
            "Epoch 79/100\n",
            "1356/1356 [==============================] - 0s 329us/step - loss: 0.5881 - acc: 0.6416 - val_loss: 0.7964 - val_acc: 0.5243\n",
            "Epoch 80/100\n",
            "1356/1356 [==============================] - 0s 332us/step - loss: 0.5813 - acc: 0.6482 - val_loss: 0.8314 - val_acc: 0.5199\n",
            "Epoch 81/100\n",
            "1356/1356 [==============================] - 0s 336us/step - loss: 0.5786 - acc: 0.6372 - val_loss: 0.8154 - val_acc: 0.5398\n",
            "Epoch 82/100\n",
            "1356/1356 [==============================] - 0s 347us/step - loss: 0.5791 - acc: 0.6342 - val_loss: 0.8129 - val_acc: 0.5243\n",
            "Epoch 83/100\n",
            "1356/1356 [==============================] - 0s 340us/step - loss: 0.5747 - acc: 0.6527 - val_loss: 0.8223 - val_acc: 0.5288\n",
            "Epoch 84/100\n",
            "1356/1356 [==============================] - 0s 340us/step - loss: 0.5827 - acc: 0.6423 - val_loss: 0.8269 - val_acc: 0.5088\n",
            "Epoch 85/100\n",
            "1356/1356 [==============================] - 0s 331us/step - loss: 0.5884 - acc: 0.6438 - val_loss: 0.8429 - val_acc: 0.5221\n",
            "Epoch 86/100\n",
            "1356/1356 [==============================] - 0s 342us/step - loss: 0.5903 - acc: 0.6291 - val_loss: 0.8363 - val_acc: 0.5111\n",
            "Epoch 87/100\n",
            "1356/1356 [==============================] - 0s 329us/step - loss: 0.5730 - acc: 0.6401 - val_loss: 0.8614 - val_acc: 0.5133\n",
            "Epoch 88/100\n",
            "1356/1356 [==============================] - 0s 325us/step - loss: 0.5754 - acc: 0.6490 - val_loss: 0.8479 - val_acc: 0.5155\n",
            "Epoch 89/100\n",
            "1356/1356 [==============================] - 0s 336us/step - loss: 0.5805 - acc: 0.6372 - val_loss: 0.8408 - val_acc: 0.5088\n",
            "Epoch 90/100\n",
            "1356/1356 [==============================] - 0s 330us/step - loss: 0.5712 - acc: 0.6453 - val_loss: 0.8756 - val_acc: 0.5155\n",
            "Epoch 91/100\n",
            "1356/1356 [==============================] - 0s 335us/step - loss: 0.5669 - acc: 0.6453 - val_loss: 0.8377 - val_acc: 0.5288\n",
            "Epoch 92/100\n",
            "1356/1356 [==============================] - 0s 330us/step - loss: 0.5876 - acc: 0.6431 - val_loss: 0.8609 - val_acc: 0.5221\n",
            "Epoch 93/100\n",
            "1356/1356 [==============================] - 0s 334us/step - loss: 0.5778 - acc: 0.6438 - val_loss: 0.8531 - val_acc: 0.5243\n",
            "Epoch 94/100\n",
            "1356/1356 [==============================] - 0s 328us/step - loss: 0.5943 - acc: 0.6268 - val_loss: 0.8758 - val_acc: 0.5221\n",
            "Epoch 95/100\n",
            "1356/1356 [==============================] - 0s 330us/step - loss: 0.5837 - acc: 0.6453 - val_loss: 0.8613 - val_acc: 0.5155\n",
            "Epoch 96/100\n",
            "1356/1356 [==============================] - 0s 326us/step - loss: 0.5697 - acc: 0.6519 - val_loss: 0.8561 - val_acc: 0.5177\n",
            "Epoch 97/100\n",
            "1356/1356 [==============================] - 0s 324us/step - loss: 0.5673 - acc: 0.6468 - val_loss: 0.8639 - val_acc: 0.5265\n",
            "Epoch 98/100\n",
            "1356/1356 [==============================] - 0s 332us/step - loss: 0.6083 - acc: 0.6468 - val_loss: 0.8916 - val_acc: 0.5066\n",
            "Epoch 99/100\n",
            "1356/1356 [==============================] - 0s 325us/step - loss: 0.5824 - acc: 0.6401 - val_loss: 0.8542 - val_acc: 0.5243\n",
            "Epoch 100/100\n",
            "1356/1356 [==============================] - 0s 321us/step - loss: 0.5859 - acc: 0.6342 - val_loss: 0.8353 - val_acc: 0.5133\n",
            "_________________________________________________________________\n",
            "Layer (type)                 Output Shape              Param #   \n",
            "=================================================================\n",
            "flatten_6 (Flatten)          (None, 1040)              0         \n",
            "_________________________________________________________________\n",
            "dense_11 (Dense)             (None, 10)                10410     \n",
            "_________________________________________________________________\n",
            "dropout_6 (Dropout)          (None, 10)                0         \n",
            "_________________________________________________________________\n",
            "dense_12 (Dense)             (None, 2)                 22        \n",
            "=================================================================\n",
            "Total params: 10,432\n",
            "Trainable params: 10,432\n",
            "Non-trainable params: 0\n",
            "_________________________________________________________________\n",
            "dict_keys(['val_loss', 'val_acc', 'loss', 'acc'])\n"
          ],
          "name": "stdout"
        },
        {
          "output_type": "display_data",
          "data": {
            "image/png": "[encoded data removed]",
            "text/plain": [
              "<Figure size 432x288 with 1 Axes>"
            ]
          },
          "metadata": {
            "tags": []
          }
        },
        {
          "output_type": "display_data",
          "data": {
            "image/png": "[encoded data removed]",
            "text/plain": [
              "<Figure size 432x288 with 1 Axes>"
            ]
          },
          "metadata": {
            "tags": []
          }
        },
        {
          "output_type": "stream",
          "text": [
            "452/452 [==============================] - 0s 117us/step\n",
            "Test score: 0.9169164542603282\n",
            "Test accuracy: 0.4911504424778761\n"
          ],
          "name": "stdout"
        }
      ]
    }
  ]
}