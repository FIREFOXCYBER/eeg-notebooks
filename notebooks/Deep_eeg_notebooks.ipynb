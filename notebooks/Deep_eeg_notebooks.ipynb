{
  "nbformat": 4,
  "nbformat_minor": 0,
  "metadata": {
    "colab": {
      "name": "Deep-eeg-notebooks.ipynb",
      "version": "0.3.2",
      "provenance": [],
      "include_colab_link": true
    },
    "kernelspec": {
      "name": "python3",
      "display_name": "Python 3"
    },
    "accelerator": "GPU"
  },
  "cells": [
    {
      "cell_type": "markdown",
      "metadata": {
        "id": "view-in-github",
        "colab_type": "text"
      },
      "source": [
        "<a href=\"https://colab.research.google.com/github/kylemath/eeg-notebooks/blob/master/notebooks/Deep_eeg_notebooks.ipynb\" target=\"_parent\"><img src=\"https://colab.research.google.com/assets/colab-badge.svg\" alt=\"Open In Colab\"/></a>"
      ]
    },
    {
      "metadata": {
        "id": "cH7KRd8ZZPMd",
        "colab_type": "text"
      },
      "cell_type": "markdown",
      "source": [
        "## Deep-eeg-notebooks\n",
        "\n",
        "Goal is to make a deep learning LSTM stack that processes Muse eeg-notebook EEG trials as input and predicts binary trial category as output.\n",
        "\n",
        "Strategy:\n",
        "* Load in Muse data, normal pre-processing to get to trials\n",
        "* Decimate down to reduce features in time x frequency x electrode\n",
        "* Avoid CNN?\n",
        "* load time steps into LSTM?\n",
        "* Predict attend left vs attend right on muse 375 data\n",
        "\n",
        "API:\n",
        "* Want to input the data directory of any eeg-notebook experiment (https://github.com/kylemath/eeg-notebooks)\n",
        "* More general with the master eeg-notebooks - https://github.com/NeuroTechX/eeg-notebooks\n",
        "\n",
        "\n",
        "LearningModels:\n",
        "* First try simple CNN\n",
        "* then add in LSTM component to treat time as recurrent\n",
        "\n",
        "DataModels:\n",
        "* First pool data over subjects\n",
        "* Try subject specific models\n",
        "* Then try multilevel models\n",
        "\n",
        "Using: \n",
        "* https://github.com/pbashivan/EEGLearn\n",
        "* https://github.com/tevisgehr/EEG-Classification\n",
        "* https://github.com/kylemath/eeg-notebooks\n",
        "* https://github.com/keras-team/keras/blob/master/examples/imdb_cnn_lstm.py\n",
        "* https://github.com/ml4a/ml4a-guides/blob/master/notebooks/keras_classification.ipynb\n",
        "\n",
        "Resources:\n",
        "*   http://proceedings.mlr.press/v56/Thodoroff16.pdf\n",
        "*   https://arxiv.org/abs/1511.06448\n",
        "\n",
        "\n"
      ]
    },
    {
      "metadata": {
        "id": "akRdj-robUCZ",
        "colab_type": "text"
      },
      "cell_type": "markdown",
      "source": [
        "**TODO Kory Jan 20** \n",
        "\n",
        "1. substitute totally random data for your input data or \n",
        "\n",
        "2. Also, you can try `np.random.shuffle(y_train)` and see how it performs on randomly shuffled input data.         \n",
        "\n",
        "3. Might want to use stratify on the train_test_split\n",
        "\n",
        "4. I have no notion that it should be able to differentiate the two classes. Can you do any sort of unsupervised learning to show that there are significant differences in the distribution? Plot the distributions, scatter the PCA's in 2d, do something that shows that there is a separation line...  At this point,you can fiddle and futz with hyperparameters all day long, but there is nothing better than random performance for those features.\n",
        "\n",
        "22. Either plot log(loss) or use a log scale... http://wiki.fast.ai/index.php/Log_Loss it is what is often used and helps to compare against my mental model, might be easier to interpret.\n",
        "\n",
        "23. May want to try this: glorot_normal https://keras.io/initializers/ for the intiialization\n",
        "\n",
        "24. And you might want to start thinking about monitoring parameters during training with Tensorboard.\n",
        "https://keras.io/callbacks/#tensorboard\n",
        "\n",
        "25. And you can implement early_stopping as well, to make sure that your model doesn't start getting worse on the validation: https://keras.io/callbacks/#earlystopping\n",
        "\n",
        "21. How does number of features relate to number of data points relate to number of parameters? [link](https://www.youtube.com/watch?v=Dc0sr0kdBVI&hd=1#t=57m20s)\n",
        "\n",
        "23. Gotta get that test error going down.\n",
        "\n",
        "\n",
        "\n",
        "\n",
        "\n",
        "\n",
        "\n",
        "\n",
        "              \n",
        "Done\n",
        "1. this line is confusing?` sub = isub `\n",
        "2. some long lines of code make it less readable... try to keep code within the dotted line\n",
        "6. There are moments when raw sizes are printed, try to give them some context with\n",
        "\n",
        "         `print( ' right cue data size: {}'format(tfr.data.shape))` \n",
        "          (1063, 2, 49, 49) (1063, 49, 49, 2) \n",
        "18. regarding epochs. Don't redefine `epochs = 100` it makes co rerunning hard.\n",
        "8. `to_categorical()` before the train test split\n",
        "7. not sure what I am seeing in the 2 subplots... there is a y-axis label missing for top / bottom\n",
        " * *Changed Label above, multi instances*\n",
        "9. all your imports should go at the top of the file and not in the cell it is used in\n",
        "4. for instance, there is a plot at the end of : `raw.plot_psd(fmin=1, fmax=30 );` that i missed because it was below 100 of the same status line\n",
        " * *removed it not important*\n",
        "24. categorical_crossentropy was right for your categorical mod\n",
        "12. loss function can be `binary_crossentropy` i think\n",
        "\n",
        "        model.compile(loss='categorical_crossentropy',\n",
        "              optimizer=opt,\n",
        "              metrics=['accuracy'])\n",
        "              \n",
        "14. Looks like it is over fitting on random noise and then performing about the same as a random baseline? Two balanced classes on output would give 50% accuracy. What is the output classes distritbution of training and test sets? \n",
        "\n",
        "   * *About Random 50/50* \n",
        "   \n",
        "16. Looks like there is some signal found but not much. How long does training take? Time per epcoh/step\n",
        "17. Plot you learning rate over time. Does it decay to zero?\n",
        "  * *These are both in code output*\n",
        "18. What is your batch size? Can you try with smaller batches? Bigger batches? Are batches shuffles after each epoch? \n",
        "  * *Tried these, small and large, no effect*\n",
        "23. I use Adam almost consistently for optimizer\n",
        "        opt = keras.optimizers.Adam(lr=0.001, beta_1=0.9, beta_2=0.999, \n",
        "                            epsilon=None, decay=0.0, amsgrad=False)\n",
        "24. Start with a very small model. Conv layers only. No lstm for instance. This could be a function of vanichsing gradients in the recurrent layers. \n",
        "20. What is the data shape? Can you show the whole input to the model rather than feeding in recurrent? \n",
        "  * *This is just a CNN right now, withonly two layers*\n",
        "17. Also, you always want to set the random seed explicitly for ML research, `np.random.seed(1017)` random_state in train_test_split. this will help with reproducibility testing.\n",
        "2. Long output logs are confusing as fuck. Can you use tqdm or something similar to show progress rather than listing a bit meaningless status?\n",
        "10. add a `model.summary() ` somewhere, it gives you a sense of the model in plaintext. (Trainable params: 174,592) 11) \n",
        "11. you use two different definitions of the word epoch in the file. \n",
        "1. each cell (eg. 2) should have a status message if it succeded or failed.\n",
        "2. mark each image with the answer and see if your CNN visual features can detect. \n",
        "15. You can use `np.ones_like` and `np.zeros_like` to make easy to discern training data. For instance, here is a sanity check, make all the left cues ones, and all the right cues zeros... then make a model that fits on that.\n",
        "22. split into train/test/validation  It will help with framing the problem as a model learning and then using that model for a downstream task\n"
      ]
    },
    {
      "metadata": {
        "id": "rD0_ouF-haLN",
        "colab_type": "text"
      },
      "cell_type": "markdown",
      "source": [
        "**Kyle TODO**\n",
        "\n",
        "\n",
        "\n",
        "1. Allow different number of sessions per subject (array of number of sessions)\n",
        "2. Revert to time domain to make less assumptions about features\n",
        "3. input into LSTM over time\n",
        "\n",
        "DONE:\n",
        "2. Remove decimation since no longer conv"
      ]
    },
    {
      "metadata": {
        "id": "Kf-1ItUyU380",
        "colab_type": "text"
      },
      "cell_type": "markdown",
      "source": [
        "**Setup**"
      ]
    },
    {
      "metadata": {
        "id": "VXe-o8XtG9ki",
        "colab_type": "code",
        "outputId": "06476580-dcb3-492b-f99b-02a0a3978bb1",
        "colab": {
          "base_uri": "https://localhost:8080/",
          "height": 459
        }
      },
      "cell_type": "code",
      "source": [
        "!git clone https://github.com/tevisgehr/EEG-Classification.git\n",
        "%cd EEG-Classification\n",
        "from eeg_learn_functions import *\n",
        "%cd ..\n",
        "\n",
        "!git clone https://github.com/kylemath/eeg-notebooks.git\n",
        "%cd eeg-notebooks/notebooks\n",
        "!pip install mne\n",
        "from utils import utils\n",
        "\n",
        "import pandas as pd\n",
        "pd.options.display.max_columns = None\n",
        "pd.options.display.precision = 4\n",
        "\n",
        "import numpy as np\n",
        "from numpy import genfromtxt\n",
        "np.random.seed(1017)\n",
        "\n",
        "from collections import OrderedDict\n",
        "import matplotlib.pyplot as plt\n",
        "%matplotlib inline\n",
        "plt.rcParams[\"figure.figsize\"] = (12,12)\n",
        "\n",
        "import seaborn as sns\n",
        "import scipy.stats as scs\n",
        "import re\n",
        "\n",
        "from IPython.core.display import display, HTML\n",
        "display(HTML(\"<style>.container { width:100% !important; }</style>\"))\n",
        "\n",
        "from mne import Epochs, find_events, concatenate_raws\n",
        "from mne.time_frequency import tfr_morlet\n",
        "\n",
        "import keras\n",
        "from keras.models import Sequential\n",
        "from keras.layers import Dense, Dropout, Activation, Flatten, Conv2D, MaxPooling2D\n",
        "\n",
        "from sklearn.model_selection import train_test_split\n",
        "\n"
      ],
      "execution_count": 1,
      "outputs": [
        {
          "output_type": "stream",
          "text": [
            "Cloning into 'EEG-Classification'...\n",
            "remote: Enumerating objects: 201, done.\u001b[K\n",
            "remote: Total 201 (delta 0), reused 0 (delta 0), pack-reused 201\u001b[K\n",
            "Receiving objects: 100% (201/201), 16.68 MiB | 24.50 MiB/s, done.\n",
            "Resolving deltas: 100% (97/97), done.\n",
            "/content/EEG-Classification\n",
            "/content\n",
            "Cloning into 'eeg-notebooks'...\n",
            "remote: Enumerating objects: 192, done.\u001b[K\n",
            "remote: Counting objects: 100% (192/192), done.\u001b[K\n",
            "remote: Compressing objects: 100% (149/149), done.\u001b[K\n",
            "remote: Total 1658 (delta 79), reused 143 (delta 43), pack-reused 1466\u001b[K\n",
            "Receiving objects: 100% (1658/1658), 107.85 MiB | 18.64 MiB/s, done.\n",
            "Resolving deltas: 100% (702/702), done.\n",
            "Checking out files: 100% (484/484), done.\n",
            "/content/eeg-notebooks/notebooks\n",
            "Collecting mne\n",
            "\u001b[?25l  Downloading https://files.pythonhosted.org/packages/fa/20/207b7780abf56afb03697c9d358b706ac22d96975c1da755cc9663f358cc/mne-0.17.0.tar.gz (6.2MB)\n",
            "\u001b[K    100% |████████████████████████████████| 6.2MB 7.2MB/s \n",
            "\u001b[?25hBuilding wheels for collected packages: mne\n",
            "  Running setup.py bdist_wheel for mne ... \u001b[?25l-\b \b\\\b \b|\b \b/\b \b-\b \b\\\b \b|\b \b/\b \b-\b \b\\\b \bdone\n",
            "\u001b[?25h  Stored in directory: /root/.cache/pip/wheels/59/23/bb/ebafe2eae31064edfb9b384131abd0ec562a9418601cde6d69\n",
            "Successfully built mne\n",
            "Installing collected packages: mne\n",
            "Successfully installed mne-0.17.0\n"
          ],
          "name": "stdout"
        },
        {
          "output_type": "display_data",
          "data": {
            "text/html": [
              "<style>.container { width:100% !important; }</style>"
            ],
            "text/plain": [
              "<IPython.core.display.HTML object>"
            ]
          },
          "metadata": {
            "tags": []
          }
        },
        {
          "output_type": "stream",
          "text": [
            "Using TensorFlow backend.\n"
          ],
          "name": "stderr"
        }
      ]
    },
    {
      "metadata": {
        "id": "yR1WkVZKU2Vm",
        "colab_type": "text"
      },
      "cell_type": "markdown",
      "source": [
        "**Parameters**"
      ]
    },
    {
      "metadata": {
        "id": "QGVIiUbAU1nA",
        "colab_type": "code",
        "outputId": "0d169ed9-e68c-43a9-8748-8618665bdc07",
        "colab": {
          "base_uri": "https://localhost:8080/",
          "height": 34
        }
      },
      "cell_type": "code",
      "source": [
        "#Parameters#\n",
        "#subject folders in data folder\n",
        "subs = [101, 102, 103, 104, 105, 106, 108, 109, 110, 111, 112,\n",
        "        202, 203, 204, 205, 207, 208, 209, 210, 211, \n",
        "        301, 302, 303, 304, 305, 306, 307, 308, 309]\n",
        "\n",
        "#for testing\n",
        "#subs = [ 205, 207, 208, 209]\n",
        "#subs = [ 2]\n",
        "\n",
        "#number of sessions in each subject folder\n",
        "nsesh = 2\n",
        "\n",
        "data_dir = 'visual/cueing'\n",
        "event_ids = ['LeftCue','RightCue']\n",
        "\n",
        "#can load other experiments like this\n",
        "#data_dir = 'visual/SSVEP'\n",
        "#event_ids = ['F1','F2']\n",
        "\n",
        "sfreq=256.\n",
        "\n",
        "#filter\n",
        "eeg_filter_highpass = 1\n",
        "eeg_filter_lowpass = 30\n",
        "\n",
        "#artifact rejection\n",
        "rej_thresh_uV = 300\n",
        "rej_thresh = rej_thresh_uV*1e-6\n",
        "\n",
        "#trial epoch limits (must all work together with decimation and frequencies to create square) \n",
        "tmin=-1\n",
        "tmax=2\n",
        "decim=20  # to decrease number of time features\n",
        "baseline=(-1, 0)\n",
        "\n",
        "#wavelet settings\n",
        "f_low = 4\n",
        "f_high = 20\n",
        "f_bins = 10  # to decrease number of frequency features\n",
        "frequencies =  np.linspace(4, 10, f_bins, endpoint=True)\n",
        "wave_cycles = 6\n",
        "spect_baseline = [-1,-.5]\n",
        "electrodes_out = [0,1,2,3]  # to decrease number of electrode features from [0,1,2,3] or [0,1,2,3,4] with aux electrode (untested)\n",
        "\n",
        "#Training Settings\n",
        "batch_size = 16\n",
        "train_epochs = 100\n",
        "num_classes = len(event_ids)\n",
        "\n",
        "print('Parameters Set')"
      ],
      "execution_count": 11,
      "outputs": [
        {
          "output_type": "stream",
          "text": [
            "Parameters Set\n"
          ],
          "name": "stdout"
        }
      ]
    },
    {
      "metadata": {
        "id": "g2a98-rwL9wl",
        "colab_type": "text"
      },
      "cell_type": "markdown",
      "source": [
        "**Preprocessing of EEG Data**\n",
        "\n",
        "* LoadData - Each data file is from one session of one subject of the muse cueing task from eeg-notebooks from psych 375 A1 dataset\n",
        "* Filtering - Most ERP components are composed of lower frequency fluctuations in the EEG signal. Thus, we can filter out all frequencies between 1 and 30 hz in order to increase our ability to detect them.\n",
        "* Epoching - Next, we will chunk (epoch) the data into segments representing the data 1000ms before to 2000ms after each cue, we will reject every epoch where the amplitude of the signal exceeded 100 uV, which should most eye blinks."
      ]
    },
    {
      "metadata": {
        "id": "6A3mgX7ILZFK",
        "colab_type": "code",
        "outputId": "7f0b5d80-47fa-4adf-ac85-c50071359a8d",
        "colab": {
          "base_uri": "https://localhost:8080/",
          "height": 119
        }
      },
      "cell_type": "code",
      "source": [
        "#Load Data\n",
        "print('Loading Data')\n",
        "\n",
        "isub = subs[0]\n",
        "print(isub)\n",
        "raw = utils.load_data(data_dir, sfreq=sfreq ,subject_nb=isub, session_nb=1)\n",
        "if nsesh == 2:\n",
        "  raw.append(utils.load_data(data_dir, sfreq=sfreq,subject_nb=isub, session_nb=2))\n",
        "\n",
        "if len(subs)>1:\n",
        "  for isub in subs[1:]:\n",
        "    print(isub)\n",
        "    raw.append(utils.load_data(data_dir, sfreq=sfreq,subject_nb=isub, session_nb=1))\n",
        "    if nsesh == 2:\n",
        "      raw.append(utils.load_data(data_dir, sfreq=sfreq,subject_nb=isub, session_nb=2))\n",
        "  \n",
        "#Filtering\n",
        "print('Filtering Data')\n",
        "raw.filter(eeg_filter_highpass,eeg_filter_lowpass, method='iir', verbose='WARNING' )\n",
        "#raw.plot_psd(fmin=eeg_filter_highpass, fmax=eeg_filter_lowpass );\n",
        "\n",
        "#Epoching\n",
        "event_id = {event_ids[0]: 1, event_ids[1]: 2}\n",
        "events = find_events(raw)\n",
        "epochs = Epochs(raw, events=events, event_id=event_id, \n",
        "                tmin=tmin, tmax=tmax, baseline=baseline, \n",
        "                preload=True,reject={'eeg':rej_thresh},\n",
        "                verbose=False, picks=[0, 1, 2, 3])\n",
        "\n",
        "print('sample drop %: ', (1 - len(epochs.events)/len(events)) * 100)\n",
        "%matplotlib inline\n",
        "conditions = OrderedDict()\n",
        "conditions[event_ids[0]] = [1]\n",
        "conditions[event_ids[1]] = [2]\n",
        "\n",
        "#fig, ax = utils.plot_conditions(epochs, conditions=conditions, ylim=(-20,20) )"
      ],
      "execution_count": 3,
      "outputs": [
        {
          "output_type": "stream",
          "text": [
            "Loading Data\n",
            "2\n",
            "Filtering Data\n",
            "342 events found\n",
            "Event IDs: [ 1  2 11 12 21 22]\n",
            "sample drop %:  59.356725146198826\n"
          ],
          "name": "stdout"
        }
      ]
    },
    {
      "metadata": {
        "id": "dpXiF6i0opGm",
        "colab_type": "text"
      },
      "cell_type": "markdown",
      "source": [
        "TODO: Time domain features:"
      ]
    },
    {
      "metadata": {
        "id": "2_VQbgV7SPN0",
        "colab_type": "code",
        "outputId": "201083c4-8601-4e8a-aba8-cf722c796167",
        "colab": {
          "base_uri": "https://localhost:8080/",
          "height": 68
        }
      },
      "cell_type": "code",
      "source": [
        "print(raw._data.shape)\n",
        "print(epochs._data.shape)\n",
        "print(conditions)"
      ],
      "execution_count": 4,
      "outputs": [
        {
          "output_type": "stream",
          "text": [
            "(5, 153156)\n",
            "(139, 4, 769)\n",
            "OrderedDict([('LeftCue', [1]), ('RightCue', [2])])\n"
          ],
          "name": "stdout"
        }
      ]
    },
    {
      "metadata": {
        "id": "EmvSu1bOZiO0",
        "colab_type": "text"
      },
      "cell_type": "markdown",
      "source": [
        "** Spectrogram **\n",
        "\n",
        "* All electrodes are considered on each trial, and their difference is used to create a single image for each trial.\n",
        "* Two changes are made here to create a small square output for each trial.\n",
        "* Many frequencies are used in the wavelet analysis (49) while the output of the morlet is decimated in time by a factor of 16. This creates 49x49 spectograms\n",
        "* Now the other condition, right cue, is done, and the two sets of images and labels are concatenated into X and Y variables\n",
        "* X is a trials x 49 x 49 matrix\n",
        "* Y is a trials array of condition labels\n"
      ]
    },
    {
      "metadata": {
        "id": "Xs-_8GRYZar7",
        "colab_type": "code",
        "outputId": "ca25867d-e2be-462a-aa71-7f55b9ac85ee",
        "colab": {
          "base_uri": "https://localhost:8080/",
          "height": 153
        }
      },
      "cell_type": "code",
      "source": [
        "# Condition0\n",
        "print('Computing Morlet Wavelets on ' + event_ids[0])\n",
        "\n",
        "tfr0 = tfr_morlet(epochs[event_ids[0]], freqs=frequencies, \n",
        "                      n_cycles=wave_cycles, return_itc=False,\n",
        "                      picks=electrodes_out,average=False,decim=decim)\n",
        "tfr0 = tfr0.apply_baseline(spect_baseline,mode='mean')\n",
        "stim_onset = np.argmax(tfr0.times>0)\n",
        "new_times = tfr0.times[stim_onset:]\n",
        "cond0_power_out = np.moveaxis(tfr0.data[:,:,:,stim_onset:],1,3)\n",
        "#cond0_power_out[:,0:5,0:5,:] = 0\n",
        "\n",
        "print(event_ids[0] + ' Time Points: ' + str(len(new_times)))\n",
        "print(event_ids[0] + ' Frequencies: ' + str(len(tfr0.freqs)))\n",
        "\n",
        "#Condition1\n",
        "print('Computing Morlet Wavelets on ' + event_ids[1])\n",
        "tfr1 = tfr_morlet(epochs[event_ids[1]], freqs=frequencies, \n",
        "                      n_cycles=wave_cycles, return_itc=False,\n",
        "                      picks=electrodes_out,average=False,decim=decim)\n",
        "tfr1 = tfr1.apply_baseline(spect_baseline,mode='mean')\n",
        "cond1_power_out = np.moveaxis(tfr1.data[:,:,:,stim_onset:],1,3)\n",
        "#cond1_power_out[:,0:5,0:5,:] = 1\n",
        "\n",
        "print(event_ids[1] + ' Time Points: ' + str(len(new_times)))\n",
        "print(event_ids[1] + ' Frequencies: ' + str(len(tfr1.freqs)))\n",
        "\n",
        "\n"
      ],
      "execution_count": 5,
      "outputs": [
        {
          "output_type": "stream",
          "text": [
            "Computing Morlet Wavelets on LeftCue\n",
            "Applying baseline correction (mode: mean)\n",
            "LeftCue Time Points: 26\n",
            "LeftCue Frequencies: 10\n",
            "Computing Morlet Wavelets on RightCue\n",
            "Applying baseline correction (mode: mean)\n",
            "RightCue Time Points: 26\n",
            "RightCue Frequencies: 10\n"
          ],
          "name": "stdout"
        }
      ]
    },
    {
      "metadata": {
        "id": "WqVTXiwrZxbf",
        "colab_type": "text"
      },
      "cell_type": "markdown",
      "source": [
        "**Prepare Data for Model**\n"
      ]
    },
    {
      "metadata": {
        "id": "4xyrsW2kZW8D",
        "colab_type": "code",
        "outputId": "16978695-c2be-4254-b609-7da3854792cd",
        "colab": {
          "base_uri": "https://localhost:8080/",
          "height": 657
        }
      },
      "cell_type": "code",
      "source": [
        "#Append Data\n",
        "X = np.append(cond0_power_out,cond1_power_out,0);\n",
        "Y = np.append(np.zeros(len(cond0_power_out)), np.ones(len(cond1_power_out)),0);\n",
        "\n",
        "print('Combined X Shape: ' + str(X.shape))\n",
        "print('Combined Y Shape: ' + str(Y.shape))\n",
        "print('Combined Y: ' + str(Y))\n",
        "\n",
        "X = (X - np.mean(X)) / np.std(X)\n",
        "\n",
        "print(np.min(X))\n",
        "print(np.max(X))\n",
        "\n",
        "vmin = (np.std(X)) * -1\n",
        "vmax = np.std(X)  \n",
        "\n",
        "#Plot Example Data\n",
        "f, axarr = plt.subplots(2,2, figsize = (8,8))\n",
        "axarr[0][0].set_title(event_ids[0])\n",
        "axarr[0][0].imshow(X[0,:,:,1],vmin=vmin, vmax=vmax)\n",
        "\n",
        "axarr[0][0].invert_yaxis()\n",
        "axarr[1][0].imshow(X[1,:,:,1],vmin=vmin, vmax=vmax)\n",
        "axarr[1][0].invert_yaxis()\n",
        "\n",
        "axarr[0][1].set_title(event_ids[1])\n",
        "axarr[0][1].imshow(X[-1,:,:,1],vmin=vmin, vmax=vmax)\n",
        "axarr[0][1].invert_yaxis()\n",
        "axarr[1][1].imshow(X[-2,:,:,1],vmin=vmin, vmax=vmax)\n",
        "axarr[1][1].invert_yaxis()\n",
        ";\n",
        "\n",
        "# convert class vectors to binary class matrices and recast X\n",
        "Y = keras.utils.to_categorical(Y, num_classes)\n",
        "X = X.astype('float32')\n",
        "\n",
        "# Split training test and validation data \n",
        "test_split = 0.2\n",
        "val_split = 0.2\n",
        "val_prop = val_split / (1-test_split)\n",
        "x_train, x_test, y_train, y_test = train_test_split(X, Y, test_size=test_split,random_state=1) \n",
        "x_train, x_val, y_train, y_val = train_test_split(x_train, y_train, test_size=val_prop, random_state=1)\n",
        "\n",
        "# Compute model input shape\n",
        "input_shape = (X.shape[1], X.shape[2], len(electrodes_out))\n",
        "\n",
        "print('Input Shape: ' + str(input_shape))\n",
        "print('x_train shape:', x_train.shape)\n",
        "print(x_train.shape[0], 'train samples')\n",
        "print(x_test.shape[0], 'test samples')\n",
        "print(x_val.shape[0], 'validation samples')\n",
        "print('X Examples:')\n"
      ],
      "execution_count": 10,
      "outputs": [
        {
          "output_type": "stream",
          "text": [
            "Combined X Shape: (139, 10, 26, 4)\n",
            "Combined Y Shape: (139,)\n",
            "Combined Y: [0. 0. 0. 0. 0. 0. 0. 0. 0. 0. 0. 0. 0. 0. 0. 0. 0. 0. 0. 0. 0. 0. 0. 0.\n",
            " 0. 0. 0. 0. 0. 0. 0. 0. 0. 0. 0. 0. 0. 0. 0. 0. 0. 0. 0. 0. 0. 0. 0. 0.\n",
            " 0. 0. 0. 0. 0. 0. 0. 0. 0. 0. 0. 0. 0. 0. 0. 0. 0. 0. 0. 1. 1. 1. 1. 1.\n",
            " 1. 1. 1. 1. 1. 1. 1. 1. 1. 1. 1. 1. 1. 1. 1. 1. 1. 1. 1. 1. 1. 1. 1. 1.\n",
            " 1. 1. 1. 1. 1. 1. 1. 1. 1. 1. 1. 1. 1. 1. 1. 1. 1. 1. 1. 1. 1. 1. 1. 1.\n",
            " 1. 1. 1. 1. 1. 1. 1. 1. 1. 1. 1. 1. 1. 1. 1. 1. 1. 1. 1.]\n",
            "-22.141773891837826\n",
            "27.45409262818202\n",
            "Input Shape: (10, 26, 4)\n",
            "x_train shape: (83, 10, 26, 4)\n",
            "83 train samples\n",
            "28 test samples\n",
            "28 validation samples\n",
            "X Examples:\n"
          ],
          "name": "stdout"
        },
        {
          "output_type": "display_data",
          "data": {
            "image/png": "[encoded data removed]",
            "text/plain": [
              "<Figure size 576x576 with 4 Axes>"
            ]
          },
          "metadata": {
            "tags": []
          }
        }
      ]
    },
    {
      "metadata": {
        "id": "mKzYDoF1TQmK",
        "colab_type": "text"
      },
      "cell_type": "markdown",
      "source": [
        "**Build Model and Train**"
      ]
    },
    {
      "metadata": {
        "scrolled": false,
        "id": "JxjbgyC5G7AZ",
        "colab_type": "code",
        "outputId": "ce319762-921d-4d8f-f48d-ff630baa4c40",
        "colab": {
          "base_uri": "https://localhost:8080/",
          "height": 4282
        }
      },
      "cell_type": "code",
      "source": [
        "#DenseFeedforward Network\n",
        "model = Sequential()\n",
        "model.add(Flatten())\n",
        "model.add(Dense(10, activation='relu'))\n",
        "model.add(Dropout(.20))\n",
        "model.add(Dense(2, activation='softmax'))\n",
        "\n",
        "\n",
        "#model.add(Dropout(.10))\n",
        "\n",
        "# Create CNN in keras\n",
        "#model = Sequential()\n",
        "#model.add(Conv2D(49, (3, 3), input_shape=input_shape))\n",
        "#model.add(Activation('relu'))\n",
        "#model.add(Conv2D(32, (3, 3)))\n",
        "#model.add(Activation('relu'))\n",
        "#model.add(MaxPooling2D(pool_size=(2, 2)))\n",
        "#model.add(Flatten())\n",
        "#model.add(Dense(10))\n",
        "#model.add(Activation('relu'))\n",
        "#model.add(Dense(num_classes))\n",
        "#model.add(Activation('softmax'))\n",
        "\n",
        "# initiate adam optimizer\n",
        "opt = keras.optimizers.Adam(lr=0.001, beta_1=0.9, beta_2=0.999, \n",
        "                            epsilon=None, decay=0.0, amsgrad=False)\n",
        "\n",
        "# Let's train the model using RMSprop\n",
        "model.compile(loss='categorical_crossentropy',\n",
        "              optimizer=opt,\n",
        "              metrics=['accuracy'])\n",
        "\n",
        "\n",
        "\n",
        "#Train Model\n",
        "history = model.fit(x_train, y_train,\n",
        "          batch_size=batch_size,\n",
        "          epochs=train_epochs,\n",
        "          validation_data=(x_test, y_test),\n",
        "          shuffle=True,\n",
        "          verbose=True)\n",
        "         \n",
        "#Summarize\n",
        "model.summary()\n",
        " \n",
        "  \n",
        "# list all data in history\n",
        "print(history.history.keys())\n",
        "# summarize history for accuracy\n",
        "plt.plot(history.history['acc'])\n",
        "plt.plot(history.history['val_acc'])\n",
        "plt.title('model accuracy')\n",
        "plt.ylabel('accuracy')\n",
        "plt.xlabel('epoch')\n",
        "plt.legend(['train', 'test'], loc='upper left')\n",
        "plt.show()\n",
        "# summarize history for loss\n",
        "plt.plot(history.history['loss'])\n",
        "plt.plot(history.history['val_loss'])\n",
        "plt.title('model loss')\n",
        "plt.ylabel('loss')\n",
        "plt.xlabel('epoch')\n",
        "plt.legend(['train', 'test'], loc='upper left')\n",
        "plt.show()"
      ],
      "execution_count": 0,
      "outputs": [
        {
          "output_type": "stream",
          "text": [
            "Train on 111 samples, validate on 28 samples\n",
            "Epoch 1/100\n",
            "111/111 [==============================] - 0s 2ms/step - loss: 0.8612 - acc: 0.4505 - val_loss: 0.7460 - val_acc: 0.4286\n",
            "Epoch 2/100\n",
            "111/111 [==============================] - 0s 285us/step - loss: 0.7860 - acc: 0.6036 - val_loss: 0.9534 - val_acc: 0.3929\n",
            "Epoch 3/100\n",
            "111/111 [==============================] - 0s 310us/step - loss: 0.6309 - acc: 0.6577 - val_loss: 1.0658 - val_acc: 0.4286\n",
            "Epoch 4/100\n",
            "111/111 [==============================] - 0s 302us/step - loss: 0.5587 - acc: 0.7207 - val_loss: 1.0673 - val_acc: 0.4643\n",
            "Epoch 5/100\n",
            "111/111 [==============================] - 0s 289us/step - loss: 0.5390 - acc: 0.7207 - val_loss: 1.0805 - val_acc: 0.4286\n",
            "Epoch 6/100\n",
            "111/111 [==============================] - 0s 309us/step - loss: 0.5083 - acc: 0.7117 - val_loss: 1.1194 - val_acc: 0.4286\n",
            "Epoch 7/100\n",
            "111/111 [==============================] - 0s 309us/step - loss: 0.4856 - acc: 0.7477 - val_loss: 1.1488 - val_acc: 0.5000\n",
            "Epoch 8/100\n",
            "111/111 [==============================] - 0s 304us/step - loss: 0.5006 - acc: 0.7207 - val_loss: 1.1432 - val_acc: 0.5000\n",
            "Epoch 9/100\n",
            "111/111 [==============================] - 0s 299us/step - loss: 0.4507 - acc: 0.7928 - val_loss: 1.0945 - val_acc: 0.4286\n",
            "Epoch 10/100\n",
            "111/111 [==============================] - 0s 301us/step - loss: 0.4560 - acc: 0.8018 - val_loss: 1.0474 - val_acc: 0.4286\n",
            "Epoch 11/100\n",
            "111/111 [==============================] - 0s 351us/step - loss: 0.4323 - acc: 0.8018 - val_loss: 1.1273 - val_acc: 0.4286\n",
            "Epoch 12/100\n",
            "111/111 [==============================] - 0s 326us/step - loss: 0.4342 - acc: 0.7928 - val_loss: 1.0842 - val_acc: 0.3929\n",
            "Epoch 13/100\n",
            "111/111 [==============================] - 0s 421us/step - loss: 0.4088 - acc: 0.8288 - val_loss: 1.0459 - val_acc: 0.4643\n",
            "Epoch 14/100\n",
            "111/111 [==============================] - 0s 339us/step - loss: 0.3631 - acc: 0.8649 - val_loss: 1.0393 - val_acc: 0.4643\n",
            "Epoch 15/100\n",
            "111/111 [==============================] - 0s 336us/step - loss: 0.3402 - acc: 0.8559 - val_loss: 1.0526 - val_acc: 0.4286\n",
            "Epoch 16/100\n",
            "111/111 [==============================] - 0s 336us/step - loss: 0.3567 - acc: 0.8559 - val_loss: 1.0682 - val_acc: 0.3929\n",
            "Epoch 17/100\n",
            "111/111 [==============================] - 0s 360us/step - loss: 0.3586 - acc: 0.8739 - val_loss: 1.0545 - val_acc: 0.4286\n",
            "Epoch 18/100\n",
            "111/111 [==============================] - 0s 375us/step - loss: 0.3544 - acc: 0.8829 - val_loss: 0.9847 - val_acc: 0.5000\n",
            "Epoch 19/100\n",
            "111/111 [==============================] - 0s 452us/step - loss: 0.3683 - acc: 0.8649 - val_loss: 1.0275 - val_acc: 0.5000\n",
            "Epoch 20/100\n",
            "111/111 [==============================] - 0s 333us/step - loss: 0.3309 - acc: 0.8739 - val_loss: 1.1255 - val_acc: 0.4643\n",
            "Epoch 21/100\n",
            "111/111 [==============================] - 0s 363us/step - loss: 0.3371 - acc: 0.8288 - val_loss: 1.1830 - val_acc: 0.4643\n",
            "Epoch 22/100\n",
            "111/111 [==============================] - 0s 300us/step - loss: 0.2986 - acc: 0.8829 - val_loss: 1.2045 - val_acc: 0.4643\n",
            "Epoch 23/100\n",
            "111/111 [==============================] - 0s 297us/step - loss: 0.3137 - acc: 0.8739 - val_loss: 1.1906 - val_acc: 0.5000\n",
            "Epoch 24/100\n",
            "111/111 [==============================] - 0s 336us/step - loss: 0.2953 - acc: 0.9369 - val_loss: 1.1914 - val_acc: 0.5714\n",
            "Epoch 25/100\n",
            "111/111 [==============================] - 0s 318us/step - loss: 0.2684 - acc: 0.8829 - val_loss: 1.2090 - val_acc: 0.5000\n",
            "Epoch 26/100\n",
            "111/111 [==============================] - 0s 305us/step - loss: 0.2753 - acc: 0.9009 - val_loss: 1.2290 - val_acc: 0.5000\n",
            "Epoch 27/100\n",
            "111/111 [==============================] - 0s 307us/step - loss: 0.2808 - acc: 0.8919 - val_loss: 1.2840 - val_acc: 0.5000\n",
            "Epoch 28/100\n",
            "111/111 [==============================] - 0s 276us/step - loss: 0.2956 - acc: 0.8739 - val_loss: 1.2866 - val_acc: 0.5357\n",
            "Epoch 29/100\n",
            "111/111 [==============================] - 0s 321us/step - loss: 0.2845 - acc: 0.8649 - val_loss: 1.2393 - val_acc: 0.6071\n",
            "Epoch 30/100\n",
            "111/111 [==============================] - 0s 306us/step - loss: 0.3058 - acc: 0.9279 - val_loss: 1.2827 - val_acc: 0.6071\n",
            "Epoch 31/100\n",
            "111/111 [==============================] - 0s 321us/step - loss: 0.2881 - acc: 0.8649 - val_loss: 1.3394 - val_acc: 0.5714\n",
            "Epoch 32/100\n",
            "111/111 [==============================] - 0s 355us/step - loss: 0.2645 - acc: 0.8829 - val_loss: 1.3812 - val_acc: 0.5714\n",
            "Epoch 33/100\n",
            "111/111 [==============================] - 0s 350us/step - loss: 0.2519 - acc: 0.9009 - val_loss: 1.4104 - val_acc: 0.5714\n",
            "Epoch 34/100\n",
            "111/111 [==============================] - 0s 396us/step - loss: 0.2134 - acc: 0.9550 - val_loss: 1.4283 - val_acc: 0.5357\n",
            "Epoch 35/100\n",
            "111/111 [==============================] - 0s 384us/step - loss: 0.2376 - acc: 0.9640 - val_loss: 1.4406 - val_acc: 0.5000\n",
            "Epoch 36/100\n",
            "111/111 [==============================] - 0s 353us/step - loss: 0.1995 - acc: 0.9640 - val_loss: 1.4404 - val_acc: 0.5000\n",
            "Epoch 37/100\n",
            "111/111 [==============================] - 0s 303us/step - loss: 0.2001 - acc: 0.9550 - val_loss: 1.4432 - val_acc: 0.5357\n",
            "Epoch 38/100\n",
            "111/111 [==============================] - 0s 331us/step - loss: 0.2110 - acc: 0.9369 - val_loss: 1.4486 - val_acc: 0.5000\n",
            "Epoch 39/100\n",
            "111/111 [==============================] - 0s 384us/step - loss: 0.2297 - acc: 0.9459 - val_loss: 1.4582 - val_acc: 0.5000\n",
            "Epoch 40/100\n",
            "111/111 [==============================] - 0s 293us/step - loss: 0.2030 - acc: 0.9550 - val_loss: 1.4517 - val_acc: 0.4643\n",
            "Epoch 41/100\n",
            "111/111 [==============================] - 0s 307us/step - loss: 0.2233 - acc: 0.9459 - val_loss: 1.4460 - val_acc: 0.4643\n",
            "Epoch 42/100\n",
            "111/111 [==============================] - 0s 322us/step - loss: 0.1967 - acc: 0.9550 - val_loss: 1.4501 - val_acc: 0.4643\n",
            "Epoch 43/100\n",
            "111/111 [==============================] - 0s 342us/step - loss: 0.1747 - acc: 0.9730 - val_loss: 1.4483 - val_acc: 0.4643\n",
            "Epoch 44/100\n",
            "111/111 [==============================] - 0s 378us/step - loss: 0.1898 - acc: 0.9459 - val_loss: 1.4515 - val_acc: 0.4643\n",
            "Epoch 45/100\n",
            "111/111 [==============================] - 0s 397us/step - loss: 0.1873 - acc: 0.9730 - val_loss: 1.4527 - val_acc: 0.4643\n",
            "Epoch 46/100\n",
            "111/111 [==============================] - 0s 327us/step - loss: 0.1886 - acc: 0.9550 - val_loss: 1.4629 - val_acc: 0.4643\n",
            "Epoch 47/100\n",
            "111/111 [==============================] - 0s 342us/step - loss: 0.1829 - acc: 0.9550 - val_loss: 1.4714 - val_acc: 0.4643\n",
            "Epoch 48/100\n",
            "111/111 [==============================] - 0s 342us/step - loss: 0.1826 - acc: 0.9550 - val_loss: 1.4710 - val_acc: 0.4643\n",
            "Epoch 49/100\n",
            "111/111 [==============================] - 0s 371us/step - loss: 0.1703 - acc: 0.9550 - val_loss: 1.4785 - val_acc: 0.4643\n",
            "Epoch 50/100\n",
            "111/111 [==============================] - 0s 384us/step - loss: 0.1541 - acc: 0.9640 - val_loss: 1.4821 - val_acc: 0.5000\n",
            "Epoch 51/100\n",
            "111/111 [==============================] - 0s 366us/step - loss: 0.1710 - acc: 0.9640 - val_loss: 1.4994 - val_acc: 0.5000\n",
            "Epoch 52/100\n",
            "111/111 [==============================] - 0s 340us/step - loss: 0.1637 - acc: 0.9550 - val_loss: 1.5088 - val_acc: 0.5357\n",
            "Epoch 53/100\n",
            "111/111 [==============================] - 0s 341us/step - loss: 0.1629 - acc: 0.9730 - val_loss: 1.5209 - val_acc: 0.5357\n",
            "Epoch 54/100\n",
            "111/111 [==============================] - 0s 367us/step - loss: 0.1458 - acc: 0.9550 - val_loss: 1.5443 - val_acc: 0.5714\n",
            "Epoch 55/100\n",
            "111/111 [==============================] - 0s 349us/step - loss: 0.1488 - acc: 0.9730 - val_loss: 1.5705 - val_acc: 0.5714\n",
            "Epoch 56/100\n",
            "111/111 [==============================] - 0s 371us/step - loss: 0.1469 - acc: 0.9730 - val_loss: 1.5885 - val_acc: 0.5714\n",
            "Epoch 57/100\n",
            "111/111 [==============================] - 0s 357us/step - loss: 0.1578 - acc: 0.9550 - val_loss: 1.6099 - val_acc: 0.5357\n",
            "Epoch 58/100\n",
            "111/111 [==============================] - 0s 331us/step - loss: 0.1361 - acc: 0.9910 - val_loss: 1.6391 - val_acc: 0.5357\n",
            "Epoch 59/100\n",
            "111/111 [==============================] - 0s 388us/step - loss: 0.1659 - acc: 0.9550 - val_loss: 1.6321 - val_acc: 0.5357\n",
            "Epoch 60/100\n",
            "111/111 [==============================] - 0s 333us/step - loss: 0.1702 - acc: 0.9369 - val_loss: 1.6174 - val_acc: 0.5000\n",
            "Epoch 61/100\n",
            "111/111 [==============================] - 0s 383us/step - loss: 0.1466 - acc: 0.9550 - val_loss: 1.6130 - val_acc: 0.5000\n",
            "Epoch 62/100\n",
            "111/111 [==============================] - 0s 358us/step - loss: 0.1417 - acc: 0.9640 - val_loss: 1.6266 - val_acc: 0.5000\n",
            "Epoch 63/100\n",
            "111/111 [==============================] - 0s 366us/step - loss: 0.1730 - acc: 0.9640 - val_loss: 1.5989 - val_acc: 0.5000\n",
            "Epoch 64/100\n",
            "111/111 [==============================] - 0s 453us/step - loss: 0.1341 - acc: 0.9730 - val_loss: 1.5648 - val_acc: 0.5000\n",
            "Epoch 65/100\n",
            "111/111 [==============================] - 0s 382us/step - loss: 0.1633 - acc: 0.9369 - val_loss: 1.6052 - val_acc: 0.6071\n",
            "Epoch 66/100\n",
            "111/111 [==============================] - 0s 349us/step - loss: 0.1391 - acc: 0.9640 - val_loss: 1.6555 - val_acc: 0.5714\n",
            "Epoch 67/100\n",
            "111/111 [==============================] - 0s 365us/step - loss: 0.1595 - acc: 0.9550 - val_loss: 1.6662 - val_acc: 0.5714\n",
            "Epoch 68/100\n",
            "111/111 [==============================] - 0s 335us/step - loss: 0.1595 - acc: 0.9459 - val_loss: 1.6808 - val_acc: 0.5714\n",
            "Epoch 69/100\n",
            "111/111 [==============================] - 0s 348us/step - loss: 0.1286 - acc: 0.9820 - val_loss: 1.6825 - val_acc: 0.5357\n",
            "Epoch 70/100\n",
            "111/111 [==============================] - 0s 340us/step - loss: 0.1201 - acc: 0.9910 - val_loss: 1.6946 - val_acc: 0.5714\n",
            "Epoch 71/100\n",
            "111/111 [==============================] - 0s 375us/step - loss: 0.1484 - acc: 0.9550 - val_loss: 1.7128 - val_acc: 0.5714\n",
            "Epoch 72/100\n",
            "111/111 [==============================] - 0s 326us/step - loss: 0.1360 - acc: 0.9820 - val_loss: 1.7479 - val_acc: 0.5357\n",
            "Epoch 73/100\n",
            "111/111 [==============================] - 0s 365us/step - loss: 0.1306 - acc: 0.9640 - val_loss: 1.7912 - val_acc: 0.5357\n",
            "Epoch 74/100\n",
            "111/111 [==============================] - 0s 335us/step - loss: 0.2823 - acc: 0.9550 - val_loss: 1.8718 - val_acc: 0.6071\n",
            "Epoch 75/100\n",
            "111/111 [==============================] - 0s 349us/step - loss: 0.1414 - acc: 0.9640 - val_loss: 1.8701 - val_acc: 0.5357\n",
            "Epoch 76/100\n",
            "111/111 [==============================] - 0s 355us/step - loss: 0.1676 - acc: 0.9550 - val_loss: 1.8211 - val_acc: 0.5357\n",
            "Epoch 77/100\n",
            "111/111 [==============================] - 0s 338us/step - loss: 0.1858 - acc: 0.9279 - val_loss: 1.7896 - val_acc: 0.5714\n",
            "Epoch 78/100\n",
            "111/111 [==============================] - 0s 395us/step - loss: 0.1375 - acc: 0.9640 - val_loss: 1.7665 - val_acc: 0.5357\n",
            "Epoch 79/100\n",
            "111/111 [==============================] - 0s 331us/step - loss: 0.1366 - acc: 0.9369 - val_loss: 1.7594 - val_acc: 0.5000\n",
            "Epoch 80/100\n",
            "111/111 [==============================] - 0s 332us/step - loss: 0.1046 - acc: 0.9820 - val_loss: 1.7388 - val_acc: 0.4643\n",
            "Epoch 81/100\n",
            "111/111 [==============================] - 0s 372us/step - loss: 0.1184 - acc: 0.9550 - val_loss: 1.7454 - val_acc: 0.4643\n",
            "Epoch 82/100\n",
            "111/111 [==============================] - 0s 357us/step - loss: 0.1355 - acc: 0.9459 - val_loss: 1.7593 - val_acc: 0.4643\n",
            "Epoch 83/100\n",
            "111/111 [==============================] - 0s 357us/step - loss: 0.1142 - acc: 0.9730 - val_loss: 1.7739 - val_acc: 0.4643\n",
            "Epoch 84/100\n",
            "111/111 [==============================] - 0s 351us/step - loss: 0.1423 - acc: 0.9640 - val_loss: 1.7768 - val_acc: 0.4643\n",
            "Epoch 85/100\n",
            "111/111 [==============================] - 0s 362us/step - loss: 0.1447 - acc: 0.9279 - val_loss: 1.7869 - val_acc: 0.5000\n",
            "Epoch 86/100\n",
            "111/111 [==============================] - 0s 373us/step - loss: 0.0993 - acc: 0.9910 - val_loss: 1.8218 - val_acc: 0.5357\n",
            "Epoch 87/100\n",
            "111/111 [==============================] - 0s 353us/step - loss: 0.1165 - acc: 0.9820 - val_loss: 1.8464 - val_acc: 0.5357\n",
            "Epoch 88/100\n",
            "111/111 [==============================] - 0s 412us/step - loss: 0.1588 - acc: 0.9820 - val_loss: 1.9905 - val_acc: 0.5357\n",
            "Epoch 89/100\n",
            "111/111 [==============================] - 0s 381us/step - loss: 0.1062 - acc: 0.9910 - val_loss: 2.0401 - val_acc: 0.5357\n",
            "Epoch 90/100\n",
            "111/111 [==============================] - 0s 343us/step - loss: 0.1078 - acc: 0.9910 - val_loss: 2.0268 - val_acc: 0.5357\n",
            "Epoch 91/100\n",
            "111/111 [==============================] - 0s 357us/step - loss: 0.1134 - acc: 0.9820 - val_loss: 1.9871 - val_acc: 0.5357\n",
            "Epoch 92/100\n",
            "111/111 [==============================] - 0s 337us/step - loss: 0.0912 - acc: 1.0000 - val_loss: 1.9819 - val_acc: 0.5357\n",
            "Epoch 93/100\n",
            "111/111 [==============================] - 0s 348us/step - loss: 0.1044 - acc: 0.9910 - val_loss: 1.9954 - val_acc: 0.5357\n",
            "Epoch 94/100\n",
            "111/111 [==============================] - 0s 348us/step - loss: 0.1001 - acc: 0.9820 - val_loss: 2.0184 - val_acc: 0.5357\n",
            "Epoch 95/100\n",
            "111/111 [==============================] - 0s 356us/step - loss: 0.0751 - acc: 1.0000 - val_loss: 2.0413 - val_acc: 0.5357\n",
            "Epoch 96/100\n",
            "111/111 [==============================] - 0s 329us/step - loss: 0.0975 - acc: 1.0000 - val_loss: 2.0494 - val_acc: 0.5357\n",
            "Epoch 97/100\n",
            "111/111 [==============================] - 0s 372us/step - loss: 0.1044 - acc: 0.9820 - val_loss: 2.0595 - val_acc: 0.5357\n",
            "Epoch 98/100\n",
            "111/111 [==============================] - 0s 348us/step - loss: 0.0971 - acc: 0.9910 - val_loss: 2.0646 - val_acc: 0.5000\n",
            "Epoch 99/100\n",
            "111/111 [==============================] - 0s 349us/step - loss: 0.1125 - acc: 0.9730 - val_loss: 2.0751 - val_acc: 0.4643\n",
            "Epoch 100/100\n",
            "111/111 [==============================] - 0s 375us/step - loss: 0.0814 - acc: 1.0000 - val_loss: 2.0797 - val_acc: 0.4643\n",
            "_________________________________________________________________\n",
            "Layer (type)                 Output Shape              Param #   \n",
            "=================================================================\n",
            "flatten_2 (Flatten)          (None, 1040)              0         \n",
            "_________________________________________________________________\n",
            "dense_3 (Dense)              (None, 10)                10410     \n",
            "_________________________________________________________________\n",
            "dropout_2 (Dropout)          (None, 10)                0         \n",
            "_________________________________________________________________\n",
            "dense_4 (Dense)              (None, 2)                 22        \n",
            "=================================================================\n",
            "Total params: 10,432\n",
            "Trainable params: 10,432\n",
            "Non-trainable params: 0\n",
            "_________________________________________________________________\n",
            "dict_keys(['val_loss', 'val_acc', 'loss', 'acc'])\n"
          ],
          "name": "stdout"
        },
        {
          "output_type": "display_data",
          "data": {
            "image/png": "[encoded data removed]",
            "text/plain": [
              "<Figure size 432x288 with 1 Axes>"
            ]
          },
          "metadata": {
            "tags": []
          }
        },
        {
          "output_type": "display_data",
          "data": {
            "image/png": "[encoded data removed]",
            "text/plain": [
              "<Figure size 432x288 with 1 Axes>"
            ]
          },
          "metadata": {
            "tags": []
          }
        }
      ]
    }
  ]
}