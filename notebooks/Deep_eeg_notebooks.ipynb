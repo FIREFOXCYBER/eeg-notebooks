{
  "nbformat": 4,
  "nbformat_minor": 0,
  "metadata": {
    "colab": {
      "name": "Deep-eeg-notebooks.ipynb",
      "version": "0.3.2",
      "provenance": [],
      "include_colab_link": true
    },
    "kernelspec": {
      "name": "python3",
      "display_name": "Python 3"
    },
    "accelerator": "GPU"
  },
  "cells": [
    {
      "cell_type": "markdown",
      "metadata": {
        "id": "view-in-github",
        "colab_type": "text"
      },
      "source": [
        "<a href=\"https://colab.research.google.com/github/kylemath/eeg-notebooks/blob/master/notebooks/Deep_eeg_notebooks.ipynb\" target=\"_parent\"><img src=\"https://colab.research.google.com/assets/colab-badge.svg\" alt=\"Open In Colab\"/></a>"
      ]
    },
    {
      "metadata": {
        "id": "cH7KRd8ZZPMd",
        "colab_type": "text"
      },
      "cell_type": "markdown",
      "source": [
        "## Deep-eeg-notebooks\n",
        "\n",
        "Goal is to make a deep learning LSTM stack that processes Muse eeg-notebook EEG trials as input and predicts binary trial category as output.\n",
        "\n",
        "Strategy:\n",
        "* Load in Muse data, normal pre-processing to get to trials\n",
        "* Decimate down to reduce features in time x frequency x electrode\n",
        "* Avoid CNN?\n",
        "* load time steps into LSTM?\n",
        "* Predict attend left vs attend right on muse 375 data\n",
        "\n",
        "API:\n",
        "* Want to input the data directory of any eeg-notebook experiment (https://github.com/kylemath/eeg-notebooks)\n",
        "* More general with the master eeg-notebooks - https://github.com/NeuroTechX/eeg-notebooks\n",
        "\n",
        "\n",
        "LearningModels:\n",
        "* First try simple CNN\n",
        "* then add in LSTM component to treat time as recurrent\n",
        "\n",
        "DataModels:\n",
        "* First pool data over subjects\n",
        "* Try subject specific models\n",
        "* Then try multilevel models\n",
        "\n",
        "Using: \n",
        "* https://github.com/pbashivan/EEGLearn\n",
        "* https://github.com/tevisgehr/EEG-Classification\n",
        "* https://github.com/kylemath/eeg-notebooks\n",
        "* https://github.com/keras-team/keras/blob/master/examples/imdb_cnn_lstm.py\n",
        "* https://github.com/ml4a/ml4a-guides/blob/master/notebooks/keras_classification.ipynb\n",
        "\n",
        "Resources:\n",
        "*   http://proceedings.mlr.press/v56/Thodoroff16.pdf\n",
        "*   https://arxiv.org/abs/1511.06448\n",
        "\n",
        "\n"
      ]
    },
    {
      "metadata": {
        "id": "Kf-1ItUyU380",
        "colab_type": "text"
      },
      "cell_type": "markdown",
      "source": [
        "**Setup**"
      ]
    },
    {
      "metadata": {
        "id": "VXe-o8XtG9ki",
        "colab_type": "code",
        "outputId": "bbb3f06e-f81e-461d-c6e8-1c403f89161d",
        "colab": {
          "base_uri": "https://localhost:8080/",
          "height": 459
        }
      },
      "cell_type": "code",
      "source": [
        "!git clone https://github.com/tevisgehr/EEG-Classification.git\n",
        "%cd EEG-Classification\n",
        "from eeg_learn_functions import *\n",
        "%cd ..\n",
        "\n",
        "!git clone https://github.com/kylemath/eeg-notebooks.git\n",
        "%cd eeg-notebooks/notebooks\n",
        "!pip install mne\n",
        "from utils import utils\n",
        "\n",
        "import pandas as pd\n",
        "pd.options.display.max_columns = None\n",
        "pd.options.display.precision = 4\n",
        "\n",
        "import numpy as np\n",
        "from numpy import genfromtxt\n",
        "np.random.seed(1017)\n",
        "\n",
        "from collections import OrderedDict\n",
        "import matplotlib.pyplot as plt\n",
        "%matplotlib inline\n",
        "plt.rcParams[\"figure.figsize\"] = (12,12)\n",
        "\n",
        "import seaborn as sns\n",
        "import scipy.stats as scs\n",
        "import re\n",
        "\n",
        "from IPython.core.display import display, HTML\n",
        "display(HTML(\"<style>.container { width:100% !important; }</style>\"))\n",
        "\n",
        "from mne import Epochs, find_events, concatenate_raws\n",
        "from mne.time_frequency import tfr_morlet\n",
        "\n",
        "import keras\n",
        "from keras.models import Sequential\n",
        "from keras.layers import Dense, Dropout, Activation, Flatten, Conv2D, MaxPooling2D\n",
        "\n",
        "from sklearn.model_selection import train_test_split\n",
        "\n"
      ],
      "execution_count": 1,
      "outputs": [
        {
          "output_type": "stream",
          "text": [
            "Cloning into 'EEG-Classification'...\n",
            "remote: Enumerating objects: 201, done.\u001b[K\n",
            "remote: Total 201 (delta 0), reused 0 (delta 0), pack-reused 201\u001b[K\n",
            "Receiving objects: 100% (201/201), 16.68 MiB | 22.47 MiB/s, done.\n",
            "Resolving deltas: 100% (97/97), done.\n",
            "/content/EEG-Classification\n",
            "/content\n",
            "Cloning into 'eeg-notebooks'...\n",
            "remote: Enumerating objects: 208, done.\u001b[K\n",
            "remote: Counting objects: 100% (208/208), done.\u001b[K\n",
            "remote: Compressing objects: 100% (165/165), done.\u001b[K\n",
            "remote: Total 1674 (delta 91), reused 143 (delta 43), pack-reused 1466\u001b[K\n",
            "Receiving objects: 100% (1674/1674), 107.85 MiB | 20.05 MiB/s, done.\n",
            "Resolving deltas: 100% (714/714), done.\n",
            "Checking out files: 100% (484/484), done.\n",
            "/content/eeg-notebooks/notebooks\n",
            "Collecting mne\n",
            "\u001b[?25l  Downloading https://files.pythonhosted.org/packages/fa/20/207b7780abf56afb03697c9d358b706ac22d96975c1da755cc9663f358cc/mne-0.17.0.tar.gz (6.2MB)\n",
            "\u001b[K    100% |████████████████████████████████| 6.2MB 5.6MB/s \n",
            "\u001b[?25hBuilding wheels for collected packages: mne\n",
            "  Running setup.py bdist_wheel for mne ... \u001b[?25l-\b \b\\\b \b|\b \b/\b \b-\b \b\\\b \b|\b \b/\b \b-\b \b\\\b \bdone\n",
            "\u001b[?25h  Stored in directory: /root/.cache/pip/wheels/59/23/bb/ebafe2eae31064edfb9b384131abd0ec562a9418601cde6d69\n",
            "Successfully built mne\n",
            "Installing collected packages: mne\n",
            "Successfully installed mne-0.17.0\n"
          ],
          "name": "stdout"
        },
        {
          "output_type": "display_data",
          "data": {
            "text/html": [
              "<style>.container { width:100% !important; }</style>"
            ],
            "text/plain": [
              "<IPython.core.display.HTML object>"
            ]
          },
          "metadata": {
            "tags": []
          }
        },
        {
          "output_type": "stream",
          "text": [
            "Using TensorFlow backend.\n"
          ],
          "name": "stderr"
        }
      ]
    },
    {
      "metadata": {
        "id": "yR1WkVZKU2Vm",
        "colab_type": "text"
      },
      "cell_type": "markdown",
      "source": [
        "**Parameters**"
      ]
    },
    {
      "metadata": {
        "id": "QGVIiUbAU1nA",
        "colab_type": "code",
        "outputId": "4e4d2c25-3120-4ecb-88a3-6eb81dfd7018",
        "colab": {
          "base_uri": "https://localhost:8080/",
          "height": 34
        }
      },
      "cell_type": "code",
      "source": [
        "#Parameters#\n",
        "#subject folders in data folder\n",
        "subs = [101, 102, 103, 104, 105, 106, 108, 109, 110, 111, 112,\n",
        "        202, 203, 204, 205, 207, 208, 209, 210, 211, \n",
        "        301, 302, 303, 304, 305, 306, 307, 308, 309]\n",
        "\n",
        "#for testing\n",
        "#subs = [ 205, 207, 208, 209]\n",
        "#subs = [ 2]\n",
        "\n",
        "#number of sessions in each subject folder\n",
        "nsesh = 2\n",
        "\n",
        "data_dir = 'visual/cueing'\n",
        "event_ids = ['LeftCue','RightCue']\n",
        "\n",
        "#can load other experiments like this\n",
        "#data_dir = 'visual/SSVEP'\n",
        "#event_ids = ['F1','F2']\n",
        "\n",
        "frequency_domain = 1  #if True uses wavelets otherwise use time series\n",
        "\n",
        "sfreq=256.\n",
        "\n",
        "#filter\n",
        "eeg_filter_highpass = 1\n",
        "eeg_filter_lowpass = 30\n",
        "\n",
        "#artifact rejection\n",
        "rej_thresh_uV = 300\n",
        "rej_thresh = rej_thresh_uV*1e-6\n",
        "\n",
        "#trial epoch limits \n",
        "tmin=-1\n",
        "tmax=2\n",
        "decim=20  # to decrease number of time features\n",
        "baseline=(-1, 0) #gets removed from training data but used during processing\n",
        "\n",
        "#wavelet settings\n",
        "f_low = 4\n",
        "f_high = 20\n",
        "f_bins = 10  # to decrease number of frequency features\n",
        "frequencies =  np.linspace(4, 10, f_bins, endpoint=True)\n",
        "wave_cycles = 6\n",
        "spect_baseline = [-1,-.5] #gets removed from training data but used during processing\n",
        "electrodes_out = [0,1,2,3]  # to decrease number of electrode features from [0,1,2,3] or [0,1,2,3,4] with aux electrode (untested)\n",
        "\n",
        "#Training Settings\n",
        "batch_size = 16\n",
        "train_epochs = 100\n",
        "num_classes = len(event_ids)\n",
        "\n",
        "print('Parameters Set')"
      ],
      "execution_count": 8,
      "outputs": [
        {
          "output_type": "stream",
          "text": [
            "Parameters Set\n"
          ],
          "name": "stdout"
        }
      ]
    },
    {
      "metadata": {
        "id": "g2a98-rwL9wl",
        "colab_type": "text"
      },
      "cell_type": "markdown",
      "source": [
        "**Preprocessing of EEG Data**\n",
        "\n",
        "* LoadData - Each data file is from one session of one subject of the muse cueing task from eeg-notebooks from psych 375 A1 dataset\n",
        "* Filtering - Most ERP components are composed of lower frequency fluctuations in the EEG signal. Thus, we can filter out all frequencies between 1 and 30 hz in order to increase our ability to detect them.\n",
        "* Epoching - Next, we will chunk (epoch) the data into segments representing the data 1000ms before to 2000ms after each cue, we will reject every epoch where the amplitude of the signal exceeded 100 uV, which should most eye blinks."
      ]
    },
    {
      "metadata": {
        "id": "6A3mgX7ILZFK",
        "colab_type": "code",
        "outputId": "db781053-6d59-4404-c3cc-0689cb6ad5c0",
        "colab": {
          "base_uri": "https://localhost:8080/",
          "height": 595
        }
      },
      "cell_type": "code",
      "source": [
        "#Load Data\n",
        "print('Loading Data')\n",
        "\n",
        "isub = subs[0]\n",
        "print(isub)\n",
        "raw = utils.load_data(data_dir, sfreq=sfreq ,subject_nb=isub, session_nb=1)\n",
        "if nsesh == 2:\n",
        "  raw.append(utils.load_data(data_dir, sfreq=sfreq,subject_nb=isub, session_nb=2))\n",
        "\n",
        "if len(subs)>1:\n",
        "  for isub in subs[1:]:\n",
        "    print(isub)\n",
        "    raw.append(utils.load_data(data_dir, sfreq=sfreq,subject_nb=isub, session_nb=1))\n",
        "    if nsesh == 2:\n",
        "      raw.append(utils.load_data(data_dir, sfreq=sfreq,subject_nb=isub, session_nb=2))\n",
        "  \n",
        "#Filtering\n",
        "print('Filtering Data')\n",
        "raw.filter(eeg_filter_highpass,eeg_filter_lowpass, method='iir', verbose='WARNING' )\n",
        "\n",
        "#Plot filtred data spectra if desired\n",
        "#raw.plot_psd(fmin=eeg_filter_highpass, fmax=eeg_filter_lowpass ) \n",
        "\n",
        "#Epoching\n",
        "event_id = {event_ids[0]: 1, event_ids[1]: 2}\n",
        "events = find_events(raw)\n",
        "epochs = Epochs(raw, events=events, event_id=event_id, \n",
        "                tmin=tmin, tmax=tmax, baseline=baseline, \n",
        "                preload=True,reject={'eeg':rej_thresh},\n",
        "                verbose=False, picks=[0, 1, 2, 3])\n",
        "\n",
        "print('sample drop %: ', (1 - len(epochs.events)/len(events)) * 100)\n",
        "%matplotlib inline\n",
        "conditions = OrderedDict()\n",
        "conditions[event_ids[0]] = [1]\n",
        "conditions[event_ids[1]] = [2]\n",
        "\n",
        "#plot ERPs if desired\n",
        "#fig, ax = utils.plot_conditions(epochs, conditions=conditions, ylim=(-20,20) )"
      ],
      "execution_count": 9,
      "outputs": [
        {
          "output_type": "stream",
          "text": [
            "Loading Data\n",
            "101\n",
            "102\n",
            "103\n",
            "104\n",
            "105\n",
            "106\n",
            "108\n",
            "109\n",
            "110\n",
            "111\n",
            "112\n",
            "202\n",
            "203\n",
            "204\n",
            "205\n",
            "207\n",
            "208\n",
            "209\n",
            "210\n",
            "211\n",
            "301\n",
            "302\n",
            "303\n",
            "304\n",
            "305\n",
            "306\n",
            "307\n",
            "308\n",
            "309\n",
            "Filtering Data\n",
            "4583 events found\n",
            "Event IDs: [ 1  2 11 12 21 22]\n",
            "sample drop %:  68.6668121317914\n"
          ],
          "name": "stdout"
        }
      ]
    },
    {
      "metadata": {
        "id": "dpXiF6i0opGm",
        "colab_type": "text"
      },
      "cell_type": "markdown",
      "source": [
        "TODO: Time domain features:"
      ]
    },
    {
      "metadata": {
        "id": "EmvSu1bOZiO0",
        "colab_type": "text"
      },
      "cell_type": "markdown",
      "source": [
        "** Spectrogram **\n",
        "\n",
        "* All electrodes are considered on each trial\n",
        "* Many frequencies are used in the wavelet analysis while the output of the morlet is decimated in time.\n",
        "* Two conditions are done separate and concatenated\n",
        "* X is a trials x freq x time matrix\n",
        "* Y is a trials array of condition labels (turned into one hot vectors later in code)\n"
      ]
    },
    {
      "metadata": {
        "id": "Xs-_8GRYZar7",
        "colab_type": "code",
        "outputId": "b849e14d-29c8-4524-f7a2-d5a1f229d41a",
        "colab": {
          "base_uri": "https://localhost:8080/",
          "height": 725
        }
      },
      "cell_type": "code",
      "source": [
        "if frequency_domain:\n",
        "  # Condition0\n",
        "  print('Computing Morlet Wavelets on ' + event_ids[0])\n",
        "\n",
        "  tfr0 = tfr_morlet(epochs[event_ids[0]], freqs=frequencies, \n",
        "                        n_cycles=wave_cycles, return_itc=False,\n",
        "                        picks=electrodes_out,average=False,decim=decim)\n",
        "  tfr0 = tfr0.apply_baseline(spect_baseline,mode='mean')\n",
        "  stim_onset = np.argmax(tfr0.times>0)\n",
        "  new_times = tfr0.times[stim_onset:]\n",
        "  cond0_power_out = np.moveaxis(tfr0.data[:,:,:,stim_onset:],1,3)\n",
        "  #cond0_power_out[:,0:5,0:5,:] = 0 #for testing model add mark to image\n",
        "\n",
        "  print(event_ids[0] + ' Time Points: ' + str(len(new_times)))\n",
        "  print(event_ids[0] + ' Frequencies: ' + str(len(tfr0.freqs)))\n",
        "\n",
        "  #Condition1\n",
        "  print('Computing Morlet Wavelets on ' + event_ids[1])\n",
        "  tfr1 = tfr_morlet(epochs[event_ids[1]], freqs=frequencies, \n",
        "                        n_cycles=wave_cycles, return_itc=False,\n",
        "                        picks=electrodes_out,average=False,decim=decim)\n",
        "  tfr1 = tfr1.apply_baseline(spect_baseline,mode='mean')\n",
        "  cond1_power_out = np.moveaxis(tfr1.data[:,:,:,stim_onset:],1,3)\n",
        "  #cond1_power_out[:,0:5,0:5,:] = 1 #for testing model add mark to image\n",
        "\n",
        "  print(event_ids[1] + ' Time Points: ' + str(len(new_times)))\n",
        "  print(event_ids[1] + ' Frequencies: ' + str(len(tfr1.freqs)))\n",
        "\n",
        "  X = np.append(cond0_power_out,cond1_power_out,0);\n",
        "  \n",
        "  #Normalize X - need to save mean and std for future test + val\n",
        "  X = (X - np.mean(X)) / np.std(X)\n",
        "  \n",
        "  print('Combined X Shape: ' + str(X.shape))\n",
        "  print('Combined Y Shape: ' + str(Y.shape))\n",
        "  print('Combined Y: ' + str(Y))\n",
        "  print('X Range: ' + str(np.min(X)) + ':' + str(np.max(X)))\n",
        "  print('X Examples:')\n",
        "\n",
        "  #for plotting\n",
        "  \n",
        "  vmin = (np.std(X)/4) * -1\n",
        "  vmax = np.std(X)/4  \n",
        "\n",
        "  #Plot Example Data\n",
        "  f, axarr = plt.subplots(2,2, figsize = (8,8))\n",
        "  axarr[0][0].set_title(event_ids[0])\n",
        "  axarr[0][0].imshow(X[0,:,:,1],vmin=vmin, vmax=vmax)\n",
        "\n",
        "  axarr[0][0].invert_yaxis()\n",
        "  axarr[1][0].imshow(X[1,:,:,1],vmin=vmin, vmax=vmax)\n",
        "  axarr[1][0].invert_yaxis()\n",
        "\n",
        "  axarr[0][1].set_title(event_ids[1])\n",
        "  axarr[0][1].imshow(X[-1,:,:,1],vmin=vmin, vmax=vmax)\n",
        "  axarr[0][1].invert_yaxis()\n",
        "  axarr[1][1].imshow(X[-2,:,:,1],vmin=vmin, vmax=vmax)\n",
        "  axarr[1][1].invert_yaxis()\n",
        ";\n",
        "\n"
      ],
      "execution_count": 22,
      "outputs": [
        {
          "output_type": "stream",
          "text": [
            "Computing Morlet Wavelets on LeftCue\n",
            "Applying baseline correction (mode: mean)\n",
            "LeftCue Time Points: 26\n",
            "LeftCue Frequencies: 10\n",
            "Computing Morlet Wavelets on RightCue\n",
            "Applying baseline correction (mode: mean)\n",
            "RightCue Time Points: 26\n",
            "RightCue Frequencies: 10\n",
            "Combined X Shape: (1436, 10, 26, 4)\n",
            "Combined Y Shape: (1436, 2)\n",
            "Combined Y: [[1. 0.]\n",
            " [1. 0.]\n",
            " [1. 0.]\n",
            " ...\n",
            " [0. 1.]\n",
            " [0. 1.]\n",
            " [0. 1.]]\n",
            "X Range: -15.542384240504429:25.812812793081022\n",
            "X Examples:\n"
          ],
          "name": "stdout"
        },
        {
          "output_type": "execute_result",
          "data": {
            "text/plain": [
              "''"
            ]
          },
          "metadata": {
            "tags": []
          },
          "execution_count": 22
        },
        {
          "output_type": "display_data",
          "data": {
            "image/png": "[encoded data removed]",
            "text/plain": [
              "<Figure size 576x576 with 4 Axes>"
            ]
          },
          "metadata": {
            "tags": []
          }
        }
      ]
    },
    {
      "metadata": {
        "id": "_d74N_oqMlGF",
        "colab_type": "text"
      },
      "cell_type": "markdown",
      "source": [
        "**Time Domain**\n",
        "\n",
        "* Instead may want to retain time domain data\n",
        "* After Epoching, arange data into useful format with labels"
      ]
    },
    {
      "metadata": {
        "id": "qoBQKZ2uMOpL",
        "colab_type": "code",
        "colab": {}
      },
      "cell_type": "code",
      "source": [
        "if not frequency_domain:\n",
        "  print(raw._data.shape)\n",
        "  print(epochs._data.shape)\n",
        "  print(conditions)"
      ],
      "execution_count": 0,
      "outputs": []
    },
    {
      "metadata": {
        "id": "WqVTXiwrZxbf",
        "colab_type": "text"
      },
      "cell_type": "markdown",
      "source": [
        "**Prepare Data for Model**\n"
      ]
    },
    {
      "metadata": {
        "id": "4xyrsW2kZW8D",
        "colab_type": "code",
        "outputId": "a9dbeefe-ba59-4ff2-bc84-32dc9ff1a76d",
        "colab": {
          "base_uri": "https://localhost:8080/",
          "height": 102
        }
      },
      "cell_type": "code",
      "source": [
        "#Append Data\n",
        "Y = np.append(np.zeros(len(cond0_power_out)), np.ones(len(cond1_power_out)),0);\n",
        "\n",
        "# convert class vectors to binary class matrices and recast X\n",
        "Y = keras.utils.to_categorical(Y, num_classes)\n",
        "X = X.astype('float32')\n",
        "\n",
        "# Split training test and validation data \n",
        "test_split = 0.2\n",
        "val_split = 0.2\n",
        "random_seed = 1017\n",
        "\n",
        "val_prop = val_split / (1-test_split)\n",
        "x_train, x_test, y_train, y_test = train_test_split(X, Y, test_size=test_split,random_state=random_seed) \n",
        "x_train, x_val, y_train, y_val = train_test_split(x_train, y_train, test_size=val_prop, random_state=random_seed)\n",
        "\n",
        "# Compute model input shape\n",
        "input_shape = (X.shape[1], X.shape[2], len(electrodes_out))\n",
        "\n",
        "print('Input Shape: ' + str(input_shape))\n",
        "print('x_train shape:', x_train.shape)\n",
        "print(x_train.shape[0], 'train samples')\n",
        "print(x_test.shape[0], 'test samples')\n",
        "print(x_val.shape[0], 'validation samples')\n"
      ],
      "execution_count": 24,
      "outputs": [
        {
          "output_type": "stream",
          "text": [
            "Input Shape: (10, 26, 4)\n",
            "x_train shape: (861, 10, 26, 4)\n",
            "861 train samples\n",
            "288 test samples\n",
            "287 validation samples\n"
          ],
          "name": "stdout"
        }
      ]
    },
    {
      "metadata": {
        "id": "mKzYDoF1TQmK",
        "colab_type": "text"
      },
      "cell_type": "markdown",
      "source": [
        "**Build Model and Train**"
      ]
    },
    {
      "metadata": {
        "scrolled": false,
        "id": "JxjbgyC5G7AZ",
        "colab_type": "code",
        "outputId": "6d923e52-25dc-42ff-9f56-7241cf16ce5d",
        "colab": {
          "base_uri": "https://localhost:8080/",
          "height": 4282
        }
      },
      "cell_type": "code",
      "source": [
        "#DenseFeedforward Network\n",
        "model = Sequential()\n",
        "model.add(Flatten())\n",
        "model.add(Dense(10, activation='relu'))\n",
        "model.add(Dropout(.20))\n",
        "model.add(Dense(2, activation='softmax'))\n",
        "\n",
        "\n",
        "#model.add(Dropout(.10))\n",
        "\n",
        "# Create CNN in keras\n",
        "#model = Sequential()\n",
        "#model.add(Conv2D(49, (3, 3), input_shape=input_shape))\n",
        "#model.add(Activation('relu'))\n",
        "#model.add(Conv2D(32, (3, 3)))\n",
        "#model.add(Activation('relu'))\n",
        "#model.add(MaxPooling2D(pool_size=(2, 2)))\n",
        "#model.add(Flatten())\n",
        "#model.add(Dense(10))\n",
        "#model.add(Activation('relu'))\n",
        "#model.add(Dense(num_classes))\n",
        "#model.add(Activation('softmax'))\n",
        "\n",
        "# initiate adam optimizer\n",
        "opt = keras.optimizers.Adam(lr=0.001, beta_1=0.9, beta_2=0.999, \n",
        "                            epsilon=None, decay=0.0, amsgrad=False)\n",
        "\n",
        "# Let's train the model using RMSprop\n",
        "model.compile(loss='categorical_crossentropy',\n",
        "              optimizer=opt,\n",
        "              metrics=['accuracy'])\n",
        "\n",
        "\n",
        "\n",
        "#Train Model\n",
        "history = model.fit(x_train, y_train,\n",
        "          batch_size=batch_size,\n",
        "          epochs=train_epochs,\n",
        "          validation_data=(x_test, y_test),\n",
        "          shuffle=True,\n",
        "          verbose=True)\n",
        "         \n",
        "#Summarize\n",
        "model.summary()\n",
        " \n",
        "  \n",
        "# list all data in history\n",
        "print(history.history.keys())\n",
        "# summarize history for accuracy\n",
        "plt.plot(history.history['acc'])\n",
        "plt.plot(history.history['val_acc'])\n",
        "plt.title('model accuracy')\n",
        "plt.ylabel('accuracy')\n",
        "plt.xlabel('epoch')\n",
        "plt.legend(['train', 'test'], loc='upper left')\n",
        "plt.show()\n",
        "# summarize history for loss\n",
        "plt.plot(history.history['loss'])\n",
        "plt.plot(history.history['val_loss'])\n",
        "plt.title('model loss')\n",
        "plt.ylabel('loss')\n",
        "plt.xlabel('epoch')\n",
        "plt.legend(['train', 'test'], loc='upper left')\n",
        "plt.show()"
      ],
      "execution_count": 25,
      "outputs": [
        {
          "output_type": "stream",
          "text": [
            "Train on 861 samples, validate on 288 samples\n",
            "Epoch 1/100\n",
            "861/861 [==============================] - 1s 624us/step - loss: 0.8299 - acc: 0.4843 - val_loss: 0.7467 - val_acc: 0.5243\n",
            "Epoch 2/100\n",
            "861/861 [==============================] - 0s 296us/step - loss: 0.7430 - acc: 0.5087 - val_loss: 0.7319 - val_acc: 0.5035\n",
            "Epoch 3/100\n",
            "861/861 [==============================] - 0s 334us/step - loss: 0.6965 - acc: 0.5552 - val_loss: 0.7011 - val_acc: 0.5208\n",
            "Epoch 4/100\n",
            "861/861 [==============================] - 0s 338us/step - loss: 0.6863 - acc: 0.5528 - val_loss: 0.7229 - val_acc: 0.5000\n",
            "Epoch 5/100\n",
            "861/861 [==============================] - 0s 338us/step - loss: 0.6711 - acc: 0.5470 - val_loss: 0.7084 - val_acc: 0.5035\n",
            "Epoch 6/100\n",
            "861/861 [==============================] - 0s 345us/step - loss: 0.6556 - acc: 0.5528 - val_loss: 0.7065 - val_acc: 0.5000\n",
            "Epoch 7/100\n",
            "861/861 [==============================] - 0s 348us/step - loss: 0.6707 - acc: 0.5726 - val_loss: 0.7125 - val_acc: 0.5312\n",
            "Epoch 8/100\n",
            "861/861 [==============================] - 0s 332us/step - loss: 0.6793 - acc: 0.5377 - val_loss: 0.6977 - val_acc: 0.5139\n",
            "Epoch 9/100\n",
            "861/861 [==============================] - 0s 335us/step - loss: 0.6503 - acc: 0.5784 - val_loss: 0.7166 - val_acc: 0.5069\n",
            "Epoch 10/100\n",
            "861/861 [==============================] - 0s 344us/step - loss: 0.6658 - acc: 0.5842 - val_loss: 0.7365 - val_acc: 0.4896\n",
            "Epoch 11/100\n",
            "861/861 [==============================] - 0s 362us/step - loss: 0.6913 - acc: 0.5668 - val_loss: 0.7228 - val_acc: 0.5208\n",
            "Epoch 12/100\n",
            "861/861 [==============================] - 0s 330us/step - loss: 0.6671 - acc: 0.5494 - val_loss: 0.7000 - val_acc: 0.4896\n",
            "Epoch 13/100\n",
            "861/861 [==============================] - 0s 340us/step - loss: 0.6578 - acc: 0.5563 - val_loss: 0.7046 - val_acc: 0.5069\n",
            "Epoch 14/100\n",
            "861/861 [==============================] - 0s 360us/step - loss: 0.6415 - acc: 0.5656 - val_loss: 0.7385 - val_acc: 0.5139\n",
            "Epoch 15/100\n",
            "861/861 [==============================] - 0s 331us/step - loss: 0.6400 - acc: 0.5772 - val_loss: 0.7389 - val_acc: 0.4618\n",
            "Epoch 16/100\n",
            "861/861 [==============================] - 0s 323us/step - loss: 0.6529 - acc: 0.5830 - val_loss: 0.7279 - val_acc: 0.4757\n",
            "Epoch 17/100\n",
            "861/861 [==============================] - 0s 337us/step - loss: 0.6356 - acc: 0.5865 - val_loss: 0.7252 - val_acc: 0.5069\n",
            "Epoch 18/100\n",
            "861/861 [==============================] - 0s 355us/step - loss: 0.6316 - acc: 0.5923 - val_loss: 0.7464 - val_acc: 0.5243\n",
            "Epoch 19/100\n",
            "861/861 [==============================] - 0s 341us/step - loss: 0.6569 - acc: 0.6074 - val_loss: 0.7371 - val_acc: 0.5035\n",
            "Epoch 20/100\n",
            "861/861 [==============================] - 0s 328us/step - loss: 0.6542 - acc: 0.5842 - val_loss: 0.7229 - val_acc: 0.5035\n",
            "Epoch 21/100\n",
            "861/861 [==============================] - 0s 363us/step - loss: 0.6433 - acc: 0.5923 - val_loss: 0.7282 - val_acc: 0.5208\n",
            "Epoch 22/100\n",
            "861/861 [==============================] - 0s 353us/step - loss: 0.6248 - acc: 0.6016 - val_loss: 0.7346 - val_acc: 0.5000\n",
            "Epoch 23/100\n",
            "861/861 [==============================] - 0s 354us/step - loss: 0.6241 - acc: 0.6295 - val_loss: 0.7516 - val_acc: 0.5174\n",
            "Epoch 24/100\n",
            "861/861 [==============================] - 0s 341us/step - loss: 0.6335 - acc: 0.5970 - val_loss: 0.7629 - val_acc: 0.5035\n",
            "Epoch 25/100\n",
            "861/861 [==============================] - 0s 359us/step - loss: 0.6262 - acc: 0.5865 - val_loss: 0.7276 - val_acc: 0.5174\n",
            "Epoch 26/100\n",
            "861/861 [==============================] - 0s 345us/step - loss: 0.6269 - acc: 0.6190 - val_loss: 0.7466 - val_acc: 0.4931\n",
            "Epoch 27/100\n",
            "861/861 [==============================] - 0s 318us/step - loss: 0.6144 - acc: 0.6109 - val_loss: 0.7550 - val_acc: 0.4965\n",
            "Epoch 28/100\n",
            "861/861 [==============================] - 0s 337us/step - loss: 0.6214 - acc: 0.5738 - val_loss: 0.7406 - val_acc: 0.5069\n",
            "Epoch 29/100\n",
            "861/861 [==============================] - 0s 337us/step - loss: 0.6267 - acc: 0.5749 - val_loss: 0.7468 - val_acc: 0.5208\n",
            "Epoch 30/100\n",
            "861/861 [==============================] - 0s 334us/step - loss: 0.6159 - acc: 0.6190 - val_loss: 0.7377 - val_acc: 0.4792\n",
            "Epoch 31/100\n",
            "861/861 [==============================] - 0s 333us/step - loss: 0.6126 - acc: 0.6167 - val_loss: 0.7549 - val_acc: 0.4896\n",
            "Epoch 32/100\n",
            "861/861 [==============================] - 0s 320us/step - loss: 0.6121 - acc: 0.5865 - val_loss: 0.7510 - val_acc: 0.5069\n",
            "Epoch 33/100\n",
            "861/861 [==============================] - 0s 334us/step - loss: 0.6108 - acc: 0.6225 - val_loss: 0.7461 - val_acc: 0.5104\n",
            "Epoch 34/100\n",
            "861/861 [==============================] - 0s 341us/step - loss: 0.6136 - acc: 0.6179 - val_loss: 0.7858 - val_acc: 0.5069\n",
            "Epoch 35/100\n",
            "861/861 [==============================] - 0s 359us/step - loss: 0.5923 - acc: 0.6051 - val_loss: 0.7499 - val_acc: 0.5417\n",
            "Epoch 36/100\n",
            "861/861 [==============================] - 0s 323us/step - loss: 0.6086 - acc: 0.5970 - val_loss: 0.7468 - val_acc: 0.5174\n",
            "Epoch 37/100\n",
            "861/861 [==============================] - 0s 334us/step - loss: 0.6111 - acc: 0.6249 - val_loss: 0.7318 - val_acc: 0.5139\n",
            "Epoch 38/100\n",
            "861/861 [==============================] - 0s 351us/step - loss: 0.6059 - acc: 0.6098 - val_loss: 0.7589 - val_acc: 0.5000\n",
            "Epoch 39/100\n",
            "861/861 [==============================] - 0s 337us/step - loss: 0.6109 - acc: 0.6063 - val_loss: 0.7598 - val_acc: 0.5069\n",
            "Epoch 40/100\n",
            "861/861 [==============================] - 0s 335us/step - loss: 0.6028 - acc: 0.6109 - val_loss: 0.8103 - val_acc: 0.5000\n",
            "Epoch 41/100\n",
            "861/861 [==============================] - 0s 345us/step - loss: 0.5962 - acc: 0.6132 - val_loss: 0.7761 - val_acc: 0.4931\n",
            "Epoch 42/100\n",
            "861/861 [==============================] - 0s 354us/step - loss: 0.5862 - acc: 0.6330 - val_loss: 0.7857 - val_acc: 0.5000\n",
            "Epoch 43/100\n",
            "861/861 [==============================] - 0s 336us/step - loss: 0.6075 - acc: 0.6237 - val_loss: 0.7982 - val_acc: 0.5000\n",
            "Epoch 44/100\n",
            "861/861 [==============================] - 0s 339us/step - loss: 0.5961 - acc: 0.6202 - val_loss: 0.7740 - val_acc: 0.4931\n",
            "Epoch 45/100\n",
            "861/861 [==============================] - 0s 345us/step - loss: 0.6114 - acc: 0.6132 - val_loss: 0.7671 - val_acc: 0.5069\n",
            "Epoch 46/100\n",
            "861/861 [==============================] - 0s 357us/step - loss: 0.6298 - acc: 0.5842 - val_loss: 0.7891 - val_acc: 0.4861\n",
            "Epoch 47/100\n",
            "861/861 [==============================] - 0s 321us/step - loss: 0.6159 - acc: 0.6098 - val_loss: 0.7835 - val_acc: 0.5000\n",
            "Epoch 48/100\n",
            "861/861 [==============================] - 0s 345us/step - loss: 0.6041 - acc: 0.6341 - val_loss: 0.7901 - val_acc: 0.4861\n",
            "Epoch 49/100\n",
            "861/861 [==============================] - 0s 379us/step - loss: 0.5904 - acc: 0.6411 - val_loss: 0.7833 - val_acc: 0.5104\n",
            "Epoch 50/100\n",
            "861/861 [==============================] - 0s 334us/step - loss: 0.5952 - acc: 0.6330 - val_loss: 0.8076 - val_acc: 0.5104\n",
            "Epoch 51/100\n",
            "861/861 [==============================] - 0s 323us/step - loss: 0.6059 - acc: 0.6156 - val_loss: 0.7937 - val_acc: 0.4792\n",
            "Epoch 52/100\n",
            "861/861 [==============================] - 0s 333us/step - loss: 0.5896 - acc: 0.6109 - val_loss: 0.8122 - val_acc: 0.4826\n",
            "Epoch 53/100\n",
            "861/861 [==============================] - 0s 353us/step - loss: 0.6093 - acc: 0.6039 - val_loss: 0.8159 - val_acc: 0.5000\n",
            "Epoch 54/100\n",
            "861/861 [==============================] - 0s 336us/step - loss: 0.6046 - acc: 0.6144 - val_loss: 0.8146 - val_acc: 0.4861\n",
            "Epoch 55/100\n",
            "861/861 [==============================] - 0s 327us/step - loss: 0.5855 - acc: 0.6283 - val_loss: 0.7945 - val_acc: 0.4861\n",
            "Epoch 56/100\n",
            "861/861 [==============================] - 0s 352us/step - loss: 0.5871 - acc: 0.6225 - val_loss: 0.7966 - val_acc: 0.5000\n",
            "Epoch 57/100\n",
            "861/861 [==============================] - 0s 347us/step - loss: 0.5778 - acc: 0.6144 - val_loss: 0.8281 - val_acc: 0.4931\n",
            "Epoch 58/100\n",
            "861/861 [==============================] - 0s 330us/step - loss: 0.5939 - acc: 0.6260 - val_loss: 0.8084 - val_acc: 0.4965\n",
            "Epoch 59/100\n",
            "861/861 [==============================] - 0s 331us/step - loss: 0.5786 - acc: 0.6341 - val_loss: 0.8298 - val_acc: 0.5208\n",
            "Epoch 60/100\n",
            "861/861 [==============================] - 0s 362us/step - loss: 0.5986 - acc: 0.6202 - val_loss: 0.8219 - val_acc: 0.4931\n",
            "Epoch 61/100\n",
            "861/861 [==============================] - 0s 340us/step - loss: 0.5667 - acc: 0.6504 - val_loss: 0.8218 - val_acc: 0.5000\n",
            "Epoch 62/100\n",
            "861/861 [==============================] - 0s 331us/step - loss: 0.5757 - acc: 0.6434 - val_loss: 0.8127 - val_acc: 0.5035\n",
            "Epoch 63/100\n",
            "861/861 [==============================] - 0s 343us/step - loss: 0.5689 - acc: 0.6388 - val_loss: 0.8453 - val_acc: 0.4965\n",
            "Epoch 64/100\n",
            "861/861 [==============================] - 0s 334us/step - loss: 0.5891 - acc: 0.6214 - val_loss: 0.8401 - val_acc: 0.5243\n",
            "Epoch 65/100\n",
            "861/861 [==============================] - 0s 344us/step - loss: 0.5754 - acc: 0.6330 - val_loss: 0.8090 - val_acc: 0.4826\n",
            "Epoch 66/100\n",
            "861/861 [==============================] - 0s 325us/step - loss: 0.5847 - acc: 0.6341 - val_loss: 0.8259 - val_acc: 0.5069\n",
            "Epoch 67/100\n",
            "861/861 [==============================] - 0s 326us/step - loss: 0.5804 - acc: 0.6307 - val_loss: 0.8150 - val_acc: 0.5208\n",
            "Epoch 68/100\n",
            "861/861 [==============================] - 0s 343us/step - loss: 0.5814 - acc: 0.6260 - val_loss: 0.8267 - val_acc: 0.5174\n",
            "Epoch 69/100\n",
            "861/861 [==============================] - 0s 334us/step - loss: 0.5780 - acc: 0.6504 - val_loss: 0.8320 - val_acc: 0.5000\n",
            "Epoch 70/100\n",
            "861/861 [==============================] - 0s 340us/step - loss: 0.5700 - acc: 0.6632 - val_loss: 0.8596 - val_acc: 0.4757\n",
            "Epoch 71/100\n",
            "861/861 [==============================] - 0s 335us/step - loss: 0.5659 - acc: 0.6539 - val_loss: 0.8266 - val_acc: 0.4965\n",
            "Epoch 72/100\n",
            "861/861 [==============================] - 0s 339us/step - loss: 0.5788 - acc: 0.6574 - val_loss: 0.8761 - val_acc: 0.4688\n",
            "Epoch 73/100\n",
            "861/861 [==============================] - 0s 332us/step - loss: 0.5616 - acc: 0.6632 - val_loss: 0.8757 - val_acc: 0.5000\n",
            "Epoch 74/100\n",
            "861/861 [==============================] - 0s 329us/step - loss: 0.5869 - acc: 0.6307 - val_loss: 0.8441 - val_acc: 0.5139\n",
            "Epoch 75/100\n",
            "861/861 [==============================] - 0s 321us/step - loss: 0.5522 - acc: 0.6423 - val_loss: 0.8502 - val_acc: 0.5139\n",
            "Epoch 76/100\n",
            "861/861 [==============================] - 0s 338us/step - loss: 0.5708 - acc: 0.6469 - val_loss: 0.8841 - val_acc: 0.4931\n",
            "Epoch 77/100\n",
            "861/861 [==============================] - 0s 351us/step - loss: 0.5680 - acc: 0.6527 - val_loss: 0.8969 - val_acc: 0.5035\n",
            "Epoch 78/100\n",
            "861/861 [==============================] - 0s 326us/step - loss: 0.5918 - acc: 0.6423 - val_loss: 0.9281 - val_acc: 0.4861\n",
            "Epoch 79/100\n",
            "861/861 [==============================] - 0s 313us/step - loss: 0.5849 - acc: 0.6307 - val_loss: 0.8192 - val_acc: 0.5069\n",
            "Epoch 80/100\n",
            "861/861 [==============================] - 0s 338us/step - loss: 0.5675 - acc: 0.6516 - val_loss: 0.8790 - val_acc: 0.4792\n",
            "Epoch 81/100\n",
            "861/861 [==============================] - 0s 366us/step - loss: 0.5549 - acc: 0.6481 - val_loss: 0.8629 - val_acc: 0.4861\n",
            "Epoch 82/100\n",
            "861/861 [==============================] - 0s 333us/step - loss: 0.5570 - acc: 0.6667 - val_loss: 0.8647 - val_acc: 0.4826\n",
            "Epoch 83/100\n",
            "861/861 [==============================] - 0s 308us/step - loss: 0.5501 - acc: 0.6516 - val_loss: 0.8564 - val_acc: 0.5035\n",
            "Epoch 84/100\n",
            "861/861 [==============================] - 0s 352us/step - loss: 0.5484 - acc: 0.6562 - val_loss: 0.8395 - val_acc: 0.4965\n",
            "Epoch 85/100\n",
            "861/861 [==============================] - 0s 342us/step - loss: 0.5499 - acc: 0.6539 - val_loss: 0.8888 - val_acc: 0.5069\n",
            "Epoch 86/100\n",
            "861/861 [==============================] - 0s 331us/step - loss: 0.5365 - acc: 0.6713 - val_loss: 0.9650 - val_acc: 0.4722\n",
            "Epoch 87/100\n",
            "861/861 [==============================] - 0s 339us/step - loss: 0.5475 - acc: 0.6527 - val_loss: 0.9047 - val_acc: 0.4965\n",
            "Epoch 88/100\n",
            "861/861 [==============================] - 0s 361us/step - loss: 0.5474 - acc: 0.6574 - val_loss: 0.9481 - val_acc: 0.5035\n",
            "Epoch 89/100\n",
            "861/861 [==============================] - 0s 343us/step - loss: 0.5541 - acc: 0.6469 - val_loss: 0.8949 - val_acc: 0.5174\n",
            "Epoch 90/100\n",
            "861/861 [==============================] - 0s 324us/step - loss: 0.5527 - acc: 0.6411 - val_loss: 0.9333 - val_acc: 0.5069\n",
            "Epoch 91/100\n",
            "861/861 [==============================] - 0s 325us/step - loss: 0.5577 - acc: 0.6585 - val_loss: 0.9006 - val_acc: 0.4896\n",
            "Epoch 92/100\n",
            "861/861 [==============================] - 0s 332us/step - loss: 0.5639 - acc: 0.6458 - val_loss: 0.8896 - val_acc: 0.5069\n",
            "Epoch 93/100\n",
            "861/861 [==============================] - 0s 352us/step - loss: 0.5392 - acc: 0.6783 - val_loss: 0.8947 - val_acc: 0.5000\n",
            "Epoch 94/100\n",
            "861/861 [==============================] - 0s 338us/step - loss: 0.5342 - acc: 0.6527 - val_loss: 0.8893 - val_acc: 0.5139\n",
            "Epoch 95/100\n",
            "861/861 [==============================] - 0s 332us/step - loss: 0.5441 - acc: 0.6771 - val_loss: 0.9537 - val_acc: 0.4931\n",
            "Epoch 96/100\n",
            "861/861 [==============================] - 0s 336us/step - loss: 0.5374 - acc: 0.6655 - val_loss: 0.9549 - val_acc: 0.4757\n",
            "Epoch 97/100\n",
            "861/861 [==============================] - 0s 342us/step - loss: 0.5564 - acc: 0.6434 - val_loss: 0.9560 - val_acc: 0.4861\n",
            "Epoch 98/100\n",
            "861/861 [==============================] - 0s 365us/step - loss: 0.5541 - acc: 0.6632 - val_loss: 0.9375 - val_acc: 0.4861\n",
            "Epoch 99/100\n",
            "861/861 [==============================] - 0s 331us/step - loss: 0.5292 - acc: 0.6806 - val_loss: 0.9351 - val_acc: 0.4861\n",
            "Epoch 100/100\n",
            "861/861 [==============================] - 0s 338us/step - loss: 0.5324 - acc: 0.6551 - val_loss: 0.9420 - val_acc: 0.5000\n",
            "_________________________________________________________________\n",
            "Layer (type)                 Output Shape              Param #   \n",
            "=================================================================\n",
            "flatten_3 (Flatten)          (None, 1040)              0         \n",
            "_________________________________________________________________\n",
            "dense_5 (Dense)              (None, 10)                10410     \n",
            "_________________________________________________________________\n",
            "dropout_3 (Dropout)          (None, 10)                0         \n",
            "_________________________________________________________________\n",
            "dense_6 (Dense)              (None, 2)                 22        \n",
            "=================================================================\n",
            "Total params: 10,432\n",
            "Trainable params: 10,432\n",
            "Non-trainable params: 0\n",
            "_________________________________________________________________\n",
            "dict_keys(['val_loss', 'val_acc', 'loss', 'acc'])\n"
          ],
          "name": "stdout"
        },
        {
          "output_type": "display_data",
          "data": {
            "image/png": "[encoded data removed]",
            "text/plain": [
              "<Figure size 432x288 with 1 Axes>"
            ]
          },
          "metadata": {
            "tags": []
          }
        },
        {
          "output_type": "display_data",
          "data": {
            "image/png": "[encoded data removed]",
            "text/plain": [
              "<Figure size 432x288 with 1 Axes>"
            ]
          },
          "metadata": {
            "tags": []
          }
        }
      ]
    }
  ]
}