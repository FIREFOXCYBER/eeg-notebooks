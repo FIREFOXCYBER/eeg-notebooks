{
  "nbformat": 4,
  "nbformat_minor": 0,
  "metadata": {
    "colab": {
      "name": "Deep-eeg-notebooks.ipynb",
      "version": "0.3.2",
      "provenance": [],
      "include_colab_link": true
    },
    "kernelspec": {
      "name": "python3",
      "display_name": "Python 3"
    },
    "accelerator": "GPU"
  },
  "cells": [
    {
      "cell_type": "markdown",
      "metadata": {
        "id": "view-in-github",
        "colab_type": "text"
      },
      "source": [
        "<a href=\"https://colab.research.google.com/github/kylemath/eeg-notebooks/blob/master/notebooks/Deep_eeg_notebooks.ipynb\" target=\"_parent\"><img src=\"https://colab.research.google.com/assets/colab-badge.svg\" alt=\"Open In Colab\"/></a>"
      ]
    },
    {
      "metadata": {
        "id": "cH7KRd8ZZPMd",
        "colab_type": "text"
      },
      "cell_type": "markdown",
      "source": [
        "## Deep-eeg-notebooks\n",
        "\n",
        "Goal is to make a deep learning LSTM stack that processes Muse eeg-notebook EEG trials as input and predicts binary trial category as output. This is all made to run on Google Colab notebooks using cloud GPU capabilities, so the git repo's get loaded at the start of the code into the workspace. Minor mods may be needed to use local Jupyter notebook. Long term goal of command line interface and mne toolbox.\n",
        "\n",
        "Strategy:\n",
        "* Load in Muse data, normal pre-processing to get to trials\n",
        "* Decimate down to reduce features in time x frequency x electrode\n",
        "* Avoid CNN?\n",
        "* load time steps into LSTM?\n",
        "* Predict attend left vs attend right on muse 375 data\n",
        "\n",
        "API:\n",
        "* Want to input the data directory of any eeg-notebook experiment (https://github.com/kylemath/eeg-notebooks)\n",
        "* More general with the master eeg-notebooks - https://github.com/NeuroTechX/eeg-notebooks\n",
        "\n",
        "\n",
        "LearningModels:\n",
        "* First try simple CNN\n",
        "* then add in LSTM component to treat time as recurrent\n",
        "\n",
        "DataModels:\n",
        "* First pool data over subjects\n",
        "* Try subject specific models\n",
        "* Then try multilevel models\n",
        "\n",
        "Using: \n",
        "* https://github.com/pbashivan/EEGLearn\n",
        "* https://github.com/tevisgehr/EEG-Classification\n",
        "* https://github.com/kylemath/eeg-notebooks\n",
        "* https://github.com/mne-tools/mne-python\n",
        "* https://github.com/keras-team/keras/blob/master/examples/imdb_cnn_lstm.py\n",
        "* https://github.com/ml4a/ml4a-guides/blob/master/notebooks/keras_classification.ipynb\n",
        "\n",
        "Resources:\n",
        "*   http://proceedings.mlr.press/v56/Thodoroff16.pdf\n",
        "*   https://arxiv.org/abs/1511.06448\n",
        "\n",
        "\n"
      ]
    },
    {
      "metadata": {
        "id": "Kf-1ItUyU380",
        "colab_type": "text"
      },
      "cell_type": "markdown",
      "source": [
        "**Setup**"
      ]
    },
    {
      "metadata": {
        "id": "VXe-o8XtG9ki",
        "colab_type": "code",
        "outputId": "20d60db4-195f-42b7-c75f-431fc84a8b6f",
        "colab": {
          "base_uri": "https://localhost:8080/",
          "height": 85
        }
      },
      "cell_type": "code",
      "source": [
        "!pip install mne\n",
        "from mne import Epochs, find_events, concatenate_raws\n",
        "from mne.time_frequency import tfr_morlet\n",
        "\n",
        "!git clone https://github.com/kylemath/eeg-notebooks.git\n",
        "%cd eeg-notebooks/notebooks\n",
        "from utils import utils\n",
        "\n",
        "import pandas as pd\n",
        "pd.options.display.max_columns = None\n",
        "pd.options.display.precision = 4\n",
        "\n",
        "import numpy as np\n",
        "from numpy import genfromtxt\n",
        "\n",
        "from collections import OrderedDict\n",
        "\n",
        "import matplotlib.pyplot as plt\n",
        "%matplotlib inline\n",
        "plt.rcParams[\"figure.figsize\"] = (12,12)\n",
        "\n",
        "import keras\n",
        "from keras.models import Sequential\n",
        "from keras.layers import Dense, Dropout, Activation, Flatten, Conv2D, MaxPooling2D\n",
        "\n",
        "from sklearn.model_selection import train_test_split"
      ],
      "execution_count": 1,
      "outputs": [
        {
          "output_type": "stream",
          "text": [
            "Requirement already satisfied: mne in /usr/local/lib/python3.6/dist-packages (0.17.0)\n",
            "fatal: destination path 'eeg-notebooks' already exists and is not an empty directory.\n",
            "/content/eeg-notebooks/notebooks\n"
          ],
          "name": "stdout"
        },
        {
          "output_type": "stream",
          "text": [
            "Using TensorFlow backend.\n"
          ],
          "name": "stderr"
        }
      ]
    },
    {
      "metadata": {
        "id": "yR1WkVZKU2Vm",
        "colab_type": "text"
      },
      "cell_type": "markdown",
      "source": [
        "**Parameters**"
      ]
    },
    {
      "metadata": {
        "id": "QGVIiUbAU1nA",
        "colab_type": "code",
        "outputId": "5f9dfd05-5608-4b6f-997b-24ff296fe119",
        "colab": {
          "base_uri": "https://localhost:8080/",
          "height": 34
        }
      },
      "cell_type": "code",
      "source": [
        "#Parameters#\n",
        "#subject folders in data folder\n",
        "subs = [101, 102, 103, 104, 105, 106, 108, 109, 110, 111, 112,\n",
        "        202, 203, 204, 205, 207, 208, 209, 210, 211, \n",
        "        301, 302, 303, 304, 305, 306, 307, 308, 309]\n",
        "\n",
        "#for testing\n",
        "#subs = [ 205, 207, 208, 209]\n",
        "\n",
        "#number of sessions in each subject folder\n",
        "nsesh = 2\n",
        "\n",
        "data_dir = 'visual/cueing'\n",
        "event_ids = ['LeftCue','RightCue']\n",
        "\n",
        "\n",
        "## Can load other experiments like this\n",
        "#subs = [ 1, 2, 3]\n",
        "#nsesh = 2\n",
        "#data_dir = 'visual/P300'\n",
        "#event_ids = ['Standard','Target']\n",
        "##\n",
        "\n",
        "load_verbose = 0 #print output during loading\n",
        "\n",
        "\n",
        "sfreq=256.\n",
        "\n",
        "#filter\n",
        "eeg_filter_highpass = 1\n",
        "eeg_filter_lowpass = 30\n",
        "\n",
        "#artifact rejection\n",
        "rej_thresh_uV = 1000  #300 removes most blinks, 1000 keeps most trials\n",
        "rej_thresh = rej_thresh_uV*1e-6\n",
        "\n",
        "#trial epoch limits \n",
        "tmin=-1\n",
        "tmax=2\n",
        "decim=20  # to decrease number of time features\n",
        "baseline=(-1, 0) #gets removed from training data but used during processing\n",
        "\n",
        "frequency_domain = 1  #if True uses wavelets otherwise use time series\n",
        "#wavelet settings\n",
        "f_low = 4\n",
        "f_high = 20\n",
        "f_bins = 10  # to decrease number of frequency features\n",
        "frequencies =  np.linspace(4, 10, f_bins, endpoint=True)\n",
        "wave_cycles = 6\n",
        "spect_baseline = [-1,-.5] #gets removed from training data but used during processing\n",
        "electrodes_out = [0,1,2,3]  # to decrease number of electrode features from [0,1,2,3] or [0,1,2,3,4] with aux electrode (untested)\n",
        "\n",
        "#Training Settings\n",
        "batch_size = 16\n",
        "train_epochs = 100\n",
        "num_classes = len(event_ids)\n",
        "test_split = 0.2\n",
        "val_split = 0.2\n",
        "random_seed = 1017\n",
        "np.random.seed(random_seed)\n",
        "\n",
        "\n",
        "print('Parameters Set')"
      ],
      "execution_count": 8,
      "outputs": [
        {
          "output_type": "stream",
          "text": [
            "Parameters Set\n"
          ],
          "name": "stdout"
        }
      ]
    },
    {
      "metadata": {
        "id": "g2a98-rwL9wl",
        "colab_type": "text"
      },
      "cell_type": "markdown",
      "source": [
        "**Preprocessing of EEG Data**\n",
        "\n",
        "* LoadData - Each data file is from one session of one subject of the muse cueing task from eeg-notebooks from psych 375 A1 dataset\n",
        "* Filtering - Most ERP components are composed of lower frequency fluctuations in the EEG signal. Thus, we can filter out all frequencies between 1 and 30 hz in order to increase our ability to detect them.\n",
        "* Epoching - Next, we will chunk (epoch) the data into segments representing the data 1000ms before to 2000ms after each cue, we will reject every epoch where the amplitude of the signal exceeded 100 uV, which should most eye blinks."
      ]
    },
    {
      "metadata": {
        "id": "6A3mgX7ILZFK",
        "colab_type": "code",
        "outputId": "a26b8857-70e1-4dcf-c921-885ca1dfe2d5",
        "colab": {
          "base_uri": "https://localhost:8080/",
          "height": 595
        }
      },
      "cell_type": "code",
      "source": [
        "#Load Data\n",
        "print('Loading Data')\n",
        "isub = subs[0]\n",
        "print(isub)\n",
        "raw = utils.load_data(data_dir, sfreq=sfreq ,subject_nb=isub, session_nb=1,verbose=load_verbose)\n",
        "if nsesh == 2:\n",
        "  raw.append(utils.load_data(data_dir, sfreq=sfreq,subject_nb=isub, session_nb=2,verbose=load_verbose))\n",
        "\n",
        "if len(subs)>1:\n",
        "  for isub in subs[1:]:\n",
        "    print(isub)\n",
        "    raw.append(utils.load_data(data_dir, sfreq=sfreq,subject_nb=isub, session_nb=1,verbose=load_verbose))\n",
        "    if nsesh == 2:\n",
        "      raw.append(utils.load_data(data_dir, sfreq=sfreq,subject_nb=isub, session_nb=2,verbose=load_verbose))\n",
        "  \n",
        "#Filtering\n",
        "print('Filtering Data')\n",
        "raw.filter(eeg_filter_highpass,eeg_filter_lowpass, method='iir', verbose='WARNING' )\n",
        "\n",
        "#Plot filtred data spectra if desired\n",
        "#raw.plot_psd(fmin=eeg_filter_highpass, fmax=eeg_filter_lowpass ) \n",
        "\n",
        "#Epoching\n",
        "event_id = {event_ids[0]: 1, event_ids[1]: 2}\n",
        "events = find_events(raw)\n",
        "epochs = Epochs(raw, events=events, event_id=event_id, \n",
        "                tmin=tmin, tmax=tmax, baseline=baseline, \n",
        "                preload=True,reject={'eeg':rej_thresh},\n",
        "                verbose=False, picks=[0, 1, 2, 3])\n",
        "\n",
        "print('sample drop %: ', (1 - len(epochs.events)/len(events)) * 100)\n",
        "%matplotlib inline\n",
        "conditions = OrderedDict()\n",
        "conditions[event_ids[0]] = [1]\n",
        "conditions[event_ids[1]] = [2]\n",
        "\n",
        "#plot ERPs if desired\n",
        "#fig, ax = utils.plot_conditions(epochs, conditions=conditions, ylim=(-20,20) )"
      ],
      "execution_count": 9,
      "outputs": [
        {
          "output_type": "stream",
          "text": [
            "Loading Data\n",
            "101\n",
            "102\n",
            "103\n",
            "104\n",
            "105\n",
            "106\n",
            "108\n",
            "109\n",
            "110\n",
            "111\n",
            "112\n",
            "202\n",
            "203\n",
            "204\n",
            "205\n",
            "207\n",
            "208\n",
            "209\n",
            "210\n",
            "211\n",
            "301\n",
            "302\n",
            "303\n",
            "304\n",
            "305\n",
            "306\n",
            "307\n",
            "308\n",
            "309\n",
            "Filtering Data\n",
            "4583 events found\n",
            "Event IDs: [ 1  2 11 12 21 22]\n",
            "sample drop %:  50.687322714379235\n"
          ],
          "name": "stdout"
        }
      ]
    },
    {
      "metadata": {
        "id": "EmvSu1bOZiO0",
        "colab_type": "text"
      },
      "cell_type": "markdown",
      "source": [
        "** Spectrogram **\n",
        "\n",
        "* All electrodes are considered on each trial\n",
        "* Many frequencies are used in the wavelet analysis while the output of the morlet is decimated in time.\n",
        "* Two conditions are done separate and concatenated\n",
        "* X is a trials x freq x time matrix\n",
        "* Y is a trials array of condition labels (turned into one hot vectors later in code)\n"
      ]
    },
    {
      "metadata": {
        "id": "Xs-_8GRYZar7",
        "colab_type": "code",
        "outputId": "c6e33fd1-3cb1-476e-d731-10a7f4ffd1f5",
        "colab": {
          "base_uri": "https://localhost:8080/",
          "height": 187
        }
      },
      "cell_type": "code",
      "source": [
        "if frequency_domain:\n",
        "  # Condition0\n",
        "  print('Computing Morlet Wavelets on ' + event_ids[0])\n",
        "\n",
        "  tfr0 = tfr_morlet(epochs[event_ids[0]], freqs=frequencies, \n",
        "                        n_cycles=wave_cycles, return_itc=False,\n",
        "                        picks=electrodes_out,average=False,decim=decim)\n",
        "  tfr0 = tfr0.apply_baseline(spect_baseline,mode='mean')\n",
        "  stim_onset = np.argmax(tfr0.times>0)\n",
        "  new_times = tfr0.times[stim_onset:]\n",
        "  cond0_power_out = np.moveaxis(tfr0.data[:,:,:,stim_onset:],1,3)\n",
        "  print('Condition zero trials: ' + str(len(cond0_power_out)))\n",
        "  #cond0_power_out[:,0:5,0:5,:] = 0 #for testing model add mark to image\n",
        "\n",
        "  print(event_ids[0] + ' Time Points: ' + str(len(new_times)))\n",
        "  print(event_ids[0] + ' Frequencies: ' + str(len(tfr0.freqs)))\n",
        "\n",
        "  #Condition1\n",
        "  print('Computing Morlet Wavelets on ' + event_ids[1])\n",
        "  tfr1 = tfr_morlet(epochs[event_ids[1]], freqs=frequencies, \n",
        "                        n_cycles=wave_cycles, return_itc=False,\n",
        "                        picks=electrodes_out,average=False,decim=decim)\n",
        "  tfr1 = tfr1.apply_baseline(spect_baseline,mode='mean')\n",
        "  cond1_power_out = np.moveaxis(tfr1.data[:,:,:,stim_onset:],1,3)\n",
        "  print('Condition one trials: ' + str(len(cond1_power_out)))    \n",
        "  #cond1_power_out[:,0:5,0:5,:] = 1 #for testing model add mark to image\n",
        "\n",
        "  print(event_ids[1] + ' Time Points: ' + str(len(new_times)))\n",
        "  print(event_ids[1] + ' Frequencies: ' + str(len(tfr1.freqs)))\n",
        "\n",
        "  X = np.append(cond0_power_out,cond1_power_out,0);\n",
        "  \n",
        "  #Normalize X - need to save mean and std for future test + val\n",
        "  X = (X - np.mean(X)) / np.std(X)\n",
        "  #Append Data\n",
        "  Y = np.append(np.zeros(len(cond0_power_out)), np.ones(len(cond1_power_out)),0)"
      ],
      "execution_count": 10,
      "outputs": [
        {
          "output_type": "stream",
          "text": [
            "Computing Morlet Wavelets on LeftCue\n",
            "Applying baseline correction (mode: mean)\n",
            "Condition zero trials: 1133\n",
            "LeftCue Time Points: 26\n",
            "LeftCue Frequencies: 10\n",
            "Computing Morlet Wavelets on RightCue\n",
            "Applying baseline correction (mode: mean)\n",
            "Condition one trials: 1127\n",
            "RightCue Time Points: 26\n",
            "RightCue Frequencies: 10\n"
          ],
          "name": "stdout"
        }
      ]
    },
    {
      "metadata": {
        "id": "_d74N_oqMlGF",
        "colab_type": "text"
      },
      "cell_type": "markdown",
      "source": [
        "**Time Domain**\n",
        "\n",
        "* Instead may want to retain time domain data\n",
        "* After Epoching, arange data into useful format with labels"
      ]
    },
    {
      "metadata": {
        "id": "qoBQKZ2uMOpL",
        "colab_type": "code",
        "colab": {}
      },
      "cell_type": "code",
      "source": [
        "if not frequency_domain:\n",
        "  \n",
        "  #epochs = epochs.decimate(10) #probably don't do this\n",
        "  X = np.moveaxis(epochs._data,1,2); #but channels last\n",
        "  \n",
        "  #take post baseline only\n",
        "  stim_onset = np.argmax(epochs.times>0)\n",
        "  new_times = epochs.times[stim_onset:]\n",
        "  X = X[:,stim_onset:,:]\n",
        "  \n",
        "  #Normalize X - need to save mean and std for future test + val\n",
        "  X = (X - np.mean(X)) / np.std(X)\n",
        "  \n",
        "  Y_class = epochs.events[:,2]-1  #subtract 1 to make 0 and 1\n",
        "  \n",
        "  print('X Shape: ' + str(X.shape))\n",
        "  print('Y Shape: ' + str(Y_class.shape))\n",
        "  print('Y Example: ' + str(Y_class[0:10]))"
      ],
      "execution_count": 0,
      "outputs": []
    },
    {
      "metadata": {
        "id": "WqVTXiwrZxbf",
        "colab_type": "text"
      },
      "cell_type": "markdown",
      "source": [
        "**Prepare Data for Model**\n"
      ]
    },
    {
      "metadata": {
        "id": "4xyrsW2kZW8D",
        "colab_type": "code",
        "outputId": "b0a62560-765b-4a76-e5ec-4fd421d54b19",
        "colab": {
          "base_uri": "https://localhost:8080/",
          "height": 658
        }
      },
      "cell_type": "code",
      "source": [
        "# convert class vectors to one hot Y and recast X\n",
        "Y = keras.utils.to_categorical(Y_class, num_classes)\n",
        "X = X.astype('float32')\n",
        "\n",
        "# Split training test and validation data \n",
        "val_prop = val_split / (1-test_split)\n",
        "x_train, x_test, y_train, y_test = train_test_split(X, Y, test_size=test_split,random_state=random_seed) \n",
        "x_train, x_val, y_train, y_val = train_test_split(x_train, y_train, test_size=val_prop, random_state=random_seed)\n",
        "\n",
        "# Compute model input shape\n",
        "input_shape = X.shape[1:]\n",
        "\n",
        "print('Combined X Shape: ' + str(X.shape))\n",
        "print('Combined Y Shape: ' + str(Y.shape))\n",
        "print('X Range: ' + str(np.min(X)) + ':' + str(np.max(X)))\n",
        "print('X Examples:')\n",
        "\n",
        "#for plotting\n",
        "\n",
        "vmin = (np.std(X)/4) * -1\n",
        "vmax = np.std(X)/4  \n",
        "\n",
        "#Plot Example Data\n",
        "f, axarr = plt.subplots(2,2, figsize = (8,8))\n",
        "axarr[0][0].set_title(event_ids[0])\n",
        "axarr[0][0].imshow(X[0],vmin=vmin, vmax=vmax, aspect='auto')\n",
        "\n",
        "axarr[0][0].invert_yaxis()\n",
        "axarr[1][0].imshow(X[1],vmin=vmin, vmax=vmax, aspect='auto')\n",
        "axarr[1][0].invert_yaxis()\n",
        "\n",
        "axarr[0][1].set_title(event_ids[1])\n",
        "axarr[0][1].imshow(X[-1],vmin=vmin, vmax=vmax, aspect='auto')\n",
        "axarr[0][1].invert_yaxis()\n",
        "axarr[1][1].imshow(X[-2],vmin=vmin, vmax=vmax, aspect='auto')\n",
        "axarr[1][1].invert_yaxis()\n",
        ";\n",
        "\n",
        "print('Input Shape: ' + str(input_shape))\n",
        "print('x_train shape:', x_train.shape)\n",
        "print(x_train.shape[0], 'train samples')\n",
        "print(x_test.shape[0], 'test samples')\n",
        "print(x_val.shape[0], 'validation samples')\n"
      ],
      "execution_count": 12,
      "outputs": [
        {
          "output_type": "stream",
          "text": [
            "Combined X Shape: (2260, 10, 26, 4)\n",
            "Combined Y Shape: (2260, 2)\n",
            "X Range: -39.142677:41.262814\n",
            "X Examples:\n",
            "Input Shape: (10, 26, 4)\n",
            "x_train shape: (1356, 10, 26, 4)\n",
            "1356 train samples\n",
            "452 test samples\n",
            "452 validation samples\n"
          ],
          "name": "stdout"
        },
        {
          "output_type": "display_data",
          "data": {
            "image/png": "[encoded data removed]",
            "text/plain": [
              "<Figure size 576x576 with 4 Axes>"
            ]
          },
          "metadata": {
            "tags": []
          }
        }
      ]
    },
    {
      "metadata": {
        "id": "mKzYDoF1TQmK",
        "colab_type": "text"
      },
      "cell_type": "markdown",
      "source": [
        "**Build Model and Train**"
      ]
    },
    {
      "metadata": {
        "scrolled": false,
        "id": "JxjbgyC5G7AZ",
        "colab_type": "code",
        "outputId": "03be50f9-c8ef-4379-da07-9371c2641cbc",
        "colab": {
          "base_uri": "https://localhost:8080/",
          "height": 4333
        }
      },
      "cell_type": "code",
      "source": [
        "#DenseFeedforward Network\n",
        "model = Sequential()\n",
        "model.add(Flatten())\n",
        "model.add(Dense(10, activation='relu'))\n",
        "model.add(Dropout(.20))\n",
        "model.add(Dense(2, activation='softmax'))\n",
        "\n",
        "# Create CNN in keras\n",
        "# parameters above need to be adjusted until input shape is square on \n",
        "# dimensions 1 and 2 (like an image) and electrodes on third\n",
        "\n",
        "#model = Sequential()\n",
        "#model.add(Conv2D(49, (3, 3), input_shape=input_shape))\n",
        "#model.add(Activation('relu'))\n",
        "#model.add(Conv2D(32, (3, 3)))\n",
        "#model.add(Activation('relu'))\n",
        "#model.add(MaxPooling2D(pool_size=(2, 2)))\n",
        "#model.add(Flatten())\n",
        "#model.add(Dense(10))\n",
        "#model.add(Activation('relu'))\n",
        "#model.add(Dense(num_classes))\n",
        "#model.add(Activation('softmax'))\n",
        "\n",
        "# initiate adam optimizer\n",
        "opt = keras.optimizers.Adam(lr=0.001, beta_1=0.9, beta_2=0.999, \n",
        "                            epsilon=None, decay=0.0, amsgrad=False)\n",
        "\n",
        "# Let's train the model using RMSprop\n",
        "model.compile(loss='categorical_crossentropy',\n",
        "              optimizer=opt,\n",
        "              metrics=['accuracy'])\n",
        "\n",
        "\n",
        "\n",
        "#Train Model\n",
        "history = model.fit(x_train, y_train,\n",
        "          batch_size=batch_size,\n",
        "          epochs=train_epochs,\n",
        "          validation_data=(x_val, y_val),\n",
        "          shuffle=True,\n",
        "          verbose=True)\n",
        "         \n",
        "#Summarize\n",
        "model.summary()\n",
        " \n",
        "  \n",
        "# list all data in history\n",
        "print(history.history.keys())\n",
        "# summarize history for accuracy\n",
        "plt.plot(history.history['acc'])\n",
        "plt.plot(history.history['val_acc'])\n",
        "plt.title('model accuracy')\n",
        "plt.ylabel('accuracy')\n",
        "plt.xlabel('epoch')\n",
        "plt.legend(['train', 'test'], loc='upper left')\n",
        "plt.show()\n",
        "# summarize history for loss\n",
        "plt.plot(history.history['loss'])\n",
        "plt.plot(history.history['val_loss'])\n",
        "plt.title('model loss')\n",
        "plt.ylabel('loss')\n",
        "plt.xlabel('epoch')\n",
        "plt.legend(['train', 'test'], loc='upper left')\n",
        "plt.show()\n",
        "\n",
        "# Test on left out Test data\n",
        "score, acc = model.evaluate(x_test, y_test, batch_size=batch_size)\n",
        "print('Test score:', score)\n",
        "print('Test accuracy:', acc)"
      ],
      "execution_count": 13,
      "outputs": [
        {
          "output_type": "stream",
          "text": [
            "Train on 1356 samples, validate on 452 samples\n",
            "Epoch 1/100\n",
            "1356/1356 [==============================] - 1s 443us/step - loss: 0.8552 - acc: 0.4912 - val_loss: 0.7318 - val_acc: 0.4867\n",
            "Epoch 2/100\n",
            "1356/1356 [==============================] - 0s 269us/step - loss: 0.7388 - acc: 0.5221 - val_loss: 0.7301 - val_acc: 0.4912\n",
            "Epoch 3/100\n",
            "1356/1356 [==============================] - 0s 272us/step - loss: 0.7512 - acc: 0.5118 - val_loss: 0.7368 - val_acc: 0.4779\n",
            "Epoch 4/100\n",
            "1356/1356 [==============================] - 0s 272us/step - loss: 0.6896 - acc: 0.5339 - val_loss: 0.7363 - val_acc: 0.4779\n",
            "Epoch 5/100\n",
            "1356/1356 [==============================] - 0s 271us/step - loss: 0.6964 - acc: 0.5383 - val_loss: 0.7234 - val_acc: 0.5177\n",
            "Epoch 6/100\n",
            "1356/1356 [==============================] - 0s 297us/step - loss: 0.6922 - acc: 0.5457 - val_loss: 0.7832 - val_acc: 0.4823\n",
            "Epoch 7/100\n",
            "1356/1356 [==============================] - 0s 298us/step - loss: 0.6968 - acc: 0.5516 - val_loss: 0.7295 - val_acc: 0.4956\n",
            "Epoch 8/100\n",
            "1356/1356 [==============================] - 0s 299us/step - loss: 0.6848 - acc: 0.5288 - val_loss: 0.7223 - val_acc: 0.5000\n",
            "Epoch 9/100\n",
            "1356/1356 [==============================] - 0s 314us/step - loss: 0.6869 - acc: 0.5509 - val_loss: 0.7376 - val_acc: 0.5044\n",
            "Epoch 10/100\n",
            "1356/1356 [==============================] - 0s 298us/step - loss: 0.6806 - acc: 0.5524 - val_loss: 0.7288 - val_acc: 0.4978\n",
            "Epoch 11/100\n",
            "1356/1356 [==============================] - 0s 297us/step - loss: 0.6684 - acc: 0.5649 - val_loss: 0.7588 - val_acc: 0.4867\n",
            "Epoch 12/100\n",
            "1356/1356 [==============================] - 0s 296us/step - loss: 0.6736 - acc: 0.5708 - val_loss: 0.7478 - val_acc: 0.5044\n",
            "Epoch 13/100\n",
            "1356/1356 [==============================] - 0s 298us/step - loss: 0.6710 - acc: 0.5686 - val_loss: 0.7425 - val_acc: 0.5088\n",
            "Epoch 14/100\n",
            "1356/1356 [==============================] - 0s 308us/step - loss: 0.6740 - acc: 0.5708 - val_loss: 0.7313 - val_acc: 0.5111\n",
            "Epoch 15/100\n",
            "1356/1356 [==============================] - 0s 298us/step - loss: 0.6670 - acc: 0.5774 - val_loss: 0.7327 - val_acc: 0.5133\n",
            "Epoch 16/100\n",
            "1356/1356 [==============================] - 0s 300us/step - loss: 0.6735 - acc: 0.5642 - val_loss: 0.7239 - val_acc: 0.5155\n",
            "Epoch 17/100\n",
            "1356/1356 [==============================] - 0s 300us/step - loss: 0.6608 - acc: 0.5848 - val_loss: 0.7468 - val_acc: 0.5133\n",
            "Epoch 18/100\n",
            "1356/1356 [==============================] - 0s 294us/step - loss: 0.6700 - acc: 0.5878 - val_loss: 0.7192 - val_acc: 0.5133\n",
            "Epoch 19/100\n",
            "1356/1356 [==============================] - 0s 300us/step - loss: 0.6652 - acc: 0.5686 - val_loss: 0.7345 - val_acc: 0.4978\n",
            "Epoch 20/100\n",
            "1356/1356 [==============================] - 0s 302us/step - loss: 0.6508 - acc: 0.5796 - val_loss: 0.7279 - val_acc: 0.5044\n",
            "Epoch 21/100\n",
            "1356/1356 [==============================] - 0s 314us/step - loss: 0.6536 - acc: 0.5870 - val_loss: 0.7260 - val_acc: 0.5044\n",
            "Epoch 22/100\n",
            "1356/1356 [==============================] - 0s 298us/step - loss: 0.6539 - acc: 0.5811 - val_loss: 0.7500 - val_acc: 0.5066\n",
            "Epoch 23/100\n",
            "1356/1356 [==============================] - 0s 295us/step - loss: 0.6476 - acc: 0.5900 - val_loss: 0.7241 - val_acc: 0.5066\n",
            "Epoch 24/100\n",
            "1356/1356 [==============================] - 0s 318us/step - loss: 0.6438 - acc: 0.5863 - val_loss: 0.7333 - val_acc: 0.5022\n",
            "Epoch 25/100\n",
            "1356/1356 [==============================] - 0s 295us/step - loss: 0.6476 - acc: 0.5914 - val_loss: 0.7382 - val_acc: 0.5000\n",
            "Epoch 26/100\n",
            "1356/1356 [==============================] - 0s 314us/step - loss: 0.6543 - acc: 0.5760 - val_loss: 0.7379 - val_acc: 0.5022\n",
            "Epoch 27/100\n",
            "1356/1356 [==============================] - 0s 296us/step - loss: 0.6505 - acc: 0.5878 - val_loss: 0.7346 - val_acc: 0.5133\n",
            "Epoch 28/100\n",
            "1356/1356 [==============================] - 0s 305us/step - loss: 0.6496 - acc: 0.5973 - val_loss: 0.7395 - val_acc: 0.5243\n",
            "Epoch 29/100\n",
            "1356/1356 [==============================] - 0s 296us/step - loss: 0.6446 - acc: 0.5789 - val_loss: 0.7546 - val_acc: 0.4956\n",
            "Epoch 30/100\n",
            "1356/1356 [==============================] - 0s 296us/step - loss: 0.6561 - acc: 0.5789 - val_loss: 0.7439 - val_acc: 0.5088\n",
            "Epoch 31/100\n",
            "1356/1356 [==============================] - 0s 309us/step - loss: 0.6353 - acc: 0.5907 - val_loss: 0.7400 - val_acc: 0.5044\n",
            "Epoch 32/100\n",
            "1356/1356 [==============================] - 0s 298us/step - loss: 0.6366 - acc: 0.5951 - val_loss: 0.7416 - val_acc: 0.5111\n",
            "Epoch 33/100\n",
            "1356/1356 [==============================] - 0s 310us/step - loss: 0.6357 - acc: 0.6055 - val_loss: 0.7502 - val_acc: 0.5088\n",
            "Epoch 34/100\n",
            "1356/1356 [==============================] - 0s 299us/step - loss: 0.6285 - acc: 0.5959 - val_loss: 0.7224 - val_acc: 0.5288\n",
            "Epoch 35/100\n",
            "1356/1356 [==============================] - 0s 301us/step - loss: 0.6389 - acc: 0.5796 - val_loss: 0.7339 - val_acc: 0.5088\n",
            "Epoch 36/100\n",
            "1356/1356 [==============================] - 0s 316us/step - loss: 0.6294 - acc: 0.6032 - val_loss: 0.7350 - val_acc: 0.5177\n",
            "Epoch 37/100\n",
            "1356/1356 [==============================] - 0s 303us/step - loss: 0.6324 - acc: 0.5878 - val_loss: 0.7383 - val_acc: 0.5111\n",
            "Epoch 38/100\n",
            "1356/1356 [==============================] - 0s 313us/step - loss: 0.6375 - acc: 0.5929 - val_loss: 0.7356 - val_acc: 0.5088\n",
            "Epoch 39/100\n",
            "1356/1356 [==============================] - 0s 292us/step - loss: 0.6222 - acc: 0.5863 - val_loss: 0.7360 - val_acc: 0.5066\n",
            "Epoch 40/100\n",
            "1356/1356 [==============================] - 0s 300us/step - loss: 0.6207 - acc: 0.6010 - val_loss: 0.7480 - val_acc: 0.5199\n",
            "Epoch 41/100\n",
            "1356/1356 [==============================] - 0s 305us/step - loss: 0.6320 - acc: 0.5900 - val_loss: 0.7644 - val_acc: 0.4912\n",
            "Epoch 42/100\n",
            "1356/1356 [==============================] - 0s 301us/step - loss: 0.6261 - acc: 0.6010 - val_loss: 0.7399 - val_acc: 0.5221\n",
            "Epoch 43/100\n",
            "1356/1356 [==============================] - 0s 307us/step - loss: 0.6152 - acc: 0.6055 - val_loss: 0.7561 - val_acc: 0.5066\n",
            "Epoch 44/100\n",
            "1356/1356 [==============================] - 0s 300us/step - loss: 0.6316 - acc: 0.5929 - val_loss: 0.7413 - val_acc: 0.5265\n",
            "Epoch 45/100\n",
            "1356/1356 [==============================] - 0s 298us/step - loss: 0.6312 - acc: 0.5959 - val_loss: 0.7463 - val_acc: 0.5199\n",
            "Epoch 46/100\n",
            "1356/1356 [==============================] - 0s 312us/step - loss: 0.6195 - acc: 0.6165 - val_loss: 0.7279 - val_acc: 0.5332\n",
            "Epoch 47/100\n",
            "1356/1356 [==============================] - 0s 296us/step - loss: 0.6335 - acc: 0.6025 - val_loss: 0.7961 - val_acc: 0.5221\n",
            "Epoch 48/100\n",
            "1356/1356 [==============================] - 0s 308us/step - loss: 0.6419 - acc: 0.6106 - val_loss: 0.7308 - val_acc: 0.5398\n",
            "Epoch 49/100\n",
            "1356/1356 [==============================] - 0s 299us/step - loss: 0.6294 - acc: 0.6062 - val_loss: 0.7576 - val_acc: 0.5265\n",
            "Epoch 50/100\n",
            "1356/1356 [==============================] - 0s 309us/step - loss: 0.6101 - acc: 0.6143 - val_loss: 0.7436 - val_acc: 0.5221\n",
            "Epoch 51/100\n",
            "1356/1356 [==============================] - 0s 317us/step - loss: 0.6044 - acc: 0.6416 - val_loss: 0.7535 - val_acc: 0.5243\n",
            "Epoch 52/100\n",
            "1356/1356 [==============================] - 0s 302us/step - loss: 0.6123 - acc: 0.5996 - val_loss: 0.7520 - val_acc: 0.5088\n",
            "Epoch 53/100\n",
            "1356/1356 [==============================] - 0s 316us/step - loss: 0.6157 - acc: 0.6180 - val_loss: 0.7604 - val_acc: 0.5221\n",
            "Epoch 54/100\n",
            "1356/1356 [==============================] - 0s 300us/step - loss: 0.6159 - acc: 0.6165 - val_loss: 0.7606 - val_acc: 0.5111\n",
            "Epoch 55/100\n",
            "1356/1356 [==============================] - 0s 310us/step - loss: 0.6168 - acc: 0.6180 - val_loss: 0.7654 - val_acc: 0.5265\n",
            "Epoch 56/100\n",
            "1356/1356 [==============================] - 0s 305us/step - loss: 0.6105 - acc: 0.6313 - val_loss: 0.7836 - val_acc: 0.5177\n",
            "Epoch 57/100\n",
            "1356/1356 [==============================] - 0s 302us/step - loss: 0.6165 - acc: 0.6276 - val_loss: 0.7575 - val_acc: 0.5288\n",
            "Epoch 58/100\n",
            "1356/1356 [==============================] - 0s 313us/step - loss: 0.6234 - acc: 0.6150 - val_loss: 0.7608 - val_acc: 0.5221\n",
            "Epoch 59/100\n",
            "1356/1356 [==============================] - 0s 301us/step - loss: 0.6133 - acc: 0.6099 - val_loss: 0.7758 - val_acc: 0.5199\n",
            "Epoch 60/100\n",
            "1356/1356 [==============================] - 0s 299us/step - loss: 0.5926 - acc: 0.6350 - val_loss: 0.7687 - val_acc: 0.5177\n",
            "Epoch 61/100\n",
            "1356/1356 [==============================] - 0s 310us/step - loss: 0.5983 - acc: 0.6232 - val_loss: 0.7757 - val_acc: 0.5044\n",
            "Epoch 62/100\n",
            "1356/1356 [==============================] - 0s 304us/step - loss: 0.6021 - acc: 0.6268 - val_loss: 0.7989 - val_acc: 0.5221\n",
            "Epoch 63/100\n",
            "1356/1356 [==============================] - 0s 317us/step - loss: 0.5944 - acc: 0.6335 - val_loss: 0.7806 - val_acc: 0.5155\n",
            "Epoch 64/100\n",
            "1356/1356 [==============================] - 0s 301us/step - loss: 0.6144 - acc: 0.6276 - val_loss: 0.8023 - val_acc: 0.5133\n",
            "Epoch 65/100\n",
            "1356/1356 [==============================] - 0s 319us/step - loss: 0.6299 - acc: 0.5951 - val_loss: 0.7970 - val_acc: 0.5243\n",
            "Epoch 66/100\n",
            "1356/1356 [==============================] - 0s 300us/step - loss: 0.5971 - acc: 0.6202 - val_loss: 0.7909 - val_acc: 0.5243\n",
            "Epoch 67/100\n",
            "1356/1356 [==============================] - 0s 298us/step - loss: 0.5920 - acc: 0.6254 - val_loss: 0.7949 - val_acc: 0.5265\n",
            "Epoch 68/100\n",
            "1356/1356 [==============================] - 0s 308us/step - loss: 0.5981 - acc: 0.6232 - val_loss: 0.8083 - val_acc: 0.5354\n",
            "Epoch 69/100\n",
            "1356/1356 [==============================] - 0s 301us/step - loss: 0.5889 - acc: 0.6320 - val_loss: 0.8075 - val_acc: 0.5265\n",
            "Epoch 70/100\n",
            "1356/1356 [==============================] - 0s 304us/step - loss: 0.6135 - acc: 0.6217 - val_loss: 0.8640 - val_acc: 0.5111\n",
            "Epoch 71/100\n",
            "1356/1356 [==============================] - 0s 301us/step - loss: 0.6155 - acc: 0.6128 - val_loss: 0.8646 - val_acc: 0.5133\n",
            "Epoch 72/100\n",
            "1356/1356 [==============================] - 0s 298us/step - loss: 0.6127 - acc: 0.6136 - val_loss: 0.8332 - val_acc: 0.5133\n",
            "Epoch 73/100\n",
            "1356/1356 [==============================] - 0s 300us/step - loss: 0.6206 - acc: 0.6350 - val_loss: 0.8387 - val_acc: 0.5044\n",
            "Epoch 74/100\n",
            "1356/1356 [==============================] - 0s 302us/step - loss: 0.5972 - acc: 0.6283 - val_loss: 0.8018 - val_acc: 0.5265\n",
            "Epoch 75/100\n",
            "1356/1356 [==============================] - 0s 302us/step - loss: 0.5862 - acc: 0.6364 - val_loss: 0.8147 - val_acc: 0.5044\n",
            "Epoch 76/100\n",
            "1356/1356 [==============================] - 0s 299us/step - loss: 0.6040 - acc: 0.6283 - val_loss: 0.8252 - val_acc: 0.4934\n",
            "Epoch 77/100\n",
            "1356/1356 [==============================] - 0s 314us/step - loss: 0.5834 - acc: 0.6394 - val_loss: 0.8196 - val_acc: 0.5310\n",
            "Epoch 78/100\n",
            "1356/1356 [==============================] - 0s 315us/step - loss: 0.5958 - acc: 0.6357 - val_loss: 0.8326 - val_acc: 0.5111\n",
            "Epoch 79/100\n",
            "1356/1356 [==============================] - 0s 298us/step - loss: 0.5959 - acc: 0.6128 - val_loss: 0.8164 - val_acc: 0.5066\n",
            "Epoch 80/100\n",
            "1356/1356 [==============================] - 0s 317us/step - loss: 0.5925 - acc: 0.6409 - val_loss: 0.8223 - val_acc: 0.5310\n",
            "Epoch 81/100\n",
            "1356/1356 [==============================] - 0s 307us/step - loss: 0.5956 - acc: 0.6357 - val_loss: 0.8115 - val_acc: 0.5000\n",
            "Epoch 82/100\n",
            "1356/1356 [==============================] - 0s 313us/step - loss: 0.5992 - acc: 0.6254 - val_loss: 0.8244 - val_acc: 0.5376\n",
            "Epoch 83/100\n",
            "1356/1356 [==============================] - 0s 323us/step - loss: 0.5967 - acc: 0.6173 - val_loss: 0.8207 - val_acc: 0.5155\n",
            "Epoch 84/100\n",
            "1356/1356 [==============================] - 0s 309us/step - loss: 0.5883 - acc: 0.6327 - val_loss: 0.8189 - val_acc: 0.5022\n",
            "Epoch 85/100\n",
            "1356/1356 [==============================] - 0s 323us/step - loss: 0.5996 - acc: 0.6283 - val_loss: 0.8240 - val_acc: 0.5376\n",
            "Epoch 86/100\n",
            "1356/1356 [==============================] - 0s 315us/step - loss: 0.6007 - acc: 0.6394 - val_loss: 0.8198 - val_acc: 0.5066\n",
            "Epoch 87/100\n",
            "1356/1356 [==============================] - 0s 322us/step - loss: 0.5872 - acc: 0.6379 - val_loss: 0.8164 - val_acc: 0.5265\n",
            "Epoch 88/100\n",
            "1356/1356 [==============================] - 0s 315us/step - loss: 0.6064 - acc: 0.6372 - val_loss: 0.8250 - val_acc: 0.5310\n",
            "Epoch 89/100\n",
            "1356/1356 [==============================] - 0s 309us/step - loss: 0.5793 - acc: 0.6578 - val_loss: 0.8328 - val_acc: 0.5066\n",
            "Epoch 90/100\n",
            "1356/1356 [==============================] - 0s 321us/step - loss: 0.5808 - acc: 0.6409 - val_loss: 0.8020 - val_acc: 0.5310\n",
            "Epoch 91/100\n",
            "1356/1356 [==============================] - 0s 316us/step - loss: 0.5849 - acc: 0.6327 - val_loss: 0.8168 - val_acc: 0.5288\n",
            "Epoch 92/100\n",
            "1356/1356 [==============================] - 0s 325us/step - loss: 0.5616 - acc: 0.6718 - val_loss: 0.8344 - val_acc: 0.5310\n",
            "Epoch 93/100\n",
            "1356/1356 [==============================] - 0s 316us/step - loss: 0.5722 - acc: 0.6571 - val_loss: 0.8412 - val_acc: 0.5332\n",
            "Epoch 94/100\n",
            "1356/1356 [==============================] - 0s 322us/step - loss: 0.5854 - acc: 0.6232 - val_loss: 0.8510 - val_acc: 0.5376\n",
            "Epoch 95/100\n",
            "1356/1356 [==============================] - 0s 313us/step - loss: 0.5716 - acc: 0.6468 - val_loss: 0.8548 - val_acc: 0.5398\n",
            "Epoch 96/100\n",
            "1356/1356 [==============================] - 0s 307us/step - loss: 0.6003 - acc: 0.6342 - val_loss: 0.8400 - val_acc: 0.5177\n",
            "Epoch 97/100\n",
            "1356/1356 [==============================] - 0s 324us/step - loss: 0.5867 - acc: 0.6394 - val_loss: 0.8351 - val_acc: 0.5398\n",
            "Epoch 98/100\n",
            "1356/1356 [==============================] - 0s 311us/step - loss: 0.5756 - acc: 0.6541 - val_loss: 0.8523 - val_acc: 0.5221\n",
            "Epoch 99/100\n",
            "1356/1356 [==============================] - 0s 320us/step - loss: 0.5710 - acc: 0.6445 - val_loss: 0.9045 - val_acc: 0.5111\n",
            "Epoch 100/100\n",
            "1356/1356 [==============================] - 0s 309us/step - loss: 0.5756 - acc: 0.6445 - val_loss: 0.8633 - val_acc: 0.5288\n",
            "_________________________________________________________________\n",
            "Layer (type)                 Output Shape              Param #   \n",
            "=================================================================\n",
            "flatten_2 (Flatten)          (None, 1040)              0         \n",
            "_________________________________________________________________\n",
            "dense_3 (Dense)              (None, 10)                10410     \n",
            "_________________________________________________________________\n",
            "dropout_2 (Dropout)          (None, 10)                0         \n",
            "_________________________________________________________________\n",
            "dense_4 (Dense)              (None, 2)                 22        \n",
            "=================================================================\n",
            "Total params: 10,432\n",
            "Trainable params: 10,432\n",
            "Non-trainable params: 0\n",
            "_________________________________________________________________\n",
            "dict_keys(['val_loss', 'val_acc', 'loss', 'acc'])\n"
          ],
          "name": "stdout"
        },
        {
          "output_type": "display_data",
          "data": {
            "image/png": "[encoded data removed]",
            "text/plain": [
              "<Figure size 432x288 with 1 Axes>"
            ]
          },
          "metadata": {
            "tags": []
          }
        },
        {
          "output_type": "display_data",
          "data": {
            "image/png": "[encoded data removed]",
            "text/plain": [
              "<Figure size 432x288 with 1 Axes>"
            ]
          },
          "metadata": {
            "tags": []
          }
        },
        {
          "output_type": "stream",
          "text": [
            "452/452 [==============================] - 0s 151us/step\n",
            "Test score: 0.9165814334312371\n",
            "Test accuracy: 0.5110619469026548\n"
          ],
          "name": "stdout"
        }
      ]
    }
  ]
}