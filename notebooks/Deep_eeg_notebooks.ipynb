{
  "nbformat": 4,
  "nbformat_minor": 0,
  "metadata": {
    "colab": {
      "name": "Deep-eeg-notebooks.ipynb",
      "version": "0.3.2",
      "provenance": [],
      "toc_visible": true,
      "include_colab_link": true
    },
    "kernelspec": {
      "name": "python3",
      "display_name": "Python 3"
    },
    "accelerator": "GPU"
  },
  "cells": [
    {
      "cell_type": "markdown",
      "metadata": {
        "id": "view-in-github",
        "colab_type": "text"
      },
      "source": [
        "<a href=\"https://colab.research.google.com/github/kylemath/eeg-notebooks/blob/master/notebooks/Deep_eeg_notebooks.ipynb\" target=\"_parent\"><img src=\"https://colab.research.google.com/assets/colab-badge.svg\" alt=\"Open In Colab\"/></a>"
      ]
    },
    {
      "metadata": {
        "id": "cH7KRd8ZZPMd",
        "colab_type": "text"
      },
      "cell_type": "markdown",
      "source": [
        "## Deep-eeg-notebooks\n",
        "\n",
        "Goal is to make a deep learning LSTM stack that processes Muse eeg-notebook EEG trials as input and predicts binary trial category as output.\n",
        "\n",
        "Strategy:\n",
        "* Load in Muse data, normal pre-processing to get to trials\n",
        "* Decimate down to reduce features in time x frequency x electrode\n",
        "* Avoid CNN?\n",
        "* load time steps into LSTM?\n",
        "* Predict attend left vs attend right on muse 375 data\n",
        "\n",
        "API:\n",
        "* Want to input the data directory of any eeg-notebook experiment (https://github.com/kylemath/eeg-notebooks)\n",
        "* More general with the master eeg-notebooks - https://github.com/NeuroTechX/eeg-notebooks\n",
        "\n",
        "\n",
        "LearningModels:\n",
        "* First try simple CNN\n",
        "* then add in LSTM component to treat time as recurrent\n",
        "\n",
        "DataModels:\n",
        "* First pool data over subjects\n",
        "* Try subject specific models\n",
        "* Then try multilevel models\n",
        "\n",
        "Using: \n",
        "* https://github.com/pbashivan/EEGLearn\n",
        "* https://github.com/tevisgehr/EEG-Classification\n",
        "* https://github.com/kylemath/eeg-notebooks\n",
        "* https://github.com/keras-team/keras/blob/master/examples/imdb_cnn_lstm.py\n",
        "* https://github.com/ml4a/ml4a-guides/blob/master/notebooks/keras_classification.ipynb\n",
        "\n",
        "Resources:\n",
        "*   http://proceedings.mlr.press/v56/Thodoroff16.pdf\n",
        "*   https://arxiv.org/abs/1511.06448\n",
        "\n",
        "\n"
      ]
    },
    {
      "metadata": {
        "id": "Kf-1ItUyU380",
        "colab_type": "text"
      },
      "cell_type": "markdown",
      "source": [
        "**Setup**"
      ]
    },
    {
      "metadata": {
        "id": "VXe-o8XtG9ki",
        "colab_type": "code",
        "outputId": "2d2a9a77-7133-49c4-b457-4b1a1edcd80d",
        "colab": {
          "base_uri": "https://localhost:8080/",
          "height": 459
        }
      },
      "cell_type": "code",
      "source": [
        "!git clone https://github.com/tevisgehr/EEG-Classification.git\n",
        "%cd EEG-Classification\n",
        "from eeg_learn_functions import *\n",
        "%cd ..\n",
        "\n",
        "!git clone https://github.com/kylemath/eeg-notebooks.git\n",
        "%cd eeg-notebooks/notebooks\n",
        "!pip install mne\n",
        "from utils import utils\n",
        "\n",
        "import pandas as pd\n",
        "pd.options.display.max_columns = None\n",
        "pd.options.display.precision = 4\n",
        "\n",
        "import numpy as np\n",
        "from numpy import genfromtxt\n",
        "np.random.seed(1017)\n",
        "\n",
        "from collections import OrderedDict\n",
        "import matplotlib.pyplot as plt\n",
        "%matplotlib inline\n",
        "plt.rcParams[\"figure.figsize\"] = (12,12)\n",
        "\n",
        "import seaborn as sns\n",
        "import scipy.stats as scs\n",
        "import re\n",
        "\n",
        "from IPython.core.display import display, HTML\n",
        "display(HTML(\"<style>.container { width:100% !important; }</style>\"))\n",
        "\n",
        "from mne import Epochs, find_events, concatenate_raws\n",
        "from mne.time_frequency import tfr_morlet\n",
        "\n",
        "import keras\n",
        "from keras.models import Sequential\n",
        "from keras.layers import Dense, Dropout, Activation, Flatten, Conv2D, MaxPooling2D\n",
        "\n",
        "from sklearn.model_selection import train_test_split\n",
        "\n"
      ],
      "execution_count": 1,
      "outputs": [
        {
          "output_type": "stream",
          "text": [
            "Cloning into 'EEG-Classification'...\n",
            "remote: Enumerating objects: 201, done.\u001b[K\n",
            "remote: Total 201 (delta 0), reused 0 (delta 0), pack-reused 201\u001b[K\n",
            "Receiving objects: 100% (201/201), 16.68 MiB | 20.58 MiB/s, done.\n",
            "Resolving deltas: 100% (97/97), done.\n",
            "/content/EEG-Classification\n",
            "/content\n",
            "Cloning into 'eeg-notebooks'...\n",
            "remote: Enumerating objects: 222, done.\u001b[K\n",
            "remote: Counting objects: 100% (222/222), done.\u001b[K\n",
            "remote: Compressing objects: 100% (179/179), done.\u001b[K\n",
            "remote: Total 1688 (delta 99), reused 143 (delta 43), pack-reused 1466\u001b[K\n",
            "Receiving objects: 100% (1688/1688), 107.92 MiB | 18.64 MiB/s, done.\n",
            "Resolving deltas: 100% (722/722), done.\n",
            "Checking out files: 100% (484/484), done.\n",
            "/content/eeg-notebooks/notebooks\n",
            "Collecting mne\n",
            "\u001b[?25l  Downloading https://files.pythonhosted.org/packages/fa/20/207b7780abf56afb03697c9d358b706ac22d96975c1da755cc9663f358cc/mne-0.17.0.tar.gz (6.2MB)\n",
            "\u001b[K    100% |████████████████████████████████| 6.2MB 7.3MB/s \n",
            "\u001b[?25hBuilding wheels for collected packages: mne\n",
            "  Running setup.py bdist_wheel for mne ... \u001b[?25l-\b \b\\\b \b|\b \b/\b \b-\b \b\\\b \b|\b \b/\b \b-\b \b\\\b \bdone\n",
            "\u001b[?25h  Stored in directory: /root/.cache/pip/wheels/59/23/bb/ebafe2eae31064edfb9b384131abd0ec562a9418601cde6d69\n",
            "Successfully built mne\n",
            "Installing collected packages: mne\n",
            "Successfully installed mne-0.17.0\n"
          ],
          "name": "stdout"
        },
        {
          "output_type": "display_data",
          "data": {
            "text/html": [
              "<style>.container { width:100% !important; }</style>"
            ],
            "text/plain": [
              "<IPython.core.display.HTML object>"
            ]
          },
          "metadata": {
            "tags": []
          }
        },
        {
          "output_type": "stream",
          "text": [
            "Using TensorFlow backend.\n"
          ],
          "name": "stderr"
        }
      ]
    },
    {
      "metadata": {
        "id": "yR1WkVZKU2Vm",
        "colab_type": "text"
      },
      "cell_type": "markdown",
      "source": [
        "**Parameters**"
      ]
    },
    {
      "metadata": {
        "id": "QGVIiUbAU1nA",
        "colab_type": "code",
        "outputId": "50a95aee-0ec2-424f-d627-a776287d6b40",
        "colab": {
          "base_uri": "https://localhost:8080/",
          "height": 34
        }
      },
      "cell_type": "code",
      "source": [
        "#Parameters#\n",
        "#subject folders in data folder\n",
        "subs = [101, 102, 103, 104, 105, 106, 108, 109, 110, 111, 112,\n",
        "        202, 203, 204, 205, 207, 208, 209, 210, 211, \n",
        "        301, 302, 303, 304, 305, 306, 307, 308, 309]\n",
        "\n",
        "#for testing\n",
        "#subs = [ 205, 207, 208, 209]\n",
        "\n",
        "#number of sessions in each subject folder\n",
        "nsesh = 2\n",
        "\n",
        "data_dir = 'visual/cueing'\n",
        "event_ids = ['LeftCue','RightCue']\n",
        "\n",
        "\n",
        "## Can load other experiments like this\n",
        "#subs = [ 1]\n",
        "#nsesh = 1\n",
        "#data_dir = 'visual/SSVEP'\n",
        "#event_ids = ['F1','F2']\n",
        "##\n",
        "\n",
        "load_verbose = 0 #print output during loading\n",
        "\n",
        "frequency_domain = 1  #if True uses wavelets otherwise use time series\n",
        "\n",
        "sfreq=256.\n",
        "\n",
        "#filter\n",
        "eeg_filter_highpass = 1\n",
        "eeg_filter_lowpass = 30\n",
        "\n",
        "#artifact rejection\n",
        "rej_thresh_uV = 1000  #300 removes most blinks, 1000 keeps most trials\n",
        "rej_thresh = rej_thresh_uV*1e-6\n",
        "\n",
        "#trial epoch limits \n",
        "tmin=-1\n",
        "tmax=2\n",
        "decim=20  # to decrease number of time features\n",
        "baseline=(-1, 0) #gets removed from training data but used during processing\n",
        "\n",
        "#wavelet settings\n",
        "f_low = 4\n",
        "f_high = 20\n",
        "f_bins = 10  # to decrease number of frequency features\n",
        "frequencies =  np.linspace(4, 10, f_bins, endpoint=True)\n",
        "wave_cycles = 6\n",
        "spect_baseline = [-1,-.5] #gets removed from training data but used during processing\n",
        "electrodes_out = [0,1,2,3]  # to decrease number of electrode features from [0,1,2,3] or [0,1,2,3,4] with aux electrode (untested)\n",
        "\n",
        "#Training Settings\n",
        "batch_size = 16\n",
        "train_epochs = 100\n",
        "num_classes = len(event_ids)\n",
        "\n",
        "print('Parameters Set')"
      ],
      "execution_count": 20,
      "outputs": [
        {
          "output_type": "stream",
          "text": [
            "Parameters Set\n"
          ],
          "name": "stdout"
        }
      ]
    },
    {
      "metadata": {
        "id": "g2a98-rwL9wl",
        "colab_type": "text"
      },
      "cell_type": "markdown",
      "source": [
        "**Preprocessing of EEG Data**\n",
        "\n",
        "* LoadData - Each data file is from one session of one subject of the muse cueing task from eeg-notebooks from psych 375 A1 dataset\n",
        "* Filtering - Most ERP components are composed of lower frequency fluctuations in the EEG signal. Thus, we can filter out all frequencies between 1 and 30 hz in order to increase our ability to detect them.\n",
        "* Epoching - Next, we will chunk (epoch) the data into segments representing the data 1000ms before to 2000ms after each cue, we will reject every epoch where the amplitude of the signal exceeded 100 uV, which should most eye blinks."
      ]
    },
    {
      "metadata": {
        "id": "6A3mgX7ILZFK",
        "colab_type": "code",
        "outputId": "0da4937a-7aa9-4847-afb9-b0a69e1072fb",
        "colab": {
          "base_uri": "https://localhost:8080/",
          "height": 595
        }
      },
      "cell_type": "code",
      "source": [
        "#Load Data\n",
        "print('Loading Data')\n",
        "isub = subs[0]\n",
        "print(isub)\n",
        "raw = utils.load_data(data_dir, sfreq=sfreq ,subject_nb=isub, session_nb=1,verbose=load_verbose)\n",
        "if nsesh == 2:\n",
        "  raw.append(utils.load_data(data_dir, sfreq=sfreq,subject_nb=isub, session_nb=2,verbose=load_verbose))\n",
        "\n",
        "if len(subs)>1:\n",
        "  for isub in subs[1:]:\n",
        "    print(isub)\n",
        "    raw.append(utils.load_data(data_dir, sfreq=sfreq,subject_nb=isub, session_nb=1,verbose=load_verbose))\n",
        "    if nsesh == 2:\n",
        "      raw.append(utils.load_data(data_dir, sfreq=sfreq,subject_nb=isub, session_nb=2,verbose=load_verbose))\n",
        "  \n",
        "#Filtering\n",
        "print('Filtering Data')\n",
        "raw.filter(eeg_filter_highpass,eeg_filter_lowpass, method='iir', verbose='WARNING' )\n",
        "\n",
        "#Plot filtred data spectra if desired\n",
        "#raw.plot_psd(fmin=eeg_filter_highpass, fmax=eeg_filter_lowpass ) \n",
        "\n",
        "#Epoching\n",
        "event_id = {event_ids[0]: 1, event_ids[1]: 2}\n",
        "events = find_events(raw)\n",
        "epochs = Epochs(raw, events=events, event_id=event_id, \n",
        "                tmin=tmin, tmax=tmax, baseline=baseline, \n",
        "                preload=True,reject={'eeg':rej_thresh},\n",
        "                verbose=False, picks=[0, 1, 2, 3])\n",
        "\n",
        "print('sample drop %: ', (1 - len(epochs.events)/len(events)) * 100)\n",
        "%matplotlib inline\n",
        "conditions = OrderedDict()\n",
        "conditions[event_ids[0]] = [1]\n",
        "conditions[event_ids[1]] = [2]\n",
        "\n",
        "#plot ERPs if desired\n",
        "#fig, ax = utils.plot_conditions(epochs, conditions=conditions, ylim=(-20,20) )"
      ],
      "execution_count": 21,
      "outputs": [
        {
          "output_type": "stream",
          "text": [
            "Loading Data\n",
            "101\n",
            "102\n",
            "103\n",
            "104\n",
            "105\n",
            "106\n",
            "108\n",
            "109\n",
            "110\n",
            "111\n",
            "112\n",
            "202\n",
            "203\n",
            "204\n",
            "205\n",
            "207\n",
            "208\n",
            "209\n",
            "210\n",
            "211\n",
            "301\n",
            "302\n",
            "303\n",
            "304\n",
            "305\n",
            "306\n",
            "307\n",
            "308\n",
            "309\n",
            "Filtering Data\n",
            "4583 events found\n",
            "Event IDs: [ 1  2 11 12 21 22]\n",
            "sample drop %:  50.687322714379235\n"
          ],
          "name": "stdout"
        }
      ]
    },
    {
      "metadata": {
        "id": "dpXiF6i0opGm",
        "colab_type": "text"
      },
      "cell_type": "markdown",
      "source": [
        "TODO: Time domain features:"
      ]
    },
    {
      "metadata": {
        "id": "EmvSu1bOZiO0",
        "colab_type": "text"
      },
      "cell_type": "markdown",
      "source": [
        "** Spectrogram **\n",
        "\n",
        "* All electrodes are considered on each trial\n",
        "* Many frequencies are used in the wavelet analysis while the output of the morlet is decimated in time.\n",
        "* Two conditions are done separate and concatenated\n",
        "* X is a trials x freq x time matrix\n",
        "* Y is a trials array of condition labels (turned into one hot vectors later in code)\n"
      ]
    },
    {
      "metadata": {
        "id": "Xs-_8GRYZar7",
        "colab_type": "code",
        "outputId": "8e93175f-e8db-4d94-adcf-2681196f5c63",
        "colab": {
          "base_uri": "https://localhost:8080/",
          "height": 623
        }
      },
      "cell_type": "code",
      "source": [
        "if frequency_domain:\n",
        "  # Condition0\n",
        "  print('Computing Morlet Wavelets on ' + event_ids[0])\n",
        "\n",
        "  tfr0 = tfr_morlet(epochs[event_ids[0]], freqs=frequencies, \n",
        "                        n_cycles=wave_cycles, return_itc=False,\n",
        "                        picks=electrodes_out,average=False,decim=decim)\n",
        "  tfr0 = tfr0.apply_baseline(spect_baseline,mode='mean')\n",
        "  stim_onset = np.argmax(tfr0.times>0)\n",
        "  new_times = tfr0.times[stim_onset:]\n",
        "  cond0_power_out = np.moveaxis(tfr0.data[:,:,:,stim_onset:],1,3)\n",
        "  #cond0_power_out[:,0:5,0:5,:] = 0 #for testing model add mark to image\n",
        "\n",
        "  print(event_ids[0] + ' Time Points: ' + str(len(new_times)))\n",
        "  print(event_ids[0] + ' Frequencies: ' + str(len(tfr0.freqs)))\n",
        "\n",
        "  #Condition1\n",
        "  print('Computing Morlet Wavelets on ' + event_ids[1])\n",
        "  tfr1 = tfr_morlet(epochs[event_ids[1]], freqs=frequencies, \n",
        "                        n_cycles=wave_cycles, return_itc=False,\n",
        "                        picks=electrodes_out,average=False,decim=decim)\n",
        "  tfr1 = tfr1.apply_baseline(spect_baseline,mode='mean')\n",
        "  cond1_power_out = np.moveaxis(tfr1.data[:,:,:,stim_onset:],1,3)\n",
        "  #cond1_power_out[:,0:5,0:5,:] = 1 #for testing model add mark to image\n",
        "\n",
        "  print(event_ids[1] + ' Time Points: ' + str(len(new_times)))\n",
        "  print(event_ids[1] + ' Frequencies: ' + str(len(tfr1.freqs)))\n",
        "\n",
        "  X = np.append(cond0_power_out,cond1_power_out,0);\n",
        "  \n",
        "  #Normalize X - need to save mean and std for future test + val\n",
        "  X = (X - np.mean(X)) / np.std(X)\n",
        "  #Append Data\n",
        "  Y = np.append(np.zeros(len(cond0_power_out)), np.ones(len(cond1_power_out)),0);\n",
        "  \n",
        "  print('Combined X Shape: ' + str(X.shape))\n",
        "  print('Combined Y Shape: ' + str(Y.shape))\n",
        "  print('Combined Y: ' + str(Y))\n",
        "  print('X Range: ' + str(np.min(X)) + ':' + str(np.max(X)))\n",
        "  print('X Examples:')\n",
        "\n",
        "  #for plotting\n",
        "  \n",
        "  vmin = (np.std(X)/4) * -1\n",
        "  vmax = np.std(X)/4  \n",
        "\n",
        "  #Plot Example Data\n",
        "  f, axarr = plt.subplots(2,2, figsize = (8,8))\n",
        "  axarr[0][0].set_title(event_ids[0])\n",
        "  axarr[0][0].imshow(X[0,:,:,1],vmin=vmin, vmax=vmax)\n",
        "\n",
        "  axarr[0][0].invert_yaxis()\n",
        "  axarr[1][0].imshow(X[1,:,:,1],vmin=vmin, vmax=vmax)\n",
        "  axarr[1][0].invert_yaxis()\n",
        "\n",
        "  axarr[0][1].set_title(event_ids[1])\n",
        "  axarr[0][1].imshow(X[-1,:,:,1],vmin=vmin, vmax=vmax)\n",
        "  axarr[0][1].invert_yaxis()\n",
        "  axarr[1][1].imshow(X[-2,:,:,1],vmin=vmin, vmax=vmax)\n",
        "  axarr[1][1].invert_yaxis()\n",
        ";\n",
        "\n"
      ],
      "execution_count": 22,
      "outputs": [
        {
          "output_type": "stream",
          "text": [
            "Computing Morlet Wavelets on LeftCue\n",
            "Applying baseline correction (mode: mean)\n",
            "LeftCue Time Points: 26\n",
            "LeftCue Frequencies: 10\n",
            "Computing Morlet Wavelets on RightCue\n",
            "Applying baseline correction (mode: mean)\n",
            "RightCue Time Points: 26\n",
            "RightCue Frequencies: 10\n",
            "Combined X Shape: (2260, 10, 26, 4)\n",
            "Combined Y Shape: (2260,)\n",
            "Combined Y: [0. 0. 0. ... 1. 1. 1.]\n",
            "X Range: -39.14267782990588:41.26281332404658\n",
            "X Examples:\n"
          ],
          "name": "stdout"
        },
        {
          "output_type": "execute_result",
          "data": {
            "text/plain": [
              "''"
            ]
          },
          "metadata": {
            "tags": []
          },
          "execution_count": 22
        },
        {
          "output_type": "display_data",
          "data": {
            "image/png": "[encoded data removed]",
            "text/plain": [
              "<Figure size 576x576 with 4 Axes>"
            ]
          },
          "metadata": {
            "tags": []
          }
        }
      ]
    },
    {
      "metadata": {
        "id": "_d74N_oqMlGF",
        "colab_type": "text"
      },
      "cell_type": "markdown",
      "source": [
        "**Time Domain**\n",
        "\n",
        "* Instead may want to retain time domain data\n",
        "* After Epoching, arange data into useful format with labels"
      ]
    },
    {
      "metadata": {
        "id": "qoBQKZ2uMOpL",
        "colab_type": "code",
        "colab": {}
      },
      "cell_type": "code",
      "source": [
        "if not frequency_domain:\n",
        "  print(raw._data.shape)\n",
        "  print(epochs._data.shape)\n",
        "  print(conditions)"
      ],
      "execution_count": 0,
      "outputs": []
    },
    {
      "metadata": {
        "id": "WqVTXiwrZxbf",
        "colab_type": "text"
      },
      "cell_type": "markdown",
      "source": [
        "**Prepare Data for Model**\n"
      ]
    },
    {
      "metadata": {
        "id": "4xyrsW2kZW8D",
        "colab_type": "code",
        "outputId": "f75f1a25-ae1f-4d35-9e68-025714d1966a",
        "colab": {
          "base_uri": "https://localhost:8080/",
          "height": 102
        }
      },
      "cell_type": "code",
      "source": [
        "# convert class vectors to binary class matrices and recast X\n",
        "Y = keras.utils.to_categorical(Y, num_classes)\n",
        "X = X.astype('float32')\n",
        "\n",
        "# Split training test and validation data \n",
        "test_split = 0.2\n",
        "val_split = 0.2\n",
        "random_seed = 1017\n",
        "\n",
        "val_prop = val_split / (1-test_split)\n",
        "x_train, x_test, y_train, y_test = train_test_split(X, Y, test_size=test_split,random_state=random_seed) \n",
        "x_train, x_val, y_train, y_val = train_test_split(x_train, y_train, test_size=val_prop, random_state=random_seed)\n",
        "\n",
        "# Compute model input shape\n",
        "input_shape = (X.shape[1], X.shape[2], len(electrodes_out))\n",
        "\n",
        "print('Input Shape: ' + str(input_shape))\n",
        "print('x_train shape:', x_train.shape)\n",
        "print(x_train.shape[0], 'train samples')\n",
        "print(x_test.shape[0], 'test samples')\n",
        "print(x_val.shape[0], 'validation samples')\n"
      ],
      "execution_count": 24,
      "outputs": [
        {
          "output_type": "stream",
          "text": [
            "Input Shape: (10, 26, 4)\n",
            "x_train shape: (1356, 10, 26, 4)\n",
            "1356 train samples\n",
            "452 test samples\n",
            "452 validation samples\n"
          ],
          "name": "stdout"
        }
      ]
    },
    {
      "metadata": {
        "id": "mKzYDoF1TQmK",
        "colab_type": "text"
      },
      "cell_type": "markdown",
      "source": [
        "**Build Model and Train**"
      ]
    },
    {
      "metadata": {
        "scrolled": false,
        "id": "JxjbgyC5G7AZ",
        "colab_type": "code",
        "outputId": "ffebcb10-e80f-4b87-a638-666d0b575def",
        "colab": {
          "base_uri": "https://localhost:8080/",
          "height": 4333
        }
      },
      "cell_type": "code",
      "source": [
        "#DenseFeedforward Network\n",
        "model = Sequential()\n",
        "model.add(Flatten())\n",
        "model.add(Dense(10, activation='relu'))\n",
        "model.add(Dropout(.20))\n",
        "model.add(Dense(2, activation='softmax'))\n",
        "\n",
        "\n",
        "#model.add(Dropout(.10))\n",
        "\n",
        "# Create CNN in keras\n",
        "#model = Sequential()\n",
        "#model.add(Conv2D(49, (3, 3), input_shape=input_shape))\n",
        "#model.add(Activation('relu'))\n",
        "#model.add(Conv2D(32, (3, 3)))\n",
        "#model.add(Activation('relu'))\n",
        "#model.add(MaxPooling2D(pool_size=(2, 2)))\n",
        "#model.add(Flatten())\n",
        "#model.add(Dense(10))\n",
        "#model.add(Activation('relu'))\n",
        "#model.add(Dense(num_classes))\n",
        "#model.add(Activation('softmax'))\n",
        "\n",
        "# initiate adam optimizer\n",
        "opt = keras.optimizers.Adam(lr=0.001, beta_1=0.9, beta_2=0.999, \n",
        "                            epsilon=None, decay=0.0, amsgrad=False)\n",
        "\n",
        "# Let's train the model using RMSprop\n",
        "model.compile(loss='categorical_crossentropy',\n",
        "              optimizer=opt,\n",
        "              metrics=['accuracy'])\n",
        "\n",
        "\n",
        "\n",
        "#Train Model\n",
        "history = model.fit(x_train, y_train,\n",
        "          batch_size=batch_size,\n",
        "          epochs=train_epochs,\n",
        "          validation_data=(x_val, y_val),\n",
        "          shuffle=True,\n",
        "          verbose=True)\n",
        "         \n",
        "#Summarize\n",
        "model.summary()\n",
        " \n",
        "  \n",
        "# list all data in history\n",
        "print(history.history.keys())\n",
        "# summarize history for accuracy\n",
        "plt.plot(history.history['acc'])\n",
        "plt.plot(history.history['val_acc'])\n",
        "plt.title('model accuracy')\n",
        "plt.ylabel('accuracy')\n",
        "plt.xlabel('epoch')\n",
        "plt.legend(['train', 'test'], loc='upper left')\n",
        "plt.show()\n",
        "# summarize history for loss\n",
        "plt.plot(history.history['loss'])\n",
        "plt.plot(history.history['val_loss'])\n",
        "plt.title('model loss')\n",
        "plt.ylabel('loss')\n",
        "plt.xlabel('epoch')\n",
        "plt.legend(['train', 'test'], loc='upper left')\n",
        "plt.show()\n",
        "\n",
        "# Test on left out Test data\n",
        "score, acc = model.evaluate(x_test, y_test, batch_size=batch_size)\n",
        "print('Test score:', score)\n",
        "print('Test accuracy:', acc)"
      ],
      "execution_count": 25,
      "outputs": [
        {
          "output_type": "stream",
          "text": [
            "Train on 1356 samples, validate on 452 samples\n",
            "Epoch 1/100\n",
            "1356/1356 [==============================] - 1s 505us/step - loss: 0.8118 - acc: 0.4985 - val_loss: 0.7511 - val_acc: 0.5066\n",
            "Epoch 2/100\n",
            "1356/1356 [==============================] - 0s 284us/step - loss: 0.7413 - acc: 0.5029 - val_loss: 0.7537 - val_acc: 0.4801\n",
            "Epoch 3/100\n",
            "1356/1356 [==============================] - 0s 291us/step - loss: 0.7229 - acc: 0.5059 - val_loss: 0.7179 - val_acc: 0.4425\n",
            "Epoch 4/100\n",
            "1356/1356 [==============================] - 0s 312us/step - loss: 0.7147 - acc: 0.5361 - val_loss: 0.7269 - val_acc: 0.4823\n",
            "Epoch 5/100\n",
            "1356/1356 [==============================] - 0s 338us/step - loss: 0.6842 - acc: 0.5531 - val_loss: 0.7169 - val_acc: 0.5066\n",
            "Epoch 6/100\n",
            "1356/1356 [==============================] - 0s 368us/step - loss: 0.6986 - acc: 0.5413 - val_loss: 0.7211 - val_acc: 0.5066\n",
            "Epoch 7/100\n",
            "1356/1356 [==============================] - 0s 347us/step - loss: 0.6853 - acc: 0.5472 - val_loss: 0.7307 - val_acc: 0.5022\n",
            "Epoch 8/100\n",
            "1356/1356 [==============================] - 0s 346us/step - loss: 0.6781 - acc: 0.5597 - val_loss: 0.7545 - val_acc: 0.4823\n",
            "Epoch 9/100\n",
            "1356/1356 [==============================] - 0s 339us/step - loss: 0.6755 - acc: 0.5457 - val_loss: 0.7339 - val_acc: 0.5155\n",
            "Epoch 10/100\n",
            "1356/1356 [==============================] - 0s 363us/step - loss: 0.6706 - acc: 0.5605 - val_loss: 0.7559 - val_acc: 0.5022\n",
            "Epoch 11/100\n",
            "1356/1356 [==============================] - 0s 355us/step - loss: 0.6683 - acc: 0.5619 - val_loss: 0.7201 - val_acc: 0.4823\n",
            "Epoch 12/100\n",
            "1356/1356 [==============================] - 0s 348us/step - loss: 0.6728 - acc: 0.5671 - val_loss: 0.7365 - val_acc: 0.4912\n",
            "Epoch 13/100\n",
            "1356/1356 [==============================] - 0s 341us/step - loss: 0.6547 - acc: 0.5870 - val_loss: 0.7438 - val_acc: 0.5066\n",
            "Epoch 14/100\n",
            "1356/1356 [==============================] - 0s 358us/step - loss: 0.6609 - acc: 0.5664 - val_loss: 0.7701 - val_acc: 0.4934\n",
            "Epoch 15/100\n",
            "1356/1356 [==============================] - 0s 341us/step - loss: 0.6704 - acc: 0.5855 - val_loss: 0.7316 - val_acc: 0.5111\n",
            "Epoch 16/100\n",
            "1356/1356 [==============================] - 0s 343us/step - loss: 0.6776 - acc: 0.5649 - val_loss: 0.7372 - val_acc: 0.4934\n",
            "Epoch 17/100\n",
            "1356/1356 [==============================] - 0s 337us/step - loss: 0.6543 - acc: 0.5715 - val_loss: 0.7421 - val_acc: 0.5000\n",
            "Epoch 18/100\n",
            "1356/1356 [==============================] - 0s 340us/step - loss: 0.6501 - acc: 0.5774 - val_loss: 0.7294 - val_acc: 0.4956\n",
            "Epoch 19/100\n",
            "1356/1356 [==============================] - 0s 347us/step - loss: 0.6555 - acc: 0.5914 - val_loss: 0.7307 - val_acc: 0.4956\n",
            "Epoch 20/100\n",
            "1356/1356 [==============================] - 0s 343us/step - loss: 0.6592 - acc: 0.5922 - val_loss: 0.7488 - val_acc: 0.4867\n",
            "Epoch 21/100\n",
            "1356/1356 [==============================] - 0s 345us/step - loss: 0.6520 - acc: 0.5804 - val_loss: 0.7250 - val_acc: 0.5066\n",
            "Epoch 22/100\n",
            "1356/1356 [==============================] - 0s 345us/step - loss: 0.6436 - acc: 0.5929 - val_loss: 0.7430 - val_acc: 0.4889\n",
            "Epoch 23/100\n",
            "1356/1356 [==============================] - 0s 367us/step - loss: 0.6463 - acc: 0.5878 - val_loss: 0.7603 - val_acc: 0.4845\n",
            "Epoch 24/100\n",
            "1356/1356 [==============================] - 0s 341us/step - loss: 0.6304 - acc: 0.5966 - val_loss: 0.7467 - val_acc: 0.4867\n",
            "Epoch 25/100\n",
            "1356/1356 [==============================] - 0s 365us/step - loss: 0.6439 - acc: 0.6128 - val_loss: 0.7400 - val_acc: 0.4956\n",
            "Epoch 26/100\n",
            "1356/1356 [==============================] - 0s 350us/step - loss: 0.6335 - acc: 0.5944 - val_loss: 0.7532 - val_acc: 0.5243\n",
            "Epoch 27/100\n",
            "1356/1356 [==============================] - 0s 348us/step - loss: 0.6430 - acc: 0.5855 - val_loss: 0.7611 - val_acc: 0.4978\n",
            "Epoch 28/100\n",
            "1356/1356 [==============================] - 0s 342us/step - loss: 0.6374 - acc: 0.5804 - val_loss: 0.7569 - val_acc: 0.4735\n",
            "Epoch 29/100\n",
            "1356/1356 [==============================] - 0s 355us/step - loss: 0.6436 - acc: 0.5929 - val_loss: 0.7542 - val_acc: 0.5066\n",
            "Epoch 30/100\n",
            "1356/1356 [==============================] - 0s 338us/step - loss: 0.6295 - acc: 0.5855 - val_loss: 0.7860 - val_acc: 0.4845\n",
            "Epoch 31/100\n",
            "1356/1356 [==============================] - 1s 369us/step - loss: 0.6286 - acc: 0.5937 - val_loss: 0.7621 - val_acc: 0.4801\n",
            "Epoch 32/100\n",
            "1356/1356 [==============================] - 0s 337us/step - loss: 0.6249 - acc: 0.5745 - val_loss: 0.7775 - val_acc: 0.5221\n",
            "Epoch 33/100\n",
            "1356/1356 [==============================] - 0s 337us/step - loss: 0.6255 - acc: 0.5966 - val_loss: 0.7716 - val_acc: 0.4823\n",
            "Epoch 34/100\n",
            "1356/1356 [==============================] - 0s 358us/step - loss: 0.6399 - acc: 0.5914 - val_loss: 0.7696 - val_acc: 0.4912\n",
            "Epoch 35/100\n",
            "1356/1356 [==============================] - 0s 331us/step - loss: 0.6378 - acc: 0.6077 - val_loss: 0.7945 - val_acc: 0.5265\n",
            "Epoch 36/100\n",
            "1356/1356 [==============================] - 0s 336us/step - loss: 0.6354 - acc: 0.6150 - val_loss: 0.7773 - val_acc: 0.5310\n",
            "Epoch 37/100\n",
            "1356/1356 [==============================] - 0s 345us/step - loss: 0.6364 - acc: 0.6032 - val_loss: 0.7803 - val_acc: 0.5022\n",
            "Epoch 38/100\n",
            "1356/1356 [==============================] - 0s 346us/step - loss: 0.6191 - acc: 0.6158 - val_loss: 0.7849 - val_acc: 0.5044\n",
            "Epoch 39/100\n",
            "1356/1356 [==============================] - 0s 346us/step - loss: 0.6240 - acc: 0.6062 - val_loss: 0.7851 - val_acc: 0.5111\n",
            "Epoch 40/100\n",
            "1356/1356 [==============================] - 0s 351us/step - loss: 0.6139 - acc: 0.6158 - val_loss: 0.7938 - val_acc: 0.4956\n",
            "Epoch 41/100\n",
            "1356/1356 [==============================] - 0s 335us/step - loss: 0.6275 - acc: 0.6106 - val_loss: 0.7926 - val_acc: 0.5088\n",
            "Epoch 42/100\n",
            "1356/1356 [==============================] - 0s 337us/step - loss: 0.6229 - acc: 0.6018 - val_loss: 0.8278 - val_acc: 0.5111\n",
            "Epoch 43/100\n",
            "1356/1356 [==============================] - 0s 335us/step - loss: 0.6186 - acc: 0.6158 - val_loss: 0.7950 - val_acc: 0.4867\n",
            "Epoch 44/100\n",
            "1356/1356 [==============================] - 0s 332us/step - loss: 0.6012 - acc: 0.6261 - val_loss: 0.8123 - val_acc: 0.5000\n",
            "Epoch 45/100\n",
            "1356/1356 [==============================] - 0s 347us/step - loss: 0.6136 - acc: 0.6173 - val_loss: 0.8271 - val_acc: 0.4912\n",
            "Epoch 46/100\n",
            "1356/1356 [==============================] - 0s 339us/step - loss: 0.6155 - acc: 0.6136 - val_loss: 0.8184 - val_acc: 0.5288\n",
            "Epoch 47/100\n",
            "1356/1356 [==============================] - 0s 344us/step - loss: 0.6224 - acc: 0.6305 - val_loss: 0.8268 - val_acc: 0.5088\n",
            "Epoch 48/100\n",
            "1356/1356 [==============================] - 0s 346us/step - loss: 0.6070 - acc: 0.6165 - val_loss: 0.8112 - val_acc: 0.5265\n",
            "Epoch 49/100\n",
            "1356/1356 [==============================] - 0s 346us/step - loss: 0.6053 - acc: 0.6305 - val_loss: 0.8195 - val_acc: 0.4757\n",
            "Epoch 50/100\n",
            "1356/1356 [==============================] - 0s 340us/step - loss: 0.6009 - acc: 0.6313 - val_loss: 0.8068 - val_acc: 0.4956\n",
            "Epoch 51/100\n",
            "1356/1356 [==============================] - 0s 346us/step - loss: 0.6010 - acc: 0.6209 - val_loss: 0.8302 - val_acc: 0.5000\n",
            "Epoch 52/100\n",
            "1356/1356 [==============================] - 0s 337us/step - loss: 0.6099 - acc: 0.6232 - val_loss: 0.8401 - val_acc: 0.5022\n",
            "Epoch 53/100\n",
            "1356/1356 [==============================] - 0s 347us/step - loss: 0.6048 - acc: 0.6298 - val_loss: 0.8264 - val_acc: 0.5111\n",
            "Epoch 54/100\n",
            "1356/1356 [==============================] - 0s 336us/step - loss: 0.6087 - acc: 0.6209 - val_loss: 0.8235 - val_acc: 0.5088\n",
            "Epoch 55/100\n",
            "1356/1356 [==============================] - 0s 343us/step - loss: 0.5990 - acc: 0.6283 - val_loss: 0.8242 - val_acc: 0.5000\n",
            "Epoch 56/100\n",
            "1356/1356 [==============================] - 0s 358us/step - loss: 0.6105 - acc: 0.6143 - val_loss: 0.8370 - val_acc: 0.5111\n",
            "Epoch 57/100\n",
            "1356/1356 [==============================] - 0s 349us/step - loss: 0.6051 - acc: 0.6261 - val_loss: 0.8246 - val_acc: 0.5088\n",
            "Epoch 58/100\n",
            "1356/1356 [==============================] - 0s 359us/step - loss: 0.6000 - acc: 0.6224 - val_loss: 0.8314 - val_acc: 0.5066\n",
            "Epoch 59/100\n",
            "1356/1356 [==============================] - 0s 337us/step - loss: 0.6001 - acc: 0.6350 - val_loss: 0.8274 - val_acc: 0.5155\n",
            "Epoch 60/100\n",
            "1356/1356 [==============================] - 0s 355us/step - loss: 0.5946 - acc: 0.6357 - val_loss: 0.8364 - val_acc: 0.5044\n",
            "Epoch 61/100\n",
            "1356/1356 [==============================] - 0s 363us/step - loss: 0.6040 - acc: 0.6438 - val_loss: 0.8239 - val_acc: 0.4912\n",
            "Epoch 62/100\n",
            "1356/1356 [==============================] - 0s 364us/step - loss: 0.5925 - acc: 0.6305 - val_loss: 0.8527 - val_acc: 0.5288\n",
            "Epoch 63/100\n",
            "1356/1356 [==============================] - 1s 375us/step - loss: 0.5938 - acc: 0.6298 - val_loss: 0.8345 - val_acc: 0.5177\n",
            "Epoch 64/100\n",
            "1356/1356 [==============================] - 1s 380us/step - loss: 0.5889 - acc: 0.6379 - val_loss: 0.8549 - val_acc: 0.5133\n",
            "Epoch 65/100\n",
            "1356/1356 [==============================] - 0s 351us/step - loss: 0.5982 - acc: 0.6298 - val_loss: 0.8542 - val_acc: 0.4867\n",
            "Epoch 66/100\n",
            "1356/1356 [==============================] - 0s 355us/step - loss: 0.5818 - acc: 0.6409 - val_loss: 0.8823 - val_acc: 0.5177\n",
            "Epoch 67/100\n",
            "1356/1356 [==============================] - 0s 348us/step - loss: 0.5900 - acc: 0.6298 - val_loss: 0.8892 - val_acc: 0.5310\n",
            "Epoch 68/100\n",
            "1356/1356 [==============================] - 0s 367us/step - loss: 0.6006 - acc: 0.6239 - val_loss: 0.8994 - val_acc: 0.5155\n",
            "Epoch 69/100\n",
            "1356/1356 [==============================] - 0s 354us/step - loss: 0.5874 - acc: 0.6298 - val_loss: 0.8638 - val_acc: 0.5133\n",
            "Epoch 70/100\n",
            "1356/1356 [==============================] - 0s 360us/step - loss: 0.5786 - acc: 0.6438 - val_loss: 0.8639 - val_acc: 0.5133\n",
            "Epoch 71/100\n",
            "1356/1356 [==============================] - 0s 347us/step - loss: 0.5725 - acc: 0.6438 - val_loss: 0.9046 - val_acc: 0.4801\n",
            "Epoch 72/100\n",
            "1356/1356 [==============================] - 0s 349us/step - loss: 0.6096 - acc: 0.6298 - val_loss: 0.8915 - val_acc: 0.4978\n",
            "Epoch 73/100\n",
            "1356/1356 [==============================] - 0s 347us/step - loss: 0.5977 - acc: 0.6401 - val_loss: 0.8564 - val_acc: 0.5265\n",
            "Epoch 74/100\n",
            "1356/1356 [==============================] - 0s 345us/step - loss: 0.5692 - acc: 0.6482 - val_loss: 0.8688 - val_acc: 0.5155\n",
            "Epoch 75/100\n",
            "1356/1356 [==============================] - 1s 401us/step - loss: 0.5988 - acc: 0.6276 - val_loss: 0.8853 - val_acc: 0.5221\n",
            "Epoch 76/100\n",
            "1356/1356 [==============================] - 1s 403us/step - loss: 0.5840 - acc: 0.6379 - val_loss: 0.8634 - val_acc: 0.5310\n",
            "Epoch 77/100\n",
            "1356/1356 [==============================] - 1s 421us/step - loss: 0.5799 - acc: 0.6401 - val_loss: 0.8971 - val_acc: 0.5177\n",
            "Epoch 78/100\n",
            "1356/1356 [==============================] - 1s 412us/step - loss: 0.5851 - acc: 0.6394 - val_loss: 0.8682 - val_acc: 0.5199\n",
            "Epoch 79/100\n",
            "1356/1356 [==============================] - 1s 387us/step - loss: 0.5780 - acc: 0.6283 - val_loss: 0.8777 - val_acc: 0.5265\n",
            "Epoch 80/100\n",
            "1356/1356 [==============================] - 1s 401us/step - loss: 0.5765 - acc: 0.6394 - val_loss: 0.9074 - val_acc: 0.5310\n",
            "Epoch 81/100\n",
            "1356/1356 [==============================] - 1s 398us/step - loss: 0.5959 - acc: 0.6431 - val_loss: 0.8949 - val_acc: 0.5088\n",
            "Epoch 82/100\n",
            "1356/1356 [==============================] - 1s 403us/step - loss: 0.5898 - acc: 0.6431 - val_loss: 0.8765 - val_acc: 0.5155\n",
            "Epoch 83/100\n",
            "1356/1356 [==============================] - 1s 378us/step - loss: 0.5654 - acc: 0.6490 - val_loss: 0.9026 - val_acc: 0.5000\n",
            "Epoch 84/100\n",
            "1356/1356 [==============================] - 1s 388us/step - loss: 0.5615 - acc: 0.6527 - val_loss: 0.9053 - val_acc: 0.5221\n",
            "Epoch 85/100\n",
            "1356/1356 [==============================] - 1s 372us/step - loss: 0.5823 - acc: 0.6364 - val_loss: 0.9491 - val_acc: 0.5243\n",
            "Epoch 86/100\n",
            "1356/1356 [==============================] - 1s 392us/step - loss: 0.5781 - acc: 0.6497 - val_loss: 0.8910 - val_acc: 0.5088\n",
            "Epoch 87/100\n",
            "1356/1356 [==============================] - 1s 383us/step - loss: 0.5697 - acc: 0.6490 - val_loss: 0.8965 - val_acc: 0.5155\n",
            "Epoch 88/100\n",
            "1356/1356 [==============================] - 1s 379us/step - loss: 0.5613 - acc: 0.6379 - val_loss: 0.8872 - val_acc: 0.5177\n",
            "Epoch 89/100\n",
            "1356/1356 [==============================] - 1s 370us/step - loss: 0.5596 - acc: 0.6453 - val_loss: 0.9143 - val_acc: 0.5066\n",
            "Epoch 90/100\n",
            "1356/1356 [==============================] - 1s 388us/step - loss: 0.5536 - acc: 0.6512 - val_loss: 0.9129 - val_acc: 0.5221\n",
            "Epoch 91/100\n",
            "1356/1356 [==============================] - 0s 368us/step - loss: 0.5859 - acc: 0.6379 - val_loss: 0.9062 - val_acc: 0.5487\n",
            "Epoch 92/100\n",
            "1356/1356 [==============================] - 1s 388us/step - loss: 0.5641 - acc: 0.6519 - val_loss: 0.9554 - val_acc: 0.5133\n",
            "Epoch 93/100\n",
            "1356/1356 [==============================] - 1s 386us/step - loss: 0.5758 - acc: 0.6423 - val_loss: 0.9293 - val_acc: 0.5310\n",
            "Epoch 94/100\n",
            "1356/1356 [==============================] - 1s 371us/step - loss: 0.5761 - acc: 0.6423 - val_loss: 0.9340 - val_acc: 0.5000\n",
            "Epoch 95/100\n",
            "1356/1356 [==============================] - 1s 377us/step - loss: 0.5536 - acc: 0.6468 - val_loss: 0.9268 - val_acc: 0.5133\n",
            "Epoch 96/100\n",
            "1356/1356 [==============================] - 1s 402us/step - loss: 0.5549 - acc: 0.6431 - val_loss: 0.9342 - val_acc: 0.4956\n",
            "Epoch 97/100\n",
            "1356/1356 [==============================] - 0s 368us/step - loss: 0.5445 - acc: 0.6652 - val_loss: 0.9646 - val_acc: 0.5066\n",
            "Epoch 98/100\n",
            "1356/1356 [==============================] - 1s 384us/step - loss: 0.5505 - acc: 0.6519 - val_loss: 0.9742 - val_acc: 0.5066\n",
            "Epoch 99/100\n",
            "1356/1356 [==============================] - 1s 384us/step - loss: 0.5592 - acc: 0.6497 - val_loss: 0.9527 - val_acc: 0.5177\n",
            "Epoch 100/100\n",
            "1356/1356 [==============================] - 1s 373us/step - loss: 0.5488 - acc: 0.6622 - val_loss: 0.9635 - val_acc: 0.5177\n",
            "_________________________________________________________________\n",
            "Layer (type)                 Output Shape              Param #   \n",
            "=================================================================\n",
            "flatten_4 (Flatten)          (None, 1040)              0         \n",
            "_________________________________________________________________\n",
            "dense_7 (Dense)              (None, 10)                10410     \n",
            "_________________________________________________________________\n",
            "dropout_4 (Dropout)          (None, 10)                0         \n",
            "_________________________________________________________________\n",
            "dense_8 (Dense)              (None, 2)                 22        \n",
            "=================================================================\n",
            "Total params: 10,432\n",
            "Trainable params: 10,432\n",
            "Non-trainable params: 0\n",
            "_________________________________________________________________\n",
            "dict_keys(['val_loss', 'val_acc', 'loss', 'acc'])\n"
          ],
          "name": "stdout"
        },
        {
          "output_type": "display_data",
          "data": {
            "image/png": "[encoded data removed]",
            "text/plain": [
              "<Figure size 432x288 with 1 Axes>"
            ]
          },
          "metadata": {
            "tags": []
          }
        },
        {
          "output_type": "display_data",
          "data": {
            "image/png": "[encoded data removed]",
            "text/plain": [
              "<Figure size 432x288 with 1 Axes>"
            ]
          },
          "metadata": {
            "tags": []
          }
        },
        {
          "output_type": "stream",
          "text": [
            "452/452 [==============================] - 0s 170us/step\n",
            "Test score: 1.078889205392483\n",
            "Test accuracy: 0.4823008849557522\n"
          ],
          "name": "stdout"
        }
      ]
    }
  ]
}