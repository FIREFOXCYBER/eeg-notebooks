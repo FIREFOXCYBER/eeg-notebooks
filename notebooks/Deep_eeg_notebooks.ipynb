{
  "nbformat": 4,
  "nbformat_minor": 0,
  "metadata": {
    "colab": {
      "name": "Deep-eeg-notebooks.ipynb",
      "version": "0.3.2",
      "provenance": [],
      "include_colab_link": true
    },
    "kernelspec": {
      "name": "python3",
      "display_name": "Python 3"
    },
    "accelerator": "GPU"
  },
  "cells": [
    {
      "cell_type": "markdown",
      "metadata": {
        "id": "view-in-github",
        "colab_type": "text"
      },
      "source": [
        "<a href=\"https://colab.research.google.com/github/kylemath/eeg-notebooks/blob/master/notebooks/Deep_eeg_notebooks.ipynb\" target=\"_parent\"><img src=\"https://colab.research.google.com/assets/colab-badge.svg\" alt=\"Open In Colab\"/></a>"
      ]
    },
    {
      "metadata": {
        "id": "cH7KRd8ZZPMd",
        "colab_type": "text"
      },
      "cell_type": "markdown",
      "source": [
        "## Deep-eeg-notebooks\n",
        "\n",
        "Goal is to make deep learning stacks that processes Muse eeg-notebook EEG trials as input and predicts binary trial category as output. This is all made to run on Google Colab notebooks using cloud GPU capabilities, so the git repo's get loaded at the start of the code into the workspace. Minor mods may be needed to use local Jupyter notebook. Long term goal of command line interface and mne toolbox.\n",
        "\n",
        "Strategy:\n",
        "* Load in Muse data, normal pre-processing to get to trials\n",
        "* Options for frequency or time domain\n",
        "* Decimate time to reduce features\n",
        "* Dataset example: Predict attend left vs attend right on muse cueing data\n",
        "\n",
        "API:\n",
        "* Input the data directory and subject numbers of any eeg-notebook experiment (https://github.com/kylemath/eeg-notebooks)\n",
        "* More general with the master eeg-notebooks - https://github.com/NeuroTechX/eeg-notebooks\n",
        "\n",
        "LearningModels:\n",
        "* First try basic Neural Network (NN)\n",
        "* Then try Convolution Neural Net (CNN)\n",
        "* Then try Long-Short Term Memory Recurrant Neural Net (LSTM, RNN)\n",
        "\n",
        "DataModels:\n",
        "* First pool data over all subjects\n",
        "* Try subject specific models\n",
        "* Then try multilevel models\n",
        "\n",
        "Using: \n",
        "* https://github.com/kylemath/eeg-notebooks\n",
        "* https://github.com/mne-tools/mne-python\n",
        "* https://github.com/keras-team/keras/blob/master/examples/imdb_cnn_lstm.py\n",
        "* https://github.com/ml4a/ml4a-guides/blob/master/notebooks/keras_classification.ipynb\n",
        "* https://github.com/tevisgehr/EEG-Classification\n",
        "\n",
        "Resources:\n",
        "*  http://proceedings.mlr.press/v56/Thodoroff16.pdf\n",
        "*  https://arxiv.org/abs/1511.06448\n",
        "*  https://github.com/ml4a\n",
        "\n",
        "\n"
      ]
    },
    {
      "metadata": {
        "id": "Kf-1ItUyU380",
        "colab_type": "text"
      },
      "cell_type": "markdown",
      "source": [
        "**Setup**"
      ]
    },
    {
      "metadata": {
        "id": "VXe-o8XtG9ki",
        "colab_type": "code",
        "outputId": "e6c1a28a-cc10-4197-ee3f-19665b1ffdc7",
        "colab": {
          "base_uri": "https://localhost:8080/",
          "height": 180
        }
      },
      "cell_type": "code",
      "source": [
        "!pip install mne\n",
        "from mne import Epochs, find_events, concatenate_raws\n",
        "from mne.time_frequency import tfr_morlet\n",
        "\n",
        "!git clone https://github.com/kylemath/eeg-notebooks.git\n",
        "%cd eeg-notebooks/notebooks\n",
        "from utils import utils\n",
        "\n",
        "import pandas as pd\n",
        "pd.options.display.max_columns = None\n",
        "pd.options.display.precision = 4\n",
        "\n",
        "import numpy as np\n",
        "from numpy import genfromtxt\n",
        "\n",
        "from collections import OrderedDict\n",
        "\n",
        "import matplotlib.pyplot as plt\n",
        "%matplotlib inline\n",
        "plt.rcParams[\"figure.figsize\"] = (12,12)\n",
        "\n",
        "import keras\n",
        "from keras.models import Sequential\n",
        "from keras.layers import Dense, Dropout, Activation \n",
        "from keras.layers import Flatten, Conv2D, MaxPooling2D, LSTM\n",
        "from sklearn.model_selection import train_test_split\n",
        "\n",
        "def factors(n):\n",
        "      return [i for i in range(1, n + 1) if not n%i]\n"
      ],
      "execution_count": 12,
      "outputs": [
        {
          "output_type": "stream",
          "text": [
            "Requirement already satisfied: mne in /usr/local/lib/python3.6/dist-packages (0.17.0)\n",
            "Cloning into 'eeg-notebooks'...\n",
            "remote: Enumerating objects: 258, done.\u001b[K\n",
            "remote: Counting objects: 100% (258/258), done.\u001b[K\n",
            "remote: Compressing objects: 100% (215/215), done.\u001b[K\n",
            "remote: Total 1724 (delta 119), reused 143 (delta 43), pack-reused 1466\u001b[K\n",
            "Receiving objects: 100% (1724/1724), 108.20 MiB | 21.61 MiB/s, done.\n",
            "Resolving deltas: 100% (742/742), done.\n",
            "Checking out files: 100% (485/485), done.\n",
            "/content/eeg-notebooks/notebooks/eeg-notebooks/notebooks\n"
          ],
          "name": "stdout"
        }
      ]
    },
    {
      "metadata": {
        "id": "yR1WkVZKU2Vm",
        "colab_type": "text"
      },
      "cell_type": "markdown",
      "source": [
        "**Parameters**"
      ]
    },
    {
      "metadata": {
        "id": "QGVIiUbAU1nA",
        "colab_type": "code",
        "outputId": "8d1dbe64-d94e-4758-86d5-a9d57bd4c899",
        "colab": {
          "base_uri": "https://localhost:8080/",
          "height": 33
        }
      },
      "cell_type": "code",
      "source": [
        "#Parameters#\n",
        "#subject folders in data folder\n",
        "subs = [101, 102, 103, 104, 105, 106, 108, 109, 110, 111, 112,\n",
        "        202, 203, 204, 205, 207, 208, 209, 210, 211, \n",
        "        301, 302, 303, 304, 305, 306, 307, 308, 309]\n",
        "\n",
        "#for testing\n",
        "#subs = [ 205, 207, 208, 209]\n",
        "\n",
        "#number of sessions in each subject folder\n",
        "nsesh = 2\n",
        "\n",
        "data_dir = 'visual/cueing'\n",
        "event_ids = ['LeftCue','RightCue']\n",
        "\n",
        "\n",
        "## Can load other experiments like this\n",
        "#subs = [ 1, 2, 3]\n",
        "#nsesh = 2\n",
        "#data_dir = 'visual/P300'\n",
        "#event_ids = ['Standard','Target']\n",
        "##\n",
        "\n",
        "load_verbose = 0 #print output during loading\n",
        "\n",
        "sfreq=256.\n",
        "decim=2  # to decrease number of time features \n",
        "nsfreq = sfreq/decim\n",
        "\n",
        "#filter\n",
        "eeg_filter_highpass = 1\n",
        "eeg_filter_lowpass = nsfreq/2.5  #lower to avoid aliasing from decim\n",
        "\n",
        "#artifact rejection\n",
        "rej_thresh_uV = 500  #300 removes most blinks, 1000 keeps most trials\n",
        "rej_thresh = rej_thresh_uV*1e-6\n",
        "\n",
        "#trial epoch limits \n",
        "tmin=-1\n",
        "tmax=2\n",
        "baseline=(-1, 0) #gets removed from training data but used during processing\n",
        "\n",
        "#wavelet settings\n",
        "f_low = 4\n",
        "f_high = 20\n",
        "f_bins = 49  # to decrease number of frequency features\n",
        "wave_cycles = 6 # cycles of each frequency to convolve with data\n",
        "spect_baseline = [-1,-.5] #gets removed from training data but used during processing\n",
        "electrodes_out = [0,1,2,3]  # to decrease number of electrode features from [0,1,2,3] or [0,1,2,3,4] with aux electrode (untested)\n",
        "frequencies =  np.linspace(f_low, f_high, f_bins, endpoint=True)\n",
        "\n",
        "frequency_domain = 0  #if True uses wavelets otherwise use time series\n",
        "\n",
        "#Training Settings\n",
        "batch_size = 32\n",
        "train_epochs = 20\n",
        "num_classes = len(event_ids)\n",
        "test_split = 0.2\n",
        "val_split = 0.2\n",
        "random_seed = 1017\n",
        "np.random.seed(random_seed)\n",
        "\n",
        "# 'CNN','LSTM','NN'\n",
        "model_type = 'LSTM'\n",
        "\n",
        "print('Parameters Set')"
      ],
      "execution_count": 176,
      "outputs": [
        {
          "output_type": "stream",
          "text": [
            "Parameters Set\n"
          ],
          "name": "stdout"
        }
      ]
    },
    {
      "metadata": {
        "id": "g2a98-rwL9wl",
        "colab_type": "text"
      },
      "cell_type": "markdown",
      "source": [
        "**Preprocessing of EEG Data**\n",
        "\n",
        "* LoadData - Each data file is from one session of one subject of the muse cueing task from eeg-notebooks from psych 375 A1 dataset\n",
        "* Filtering - Most ERP components are composed of lower frequency fluctuations in the EEG signal. Thus, we can filter out all frequencies between 1 and 30 hz in order to increase our ability to detect them.\n",
        "* Epoching - Next, we will chunk (epoch) the data into segments representing the data 1000ms before to 2000ms after each cue, we will reject every epoch where the amplitude of the signal exceeded 100 uV, which should most eye blinks."
      ]
    },
    {
      "metadata": {
        "id": "6A3mgX7ILZFK",
        "colab_type": "code",
        "outputId": "9c14a892-4898-4448-a594-5fcdd7743436",
        "colab": {
          "base_uri": "https://localhost:8080/",
          "height": 570
        }
      },
      "cell_type": "code",
      "source": [
        "#Load Data\n",
        "print('Loading Data')\n",
        "isub = subs[0]\n",
        "print(isub)\n",
        "raw = utils.load_data(data_dir, sfreq=sfreq ,subject_nb=isub, session_nb=1,verbose=load_verbose)\n",
        "if nsesh == 2:\n",
        "  raw.append(utils.load_data(data_dir, sfreq=sfreq,subject_nb=isub, session_nb=2,verbose=load_verbose))\n",
        "\n",
        "if len(subs)>1:\n",
        "  for isub in subs[1:]:\n",
        "    print(isub)\n",
        "    raw.append(utils.load_data(data_dir, sfreq=sfreq,subject_nb=isub, session_nb=1,verbose=load_verbose))\n",
        "    if nsesh == 2:\n",
        "      raw.append(utils.load_data(data_dir, sfreq=sfreq,subject_nb=isub, session_nb=2,verbose=load_verbose))\n",
        "  \n",
        "#Filtering\n",
        "print('Filtering Data')\n",
        "raw.filter(eeg_filter_highpass,eeg_filter_lowpass, method='iir', verbose='WARNING' )\n",
        "\n",
        "#Plot filtred data spectra if desired\n",
        "#raw.plot_psd(fmin=eeg_filter_highpass, fmax=eeg_filter_lowpass ) \n",
        "\n",
        "#Epoching\n",
        "event_id = {event_ids[0]: 1, event_ids[1]: 2}\n",
        "events = find_events(raw)\n",
        "epochs = Epochs(raw, events=events, event_id=event_id, \n",
        "                tmin=tmin, tmax=tmax, baseline=baseline, \n",
        "                preload=True,reject={'eeg':rej_thresh},\n",
        "                verbose=False, picks=[0, 1, 2, 3], decim=decim)\n",
        "\n",
        "print('sample drop %: ', (1 - len(epochs.events)/len(events)) * 100)\n",
        "%matplotlib inline\n",
        "conditions = OrderedDict()\n",
        "conditions[event_ids[0]] = [1]\n",
        "conditions[event_ids[1]] = [2]\n",
        "\n",
        "#plot ERPs if desired\n",
        "#fig, ax = utils.plot_conditions(epochs, conditions=conditions, ylim=(-20,20) )"
      ],
      "execution_count": 177,
      "outputs": [
        {
          "output_type": "stream",
          "text": [
            "Loading Data\n",
            "101\n",
            "102\n",
            "103\n",
            "104\n",
            "105\n",
            "106\n",
            "108\n",
            "109\n",
            "110\n",
            "111\n",
            "112\n",
            "202\n",
            "203\n",
            "204\n",
            "205\n",
            "207\n",
            "208\n",
            "209\n",
            "210\n",
            "211\n",
            "301\n",
            "302\n",
            "303\n",
            "304\n",
            "305\n",
            "306\n",
            "307\n",
            "308\n",
            "309\n",
            "Filtering Data\n",
            "4583 events found\n",
            "Event IDs: [ 1  2 11 12 21 22]\n",
            "sample drop %:  56.447741653938465\n"
          ],
          "name": "stdout"
        }
      ]
    },
    {
      "metadata": {
        "id": "EmvSu1bOZiO0",
        "colab_type": "text"
      },
      "cell_type": "markdown",
      "source": [
        "** Spectrogram **\n",
        "\n",
        "* All electrodes are considered on each trial\n",
        "* Many frequencies are used in the wavelet analysis while the output of the morlet is decimated in time.\n",
        "* Two conditions are done separate and concatenated\n",
        "* X is a trials x freq x time matrix\n",
        "* Y is a trials array of condition labels (turned into one hot vectors later in code)\n"
      ]
    },
    {
      "metadata": {
        "id": "Xs-_8GRYZar7",
        "colab_type": "code",
        "colab": {}
      },
      "cell_type": "code",
      "source": [
        "if frequency_domain:\n",
        "  # Condition0\n",
        "  print('Computing Morlet Wavelets on ' + event_ids[0])\n",
        "\n",
        "  tfr0 = tfr_morlet(epochs[event_ids[0]], freqs=frequencies, \n",
        "                        n_cycles=wave_cycles, return_itc=False,\n",
        "                        picks=electrodes_out,average=False,decim=decim)\n",
        "  tfr0 = tfr0.apply_baseline(spect_baseline,mode='mean')\n",
        "  stim_onset = np.argmax(tfr0.times>0)\n",
        "  new_times = tfr0.times[stim_onset:]\n",
        "\n",
        "  #reshape data\n",
        "  cond0_power_out = np.moveaxis(tfr0.data[:,:,:,stim_onset:],1,3) #move electrodes last\n",
        "  cond0_power_out = np.moveaxis(cond0_power_out,1,2) # move time second\n",
        "  #cond0_power_out[:,0:5,0:5,:] = 0 #for testing model add mark to image\n",
        "\n",
        "  print('Condition zero trials: ' + str(len(cond0_power_out)))\n",
        "\n",
        "  print(event_ids[0] + ' Time Points: ' + str(len(new_times)))\n",
        "  print(event_ids[0] + ' Frequencies: ' + str(len(tfr0.freqs)))\n",
        "\n",
        "  #Condition1\n",
        "  print('Computing Morlet Wavelets on ' + event_ids[1])\n",
        "  tfr1 = tfr_morlet(epochs[event_ids[1]], freqs=frequencies, \n",
        "                        n_cycles=wave_cycles, return_itc=False,\n",
        "                        picks=electrodes_out,average=False,decim=decim)\n",
        "  tfr1 = tfr1.apply_baseline(spect_baseline,mode='mean')\n",
        "  \n",
        "  #reshape data\n",
        "  cond1_power_out = np.moveaxis(tfr1.data[:,:,:,stim_onset:],1,3)\n",
        "  cond1_power_out = np.moveaxis(cond1_power_out,1,2) # move time second\n",
        "  #cond1_power_out[:,0:5,0:5,:] = 1 #for testing model add mark to image\n",
        "\n",
        "  print('Condition one trials: ' + str(len(cond1_power_out)))    \n",
        "\n",
        "  print(event_ids[1] + ' Time Points: ' + str(len(new_times)))\n",
        "  print(event_ids[1] + ' Frequencies: ' + str(len(tfr1.freqs)))\n",
        "  X = np.append(cond0_power_out,cond1_power_out,0);\n",
        "  \n",
        "  if model_type != 'CNN':\n",
        "    #reshape to trials x times x variables for LSTM and NN model\n",
        "    X = np.reshape(X, (X.shape[0], X.shape[1], X.shape[2] * X.shape[3]),order='F')\n",
        "   \n",
        "  #Normalize X - need to save mean and std for future test + val\n",
        "  X = (X - np.mean(X)) / np.std(X)\n",
        "  \n",
        "  #Append Data\n",
        "  Y_class = np.append(np.zeros(len(cond0_power_out)), np.ones(len(cond1_power_out)),0)\n",
        "  \n",
        "  print('Combined X Shape: ' + str(X.shape))\n",
        "  print('Combined Y Shape: ' + str(Y_class.shape))"
      ],
      "execution_count": 0,
      "outputs": []
    },
    {
      "metadata": {
        "id": "_d74N_oqMlGF",
        "colab_type": "text"
      },
      "cell_type": "markdown",
      "source": [
        "**Time Domain**\n",
        "\n",
        "* Instead may want to retain time domain data\n",
        "* After Epoching, arange data into useful format with labels"
      ]
    },
    {
      "metadata": {
        "id": "qoBQKZ2uMOpL",
        "colab_type": "code",
        "colab": {
          "base_uri": "https://localhost:8080/",
          "height": 82
        },
        "outputId": "c9972670-1034-4ea3-ed0a-a8547c3e4d14"
      },
      "cell_type": "code",
      "source": [
        "if not frequency_domain:\n",
        "  \n",
        "  #epochs = epochs.decimate(10) #probably don't do this\n",
        "  X = np.moveaxis(epochs._data,1,2); #but channels last\n",
        "  \n",
        "  #take post baseline only\n",
        "  stim_onset = np.argmax(epochs.times>0)\n",
        "  new_times = epochs.times[stim_onset:]\n",
        "  X = X[:,stim_onset:,:]\n",
        "  \n",
        "  print(X.shape)\n",
        "  if model_type == 'CNN' and not frequency_domain:\n",
        "    # reshape for CNN 512 ms long, factors 64 * 8\n",
        "    # these 10's need to be found algorithmically (find any factor of the number)\n",
        "    all_factors = factors(X.shape[1])\n",
        "    X = np.reshape(X, (X.shape[0], int(X.shape[1]/all_factors[3]), all_factors[3], X.shape[2]),order='F')\n",
        "  \n",
        "  #Normalize X - need to save mean and std for future test + val\n",
        "  X = (X - np.mean(X)) / np.std(X)\n",
        "  \n",
        "  Y_class = epochs.events[:,2]-1  #subtract 1 to make 0 and 1\n",
        "  \n",
        "  print('X Shape: ' + str(X.shape))\n",
        "  print('Y Shape: ' + str(Y_class.shape))\n",
        "  print('Y Example: ' + str(Y_class[0:10]))"
      ],
      "execution_count": 179,
      "outputs": [
        {
          "output_type": "stream",
          "text": [
            "(1996, 256, 4)\n",
            "X Shape: (1996, 256, 4)\n",
            "Y Shape: (1996,)\n",
            "Y Example: [1 1 0 0 0 0 0 0 1 0]\n"
          ],
          "name": "stdout"
        }
      ]
    },
    {
      "metadata": {
        "id": "WqVTXiwrZxbf",
        "colab_type": "text"
      },
      "cell_type": "markdown",
      "source": [
        "**Prepare Data for Model**\n"
      ]
    },
    {
      "metadata": {
        "id": "4xyrsW2kZW8D",
        "colab_type": "code",
        "outputId": "7079ac0e-bb96-4f02-a1d1-43fda90ac9d7",
        "colab": {
          "base_uri": "https://localhost:8080/",
          "height": 618
        }
      },
      "cell_type": "code",
      "source": [
        "# convert class vectors to one hot Y and recast X\n",
        "Y = keras.utils.to_categorical(Y_class, num_classes)\n",
        "X = X.astype('float32')\n",
        "\n",
        "# Split training test and validation data \n",
        "val_prop = val_split / (1-test_split)\n",
        "x_train, x_test, y_train, y_test = train_test_split(X, Y, test_size=test_split,random_state=random_seed) \n",
        "x_train, x_val, y_train, y_val = train_test_split(x_train, y_train, test_size=val_prop, random_state=random_seed)\n",
        "\n",
        "# Compute model input shape\n",
        "input_shape = X.shape[1:]\n",
        "\n",
        "\n",
        "print('X Range: ' + str(np.min(X)) + ':' + str(np.max(X)))\n",
        "print('X Examples:')\n",
        "\n",
        "#for plotting\n",
        "\n",
        "vmin = (np.std(X)/4) * -1\n",
        "vmax = np.std(X)/4  \n",
        "\n",
        "#Plot Example Data\n",
        "f, axarr = plt.subplots(2,2, figsize = (8,8))\n",
        "axarr[0][0].set_title(event_ids[0])\n",
        "axarr[0][0].imshow(X[0],vmin=vmin, vmax=vmax, aspect='auto')\n",
        "\n",
        "axarr[0][0].invert_yaxis()\n",
        "axarr[1][0].imshow(X[1],vmin=vmin, vmax=vmax, aspect='auto')\n",
        "axarr[1][0].invert_yaxis()\n",
        "\n",
        "axarr[0][1].set_title(event_ids[1])\n",
        "axarr[0][1].imshow(X[-1],vmin=vmin, vmax=vmax, aspect='auto')\n",
        "axarr[0][1].invert_yaxis()\n",
        "axarr[1][1].imshow(X[-2],vmin=vmin, vmax=vmax, aspect='auto')\n",
        "axarr[1][1].invert_yaxis()\n",
        ";\n",
        "\n",
        "print('Input Shape: ' + str(input_shape))\n",
        "print('x_train shape:', x_train.shape)\n",
        "print(x_train.shape[0], 'train samples')\n",
        "print(x_test.shape[0], 'test samples')\n",
        "print(x_val.shape[0], 'validation samples')\n"
      ],
      "execution_count": 180,
      "outputs": [
        {
          "output_type": "stream",
          "text": [
            "X Range: -16.346918:14.0279455\n",
            "X Examples:\n",
            "Input Shape: (256, 4)\n",
            "x_train shape: (1197, 256, 4)\n",
            "1197 train samples\n",
            "400 test samples\n",
            "399 validation samples\n"
          ],
          "name": "stdout"
        },
        {
          "output_type": "display_data",
          "data": {
            "image/png": "[encoded data removed]",
            "text/plain": [
              "<Figure size 576x576 with 4 Axes>"
            ]
          },
          "metadata": {
            "tags": []
          }
        }
      ]
    },
    {
      "metadata": {
        "id": "mKzYDoF1TQmK",
        "colab_type": "text"
      },
      "cell_type": "markdown",
      "source": [
        "**Build Model and Train**"
      ]
    },
    {
      "metadata": {
        "scrolled": false,
        "id": "JxjbgyC5G7AZ",
        "colab_type": "code",
        "outputId": "fc1e5099-a2f8-4ef5-d001-a36f7ce1bea3",
        "colab": {
          "base_uri": "https://localhost:8080/",
          "height": 1713
        }
      },
      "cell_type": "code",
      "source": [
        "print('Running ' +  model_type + ' Model:')\n",
        "if model_type == 'LSTM':\n",
        "  ##---LSTM - Many to two, sequence of time to electrodes\n",
        "  units = [input_shape[1], 20, 4, 20, num_classes]\n",
        "  model = Sequential()\n",
        "  model.add(LSTM(input_shape=(None, units[0]) ,units=units[1], return_sequences=True))\n",
        "  model.add(Dropout(0.2))\n",
        "  model.add(LSTM(units=units[2],return_sequences=True))\n",
        "  model.add(Dropout(0.2))\n",
        "  model.add(LSTM(units=units[3],return_sequences=False))\n",
        "  model.add(Dropout(0.2))\n",
        "  model.add(Dense(units=units[4]))\n",
        "  model.add(Activation(\"softmax\"))\n",
        "\n",
        "if model_type == 'NN':\n",
        "  ##---DenseFeedforward Network\n",
        "  model = Sequential()\n",
        "  model.add(Flatten())\n",
        "  model.add(Dense(10, activation='relu'))\n",
        "  model.add(Dropout(.20))\n",
        "  model.add(Dense(num_classes, activation='softmax'))\n",
        "\n",
        "if model_type == 'CNN':\n",
        "  ##----Convolutional Network\n",
        "  # parameters above need to be adjusted until input shape is square on \n",
        "  # dimensions 1 and 2 (like an image) and electrodes on third\n",
        "  model = Sequential()\n",
        "  model.add(Conv2D(49, (3, 3), input_shape=input_shape))\n",
        "  model.add(Activation('relu'))\n",
        "  model.add(Conv2D(32, (3, 3)))\n",
        "  model.add(Activation('relu'))\n",
        "  model.add(MaxPooling2D(pool_size=(2, 2)))\n",
        "  model.add(Flatten())\n",
        "  model.add(Dense(10))\n",
        "  model.add(Activation('relu'))\n",
        "  model.add(Dense(num_classes))\n",
        "  model.add(Activation('softmax'))\n",
        "\n",
        "# initiate adam optimizer\n",
        "opt = keras.optimizers.Adam(lr=0.001, beta_1=0.9, beta_2=0.999, \n",
        "                            epsilon=None, decay=0.0, amsgrad=False)\n",
        "\n",
        "# Let's train the model using RMSprop\n",
        "model.compile(loss='categorical_crossentropy',\n",
        "              optimizer=opt,\n",
        "              metrics=['accuracy'])\n",
        "\n",
        "#Train Model\n",
        "history = model.fit(x_train, y_train,\n",
        "          batch_size=batch_size,\n",
        "          epochs=train_epochs,\n",
        "          validation_data=(x_val, y_val),\n",
        "          shuffle=True,\n",
        "          verbose=True)\n",
        "         \n",
        "#Summarize\n",
        "model.summary()\n",
        " \n",
        "\n",
        "# list all data in history\n",
        "print(history.history.keys())\n",
        "# summarize history for accuracy\n",
        "plt.plot(history.history['acc'])\n",
        "plt.plot(history.history['val_acc'])\n",
        "plt.title('model accuracy')\n",
        "plt.ylabel('accuracy')\n",
        "plt.xlabel('epoch')\n",
        "plt.legend(['train', 'test'], loc='upper left')\n",
        "plt.show()\n",
        "# summarize history for loss\n",
        "plt.plot(np.log(history.history['loss']))\n",
        "plt.plot(np.log(history.history['val_loss']))\n",
        "plt.title('model loss')\n",
        "plt.ylabel('log(loss)')\n",
        "plt.xlabel('epoch')\n",
        "plt.legend(['train', 'test'], loc='upper left')\n",
        "plt.show()\n",
        "\n",
        "# Test on left out Test data\n",
        "score, acc = model.evaluate(x_test, y_test, batch_size=batch_size)\n",
        "print('Test score:', score)\n",
        "print('Test accuracy:', acc)"
      ],
      "execution_count": 181,
      "outputs": [
        {
          "output_type": "stream",
          "text": [
            "Running LSTM Model:\n",
            "Train on 1197 samples, validate on 399 samples\n",
            "Epoch 1/20\n",
            "1197/1197 [==============================] - 77s 64ms/step - loss: 0.6933 - acc: 0.5079 - val_loss: 0.6938 - val_acc: 0.4812\n",
            "Epoch 2/20\n",
            "1197/1197 [==============================] - 60s 50ms/step - loss: 0.6929 - acc: 0.4962 - val_loss: 0.6945 - val_acc: 0.4637\n",
            "Epoch 3/20\n",
            "1197/1197 [==============================] - 59s 49ms/step - loss: 0.6924 - acc: 0.5113 - val_loss: 0.6973 - val_acc: 0.4737\n",
            "Epoch 4/20\n",
            "1197/1197 [==============================] - 58s 49ms/step - loss: 0.6922 - acc: 0.5171 - val_loss: 0.6970 - val_acc: 0.4662\n",
            "Epoch 5/20\n",
            "1197/1197 [==============================] - 60s 50ms/step - loss: 0.6921 - acc: 0.5038 - val_loss: 0.6957 - val_acc: 0.4662\n",
            "Epoch 6/20\n",
            "1197/1197 [==============================] - 58s 49ms/step - loss: 0.6914 - acc: 0.5163 - val_loss: 0.6980 - val_acc: 0.4737\n",
            "Epoch 7/20\n",
            "1197/1197 [==============================] - 58s 49ms/step - loss: 0.6910 - acc: 0.5280 - val_loss: 0.7002 - val_acc: 0.4511\n",
            "Epoch 8/20\n",
            "1197/1197 [==============================] - 59s 49ms/step - loss: 0.6916 - acc: 0.5096 - val_loss: 0.6965 - val_acc: 0.4762\n",
            "Epoch 9/20\n",
            "1197/1197 [==============================] - 59s 49ms/step - loss: 0.6890 - acc: 0.5263 - val_loss: 0.6990 - val_acc: 0.4687\n",
            "Epoch 10/20\n",
            "1197/1197 [==============================] - 60s 50ms/step - loss: 0.6885 - acc: 0.5079 - val_loss: 0.7014 - val_acc: 0.4737\n",
            "Epoch 11/20\n",
            "1197/1197 [==============================] - 59s 49ms/step - loss: 0.6866 - acc: 0.5096 - val_loss: 0.7119 - val_acc: 0.4712\n",
            "Epoch 12/20\n",
            "1197/1197 [==============================] - 60s 50ms/step - loss: 0.6875 - acc: 0.5029 - val_loss: 0.6988 - val_acc: 0.4762\n",
            "Epoch 13/20\n",
            "1197/1197 [==============================] - 58s 48ms/step - loss: 0.6843 - acc: 0.5288 - val_loss: 0.7031 - val_acc: 0.4687\n",
            "Epoch 14/20\n",
            "1197/1197 [==============================] - 58s 48ms/step - loss: 0.6857 - acc: 0.5104 - val_loss: 0.7038 - val_acc: 0.4812\n",
            "Epoch 15/20\n",
            "1197/1197 [==============================] - 58s 48ms/step - loss: 0.6852 - acc: 0.5230 - val_loss: 0.7063 - val_acc: 0.4687\n",
            "Epoch 16/20\n",
            "1197/1197 [==============================] - 59s 50ms/step - loss: 0.6842 - acc: 0.5272 - val_loss: 0.7011 - val_acc: 0.4662\n",
            "Epoch 17/20\n",
            "1197/1197 [==============================] - 57s 48ms/step - loss: 0.6831 - acc: 0.5146 - val_loss: 0.7033 - val_acc: 0.4812\n",
            "Epoch 18/20\n",
            "1197/1197 [==============================] - 57s 48ms/step - loss: 0.6821 - acc: 0.5338 - val_loss: 0.7057 - val_acc: 0.4687\n",
            "Epoch 19/20\n",
            "1197/1197 [==============================] - 57s 48ms/step - loss: 0.6856 - acc: 0.5380 - val_loss: 0.7022 - val_acc: 0.4887\n",
            "Epoch 20/20\n",
            "1197/1197 [==============================] - 57s 48ms/step - loss: 0.6845 - acc: 0.5280 - val_loss: 0.6979 - val_acc: 0.4586\n",
            "_________________________________________________________________\n",
            "Layer (type)                 Output Shape              Param #   \n",
            "=================================================================\n",
            "lstm_39 (LSTM)               (None, None, 20)          2000      \n",
            "_________________________________________________________________\n",
            "dropout_43 (Dropout)         (None, None, 20)          0         \n",
            "_________________________________________________________________\n",
            "lstm_40 (LSTM)               (None, None, 4)           400       \n",
            "_________________________________________________________________\n",
            "dropout_44 (Dropout)         (None, None, 4)           0         \n",
            "_________________________________________________________________\n",
            "lstm_41 (LSTM)               (None, 20)                2000      \n",
            "_________________________________________________________________\n",
            "dropout_45 (Dropout)         (None, 20)                0         \n",
            "_________________________________________________________________\n",
            "dense_36 (Dense)             (None, 2)                 42        \n",
            "_________________________________________________________________\n",
            "activation_40 (Activation)   (None, 2)                 0         \n",
            "=================================================================\n",
            "Total params: 4,442\n",
            "Trainable params: 4,442\n",
            "Non-trainable params: 0\n",
            "_________________________________________________________________\n",
            "dict_keys(['val_loss', 'val_acc', 'loss', 'acc'])\n"
          ],
          "name": "stdout"
        },
        {
          "output_type": "display_data",
          "data": {
            "image/png": "[encoded data removed]",
            "text/plain": [
              "<Figure size 432x288 with 1 Axes>"
            ]
          },
          "metadata": {
            "tags": []
          }
        },
        {
          "output_type": "display_data",
          "data": {
            "image/png": "[encoded data removed]",
            "text/plain": [
              "<Figure size 432x288 with 1 Axes>"
            ]
          },
          "metadata": {
            "tags": []
          }
        },
        {
          "output_type": "stream",
          "text": [
            "400/400 [==============================] - 4s 9ms/step\n",
            "Test score: 0.707297465801239\n",
            "Test accuracy: 0.47\n"
          ],
          "name": "stdout"
        }
      ]
    }
  ]
}