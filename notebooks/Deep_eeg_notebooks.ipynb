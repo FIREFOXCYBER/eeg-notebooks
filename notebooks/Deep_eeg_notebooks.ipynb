{
  "nbformat": 4,
  "nbformat_minor": 0,
  "metadata": {
    "colab": {
      "name": "Deep-eeg-notebooks.ipynb",
      "version": "0.3.2",
      "provenance": [],
      "toc_visible": true,
      "include_colab_link": true
    },
    "kernelspec": {
      "name": "python3",
      "display_name": "Python 3"
    },
    "accelerator": "GPU"
  },
  "cells": [
    {
      "cell_type": "markdown",
      "metadata": {
        "id": "view-in-github",
        "colab_type": "text"
      },
      "source": [
        "<a href=\"https://colab.research.google.com/github/kylemath/eeg-notebooks/blob/master/notebooks/Deep_eeg_notebooks.ipynb\" target=\"_parent\"><img src=\"https://colab.research.google.com/assets/colab-badge.svg\" alt=\"Open In Colab\"/></a>"
      ]
    },
    {
      "metadata": {
        "id": "cH7KRd8ZZPMd",
        "colab_type": "text"
      },
      "cell_type": "markdown",
      "source": [
        "## Deep-eeg-notebooks\n",
        "\n",
        "Goal is to make a deep learning LSTM stack that processes Muse eeg-notebook EEG trials as input and predicts binary trial category as output. This is all made to run on Google Colab notebooks using cloud GPU capabilities, so the git repo's get loaded at the start of the code into the workspace. Minor mods may be needed to use local Jupyter notebook. Long term goal of command line interface and mne toolbox.\n",
        "\n",
        "Strategy:\n",
        "* Load in Muse data, normal pre-processing to get to trials\n",
        "* Decimate down to reduce features in time x frequency x electrode\n",
        "* Avoid CNN?\n",
        "* load time steps into LSTM?\n",
        "* Predict attend left vs attend right on muse 375 data\n",
        "\n",
        "API:\n",
        "* Want to input the data directory of any eeg-notebook experiment (https://github.com/kylemath/eeg-notebooks)\n",
        "* More general with the master eeg-notebooks - https://github.com/NeuroTechX/eeg-notebooks\n",
        "\n",
        "\n",
        "LearningModels:\n",
        "* First try simple CNN\n",
        "* then add in LSTM component to treat time as recurrent\n",
        "\n",
        "DataModels:\n",
        "* First pool data over subjects\n",
        "* Try subject specific models\n",
        "* Then try multilevel models\n",
        "\n",
        "Using: \n",
        "* https://github.com/pbashivan/EEGLearn\n",
        "* https://github.com/tevisgehr/EEG-Classification\n",
        "* https://github.com/kylemath/eeg-notebooks\n",
        "* https://github.com/mne-tools/mne-python\n",
        "* https://github.com/keras-team/keras/blob/master/examples/imdb_cnn_lstm.py\n",
        "* https://github.com/ml4a/ml4a-guides/blob/master/notebooks/keras_classification.ipynb\n",
        "\n",
        "Resources:\n",
        "*   http://proceedings.mlr.press/v56/Thodoroff16.pdf\n",
        "*   https://arxiv.org/abs/1511.06448\n",
        "\n",
        "\n"
      ]
    },
    {
      "metadata": {
        "id": "Kf-1ItUyU380",
        "colab_type": "text"
      },
      "cell_type": "markdown",
      "source": [
        "**Setup**"
      ]
    },
    {
      "metadata": {
        "id": "VXe-o8XtG9ki",
        "colab_type": "code",
        "outputId": "39c4684f-6918-4f15-f3ce-2a83281db6a5",
        "colab": {
          "base_uri": "https://localhost:8080/",
          "height": 340
        }
      },
      "cell_type": "code",
      "source": [
        "!pip install mne\n",
        "from mne import Epochs, find_events, concatenate_raws\n",
        "from mne.time_frequency import tfr_morlet\n",
        "\n",
        "!git clone https://github.com/kylemath/eeg-notebooks.git\n",
        "%cd eeg-notebooks/notebooks\n",
        "from utils import utils\n",
        "\n",
        "import pandas as pd\n",
        "pd.options.display.max_columns = None\n",
        "pd.options.display.precision = 4\n",
        "\n",
        "import numpy as np\n",
        "from numpy import genfromtxt\n",
        "\n",
        "from collections import OrderedDict\n",
        "\n",
        "import matplotlib.pyplot as plt\n",
        "%matplotlib inline\n",
        "plt.rcParams[\"figure.figsize\"] = (12,12)\n",
        "\n",
        "import keras\n",
        "from keras.models import Sequential\n",
        "from keras.layers import Dense, Dropout, Activation, Flatten, Conv2D, MaxPooling2D\n",
        "\n",
        "from sklearn.model_selection import train_test_split"
      ],
      "execution_count": 2,
      "outputs": [
        {
          "output_type": "stream",
          "text": [
            "Collecting mne\n",
            "\u001b[?25l  Downloading https://files.pythonhosted.org/packages/fa/20/207b7780abf56afb03697c9d358b706ac22d96975c1da755cc9663f358cc/mne-0.17.0.tar.gz (6.2MB)\n",
            "\u001b[K    100% |████████████████████████████████| 6.2MB 7.3MB/s \n",
            "\u001b[?25hBuilding wheels for collected packages: mne\n",
            "  Running setup.py bdist_wheel for mne ... \u001b[?25l-\b \b\\\b \b|\b \b/\b \b-\b \b\\\b \b|\b \b/\b \b-\b \bdone\n",
            "\u001b[?25h  Stored in directory: /root/.cache/pip/wheels/59/23/bb/ebafe2eae31064edfb9b384131abd0ec562a9418601cde6d69\n",
            "Successfully built mne\n",
            "Installing collected packages: mne\n",
            "Successfully installed mne-0.17.0\n",
            "Cloning into 'eeg-notebooks'...\n",
            "remote: Enumerating objects: 246, done.\u001b[K\n",
            "remote: Counting objects: 100% (246/246), done.\u001b[K\n",
            "remote: Compressing objects: 100% (203/203), done.\u001b[K\n",
            "remote: Total 1712 (delta 113), reused 143 (delta 43), pack-reused 1466\u001b[K\n",
            "Receiving objects: 100% (1712/1712), 108.00 MiB | 20.41 MiB/s, done.\n",
            "Resolving deltas: 100% (736/736), done.\n",
            "Checking out files: 100% (485/485), done.\n",
            "/content/eeg-notebooks/notebooks/eeg-notebooks/notebooks\n"
          ],
          "name": "stdout"
        },
        {
          "output_type": "stream",
          "text": [
            "Using TensorFlow backend.\n"
          ],
          "name": "stderr"
        }
      ]
    },
    {
      "metadata": {
        "id": "yR1WkVZKU2Vm",
        "colab_type": "text"
      },
      "cell_type": "markdown",
      "source": [
        "**Parameters**"
      ]
    },
    {
      "metadata": {
        "id": "QGVIiUbAU1nA",
        "colab_type": "code",
        "outputId": "6cb6764b-723b-47e8-cb5c-373374be472c",
        "colab": {
          "base_uri": "https://localhost:8080/",
          "height": 34
        }
      },
      "cell_type": "code",
      "source": [
        "#Parameters#\n",
        "#subject folders in data folder\n",
        "subs = [101, 102, 103, 104, 105, 106, 108, 109, 110, 111, 112,\n",
        "        202, 203, 204, 205, 207, 208, 209, 210, 211, \n",
        "        301, 302, 303, 304, 305, 306, 307, 308, 309]\n",
        "\n",
        "#for testing\n",
        "subs = [ 205, 207, 208, 209]\n",
        "\n",
        "#number of sessions in each subject folder\n",
        "nsesh = 2\n",
        "\n",
        "data_dir = 'visual/cueing'\n",
        "event_ids = ['LeftCue','RightCue']\n",
        "\n",
        "\n",
        "## Can load other experiments like this\n",
        "#subs = [ 1, 2, 3]\n",
        "#nsesh = 2\n",
        "#data_dir = 'visual/P300'\n",
        "#event_ids = ['Standard','Target']\n",
        "##\n",
        "\n",
        "load_verbose = 0 #print output during loading\n",
        "\n",
        "frequency_domain = 0  #if True uses wavelets otherwise use time series\n",
        "\n",
        "sfreq=256.\n",
        "\n",
        "#filter\n",
        "eeg_filter_highpass = 1\n",
        "eeg_filter_lowpass = 30\n",
        "\n",
        "#artifact rejection\n",
        "rej_thresh_uV = 1000  #300 removes most blinks, 1000 keeps most trials\n",
        "rej_thresh = rej_thresh_uV*1e-6\n",
        "\n",
        "#trial epoch limits \n",
        "tmin=-1\n",
        "tmax=2\n",
        "decim=20  # to decrease number of time features\n",
        "baseline=(-1, 0) #gets removed from training data but used during processing\n",
        "\n",
        "#wavelet settings\n",
        "f_low = 4\n",
        "f_high = 20\n",
        "f_bins = 10  # to decrease number of frequency features\n",
        "frequencies =  np.linspace(4, 10, f_bins, endpoint=True)\n",
        "wave_cycles = 6\n",
        "spect_baseline = [-1,-.5] #gets removed from training data but used during processing\n",
        "electrodes_out = [0,1,2,3]  # to decrease number of electrode features from [0,1,2,3] or [0,1,2,3,4] with aux electrode (untested)\n",
        "\n",
        "#Training Settings\n",
        "batch_size = 16\n",
        "train_epochs = 100\n",
        "num_classes = len(event_ids)\n",
        "test_split = 0.2\n",
        "val_split = 0.2\n",
        "random_seed = 1017\n",
        "np.random.seed(random_seed)\n",
        "\n",
        "\n",
        "print('Parameters Set')"
      ],
      "execution_count": 22,
      "outputs": [
        {
          "output_type": "stream",
          "text": [
            "Parameters Set\n"
          ],
          "name": "stdout"
        }
      ]
    },
    {
      "metadata": {
        "id": "g2a98-rwL9wl",
        "colab_type": "text"
      },
      "cell_type": "markdown",
      "source": [
        "**Preprocessing of EEG Data**\n",
        "\n",
        "* LoadData - Each data file is from one session of one subject of the muse cueing task from eeg-notebooks from psych 375 A1 dataset\n",
        "* Filtering - Most ERP components are composed of lower frequency fluctuations in the EEG signal. Thus, we can filter out all frequencies between 1 and 30 hz in order to increase our ability to detect them.\n",
        "* Epoching - Next, we will chunk (epoch) the data into segments representing the data 1000ms before to 2000ms after each cue, we will reject every epoch where the amplitude of the signal exceeded 100 uV, which should most eye blinks."
      ]
    },
    {
      "metadata": {
        "id": "6A3mgX7ILZFK",
        "colab_type": "code",
        "outputId": "616b9b73-fc6f-4fbf-c948-6f54f10d7660",
        "colab": {
          "base_uri": "https://localhost:8080/",
          "height": 170
        }
      },
      "cell_type": "code",
      "source": [
        "#Load Data\n",
        "print('Loading Data')\n",
        "isub = subs[0]\n",
        "print(isub)\n",
        "raw = utils.load_data(data_dir, sfreq=sfreq ,subject_nb=isub, session_nb=1,verbose=load_verbose)\n",
        "if nsesh == 2:\n",
        "  raw.append(utils.load_data(data_dir, sfreq=sfreq,subject_nb=isub, session_nb=2,verbose=load_verbose))\n",
        "\n",
        "if len(subs)>1:\n",
        "  for isub in subs[1:]:\n",
        "    print(isub)\n",
        "    raw.append(utils.load_data(data_dir, sfreq=sfreq,subject_nb=isub, session_nb=1,verbose=load_verbose))\n",
        "    if nsesh == 2:\n",
        "      raw.append(utils.load_data(data_dir, sfreq=sfreq,subject_nb=isub, session_nb=2,verbose=load_verbose))\n",
        "  \n",
        "#Filtering\n",
        "print('Filtering Data')\n",
        "raw.filter(eeg_filter_highpass,eeg_filter_lowpass, method='iir', verbose='WARNING' )\n",
        "\n",
        "#Plot filtred data spectra if desired\n",
        "#raw.plot_psd(fmin=eeg_filter_highpass, fmax=eeg_filter_lowpass ) \n",
        "\n",
        "#Epoching\n",
        "event_id = {event_ids[0]: 1, event_ids[1]: 2}\n",
        "events = find_events(raw)\n",
        "epochs = Epochs(raw, events=events, event_id=event_id, \n",
        "                tmin=tmin, tmax=tmax, baseline=baseline, \n",
        "                preload=True,reject={'eeg':rej_thresh},\n",
        "                verbose=False, picks=[0, 1, 2, 3])\n",
        "\n",
        "print('sample drop %: ', (1 - len(epochs.events)/len(events)) * 100)\n",
        "%matplotlib inline\n",
        "conditions = OrderedDict()\n",
        "conditions[event_ids[0]] = [1]\n",
        "conditions[event_ids[1]] = [2]\n",
        "\n",
        "#plot ERPs if desired\n",
        "#fig, ax = utils.plot_conditions(epochs, conditions=conditions, ylim=(-20,20) )"
      ],
      "execution_count": 23,
      "outputs": [
        {
          "output_type": "stream",
          "text": [
            "Loading Data\n",
            "205\n",
            "207\n",
            "208\n",
            "209\n",
            "Filtering Data\n",
            "674 events found\n",
            "Event IDs: [ 1  2 11 12 21 22]\n",
            "sample drop %:  50.29673590504451\n"
          ],
          "name": "stdout"
        }
      ]
    },
    {
      "metadata": {
        "id": "dpXiF6i0opGm",
        "colab_type": "text"
      },
      "cell_type": "markdown",
      "source": [
        "TODO: Time domain features:"
      ]
    },
    {
      "metadata": {
        "id": "EmvSu1bOZiO0",
        "colab_type": "text"
      },
      "cell_type": "markdown",
      "source": [
        "** Spectrogram **\n",
        "\n",
        "* All electrodes are considered on each trial\n",
        "* Many frequencies are used in the wavelet analysis while the output of the morlet is decimated in time.\n",
        "* Two conditions are done separate and concatenated\n",
        "* X is a trials x freq x time matrix\n",
        "* Y is a trials array of condition labels (turned into one hot vectors later in code)\n"
      ]
    },
    {
      "metadata": {
        "id": "Xs-_8GRYZar7",
        "colab_type": "code",
        "outputId": "e342a1e6-531c-49e3-b5a3-4e8ff820798f",
        "colab": {
          "base_uri": "https://localhost:8080/",
          "height": 34
        }
      },
      "cell_type": "code",
      "source": [
        "if frequency_domain:\n",
        "  # Condition0\n",
        "  print('Computing Morlet Wavelets on ' + event_ids[0])\n",
        "\n",
        "  tfr0 = tfr_morlet(epochs[event_ids[0]], freqs=frequencies, \n",
        "                        n_cycles=wave_cycles, return_itc=False,\n",
        "                        picks=electrodes_out,average=False,decim=decim)\n",
        "  tfr0 = tfr0.apply_baseline(spect_baseline,mode='mean')\n",
        "  stim_onset = np.argmax(tfr0.times>0)\n",
        "  new_times = tfr0.times[stim_onset:]\n",
        "  cond0_power_out = np.moveaxis(tfr0.data[:,:,:,stim_onset:],1,3)\n",
        "  print('Condition zero trials: ' + str(len(cond0_power_out)))\n",
        "\n",
        "  #cond0_power_out[:,0:5,0:5,:] = 0 #for testing model add mark to image\n",
        "\n",
        "  print(event_ids[0] + ' Time Points: ' + str(len(new_times)))\n",
        "  print(event_ids[0] + ' Frequencies: ' + str(len(tfr0.freqs)))\n",
        "\n",
        "  #Condition1\n",
        "  print('Computing Morlet Wavelets on ' + event_ids[1])\n",
        "  tfr1 = tfr_morlet(epochs[event_ids[1]], freqs=frequencies, \n",
        "                        n_cycles=wave_cycles, return_itc=False,\n",
        "                        picks=electrodes_out,average=False,decim=decim)\n",
        "  tfr1 = tfr1.apply_baseline(spect_baseline,mode='mean')\n",
        "  cond1_power_out = np.moveaxis(tfr1.data[:,:,:,stim_onset:],1,3)\n",
        "  print('Condition one trials: ' + str(len(cond1_power_out)))    \n",
        "  #cond1_power_out[:,0:5,0:5,:] = 1 #for testing model add mark to image\n",
        "\n",
        "  print(event_ids[1] + ' Time Points: ' + str(len(new_times)))\n",
        "  print(event_ids[1] + ' Frequencies: ' + str(len(tfr1.freqs)))\n",
        "\n",
        "  X = np.append(cond0_power_out,cond1_power_out,0);\n",
        "  \n",
        "  #Normalize X - need to save mean and std for future test + val\n",
        "  X = (X - np.mean(X)) / np.std(X)\n",
        "  #Append Data\n",
        "  Y = np.append(np.zeros(len(cond0_power_out)), np.ones(len(cond1_power_out)),0);\n",
        "  \n",
        "  print('Combined X Shape: ' + str(X.shape))\n",
        "  print('Combined Y Shape: ' + str(Y.shape))\n",
        "  print('Combined Y: ' + str(Y))\n",
        "  print('X Range: ' + str(np.min(X)) + ':' + str(np.max(X)))\n",
        "  print('X Examples:')\n",
        "\n",
        "  #for plotting\n",
        "  \n",
        "  vmin = (np.std(X)/4) * -1\n",
        "  vmax = np.std(X)/4  \n",
        "\n",
        "  #Plot Example Data\n",
        "  f, axarr = plt.subplots(2,2, figsize = (8,8))\n",
        "  axarr[0][0].set_title(event_ids[0])\n",
        "  axarr[0][0].imshow(X[0,:,:,1],vmin=vmin, vmax=vmax)\n",
        "\n",
        "  axarr[0][0].invert_yaxis()\n",
        "  axarr[1][0].imshow(X[1,:,:,1],vmin=vmin, vmax=vmax)\n",
        "  axarr[1][0].invert_yaxis()\n",
        "\n",
        "  axarr[0][1].set_title(event_ids[1])\n",
        "  axarr[0][1].imshow(X[-1,:,:,1],vmin=vmin, vmax=vmax)\n",
        "  axarr[0][1].invert_yaxis()\n",
        "  axarr[1][1].imshow(X[-2,:,:,1],vmin=vmin, vmax=vmax)\n",
        "  axarr[1][1].invert_yaxis()\n",
        ";\n",
        "\n"
      ],
      "execution_count": 24,
      "outputs": [
        {
          "output_type": "execute_result",
          "data": {
            "text/plain": [
              "''"
            ]
          },
          "metadata": {
            "tags": []
          },
          "execution_count": 24
        }
      ]
    },
    {
      "metadata": {
        "id": "_d74N_oqMlGF",
        "colab_type": "text"
      },
      "cell_type": "markdown",
      "source": [
        "**Time Domain**\n",
        "\n",
        "* Instead may want to retain time domain data\n",
        "* After Epoching, arange data into useful format with labels"
      ]
    },
    {
      "metadata": {
        "id": "qoBQKZ2uMOpL",
        "colab_type": "code",
        "colab": {}
      },
      "cell_type": "code",
      "source": [
        "if not frequency_domain:\n",
        "  print(raw._data.shape)\n",
        "  print(epochs._data.shape)\n",
        "  print(conditions)"
      ],
      "execution_count": 0,
      "outputs": []
    },
    {
      "metadata": {
        "id": "WqVTXiwrZxbf",
        "colab_type": "text"
      },
      "cell_type": "markdown",
      "source": [
        "**Prepare Data for Model**\n"
      ]
    },
    {
      "metadata": {
        "id": "4xyrsW2kZW8D",
        "colab_type": "code",
        "outputId": "abb97dcb-6944-411e-99e2-816e6eb72b8a",
        "colab": {
          "base_uri": "https://localhost:8080/",
          "height": 102
        }
      },
      "cell_type": "code",
      "source": [
        "# convert class vectors to binary class matrices and recast X\n",
        "Y = keras.utils.to_categorical(Y, num_classes)\n",
        "X = X.astype('float32')\n",
        "\n",
        "# Split training test and validation data \n",
        "val_prop = val_split / (1-test_split)\n",
        "x_train, x_test, y_train, y_test = train_test_split(X, Y, test_size=test_split,random_state=random_seed) \n",
        "x_train, x_val, y_train, y_val = train_test_split(x_train, y_train, test_size=val_prop, random_state=random_seed)\n",
        "\n",
        "# Compute model input shape\n",
        "input_shape = (X.shape[1], X.shape[2], len(electrodes_out))\n",
        "\n",
        "print('Input Shape: ' + str(input_shape))\n",
        "print('x_train shape:', x_train.shape)\n",
        "print(x_train.shape[0], 'train samples')\n",
        "print(x_test.shape[0], 'test samples')\n",
        "print(x_val.shape[0], 'validation samples')\n"
      ],
      "execution_count": 18,
      "outputs": [
        {
          "output_type": "stream",
          "text": [
            "Input Shape: (10, 26, 4)\n",
            "x_train shape: (3438, 10, 26, 4)\n",
            "3438 train samples\n",
            "1147 test samples\n",
            "1147 validation samples\n"
          ],
          "name": "stdout"
        }
      ]
    },
    {
      "metadata": {
        "id": "mKzYDoF1TQmK",
        "colab_type": "text"
      },
      "cell_type": "markdown",
      "source": [
        "**Build Model and Train**"
      ]
    },
    {
      "metadata": {
        "scrolled": false,
        "id": "JxjbgyC5G7AZ",
        "colab_type": "code",
        "outputId": "aa1939eb-b34a-4473-92cd-5aa5702b52c2",
        "colab": {
          "base_uri": "https://localhost:8080/",
          "height": 4333
        }
      },
      "cell_type": "code",
      "source": [
        "#DenseFeedforward Network\n",
        "model = Sequential()\n",
        "model.add(Flatten())\n",
        "model.add(Dense(10, activation='relu'))\n",
        "model.add(Dropout(.20))\n",
        "model.add(Dense(2, activation='softmax'))\n",
        "\n",
        "\n",
        "#model.add(Dropout(.10))\n",
        "\n",
        "# Create CNN in keras\n",
        "#model = Sequential()\n",
        "#model.add(Conv2D(49, (3, 3), input_shape=input_shape))\n",
        "#model.add(Activation('relu'))\n",
        "#model.add(Conv2D(32, (3, 3)))\n",
        "#model.add(Activation('relu'))\n",
        "#model.add(MaxPooling2D(pool_size=(2, 2)))\n",
        "#model.add(Flatten())\n",
        "#model.add(Dense(10))\n",
        "#model.add(Activation('relu'))\n",
        "#model.add(Dense(num_classes))\n",
        "#model.add(Activation('softmax'))\n",
        "\n",
        "# initiate adam optimizer\n",
        "opt = keras.optimizers.Adam(lr=0.001, beta_1=0.9, beta_2=0.999, \n",
        "                            epsilon=None, decay=0.0, amsgrad=False)\n",
        "\n",
        "# Let's train the model using RMSprop\n",
        "model.compile(loss='categorical_crossentropy',\n",
        "              optimizer=opt,\n",
        "              metrics=['accuracy'])\n",
        "\n",
        "\n",
        "\n",
        "#Train Model\n",
        "history = model.fit(x_train, y_train,\n",
        "          batch_size=batch_size,\n",
        "          epochs=train_epochs,\n",
        "          validation_data=(x_val, y_val),\n",
        "          shuffle=True,\n",
        "          verbose=True)\n",
        "         \n",
        "#Summarize\n",
        "model.summary()\n",
        " \n",
        "  \n",
        "# list all data in history\n",
        "print(history.history.keys())\n",
        "# summarize history for accuracy\n",
        "plt.plot(history.history['acc'])\n",
        "plt.plot(history.history['val_acc'])\n",
        "plt.title('model accuracy')\n",
        "plt.ylabel('accuracy')\n",
        "plt.xlabel('epoch')\n",
        "plt.legend(['train', 'test'], loc='upper left')\n",
        "plt.show()\n",
        "# summarize history for loss\n",
        "plt.plot(history.history['loss'])\n",
        "plt.plot(history.history['val_loss'])\n",
        "plt.title('model loss')\n",
        "plt.ylabel('loss')\n",
        "plt.xlabel('epoch')\n",
        "plt.legend(['train', 'test'], loc='upper left')\n",
        "plt.show()\n",
        "\n",
        "# Test on left out Test data\n",
        "score, acc = model.evaluate(x_test, y_test, batch_size=batch_size)\n",
        "print('Test score:', score)\n",
        "print('Test accuracy:', acc)"
      ],
      "execution_count": 19,
      "outputs": [
        {
          "output_type": "stream",
          "text": [
            "Train on 3438 samples, validate on 1147 samples\n",
            "Epoch 1/100\n",
            "3438/3438 [==============================] - 1s 365us/step - loss: 0.6520 - acc: 0.7990 - val_loss: 0.5134 - val_acc: 0.8483\n",
            "Epoch 2/100\n",
            "3438/3438 [==============================] - 1s 301us/step - loss: 0.5182 - acc: 0.8281 - val_loss: 0.4652 - val_acc: 0.8535\n",
            "Epoch 3/100\n",
            "3438/3438 [==============================] - 1s 318us/step - loss: 0.4791 - acc: 0.8354 - val_loss: 0.4533 - val_acc: 0.8553\n",
            "Epoch 4/100\n",
            "3438/3438 [==============================] - 1s 314us/step - loss: 0.4700 - acc: 0.8380 - val_loss: 0.4643 - val_acc: 0.8500\n",
            "Epoch 5/100\n",
            "3438/3438 [==============================] - 1s 320us/step - loss: 0.4696 - acc: 0.8365 - val_loss: 0.4384 - val_acc: 0.8588\n",
            "Epoch 6/100\n",
            "3438/3438 [==============================] - 1s 310us/step - loss: 0.4598 - acc: 0.8374 - val_loss: 0.4392 - val_acc: 0.8570\n",
            "Epoch 7/100\n",
            "3438/3438 [==============================] - 1s 313us/step - loss: 0.4543 - acc: 0.8383 - val_loss: 0.4435 - val_acc: 0.8579\n",
            "Epoch 8/100\n",
            "3438/3438 [==============================] - 1s 312us/step - loss: 0.4481 - acc: 0.8394 - val_loss: 0.4292 - val_acc: 0.8579\n",
            "Epoch 9/100\n",
            "3438/3438 [==============================] - 1s 311us/step - loss: 0.4436 - acc: 0.8403 - val_loss: 0.4258 - val_acc: 0.8596\n",
            "Epoch 10/100\n",
            "3438/3438 [==============================] - 1s 309us/step - loss: 0.4455 - acc: 0.8409 - val_loss: 0.4276 - val_acc: 0.8579\n",
            "Epoch 11/100\n",
            "3438/3438 [==============================] - 1s 310us/step - loss: 0.4435 - acc: 0.8394 - val_loss: 0.4216 - val_acc: 0.8596\n",
            "Epoch 12/100\n",
            "3438/3438 [==============================] - 1s 310us/step - loss: 0.4396 - acc: 0.8412 - val_loss: 0.4225 - val_acc: 0.8596\n",
            "Epoch 13/100\n",
            "3438/3438 [==============================] - 1s 316us/step - loss: 0.4386 - acc: 0.8415 - val_loss: 0.4096 - val_acc: 0.8614\n",
            "Epoch 14/100\n",
            "3438/3438 [==============================] - 1s 309us/step - loss: 0.4435 - acc: 0.8389 - val_loss: 0.4164 - val_acc: 0.8588\n",
            "Epoch 15/100\n",
            "3438/3438 [==============================] - 1s 310us/step - loss: 0.4369 - acc: 0.8412 - val_loss: 0.4144 - val_acc: 0.8579\n",
            "Epoch 16/100\n",
            "3438/3438 [==============================] - 1s 308us/step - loss: 0.4341 - acc: 0.8421 - val_loss: 0.4113 - val_acc: 0.8614\n",
            "Epoch 17/100\n",
            "3438/3438 [==============================] - 1s 308us/step - loss: 0.4358 - acc: 0.8403 - val_loss: 0.4167 - val_acc: 0.8596\n",
            "Epoch 18/100\n",
            "3438/3438 [==============================] - 1s 315us/step - loss: 0.4346 - acc: 0.8421 - val_loss: 0.4142 - val_acc: 0.8596\n",
            "Epoch 19/100\n",
            "3438/3438 [==============================] - 1s 314us/step - loss: 0.4351 - acc: 0.8397 - val_loss: 0.4156 - val_acc: 0.8588\n",
            "Epoch 20/100\n",
            "3438/3438 [==============================] - 1s 310us/step - loss: 0.4337 - acc: 0.8424 - val_loss: 0.4202 - val_acc: 0.8588\n",
            "Epoch 21/100\n",
            "3438/3438 [==============================] - 1s 304us/step - loss: 0.4287 - acc: 0.8435 - val_loss: 0.4180 - val_acc: 0.8596\n",
            "Epoch 22/100\n",
            "3438/3438 [==============================] - 1s 308us/step - loss: 0.4354 - acc: 0.8409 - val_loss: 0.4125 - val_acc: 0.8614\n",
            "Epoch 23/100\n",
            "3438/3438 [==============================] - 1s 313us/step - loss: 0.4312 - acc: 0.8424 - val_loss: 0.4112 - val_acc: 0.8596\n",
            "Epoch 24/100\n",
            "3438/3438 [==============================] - 1s 311us/step - loss: 0.4416 - acc: 0.8406 - val_loss: 0.4171 - val_acc: 0.8570\n",
            "Epoch 25/100\n",
            "3438/3438 [==============================] - 1s 313us/step - loss: 0.4234 - acc: 0.8429 - val_loss: 0.4233 - val_acc: 0.8579\n",
            "Epoch 26/100\n",
            "3438/3438 [==============================] - 1s 312us/step - loss: 0.4362 - acc: 0.8397 - val_loss: 0.4145 - val_acc: 0.8588\n",
            "Epoch 27/100\n",
            "3438/3438 [==============================] - 1s 311us/step - loss: 0.4313 - acc: 0.8415 - val_loss: 0.4118 - val_acc: 0.8614\n",
            "Epoch 28/100\n",
            "3438/3438 [==============================] - 1s 310us/step - loss: 0.4288 - acc: 0.8415 - val_loss: 0.4114 - val_acc: 0.8614\n",
            "Epoch 29/100\n",
            "3438/3438 [==============================] - 1s 310us/step - loss: 0.4258 - acc: 0.8444 - val_loss: 0.4248 - val_acc: 0.8544\n",
            "Epoch 30/100\n",
            "3438/3438 [==============================] - 1s 309us/step - loss: 0.4340 - acc: 0.8409 - val_loss: 0.4144 - val_acc: 0.8596\n",
            "Epoch 31/100\n",
            "3438/3438 [==============================] - 1s 314us/step - loss: 0.4310 - acc: 0.8412 - val_loss: 0.4054 - val_acc: 0.8614\n",
            "Epoch 32/100\n",
            "3438/3438 [==============================] - 1s 307us/step - loss: 0.4299 - acc: 0.8421 - val_loss: 0.4094 - val_acc: 0.8614\n",
            "Epoch 33/100\n",
            "3438/3438 [==============================] - 1s 311us/step - loss: 0.4272 - acc: 0.8426 - val_loss: 0.4085 - val_acc: 0.8614\n",
            "Epoch 34/100\n",
            "3438/3438 [==============================] - 1s 310us/step - loss: 0.4253 - acc: 0.8429 - val_loss: 0.4237 - val_acc: 0.8588\n",
            "Epoch 35/100\n",
            "3438/3438 [==============================] - 1s 310us/step - loss: 0.4282 - acc: 0.8415 - val_loss: 0.4168 - val_acc: 0.8596\n",
            "Epoch 36/100\n",
            "3438/3438 [==============================] - 1s 313us/step - loss: 0.4257 - acc: 0.8421 - val_loss: 0.4279 - val_acc: 0.8588\n",
            "Epoch 37/100\n",
            "3438/3438 [==============================] - 1s 314us/step - loss: 0.4258 - acc: 0.8421 - val_loss: 0.4256 - val_acc: 0.8596\n",
            "Epoch 38/100\n",
            "3438/3438 [==============================] - 1s 313us/step - loss: 0.4326 - acc: 0.8409 - val_loss: 0.4203 - val_acc: 0.8596\n",
            "Epoch 39/100\n",
            "3438/3438 [==============================] - 1s 312us/step - loss: 0.4306 - acc: 0.8409 - val_loss: 0.4163 - val_acc: 0.8622\n",
            "Epoch 40/100\n",
            "3438/3438 [==============================] - 1s 320us/step - loss: 0.4255 - acc: 0.8435 - val_loss: 0.4185 - val_acc: 0.8605\n",
            "Epoch 41/100\n",
            "3438/3438 [==============================] - 1s 312us/step - loss: 0.4204 - acc: 0.8458 - val_loss: 0.4284 - val_acc: 0.8614\n",
            "Epoch 42/100\n",
            "3438/3438 [==============================] - 1s 314us/step - loss: 0.4214 - acc: 0.8447 - val_loss: 0.4354 - val_acc: 0.8588\n",
            "Epoch 43/100\n",
            "3438/3438 [==============================] - 1s 312us/step - loss: 0.4244 - acc: 0.8444 - val_loss: 0.4207 - val_acc: 0.8622\n",
            "Epoch 44/100\n",
            "3438/3438 [==============================] - 1s 305us/step - loss: 0.4198 - acc: 0.8464 - val_loss: 0.4251 - val_acc: 0.8605\n",
            "Epoch 45/100\n",
            "3438/3438 [==============================] - 1s 306us/step - loss: 0.4261 - acc: 0.8418 - val_loss: 0.4231 - val_acc: 0.8605\n",
            "Epoch 46/100\n",
            "3438/3438 [==============================] - 1s 312us/step - loss: 0.4185 - acc: 0.8458 - val_loss: 0.4302 - val_acc: 0.8579\n",
            "Epoch 47/100\n",
            "3438/3438 [==============================] - 1s 305us/step - loss: 0.4246 - acc: 0.8421 - val_loss: 0.4316 - val_acc: 0.8579\n",
            "Epoch 48/100\n",
            "3438/3438 [==============================] - 1s 310us/step - loss: 0.4196 - acc: 0.8455 - val_loss: 0.4309 - val_acc: 0.8588\n",
            "Epoch 49/100\n",
            "3438/3438 [==============================] - 1s 312us/step - loss: 0.4195 - acc: 0.8447 - val_loss: 0.4359 - val_acc: 0.8596\n",
            "Epoch 50/100\n",
            "3438/3438 [==============================] - 1s 306us/step - loss: 0.4179 - acc: 0.8453 - val_loss: 0.4376 - val_acc: 0.8570\n",
            "Epoch 51/100\n",
            "3438/3438 [==============================] - 1s 312us/step - loss: 0.4254 - acc: 0.8455 - val_loss: 0.4339 - val_acc: 0.8588\n",
            "Epoch 52/100\n",
            "3438/3438 [==============================] - 1s 307us/step - loss: 0.4194 - acc: 0.8450 - val_loss: 0.4311 - val_acc: 0.8596\n",
            "Epoch 53/100\n",
            "3438/3438 [==============================] - 1s 311us/step - loss: 0.4198 - acc: 0.8438 - val_loss: 0.4342 - val_acc: 0.8605\n",
            "Epoch 54/100\n",
            "3438/3438 [==============================] - 1s 306us/step - loss: 0.4178 - acc: 0.8438 - val_loss: 0.4343 - val_acc: 0.8596\n",
            "Epoch 55/100\n",
            "3438/3438 [==============================] - 1s 304us/step - loss: 0.4195 - acc: 0.8441 - val_loss: 0.4415 - val_acc: 0.8579\n",
            "Epoch 56/100\n",
            "3438/3438 [==============================] - 1s 309us/step - loss: 0.4132 - acc: 0.8476 - val_loss: 0.4473 - val_acc: 0.8570\n",
            "Epoch 57/100\n",
            "3438/3438 [==============================] - 1s 313us/step - loss: 0.4168 - acc: 0.8455 - val_loss: 0.4377 - val_acc: 0.8596\n",
            "Epoch 58/100\n",
            "3438/3438 [==============================] - 1s 312us/step - loss: 0.4162 - acc: 0.8435 - val_loss: 0.4396 - val_acc: 0.8579\n",
            "Epoch 59/100\n",
            "3438/3438 [==============================] - 1s 308us/step - loss: 0.4181 - acc: 0.8450 - val_loss: 0.4353 - val_acc: 0.8588\n",
            "Epoch 60/100\n",
            "3438/3438 [==============================] - 1s 307us/step - loss: 0.4157 - acc: 0.8453 - val_loss: 0.4317 - val_acc: 0.8588\n",
            "Epoch 61/100\n",
            "3438/3438 [==============================] - 1s 311us/step - loss: 0.4156 - acc: 0.8461 - val_loss: 0.4336 - val_acc: 0.8579\n",
            "Epoch 62/100\n",
            "3438/3438 [==============================] - 1s 309us/step - loss: 0.4264 - acc: 0.8441 - val_loss: 0.4483 - val_acc: 0.8588\n",
            "Epoch 63/100\n",
            "3438/3438 [==============================] - 1s 306us/step - loss: 0.4183 - acc: 0.8453 - val_loss: 0.4485 - val_acc: 0.8579\n",
            "Epoch 64/100\n",
            "3438/3438 [==============================] - 1s 316us/step - loss: 0.4175 - acc: 0.8441 - val_loss: 0.4540 - val_acc: 0.8579\n",
            "Epoch 65/100\n",
            "3438/3438 [==============================] - 1s 307us/step - loss: 0.4159 - acc: 0.8453 - val_loss: 0.4469 - val_acc: 0.8588\n",
            "Epoch 66/100\n",
            "3438/3438 [==============================] - 1s 311us/step - loss: 0.4099 - acc: 0.8467 - val_loss: 0.4439 - val_acc: 0.8596\n",
            "Epoch 67/100\n",
            "3438/3438 [==============================] - 1s 311us/step - loss: 0.4183 - acc: 0.8441 - val_loss: 0.4491 - val_acc: 0.8588\n",
            "Epoch 68/100\n",
            "3438/3438 [==============================] - 1s 313us/step - loss: 0.4129 - acc: 0.8447 - val_loss: 0.4773 - val_acc: 0.8561\n",
            "Epoch 69/100\n",
            "3438/3438 [==============================] - 1s 313us/step - loss: 0.4161 - acc: 0.8453 - val_loss: 0.4482 - val_acc: 0.8579\n",
            "Epoch 70/100\n",
            "3438/3438 [==============================] - 1s 310us/step - loss: 0.4207 - acc: 0.8458 - val_loss: 0.4443 - val_acc: 0.8596\n",
            "Epoch 71/100\n",
            "3438/3438 [==============================] - 1s 309us/step - loss: 0.4110 - acc: 0.8482 - val_loss: 0.4500 - val_acc: 0.8588\n",
            "Epoch 72/100\n",
            "3438/3438 [==============================] - 1s 310us/step - loss: 0.4073 - acc: 0.8473 - val_loss: 0.4477 - val_acc: 0.8579\n",
            "Epoch 73/100\n",
            "3438/3438 [==============================] - 1s 310us/step - loss: 0.4105 - acc: 0.8461 - val_loss: 0.4485 - val_acc: 0.8588\n",
            "Epoch 74/100\n",
            "3438/3438 [==============================] - 1s 305us/step - loss: 0.4073 - acc: 0.8467 - val_loss: 0.4487 - val_acc: 0.8561\n",
            "Epoch 75/100\n",
            "3438/3438 [==============================] - 1s 310us/step - loss: 0.4176 - acc: 0.8458 - val_loss: 0.4497 - val_acc: 0.8579\n",
            "Epoch 76/100\n",
            "3438/3438 [==============================] - 1s 304us/step - loss: 0.4124 - acc: 0.8453 - val_loss: 0.4636 - val_acc: 0.8570\n",
            "Epoch 77/100\n",
            "3438/3438 [==============================] - 1s 311us/step - loss: 0.4193 - acc: 0.8435 - val_loss: 0.4720 - val_acc: 0.8518\n",
            "Epoch 78/100\n",
            "3438/3438 [==============================] - 1s 302us/step - loss: 0.4233 - acc: 0.8432 - val_loss: 0.4608 - val_acc: 0.8579\n",
            "Epoch 79/100\n",
            "3438/3438 [==============================] - 1s 312us/step - loss: 0.4107 - acc: 0.8453 - val_loss: 0.4521 - val_acc: 0.8596\n",
            "Epoch 80/100\n",
            "3438/3438 [==============================] - 1s 314us/step - loss: 0.4129 - acc: 0.8450 - val_loss: 0.4513 - val_acc: 0.8570\n",
            "Epoch 81/100\n",
            "3438/3438 [==============================] - 1s 303us/step - loss: 0.4090 - acc: 0.8470 - val_loss: 0.4550 - val_acc: 0.8579\n",
            "Epoch 82/100\n",
            "3438/3438 [==============================] - 1s 304us/step - loss: 0.4062 - acc: 0.8473 - val_loss: 0.4550 - val_acc: 0.8596\n",
            "Epoch 83/100\n",
            "3438/3438 [==============================] - 1s 312us/step - loss: 0.4041 - acc: 0.8467 - val_loss: 0.4533 - val_acc: 0.8570\n",
            "Epoch 84/100\n",
            "3438/3438 [==============================] - 1s 313us/step - loss: 0.4063 - acc: 0.8482 - val_loss: 0.4623 - val_acc: 0.8579\n",
            "Epoch 85/100\n",
            "3438/3438 [==============================] - 1s 311us/step - loss: 0.4082 - acc: 0.8458 - val_loss: 0.4707 - val_acc: 0.8570\n",
            "Epoch 86/100\n",
            "3438/3438 [==============================] - 1s 309us/step - loss: 0.4085 - acc: 0.8435 - val_loss: 0.4685 - val_acc: 0.8588\n",
            "Epoch 87/100\n",
            "3438/3438 [==============================] - 1s 309us/step - loss: 0.4132 - acc: 0.8453 - val_loss: 0.4613 - val_acc: 0.8588\n",
            "Epoch 88/100\n",
            "3438/3438 [==============================] - 1s 312us/step - loss: 0.4056 - acc: 0.8479 - val_loss: 0.4571 - val_acc: 0.8588\n",
            "Epoch 89/100\n",
            "3438/3438 [==============================] - 1s 301us/step - loss: 0.4098 - acc: 0.8464 - val_loss: 0.4536 - val_acc: 0.8588\n",
            "Epoch 90/100\n",
            "3438/3438 [==============================] - 1s 306us/step - loss: 0.4137 - acc: 0.8458 - val_loss: 0.4540 - val_acc: 0.8596\n",
            "Epoch 91/100\n",
            "3438/3438 [==============================] - 1s 304us/step - loss: 0.4090 - acc: 0.8461 - val_loss: 0.4468 - val_acc: 0.8579\n",
            "Epoch 92/100\n",
            "3438/3438 [==============================] - 1s 303us/step - loss: 0.4062 - acc: 0.8464 - val_loss: 0.4451 - val_acc: 0.8596\n",
            "Epoch 93/100\n",
            "3438/3438 [==============================] - 1s 310us/step - loss: 0.4078 - acc: 0.8473 - val_loss: 0.4610 - val_acc: 0.8570\n",
            "Epoch 94/100\n",
            "3438/3438 [==============================] - 1s 309us/step - loss: 0.4015 - acc: 0.8482 - val_loss: 0.4726 - val_acc: 0.8588\n",
            "Epoch 95/100\n",
            "3438/3438 [==============================] - 1s 310us/step - loss: 0.4082 - acc: 0.8450 - val_loss: 0.4680 - val_acc: 0.8561\n",
            "Epoch 96/100\n",
            "3438/3438 [==============================] - 1s 306us/step - loss: 0.4115 - acc: 0.8450 - val_loss: 0.4649 - val_acc: 0.8588\n",
            "Epoch 97/100\n",
            "3438/3438 [==============================] - 1s 307us/step - loss: 0.4020 - acc: 0.8473 - val_loss: 0.4755 - val_acc: 0.8588\n",
            "Epoch 98/100\n",
            "3438/3438 [==============================] - 1s 307us/step - loss: 0.3990 - acc: 0.8479 - val_loss: 0.4901 - val_acc: 0.8535\n",
            "Epoch 99/100\n",
            "3438/3438 [==============================] - 1s 306us/step - loss: 0.4024 - acc: 0.8476 - val_loss: 0.4699 - val_acc: 0.8605\n",
            "Epoch 100/100\n",
            "3438/3438 [==============================] - 1s 306us/step - loss: 0.4068 - acc: 0.8458 - val_loss: 0.4605 - val_acc: 0.8579\n",
            "_________________________________________________________________\n",
            "Layer (type)                 Output Shape              Param #   \n",
            "=================================================================\n",
            "flatten_3 (Flatten)          (None, 1040)              0         \n",
            "_________________________________________________________________\n",
            "dense_5 (Dense)              (None, 10)                10410     \n",
            "_________________________________________________________________\n",
            "dropout_3 (Dropout)          (None, 10)                0         \n",
            "_________________________________________________________________\n",
            "dense_6 (Dense)              (None, 2)                 22        \n",
            "=================================================================\n",
            "Total params: 10,432\n",
            "Trainable params: 10,432\n",
            "Non-trainable params: 0\n",
            "_________________________________________________________________\n",
            "dict_keys(['val_loss', 'val_acc', 'loss', 'acc'])\n"
          ],
          "name": "stdout"
        },
        {
          "output_type": "display_data",
          "data": {
            "image/png": "[encoded data removed]",
            "text/plain": [
              "<Figure size 432x288 with 1 Axes>"
            ]
          },
          "metadata": {
            "tags": []
          }
        },
        {
          "output_type": "display_data",
          "data": {
            "image/png": "[encoded data removed]",
            "text/plain": [
              "<Figure size 432x288 with 1 Axes>"
            ]
          },
          "metadata": {
            "tags": []
          }
        },
        {
          "output_type": "stream",
          "text": [
            "1147/1147 [==============================] - 0s 135us/step\n",
            "Test score: 0.5351900849637511\n",
            "Test accuracy: 0.8360941588826666\n"
          ],
          "name": "stdout"
        }
      ]
    }
  ]
}