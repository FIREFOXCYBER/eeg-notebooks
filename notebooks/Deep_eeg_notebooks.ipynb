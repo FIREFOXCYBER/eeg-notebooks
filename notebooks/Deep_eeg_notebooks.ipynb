{
  "nbformat": 4,
  "nbformat_minor": 0,
  "metadata": {
    "colab": {
      "name": "Deep-eeg-notebooks.ipynb",
      "version": "0.3.2",
      "provenance": [],
      "include_colab_link": true
    },
    "kernelspec": {
      "name": "python3",
      "display_name": "Python 3"
    },
    "accelerator": "GPU"
  },
  "cells": [
    {
      "cell_type": "markdown",
      "metadata": {
        "id": "view-in-github",
        "colab_type": "text"
      },
      "source": [
        "<a href=\"https://colab.research.google.com/github/kylemath/eeg-notebooks/blob/master/notebooks/Deep_eeg_notebooks.ipynb\" target=\"_parent\"><img src=\"https://colab.research.google.com/assets/colab-badge.svg\" alt=\"Open In Colab\"/></a>"
      ]
    },
    {
      "metadata": {
        "id": "cH7KRd8ZZPMd",
        "colab_type": "text"
      },
      "cell_type": "markdown",
      "source": [
        "## Deep-eeg-notebooks\n",
        "\n",
        "Goal is to make a deep learning LSTM stack that processes Muse eeg-notebook EEG trials as input and predicts binary trial category as output. This is all made to run on Google Colab notebooks using cloud GPU capabilities, so the git repo's get loaded at the start of the code into the workspace. Minor mods may be needed to use local Jupyter notebook. Long term goal of command line interface and mne toolbox.\n",
        "\n",
        "Strategy:\n",
        "* Load in Muse data, normal pre-processing to get to trials\n",
        "* Decimate down to reduce features in time x frequency x electrode\n",
        "* Avoid CNN?\n",
        "* load time steps into LSTM?\n",
        "* Predict attend left vs attend right on muse 375 data\n",
        "\n",
        "API:\n",
        "* Want to input the data directory of any eeg-notebook experiment (https://github.com/kylemath/eeg-notebooks)\n",
        "* More general with the master eeg-notebooks - https://github.com/NeuroTechX/eeg-notebooks\n",
        "\n",
        "\n",
        "LearningModels:\n",
        "* First try simple CNN\n",
        "* then add in LSTM component to treat time as recurrent\n",
        "\n",
        "DataModels:\n",
        "* First pool data over subjects\n",
        "* Try subject specific models\n",
        "* Then try multilevel models\n",
        "\n",
        "Using: \n",
        "* https://github.com/pbashivan/EEGLearn\n",
        "* https://github.com/tevisgehr/EEG-Classification\n",
        "* https://github.com/kylemath/eeg-notebooks\n",
        "* https://github.com/mne-tools/mne-python\n",
        "* https://github.com/keras-team/keras/blob/master/examples/imdb_cnn_lstm.py\n",
        "* https://github.com/ml4a/ml4a-guides/blob/master/notebooks/keras_classification.ipynb\n",
        "\n",
        "Resources:\n",
        "*   http://proceedings.mlr.press/v56/Thodoroff16.pdf\n",
        "*   https://arxiv.org/abs/1511.06448\n",
        "\n",
        "\n"
      ]
    },
    {
      "metadata": {
        "id": "Kf-1ItUyU380",
        "colab_type": "text"
      },
      "cell_type": "markdown",
      "source": [
        "**Setup**"
      ]
    },
    {
      "metadata": {
        "id": "VXe-o8XtG9ki",
        "colab_type": "code",
        "outputId": "e6c1a28a-cc10-4197-ee3f-19665b1ffdc7",
        "colab": {
          "base_uri": "https://localhost:8080/",
          "height": 180
        }
      },
      "cell_type": "code",
      "source": [
        "!pip install mne\n",
        "from mne import Epochs, find_events, concatenate_raws\n",
        "from mne.time_frequency import tfr_morlet\n",
        "\n",
        "!git clone https://github.com/kylemath/eeg-notebooks.git\n",
        "%cd eeg-notebooks/notebooks\n",
        "from utils import utils\n",
        "\n",
        "import pandas as pd\n",
        "pd.options.display.max_columns = None\n",
        "pd.options.display.precision = 4\n",
        "\n",
        "import numpy as np\n",
        "from numpy import genfromtxt\n",
        "\n",
        "from collections import OrderedDict\n",
        "\n",
        "import matplotlib.pyplot as plt\n",
        "%matplotlib inline\n",
        "plt.rcParams[\"figure.figsize\"] = (12,12)\n",
        "\n",
        "import keras\n",
        "from keras.models import Sequential\n",
        "from keras.layers import Dense, Dropout, Activation \n",
        "from keras.layers import Flatten, Conv2D, MaxPooling2D, LSTM\n",
        "from sklearn.model_selection import train_test_split"
      ],
      "execution_count": 12,
      "outputs": [
        {
          "output_type": "stream",
          "text": [
            "Requirement already satisfied: mne in /usr/local/lib/python3.6/dist-packages (0.17.0)\n",
            "Cloning into 'eeg-notebooks'...\n",
            "remote: Enumerating objects: 258, done.\u001b[K\n",
            "remote: Counting objects: 100% (258/258), done.\u001b[K\n",
            "remote: Compressing objects: 100% (215/215), done.\u001b[K\n",
            "remote: Total 1724 (delta 119), reused 143 (delta 43), pack-reused 1466\u001b[K\n",
            "Receiving objects: 100% (1724/1724), 108.20 MiB | 21.61 MiB/s, done.\n",
            "Resolving deltas: 100% (742/742), done.\n",
            "Checking out files: 100% (485/485), done.\n",
            "/content/eeg-notebooks/notebooks/eeg-notebooks/notebooks\n"
          ],
          "name": "stdout"
        }
      ]
    },
    {
      "metadata": {
        "id": "yR1WkVZKU2Vm",
        "colab_type": "text"
      },
      "cell_type": "markdown",
      "source": [
        "**Parameters**"
      ]
    },
    {
      "metadata": {
        "id": "QGVIiUbAU1nA",
        "colab_type": "code",
        "outputId": "c4e3b085-bb79-451d-ad73-cae0f5527288",
        "colab": {
          "base_uri": "https://localhost:8080/",
          "height": 33
        }
      },
      "cell_type": "code",
      "source": [
        "#Parameters#\n",
        "#subject folders in data folder\n",
        "subs = [101, 102, 103, 104, 105, 106, 108, 109, 110, 111, 112,\n",
        "        202, 203, 204, 205, 207, 208, 209, 210, 211, \n",
        "        301, 302, 303, 304, 305, 306, 307, 308, 309]\n",
        "\n",
        "#for testing\n",
        "subs = [ 205, 207, 208, 209]\n",
        "\n",
        "#number of sessions in each subject folder\n",
        "nsesh = 2\n",
        "\n",
        "data_dir = 'visual/cueing'\n",
        "event_ids = ['LeftCue','RightCue']\n",
        "\n",
        "\n",
        "## Can load other experiments like this\n",
        "#subs = [ 1, 2, 3]\n",
        "#nsesh = 2\n",
        "#data_dir = 'visual/P300'\n",
        "#event_ids = ['Standard','Target']\n",
        "##\n",
        "\n",
        "load_verbose = 0 #print output during loading\n",
        "\n",
        "\n",
        "sfreq=256.\n",
        "\n",
        "#filter\n",
        "eeg_filter_highpass = 1\n",
        "eeg_filter_lowpass = 30\n",
        "\n",
        "#artifact rejection\n",
        "rej_thresh_uV = 1000  #300 removes most blinks, 1000 keeps most trials\n",
        "rej_thresh = rej_thresh_uV*1e-6\n",
        "\n",
        "#trial epoch limits \n",
        "tmin=-1\n",
        "tmax=2\n",
        "decim=20  # to decrease number of time features\n",
        "baseline=(-1, 0) #gets removed from training data but used during processing\n",
        "\n",
        "frequency_domain = 0  #if True uses wavelets otherwise use time series\n",
        "#wavelet settings\n",
        "f_low = 4\n",
        "f_high = 20\n",
        "f_bins = 10  # to decrease number of frequency features\n",
        "frequencies =  np.linspace(4, 10, f_bins, endpoint=True)\n",
        "wave_cycles = 6\n",
        "spect_baseline = [-1,-.5] #gets removed from training data but used during processing\n",
        "electrodes_out = [0,1,2,3]  # to decrease number of electrode features from [0,1,2,3] or [0,1,2,3,4] with aux electrode (untested)\n",
        "\n",
        "#Training Settings\n",
        "batch_size = 16\n",
        "train_epochs = 100\n",
        "num_classes = len(event_ids)\n",
        "test_split = 0.2\n",
        "val_split = 0.2\n",
        "random_seed = 1017\n",
        "np.random.seed(random_seed)\n",
        "\n",
        "\n",
        "print('Parameters Set')"
      ],
      "execution_count": 13,
      "outputs": [
        {
          "output_type": "stream",
          "text": [
            "Parameters Set\n"
          ],
          "name": "stdout"
        }
      ]
    },
    {
      "metadata": {
        "id": "g2a98-rwL9wl",
        "colab_type": "text"
      },
      "cell_type": "markdown",
      "source": [
        "**Preprocessing of EEG Data**\n",
        "\n",
        "* LoadData - Each data file is from one session of one subject of the muse cueing task from eeg-notebooks from psych 375 A1 dataset\n",
        "* Filtering - Most ERP components are composed of lower frequency fluctuations in the EEG signal. Thus, we can filter out all frequencies between 1 and 30 hz in order to increase our ability to detect them.\n",
        "* Epoching - Next, we will chunk (epoch) the data into segments representing the data 1000ms before to 2000ms after each cue, we will reject every epoch where the amplitude of the signal exceeded 100 uV, which should most eye blinks."
      ]
    },
    {
      "metadata": {
        "id": "6A3mgX7ILZFK",
        "colab_type": "code",
        "outputId": "22928458-2afe-4c46-e9f3-97b2fdc06d07",
        "colab": {
          "base_uri": "https://localhost:8080/",
          "height": 163
        }
      },
      "cell_type": "code",
      "source": [
        "#Load Data\n",
        "print('Loading Data')\n",
        "isub = subs[0]\n",
        "print(isub)\n",
        "raw = utils.load_data(data_dir, sfreq=sfreq ,subject_nb=isub, session_nb=1,verbose=load_verbose)\n",
        "if nsesh == 2:\n",
        "  raw.append(utils.load_data(data_dir, sfreq=sfreq,subject_nb=isub, session_nb=2,verbose=load_verbose))\n",
        "\n",
        "if len(subs)>1:\n",
        "  for isub in subs[1:]:\n",
        "    print(isub)\n",
        "    raw.append(utils.load_data(data_dir, sfreq=sfreq,subject_nb=isub, session_nb=1,verbose=load_verbose))\n",
        "    if nsesh == 2:\n",
        "      raw.append(utils.load_data(data_dir, sfreq=sfreq,subject_nb=isub, session_nb=2,verbose=load_verbose))\n",
        "  \n",
        "#Filtering\n",
        "print('Filtering Data')\n",
        "raw.filter(eeg_filter_highpass,eeg_filter_lowpass, method='iir', verbose='WARNING' )\n",
        "\n",
        "#Plot filtred data spectra if desired\n",
        "#raw.plot_psd(fmin=eeg_filter_highpass, fmax=eeg_filter_lowpass ) \n",
        "\n",
        "#Epoching\n",
        "event_id = {event_ids[0]: 1, event_ids[1]: 2}\n",
        "events = find_events(raw)\n",
        "epochs = Epochs(raw, events=events, event_id=event_id, \n",
        "                tmin=tmin, tmax=tmax, baseline=baseline, \n",
        "                preload=True,reject={'eeg':rej_thresh},\n",
        "                verbose=False, picks=[0, 1, 2, 3])\n",
        "\n",
        "print('sample drop %: ', (1 - len(epochs.events)/len(events)) * 100)\n",
        "%matplotlib inline\n",
        "conditions = OrderedDict()\n",
        "conditions[event_ids[0]] = [1]\n",
        "conditions[event_ids[1]] = [2]\n",
        "\n",
        "#plot ERPs if desired\n",
        "#fig, ax = utils.plot_conditions(epochs, conditions=conditions, ylim=(-20,20) )"
      ],
      "execution_count": 14,
      "outputs": [
        {
          "output_type": "stream",
          "text": [
            "Loading Data\n",
            "205\n",
            "207\n",
            "208\n",
            "209\n",
            "Filtering Data\n",
            "674 events found\n",
            "Event IDs: [ 1  2 11 12 21 22]\n",
            "sample drop %:  50.29673590504451\n"
          ],
          "name": "stdout"
        }
      ]
    },
    {
      "metadata": {
        "id": "EmvSu1bOZiO0",
        "colab_type": "text"
      },
      "cell_type": "markdown",
      "source": [
        "** Spectrogram **\n",
        "\n",
        "* All electrodes are considered on each trial\n",
        "* Many frequencies are used in the wavelet analysis while the output of the morlet is decimated in time.\n",
        "* Two conditions are done separate and concatenated\n",
        "* X is a trials x freq x time matrix\n",
        "* Y is a trials array of condition labels (turned into one hot vectors later in code)\n"
      ]
    },
    {
      "metadata": {
        "id": "Xs-_8GRYZar7",
        "colab_type": "code",
        "colab": {}
      },
      "cell_type": "code",
      "source": [
        "if frequency_domain:\n",
        "  # Condition0\n",
        "  print('Computing Morlet Wavelets on ' + event_ids[0])\n",
        "\n",
        "  tfr0 = tfr_morlet(epochs[event_ids[0]], freqs=frequencies, \n",
        "                        n_cycles=wave_cycles, return_itc=False,\n",
        "                        picks=electrodes_out,average=False,decim=decim)\n",
        "  tfr0 = tfr0.apply_baseline(spect_baseline,mode='mean')\n",
        "  stim_onset = np.argmax(tfr0.times>0)\n",
        "  new_times = tfr0.times[stim_onset:]\n",
        "  cond0_power_out = np.moveaxis(tfr0.data[:,:,:,stim_onset:],1,3)\n",
        "  print('Condition zero trials: ' + str(len(cond0_power_out)))\n",
        "  #cond0_power_out[:,0:5,0:5,:] = 0 #for testing model add mark to image\n",
        "\n",
        "  print(event_ids[0] + ' Time Points: ' + str(len(new_times)))\n",
        "  print(event_ids[0] + ' Frequencies: ' + str(len(tfr0.freqs)))\n",
        "\n",
        "  #Condition1\n",
        "  print('Computing Morlet Wavelets on ' + event_ids[1])\n",
        "  tfr1 = tfr_morlet(epochs[event_ids[1]], freqs=frequencies, \n",
        "                        n_cycles=wave_cycles, return_itc=False,\n",
        "                        picks=electrodes_out,average=False,decim=decim)\n",
        "  tfr1 = tfr1.apply_baseline(spect_baseline,mode='mean')\n",
        "  cond1_power_out = np.moveaxis(tfr1.data[:,:,:,stim_onset:],1,3)\n",
        "  print('Condition one trials: ' + str(len(cond1_power_out)))    \n",
        "  #cond1_power_out[:,0:5,0:5,:] = 1 #for testing model add mark to image\n",
        "\n",
        "  print(event_ids[1] + ' Time Points: ' + str(len(new_times)))\n",
        "  print(event_ids[1] + ' Frequencies: ' + str(len(tfr1.freqs)))\n",
        "\n",
        "  X = np.append(cond0_power_out,cond1_power_out,0);\n",
        "  \n",
        "  #Normalize X - need to save mean and std for future test + val\n",
        "  X = (X - np.mean(X)) / np.std(X)\n",
        "  #Append Data\n",
        "  Y = np.append(np.zeros(len(cond0_power_out)), np.ones(len(cond1_power_out)),0)"
      ],
      "execution_count": 0,
      "outputs": []
    },
    {
      "metadata": {
        "id": "_d74N_oqMlGF",
        "colab_type": "text"
      },
      "cell_type": "markdown",
      "source": [
        "**Time Domain**\n",
        "\n",
        "* Instead may want to retain time domain data\n",
        "* After Epoching, arange data into useful format with labels"
      ]
    },
    {
      "metadata": {
        "id": "qoBQKZ2uMOpL",
        "colab_type": "code",
        "colab": {
          "base_uri": "https://localhost:8080/",
          "height": 66
        },
        "outputId": "3a37b481-42d6-4ca3-cf53-7f44b9755808"
      },
      "cell_type": "code",
      "source": [
        "if not frequency_domain:\n",
        "  \n",
        "  #epochs = epochs.decimate(10) #probably don't do this\n",
        "  X = np.moveaxis(epochs._data,1,2); #but channels last\n",
        "  \n",
        "  #take post baseline only\n",
        "  stim_onset = np.argmax(epochs.times>0)\n",
        "  new_times = epochs.times[stim_onset:]\n",
        "  X = X[:,stim_onset:,:]\n",
        "  \n",
        "  #Normalize X - need to save mean and std for future test + val\n",
        "  X = (X - np.mean(X)) / np.std(X)\n",
        "  \n",
        "  Y_class = epochs.events[:,2]-1  #subtract 1 to make 0 and 1\n",
        "  \n",
        "  print('X Shape: ' + str(X.shape))\n",
        "  print('Y Shape: ' + str(Y_class.shape))\n",
        "  print('Y Example: ' + str(Y_class[0:10]))"
      ],
      "execution_count": 16,
      "outputs": [
        {
          "output_type": "stream",
          "text": [
            "X Shape: (335, 512, 4)\n",
            "Y Shape: (335,)\n",
            "Y Example: [0 0 0 0 0 0 1 1 1 0]\n"
          ],
          "name": "stdout"
        }
      ]
    },
    {
      "metadata": {
        "id": "WqVTXiwrZxbf",
        "colab_type": "text"
      },
      "cell_type": "markdown",
      "source": [
        "**Prepare Data for Model**\n"
      ]
    },
    {
      "metadata": {
        "id": "4xyrsW2kZW8D",
        "colab_type": "code",
        "outputId": "de8937cb-a266-4da6-f1d9-cca9b53ab643",
        "colab": {
          "base_uri": "https://localhost:8080/",
          "height": 651
        }
      },
      "cell_type": "code",
      "source": [
        "# convert class vectors to one hot Y and recast X\n",
        "Y = keras.utils.to_categorical(Y_class, num_classes)\n",
        "X = X.astype('float32')\n",
        "\n",
        "# Split training test and validation data \n",
        "val_prop = val_split / (1-test_split)\n",
        "x_train, x_test, y_train, y_test = train_test_split(X, Y, test_size=test_split,random_state=random_seed) \n",
        "x_train, x_val, y_train, y_val = train_test_split(x_train, y_train, test_size=val_prop, random_state=random_seed)\n",
        "\n",
        "# Compute model input shape\n",
        "input_shape = X.shape[1:]\n",
        "\n",
        "print('Combined X Shape: ' + str(X.shape))\n",
        "print('Combined Y Shape: ' + str(Y.shape))\n",
        "print('X Range: ' + str(np.min(X)) + ':' + str(np.max(X)))\n",
        "print('X Examples:')\n",
        "\n",
        "#for plotting\n",
        "\n",
        "vmin = (np.std(X)/4) * -1\n",
        "vmax = np.std(X)/4  \n",
        "\n",
        "#Plot Example Data\n",
        "f, axarr = plt.subplots(2,2, figsize = (8,8))\n",
        "axarr[0][0].set_title(event_ids[0])\n",
        "axarr[0][0].imshow(X[0],vmin=vmin, vmax=vmax, aspect='auto')\n",
        "\n",
        "axarr[0][0].invert_yaxis()\n",
        "axarr[1][0].imshow(X[1],vmin=vmin, vmax=vmax, aspect='auto')\n",
        "axarr[1][0].invert_yaxis()\n",
        "\n",
        "axarr[0][1].set_title(event_ids[1])\n",
        "axarr[0][1].imshow(X[-1],vmin=vmin, vmax=vmax, aspect='auto')\n",
        "axarr[0][1].invert_yaxis()\n",
        "axarr[1][1].imshow(X[-2],vmin=vmin, vmax=vmax, aspect='auto')\n",
        "axarr[1][1].invert_yaxis()\n",
        ";\n",
        "\n",
        "print('Input Shape: ' + str(input_shape))\n",
        "print('x_train shape:', x_train.shape)\n",
        "print(x_train.shape[0], 'train samples')\n",
        "print(x_test.shape[0], 'test samples')\n",
        "print(x_val.shape[0], 'validation samples')\n"
      ],
      "execution_count": 17,
      "outputs": [
        {
          "output_type": "stream",
          "text": [
            "Combined X Shape: (335, 512, 4)\n",
            "Combined Y Shape: (335, 2)\n",
            "X Range: -21.438705:13.131357\n",
            "X Examples:\n",
            "Input Shape: (512, 4)\n",
            "x_train shape: (201, 512, 4)\n",
            "201 train samples\n",
            "67 test samples\n",
            "67 validation samples\n"
          ],
          "name": "stdout"
        },
        {
          "output_type": "display_data",
          "data": {
            "image/png": "[encoded data removed]",
            "text/plain": [
              "<Figure size 576x576 with 4 Axes>"
            ]
          },
          "metadata": {
            "tags": []
          }
        }
      ]
    },
    {
      "metadata": {
        "id": "mKzYDoF1TQmK",
        "colab_type": "text"
      },
      "cell_type": "markdown",
      "source": [
        "**Build Model and Train**"
      ]
    },
    {
      "metadata": {
        "scrolled": false,
        "id": "JxjbgyC5G7AZ",
        "colab_type": "code",
        "outputId": "bc1c8f4b-a3db-4b76-85e9-a85236be66d9",
        "colab": {
          "base_uri": "https://localhost:8080/",
          "height": 873
        }
      },
      "cell_type": "code",
      "source": [
        "##---LSTM - Many to two, sequence of time to electrodes\n",
        "units = [input_shape[1], 4, 2, num_classes]\n",
        "model = Sequential()\n",
        "model.add(LSTM(input_shape=(None, units[0]) ,units=units[1], return_sequences=True))\n",
        "model.add(Dropout(0.2))\n",
        "model.add(LSTM(units=units[2],return_sequences=False))\n",
        "model.add(Dropout(0.2))\n",
        "model.add(Dense(units=units[3]))\n",
        "model.add(Activation(\"softmax\"))\n",
        "\n",
        "##---DenseFeedforward Network\n",
        "#model = Sequential()\n",
        "#model.add(Flatten())\n",
        "#model.add(Dense(10, activation='relu'))\n",
        "#model.add(Dropout(.20))\n",
        "#model.add(Dense(num_classes, activation='softmax'))\n",
        "\n",
        "##----Convolutional Network\n",
        "# parameters above need to be adjusted until input shape is square on \n",
        "# dimensions 1 and 2 (like an image) and electrodes on third\n",
        "\n",
        "#model = Sequential()\n",
        "#model.add(Conv2D(49, (3, 3), input_shape=input_shape))\n",
        "#model.add(Activation('relu'))\n",
        "#model.add(Conv2D(32, (3, 3)))\n",
        "#model.add(Activation('relu'))\n",
        "#model.add(MaxPooling2D(pool_size=(2, 2)))\n",
        "#model.add(Flatten())\n",
        "#model.add(Dense(10))\n",
        "#model.add(Activation('relu'))\n",
        "#model.add(Dense(num_classes))\n",
        "#model.add(Activation('softmax'))\n",
        "\n",
        "# initiate adam optimizer\n",
        "opt = keras.optimizers.Adam(lr=0.001, beta_1=0.9, beta_2=0.999, \n",
        "                            epsilon=None, decay=0.0, amsgrad=False)\n",
        "\n",
        "# Let's train the model using RMSprop\n",
        "model.compile(loss='categorical_crossentropy',\n",
        "              optimizer=opt,\n",
        "              metrics=['accuracy'])\n",
        "\n",
        "\n",
        "\n",
        "#Train Model\n",
        "history = model.fit(x_train, y_train,\n",
        "          batch_size=batch_size,\n",
        "          epochs=train_epochs,\n",
        "          validation_data=(x_val, y_val),\n",
        "          shuffle=True,\n",
        "          verbose=True)\n",
        "         \n",
        "#Summarize\n",
        "model.summary()\n",
        " \n",
        "  \n",
        "# list all data in history\n",
        "print(history.history.keys())\n",
        "# summarize history for accuracy\n",
        "plt.plot(history.history['acc'])\n",
        "plt.plot(history.history['val_acc'])\n",
        "plt.title('model accuracy')\n",
        "plt.ylabel('accuracy')\n",
        "plt.xlabel('epoch')\n",
        "plt.legend(['train', 'test'], loc='upper left')\n",
        "plt.show()\n",
        "# summarize history for loss\n",
        "plt.plot(np.log(history.history['loss']))\n",
        "plt.plot(np.log(history.history['val_loss']))\n",
        "plt.title('model loss')\n",
        "plt.ylabel('log(loss)')\n",
        "plt.xlabel('epoch')\n",
        "plt.legend(['train', 'test'], loc='upper left')\n",
        "plt.show()\n",
        "\n",
        "# Test on left out Test data\n",
        "score, acc = model.evaluate(x_test, y_test, batch_size=batch_size)\n",
        "print('Test score:', score)\n",
        "print('Test accuracy:', acc)"
      ],
      "execution_count": 25,
      "outputs": [
        {
          "output_type": "stream",
          "text": [
            "Train on 201 samples, validate on 67 samples\n",
            "Epoch 1/100\n",
            "201/201 [==============================] - 28s 140ms/step - loss: 0.7090 - acc: 0.4627 - val_loss: 0.6903 - val_acc: 0.5821\n",
            "Epoch 2/100\n",
            "176/201 [=========================>....] - ETA: 2s - loss: 0.7006 - acc: 0.4716"
          ],
          "name": "stdout"
        },
        {
          "output_type": "error",
          "ename": "KeyboardInterrupt",
          "evalue": "ignored",
          "traceback": [
            "\u001b[0;31m---------------------------------------------------------------------------\u001b[0m",
            "\u001b[0;31mKeyboardInterrupt\u001b[0m                         Traceback (most recent call last)",
            "\u001b[0;32m<ipython-input-25-ad07d4840326>\u001b[0m in \u001b[0;36m<module>\u001b[0;34m()\u001b[0m\n\u001b[1;32m     50\u001b[0m           \u001b[0mvalidation_data\u001b[0m\u001b[0;34m=\u001b[0m\u001b[0;34m(\u001b[0m\u001b[0mx_val\u001b[0m\u001b[0;34m,\u001b[0m \u001b[0my_val\u001b[0m\u001b[0;34m)\u001b[0m\u001b[0;34m,\u001b[0m\u001b[0;34m\u001b[0m\u001b[0;34m\u001b[0m\u001b[0m\n\u001b[1;32m     51\u001b[0m           \u001b[0mshuffle\u001b[0m\u001b[0;34m=\u001b[0m\u001b[0;32mTrue\u001b[0m\u001b[0;34m,\u001b[0m\u001b[0;34m\u001b[0m\u001b[0;34m\u001b[0m\u001b[0m\n\u001b[0;32m---> 52\u001b[0;31m           verbose=True)\n\u001b[0m\u001b[1;32m     53\u001b[0m \u001b[0;34m\u001b[0m\u001b[0m\n\u001b[1;32m     54\u001b[0m \u001b[0;31m#Summarize\u001b[0m\u001b[0;34m\u001b[0m\u001b[0;34m\u001b[0m\u001b[0;34m\u001b[0m\u001b[0m\n",
            "\u001b[0;32m/usr/local/lib/python3.6/dist-packages/keras/engine/training.py\u001b[0m in \u001b[0;36mfit\u001b[0;34m(self, x, y, batch_size, epochs, verbose, callbacks, validation_split, validation_data, shuffle, class_weight, sample_weight, initial_epoch, steps_per_epoch, validation_steps, **kwargs)\u001b[0m\n\u001b[1;32m   1037\u001b[0m                                         \u001b[0minitial_epoch\u001b[0m\u001b[0;34m=\u001b[0m\u001b[0minitial_epoch\u001b[0m\u001b[0;34m,\u001b[0m\u001b[0;34m\u001b[0m\u001b[0;34m\u001b[0m\u001b[0m\n\u001b[1;32m   1038\u001b[0m                                         \u001b[0msteps_per_epoch\u001b[0m\u001b[0;34m=\u001b[0m\u001b[0msteps_per_epoch\u001b[0m\u001b[0;34m,\u001b[0m\u001b[0;34m\u001b[0m\u001b[0;34m\u001b[0m\u001b[0m\n\u001b[0;32m-> 1039\u001b[0;31m                                         validation_steps=validation_steps)\n\u001b[0m\u001b[1;32m   1040\u001b[0m \u001b[0;34m\u001b[0m\u001b[0m\n\u001b[1;32m   1041\u001b[0m     def evaluate(self, x=None, y=None,\n",
            "\u001b[0;32m/usr/local/lib/python3.6/dist-packages/keras/engine/training_arrays.py\u001b[0m in \u001b[0;36mfit_loop\u001b[0;34m(model, f, ins, out_labels, batch_size, epochs, verbose, callbacks, val_f, val_ins, shuffle, callback_metrics, initial_epoch, steps_per_epoch, validation_steps)\u001b[0m\n\u001b[1;32m    197\u001b[0m                     \u001b[0mins_batch\u001b[0m\u001b[0;34m[\u001b[0m\u001b[0mi\u001b[0m\u001b[0;34m]\u001b[0m \u001b[0;34m=\u001b[0m \u001b[0mins_batch\u001b[0m\u001b[0;34m[\u001b[0m\u001b[0mi\u001b[0m\u001b[0;34m]\u001b[0m\u001b[0;34m.\u001b[0m\u001b[0mtoarray\u001b[0m\u001b[0;34m(\u001b[0m\u001b[0;34m)\u001b[0m\u001b[0;34m\u001b[0m\u001b[0;34m\u001b[0m\u001b[0m\n\u001b[1;32m    198\u001b[0m \u001b[0;34m\u001b[0m\u001b[0m\n\u001b[0;32m--> 199\u001b[0;31m                 \u001b[0mouts\u001b[0m \u001b[0;34m=\u001b[0m \u001b[0mf\u001b[0m\u001b[0;34m(\u001b[0m\u001b[0mins_batch\u001b[0m\u001b[0;34m)\u001b[0m\u001b[0;34m\u001b[0m\u001b[0;34m\u001b[0m\u001b[0m\n\u001b[0m\u001b[1;32m    200\u001b[0m                 \u001b[0mouts\u001b[0m \u001b[0;34m=\u001b[0m \u001b[0mto_list\u001b[0m\u001b[0;34m(\u001b[0m\u001b[0mouts\u001b[0m\u001b[0;34m)\u001b[0m\u001b[0;34m\u001b[0m\u001b[0;34m\u001b[0m\u001b[0m\n\u001b[1;32m    201\u001b[0m                 \u001b[0;32mfor\u001b[0m \u001b[0ml\u001b[0m\u001b[0;34m,\u001b[0m \u001b[0mo\u001b[0m \u001b[0;32min\u001b[0m \u001b[0mzip\u001b[0m\u001b[0;34m(\u001b[0m\u001b[0mout_labels\u001b[0m\u001b[0;34m,\u001b[0m \u001b[0mouts\u001b[0m\u001b[0;34m)\u001b[0m\u001b[0;34m:\u001b[0m\u001b[0;34m\u001b[0m\u001b[0;34m\u001b[0m\u001b[0m\n",
            "\u001b[0;32m/usr/local/lib/python3.6/dist-packages/keras/backend/tensorflow_backend.py\u001b[0m in \u001b[0;36m__call__\u001b[0;34m(self, inputs)\u001b[0m\n\u001b[1;32m   2713\u001b[0m                 \u001b[0;32mreturn\u001b[0m \u001b[0mself\u001b[0m\u001b[0;34m.\u001b[0m\u001b[0m_legacy_call\u001b[0m\u001b[0;34m(\u001b[0m\u001b[0minputs\u001b[0m\u001b[0;34m)\u001b[0m\u001b[0;34m\u001b[0m\u001b[0;34m\u001b[0m\u001b[0m\n\u001b[1;32m   2714\u001b[0m \u001b[0;34m\u001b[0m\u001b[0m\n\u001b[0;32m-> 2715\u001b[0;31m             \u001b[0;32mreturn\u001b[0m \u001b[0mself\u001b[0m\u001b[0;34m.\u001b[0m\u001b[0m_call\u001b[0m\u001b[0;34m(\u001b[0m\u001b[0minputs\u001b[0m\u001b[0;34m)\u001b[0m\u001b[0;34m\u001b[0m\u001b[0;34m\u001b[0m\u001b[0m\n\u001b[0m\u001b[1;32m   2716\u001b[0m         \u001b[0;32melse\u001b[0m\u001b[0;34m:\u001b[0m\u001b[0;34m\u001b[0m\u001b[0;34m\u001b[0m\u001b[0m\n\u001b[1;32m   2717\u001b[0m             \u001b[0;32mif\u001b[0m \u001b[0mpy_any\u001b[0m\u001b[0;34m(\u001b[0m\u001b[0mis_tensor\u001b[0m\u001b[0;34m(\u001b[0m\u001b[0mx\u001b[0m\u001b[0;34m)\u001b[0m \u001b[0;32mfor\u001b[0m \u001b[0mx\u001b[0m \u001b[0;32min\u001b[0m \u001b[0minputs\u001b[0m\u001b[0;34m)\u001b[0m\u001b[0;34m:\u001b[0m\u001b[0;34m\u001b[0m\u001b[0;34m\u001b[0m\u001b[0m\n",
            "\u001b[0;32m/usr/local/lib/python3.6/dist-packages/keras/backend/tensorflow_backend.py\u001b[0m in \u001b[0;36m_call\u001b[0;34m(self, inputs)\u001b[0m\n\u001b[1;32m   2673\u001b[0m             \u001b[0mfetched\u001b[0m \u001b[0;34m=\u001b[0m \u001b[0mself\u001b[0m\u001b[0;34m.\u001b[0m\u001b[0m_callable_fn\u001b[0m\u001b[0;34m(\u001b[0m\u001b[0;34m*\u001b[0m\u001b[0marray_vals\u001b[0m\u001b[0;34m,\u001b[0m \u001b[0mrun_metadata\u001b[0m\u001b[0;34m=\u001b[0m\u001b[0mself\u001b[0m\u001b[0;34m.\u001b[0m\u001b[0mrun_metadata\u001b[0m\u001b[0;34m)\u001b[0m\u001b[0;34m\u001b[0m\u001b[0;34m\u001b[0m\u001b[0m\n\u001b[1;32m   2674\u001b[0m         \u001b[0;32melse\u001b[0m\u001b[0;34m:\u001b[0m\u001b[0;34m\u001b[0m\u001b[0;34m\u001b[0m\u001b[0m\n\u001b[0;32m-> 2675\u001b[0;31m             \u001b[0mfetched\u001b[0m \u001b[0;34m=\u001b[0m \u001b[0mself\u001b[0m\u001b[0;34m.\u001b[0m\u001b[0m_callable_fn\u001b[0m\u001b[0;34m(\u001b[0m\u001b[0;34m*\u001b[0m\u001b[0marray_vals\u001b[0m\u001b[0;34m)\u001b[0m\u001b[0;34m\u001b[0m\u001b[0;34m\u001b[0m\u001b[0m\n\u001b[0m\u001b[1;32m   2676\u001b[0m         \u001b[0;32mreturn\u001b[0m \u001b[0mfetched\u001b[0m\u001b[0;34m[\u001b[0m\u001b[0;34m:\u001b[0m\u001b[0mlen\u001b[0m\u001b[0;34m(\u001b[0m\u001b[0mself\u001b[0m\u001b[0;34m.\u001b[0m\u001b[0moutputs\u001b[0m\u001b[0;34m)\u001b[0m\u001b[0;34m]\u001b[0m\u001b[0;34m\u001b[0m\u001b[0;34m\u001b[0m\u001b[0m\n\u001b[1;32m   2677\u001b[0m \u001b[0;34m\u001b[0m\u001b[0m\n",
            "\u001b[0;32m/usr/local/lib/python3.6/dist-packages/tensorflow/python/client/session.py\u001b[0m in \u001b[0;36m__call__\u001b[0;34m(self, *args, **kwargs)\u001b[0m\n\u001b[1;32m   1437\u001b[0m           ret = tf_session.TF_SessionRunCallable(\n\u001b[1;32m   1438\u001b[0m               \u001b[0mself\u001b[0m\u001b[0;34m.\u001b[0m\u001b[0m_session\u001b[0m\u001b[0;34m.\u001b[0m\u001b[0m_session\u001b[0m\u001b[0;34m,\u001b[0m \u001b[0mself\u001b[0m\u001b[0;34m.\u001b[0m\u001b[0m_handle\u001b[0m\u001b[0;34m,\u001b[0m \u001b[0margs\u001b[0m\u001b[0;34m,\u001b[0m \u001b[0mstatus\u001b[0m\u001b[0;34m,\u001b[0m\u001b[0;34m\u001b[0m\u001b[0;34m\u001b[0m\u001b[0m\n\u001b[0;32m-> 1439\u001b[0;31m               run_metadata_ptr)\n\u001b[0m\u001b[1;32m   1440\u001b[0m         \u001b[0;32mif\u001b[0m \u001b[0mrun_metadata\u001b[0m\u001b[0;34m:\u001b[0m\u001b[0;34m\u001b[0m\u001b[0;34m\u001b[0m\u001b[0m\n\u001b[1;32m   1441\u001b[0m           \u001b[0mproto_data\u001b[0m \u001b[0;34m=\u001b[0m \u001b[0mtf_session\u001b[0m\u001b[0;34m.\u001b[0m\u001b[0mTF_GetBuffer\u001b[0m\u001b[0;34m(\u001b[0m\u001b[0mrun_metadata_ptr\u001b[0m\u001b[0;34m)\u001b[0m\u001b[0;34m\u001b[0m\u001b[0;34m\u001b[0m\u001b[0m\n",
            "\u001b[0;31mKeyboardInterrupt\u001b[0m: "
          ]
        }
      ]
    }
  ]
}