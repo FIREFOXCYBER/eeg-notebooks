{
 "cells": [
  {
   "cell_type": "code",
   "execution_count": 1,
   "metadata": {
    "inputHidden": false,
    "outputHidden": false
   },
   "outputs": [],
   "source": [
    "from muselsl import stream, list_muses, view, record\n",
    "from multiprocessing import Process\n",
    "from mne import Epochs, find_events\n",
    "from time import time, strftime, gmtime\n",
    "import os\n",
    "from utils import utils\n",
    "from collections import OrderedDict\n",
    "import warnings\n",
    "warnings.filterwarnings('ignore')"
   ]
  },
  {
   "cell_type": "markdown",
   "metadata": {},
   "source": [
    "# Cueing\n",
    "\n",
    "This notebook is slightly different than the PC notebooks due to differences in the Mac operating system.\n",
    "\n",
    "First setup the computer by following the instructions in the mac_instructions_cueing.docx file, then return to this file.\n",
    "\n",
    "The cueing task can ellicit a number of reliable changes. A central cue indicates the location of an upcoming target onset. Here the task can be changed to be perfectly predictive, or have some level of cue validity. Task is to indicate the orientation of a spatial grating on the target, up for vertical, right for horizontal.  \n",
    "\n",
    "ERP - Validly cued targets ellict larger ERP's than invalidly cued targets\n",
    "\n",
    "Response ERPs - Validly cued targets are more quickly identified and better identified\n",
    "\n",
    "Oscillations - Alpha power lateralizes after a spatial cue onset preceeding the upcoming onset of a target. Alpha power becomes smaller contraleral to the target side, and larger ipsilateral with the target. "
   ]
  },
  {
   "cell_type": "markdown",
   "metadata": {},
   "source": [
    "## Step 1: Connect to an EEG Device\n",
    "\n",
    "Make sure your device is turned on and run the following code. It should detect and connect to the device and begin 'Streaming...'\n",
    "\n",
    "If the device is not found or the connection times out, try running this code again\n",
    "\n",
    "If an error occurs scroll down, if it says BGAPIError, check that the black BLE dongle is pluged into the USB port, unplug the black BLE dongle and plug it back in again, then try again."
   ]
  },
  {
   "cell_type": "code",
   "execution_count": 5,
   "metadata": {},
   "outputs": [
    {
     "name": "stdout",
     "output_type": "stream",
     "text": [
      "Searching for Muses, this may take up to 10 seconds...\n",
      "Found device Muse-1E65, MAC Address 00:55:DA:B0:1E:65\n",
      "[{'address': '00:55:DA:B0:1E:65', 'name': 'Muse-1E65', 'rssi': -55, 'packet_data': {'connectable_advertisement_packet': {'flags': bytearray(b'\\x06'), 'complete_local_name': 'Muse-1E65', 'incomplete_list_16-bit_service_class_uuids': bytearray(b'\\x8d\\xfe'), 'slave_connection_interval_range': bytearray(b'\\x18\\x00\\x18\\x00'), 'tx_power_level': bytearray(b'\\x05')}, 'scan_response_packet': {}}}]\n"
     ]
    }
   ],
   "source": [
    "# Search for available Muse devices\n",
    "# muses = list_muses()\n",
    "muses = list_muses()\n",
    "print(muses)"
   ]
  },
  {
   "cell_type": "markdown",
   "metadata": {},
   "source": [
    "Now, choose the Muse you want to connect to. Check the ID on the side of your Muse device, and find the matching device in the list above and define the appropriate index in the my_muse_index variable. That is, if your Muse device is the first device listed above, the index is 1, if it is third in the list, the index is 3, etc.\n",
    "\n",
    "If the connection is successful, the output will be:\n",
    "\n",
    "`Connected to Muse: [your_muse_id]`  \n",
    "`Connected`  \n",
    "`Streaming ...`  \n",
    "\n",
    "\n",
    "If this doesn't work, try re-running the cell. You might also need to re-run the cell above. Just keep trying- it will work eventually! Sometimes it just takes time for the connection to be established."
   ]
  },
  {
   "cell_type": "code",
   "execution_count": 7,
   "metadata": {},
   "outputs": [
    {
     "name": "stdout",
     "output_type": "stream",
     "text": [
      "Connecting to Muse : 00:55:DA:B0:1E:65...\n",
      "Connected.\n",
      "Streaming...\n",
      "missing sample 0 : 65535\n"
     ]
    }
   ],
   "source": [
    "# Start a background process that will stream data from the first available Muse\n",
    "# if the connection fails, run the list_muses cell above again\n",
    "\n",
    "my_muse_index = 1\n",
    "\n",
    "stream_process = Process(target=stream, args=(muses[my_muse_index-1]['address'],))\n",
    "stream_process.start()"
   ]
  },
  {
   "cell_type": "markdown",
   "metadata": {},
   "source": [
    "## Step 2: Apply the EEG Device and Wait for Signal Quality to Stabilize\n",
    "Open a new terminal by typing \"command\" + \"T\" at the same time.\n",
    "\n",
    "Run the following to start the viewer and see the raw EEG data stream.\n",
    "\n",
    "`source activate nbmac`   \n",
    "`muselsl view`\n",
    "\n",
    "The numbers on the side of the graph indicate the variance of the signal. Wait until this decreases below 10 for all electrodes before proceeding."
   ]
  },
  {
   "cell_type": "markdown",
   "metadata": {},
   "source": [
    "## Step 3: Run the Experiment\n",
    "\n",
    "!!!MAKE SURE THE VOLUME IS ON AND TURNED UP TO FULL!!!\n",
    "\n",
    "Modify the variables in the following code chunk to define how long you want to run the experiment (# of seconds) and the name of the subject and session you are running. \n",
    "\n",
    "Once you run the cell below, open a new terminal and run the following:\n",
    "\n",
    "`cd ~/eeg-notebooks/notebooks`  \n",
    "`source activate nbmac`\n",
    "\n",
    "Then, paste the output from the cell below into the terminal and press `Enter`. This is the command to start the experiment, so make sure that the participant is seated in front of the computer at this point. Then have them quietly view the screen until the experiment is completed and do their best to minimize movement that might contaminate the signal. With their jaw and face relaxed, subjects should look directly at the flashing stimuli.\n",
    "\n",
    "Data will be recorded into CSV files in the `eeg-notebooks/data/visual/cueing` directory\n",
    "\n",
    "Here is an example of the experiment command for an cueing experiment that will last 120 seconds, for subject 1 and session 1: \n",
    "\n",
    "`python mac_run_exp.py --d 120 --s 1 --r 1 --e cueing`"
   ]
  },
  {
   "cell_type": "code",
   "execution_count": 9,
   "metadata": {
    "inputHidden": false,
    "outputHidden": false
   },
   "outputs": [
    {
     "name": "stdout",
     "output_type": "stream",
     "text": [
      "python mac_run_exp.py --d 240 --s 100 --r 1 --e cueing\n"
     ]
    }
   ],
   "source": [
    "# Define these parameters \n",
    "duration = 240\n",
    "subject = 100\n",
    "session = 1\n",
    "experiment = 'cueing'\n",
    "\n",
    "# paste the output of this cell into the terminal\n",
    "cmd2run = 'python mac_run_exp.py --d ' + str(duration) + ' --s ' + str(subject) + ' --r ' + str(session) + ' --e ' + experiment\n",
    "print(cmd2run)\n"
   ]
  },
  {
   "cell_type": "markdown",
   "metadata": {},
   "source": [
    "### Repeat Data Collection 2 times\n",
    "\n",
    "Visualizing the effects can sometimes take many rounds of stimulus presentation. Depending on experimental conditions, this may require as little as one two minute trial or as many as 6. We recommend repeating the above experiment 2 times before proceeding. \n",
    "\n",
    "Make sure to take breaks, though! Inattention, fatigue, and distraction will decrease the quality of potentials such as the SSVEP"
   ]
  },
  {
   "cell_type": "markdown",
   "metadata": {
    "inputHidden": false,
    "outputHidden": false
   },
   "source": [
    "## Step 4: Prepare the Data for Analysis\n",
    "\n",
    "Once a suitable data set has been collected, it is now time to analyze the data and see if we can identify the cueing effects\n",
    "\n",
    "\n",
    "### Load data into MNE objects\n",
    "\n",
    "[MNE](https://martinos.org/mne/stable/index.html) is a very powerful Python library for analyzing EEG data. It provides helpful functions for performing key tasks such as filtering EEG data, rejecting artifacts, and grouping EEG data into chunks (epochs).\n",
    "\n",
    "The first step after loading dependencies is use MNE to read the data we've collected into an MNE `Raw` object"
   ]
  },
  {
   "cell_type": "code",
   "execution_count": 1,
   "metadata": {},
   "outputs": [
    {
     "name": "stdout",
     "output_type": "stream",
     "text": [
      "pygame 1.9.4\n",
      "Hello from the pygame community. https://www.pygame.org/contribute.html\n"
     ]
    }
   ],
   "source": [
    "from muselsl import stream, list_muses, view, record\n",
    "from multiprocessing import Process\n",
    "from mne import Epochs, find_events, concatenate_raws\n",
    "from mne.time_frequency import tfr_morlet\n",
    "import numpy as np\n",
    "from time import time, strftime, gmtime\n",
    "import os\n",
    "from stimulus_presentation import cueing\n",
    "from utils import utils\n",
    "from collections import OrderedDict\n",
    "import warnings\n",
    "warnings.filterwarnings('ignore')\n",
    "from matplotlib import pyplot as plt\n",
    "import matplotlib.patches as patches\n"
   ]
  },
  {
   "cell_type": "code",
   "execution_count": 76,
   "metadata": {},
   "outputs": [
    {
     "name": "stdout",
     "output_type": "stream",
     "text": [
      "101\n",
      "Creating RawArray with float64 data, n_channels=5, n_times=61284\n",
      "    Range : 0 ... 61283 =      0.000 ...   239.387 secs\n",
      "Ready.\n",
      "Creating RawArray with float64 data, n_channels=5, n_times=61284\n",
      "    Range : 0 ... 61283 =      0.000 ...   239.387 secs\n",
      "Ready.\n",
      "Setting up band-pass filter from 1 - 30 Hz\n",
      "Setting up band-pass filter from 1 - 30 Hz\n",
      "122 events found\n",
      "Event IDs: [ 1  2 11 12 21 22]\n",
      "sample drop %:  50.81967213114754\n",
      "102\n",
      "Creating RawArray with float64 data, n_channels=5, n_times=61296\n",
      "    Range : 0 ... 61295 =      0.000 ...   239.434 secs\n",
      "Ready.\n",
      "Creating RawArray with float64 data, n_channels=5, n_times=61296\n",
      "    Range : 0 ... 61295 =      0.000 ...   239.434 secs\n",
      "Ready.\n",
      "Setting up band-pass filter from 1 - 30 Hz\n",
      "Setting up band-pass filter from 1 - 30 Hz\n",
      "92 events found\n",
      "Event IDs: [ 1  2 11 12 21 22]\n",
      "sample drop %:  50.0\n",
      "103\n",
      "Creating RawArray with float64 data, n_channels=5, n_times=61296\n",
      "    Range : 0 ... 61295 =      0.000 ...   239.434 secs\n",
      "Ready.\n",
      "Creating RawArray with float64 data, n_channels=5, n_times=61296\n",
      "    Range : 0 ... 61295 =      0.000 ...   239.434 secs\n",
      "Ready.\n",
      "Setting up band-pass filter from 1 - 30 Hz\n",
      "Setting up band-pass filter from 1 - 30 Hz\n",
      "160 events found\n",
      "Event IDs: [ 1  2 11 12 21 22]\n",
      "sample drop %:  50.0\n",
      "104\n",
      "Creating RawArray with float64 data, n_channels=5, n_times=61296\n",
      "    Range : 0 ... 61295 =      0.000 ...   239.434 secs\n",
      "Ready.\n",
      "Creating RawArray with float64 data, n_channels=5, n_times=61284\n",
      "    Range : 0 ... 61283 =      0.000 ...   239.387 secs\n",
      "Ready.\n",
      "Setting up band-pass filter from 1 - 30 Hz\n",
      "Setting up band-pass filter from 1 - 30 Hz\n",
      "167 events found\n",
      "Event IDs: [ 1  2 11 12 21 22]\n",
      "sample drop %:  50.29940119760479\n",
      "105\n",
      "Creating RawArray with float64 data, n_channels=5, n_times=61296\n",
      "    Range : 0 ... 61295 =      0.000 ...   239.434 secs\n",
      "Ready.\n",
      "Creating RawArray with float64 data, n_channels=5, n_times=61296\n",
      "    Range : 0 ... 61295 =      0.000 ...   239.434 secs\n",
      "Ready.\n",
      "Setting up band-pass filter from 1 - 30 Hz\n",
      "Setting up band-pass filter from 1 - 30 Hz\n",
      "111 events found\n",
      "Event IDs: [ 1  2 11 12 21 22]\n",
      "sample drop %:  49.54954954954955\n",
      "106\n",
      "Creating RawArray with float64 data, n_channels=5, n_times=61284\n",
      "    Range : 0 ... 61283 =      0.000 ...   239.387 secs\n",
      "Ready.\n",
      "Creating RawArray with float64 data, n_channels=5, n_times=61284\n",
      "    Range : 0 ... 61283 =      0.000 ...   239.387 secs\n",
      "Ready.\n",
      "Setting up band-pass filter from 1 - 30 Hz\n",
      "Setting up band-pass filter from 1 - 30 Hz\n",
      "201 events found\n",
      "Event IDs: [ 1  2 11 12 21 22]\n",
      "sample drop %:  49.75124378109452\n",
      "108\n",
      "Creating RawArray with float64 data, n_channels=5, n_times=61296\n",
      "    Range : 0 ... 61295 =      0.000 ...   239.434 secs\n",
      "Ready.\n",
      "Creating RawArray with float64 data, n_channels=5, n_times=61284\n",
      "    Range : 0 ... 61283 =      0.000 ...   239.387 secs\n",
      "Ready.\n",
      "Setting up band-pass filter from 1 - 30 Hz\n",
      "Setting up band-pass filter from 1 - 30 Hz\n",
      "130 events found\n",
      "Event IDs: [ 1  2 11 12 21 22]\n",
      "sample drop %:  50.0\n",
      "109\n",
      "Creating RawArray with float64 data, n_channels=5, n_times=61284\n",
      "    Range : 0 ... 61283 =      0.000 ...   239.387 secs\n",
      "Ready.\n",
      "Creating RawArray with float64 data, n_channels=5, n_times=61296\n",
      "    Range : 0 ... 61295 =      0.000 ...   239.434 secs\n",
      "Ready.\n",
      "Setting up band-pass filter from 1 - 30 Hz\n",
      "Setting up band-pass filter from 1 - 30 Hz\n",
      "160 events found\n",
      "Event IDs: [ 1  2 11 12 21 22]\n",
      "sample drop %:  50.625\n",
      "110\n",
      "Creating RawArray with float64 data, n_channels=5, n_times=61296\n",
      "    Range : 0 ... 61295 =      0.000 ...   239.434 secs\n",
      "Ready.\n",
      "Creating RawArray with float64 data, n_channels=5, n_times=61284\n",
      "    Range : 0 ... 61283 =      0.000 ...   239.387 secs\n",
      "Ready.\n",
      "Setting up band-pass filter from 1 - 30 Hz\n",
      "Setting up band-pass filter from 1 - 30 Hz\n",
      "107 events found\n",
      "Event IDs: [ 1  2 11 12 21 22]\n",
      "sample drop %:  50.46728971962617\n",
      "111\n",
      "Creating RawArray with float64 data, n_channels=5, n_times=61296\n",
      "    Range : 0 ... 61295 =      0.000 ...   239.434 secs\n",
      "Ready.\n",
      "Creating RawArray with float64 data, n_channels=5, n_times=61296\n",
      "    Range : 0 ... 61295 =      0.000 ...   239.434 secs\n",
      "Ready.\n",
      "Setting up band-pass filter from 1 - 30 Hz\n",
      "Setting up band-pass filter from 1 - 30 Hz\n",
      "223 events found\n",
      "Event IDs: [ 1  2 11 12 21 22]\n",
      "sample drop %:  50.224215246636774\n",
      "112\n",
      "Creating RawArray with float64 data, n_channels=5, n_times=61296\n",
      "    Range : 0 ... 61295 =      0.000 ...   239.434 secs\n",
      "Ready.\n",
      "Creating RawArray with float64 data, n_channels=5, n_times=61284\n",
      "    Range : 0 ... 61283 =      0.000 ...   239.387 secs\n",
      "Ready.\n",
      "Setting up band-pass filter from 1 - 30 Hz\n",
      "Setting up band-pass filter from 1 - 30 Hz\n",
      "86 events found\n",
      "Event IDs: [ 1  2 11 12 21 22]\n",
      "sample drop %:  51.162790697674424\n"
     ]
    },
    {
     "data": {
      "image/png": "[encoded data removed]",
      "text/plain": [
       "<Figure size 432x288 with 2 Axes>"
      ]
     },
     "metadata": {
      "needs_background": "light"
     },
     "output_type": "display_data"
    },
    {
     "data": {
      "image/png": "[encoded data removed]",
      "text/plain": [
       "<Figure size 432x288 with 2 Axes>"
      ]
     },
     "metadata": {
      "needs_background": "light"
     },
     "output_type": "display_data"
    },
    {
     "data": {
      "image/png": "[encoded data removed]",
      "text/plain": [
       "<Figure size 432x288 with 2 Axes>"
      ]
     },
     "metadata": {
      "needs_background": "light"
     },
     "output_type": "display_data"
    }
   ],
   "source": [
    "subs = [101, 102, 103, 104, 105, 106, 108, 109, 110, 111, 112]\n",
    "sub_count = 1\n",
    "diff_out = []\n",
    "for sub in subs:\n",
    "    print(sub)\n",
    "    frequencies =  np.linspace(4, 30, 100, endpoint=True)\n",
    "    wave_cycles = 6\n",
    "\n",
    "    # Load both sessions\n",
    "    raw = utils.load_data('visual/cueing', sfreq=256., \n",
    "                          subject_nb=sub, session_nb=1)\n",
    "    raw.append(    utils.load_data('visual/cueing', sfreq=256., \n",
    "                          subject_nb=sub, session_nb=2)           )\n",
    "\n",
    "    # Filter Raw Data\n",
    "    raw.filter(1,30, method='iir')\n",
    "\n",
    "    #Select Events\n",
    "    events = find_events(raw)\n",
    "    event_id = {'LeftCue': 1, 'RightCue': 2}\n",
    "    epochs = Epochs(raw, events=events, event_id=event_id, \n",
    "                    tmin=-1, tmax=2, baseline=(-1, 0), \n",
    "                    reject={'eeg':.06}, preload=True,\n",
    "                    verbose=False, picks=[0, 1, 2, 3])\n",
    "    print('sample drop %: ', (1 - len(epochs.events)/len(events)) * 100)\n",
    "\n",
    "    # Compute morlet wavelet\n",
    "\n",
    "    # Left Cue\n",
    "    tfr, itc = tfr_morlet(epochs['LeftCue'], freqs=frequencies, \n",
    "                          n_cycles=wave_cycles, return_itc=True)\n",
    "    #tfr.plot(picks=[0], mode='logratio', \n",
    "    #         title='TP9 - Ipsi');\n",
    "    #tfr.plot(picks=[3], mode='logratio', \n",
    "    #         title='TP10 - Contra');\n",
    "    power_Ipsi_TP9 = tfr.data[0,:,:]\n",
    "    power_Contra_TP10 = tfr.data[3,:,:]\n",
    "\n",
    "    # Right Cue\n",
    "    tfr, itc = tfr_morlet(epochs['RightCue'], freqs=frequencies, \n",
    "                          n_cycles=wave_cycles, return_itc=True)\n",
    "    #tfr.plot(picks=[0], mode='logratio', \n",
    "    #         title='TP9 - Contra');\n",
    "    #tfr.plot(picks=[3], mode='logratio', \n",
    "    #         title='TP10 - Ipsi');\n",
    "    power_Contra_TP9 = tfr.data[0,:,:]\n",
    "    power_Ipsi_TP10 = tfr.data[3,:,:]\n",
    "\n",
    "    # Plot Differences\n",
    "    %matplotlib inline\n",
    "    times = epochs.times\n",
    "    power_Avg_Ipsi =   (power_Ipsi_TP9+power_Ipsi_TP10)/2;\n",
    "    power_Avg_Contra = (power_Contra_TP9+power_Contra_TP10)/2;\n",
    "    power_Avg_Diff = power_Avg_Ipsi-power_Avg_Contra;\n",
    "\n",
    "\n",
    "    #find max to make color range\n",
    "    plot_max = np.max([np.max(np.abs(power_Avg_Ipsi)), np.max(np.abs(power_Avg_Contra))])\n",
    "    plot_diff_max = np.max(np.abs(power_Avg_Diff))\n",
    "\n",
    "    #Ipsi\n",
    "    fig, ax = plt.subplots(1)\n",
    "    im = plt.imshow(power_Avg_Ipsi,\n",
    "               extent=[times[0], times[-1], frequencies[0], frequencies[-1]],\n",
    "               aspect='auto', origin='lower', cmap='inferno', vmin=0, vmax=plot_max)\n",
    "    plt.xlabel('Time (sec)')\n",
    "    plt.ylabel('Frequency (Hz)')\n",
    "    plt.title('Power Average Ipsilateral to Cue')\n",
    "    cb = fig.colorbar(im)\n",
    "    cb.set_label('Power')\n",
    "    # Create a Rectangle patch\n",
    "    rect = patches.Rectangle((.5,7),1,7,linewidth=1,edgecolor='k',facecolor='none')\n",
    "    # Add the patch to the Axes\n",
    "    ax.add_patch(rect)\n",
    "\n",
    "    #TP10\n",
    "    fig, ax = plt.subplots(1)\n",
    "    im = plt.imshow(power_Avg_Contra,\n",
    "               extent=[times[0], times[-1], frequencies[0], frequencies[-1]],\n",
    "               aspect='auto', origin='lower', cmap='inferno', vmin=0, vmax=plot_max)\n",
    "    plt.xlabel('Time (sec)')\n",
    "    plt.ylabel('Frequency (Hz)')\n",
    "    plt.title(str(sub) + ' - Power Average Contra to Cue')\n",
    "    cb = fig.colorbar(im)\n",
    "    cb.set_label('Power')\n",
    "    # Create a Rectangle patch\n",
    "    rect = patches.Rectangle((.5,7),1,7,linewidth=1,edgecolor='k',facecolor='none')\n",
    "    # Add the patch to the Axes\n",
    "    ax.add_patch(rect)\n",
    "\n",
    "    #difference between conditions\n",
    "    fig, ax = plt.subplots(1)\n",
    "    im = plt.imshow(power_Avg_Diff,\n",
    "               extent=[times[0], times[-1], frequencies[0], frequencies[-1]],\n",
    "               aspect='auto', origin='lower', cmap='coolwarm', vmin=-plot_diff_max, vmax=plot_diff_max)\n",
    "    plt.xlabel('Time (sec)')\n",
    "    plt.ylabel('Frequency (Hz)')\n",
    "    plt.title('Power Difference Ipsi-Contra')\n",
    "    cb = fig.colorbar(im)\n",
    "    cb.set_label('Ipsi-Contra Power')\n",
    "    # Create a Rectangle patch\n",
    "    rect = patches.Rectangle((.5,7),1,7,linewidth=1,edgecolor='k',facecolor='none')\n",
    "    # Add the patch to the Axes\n",
    "    ax.add_patch(rect)\n",
    "     \n",
    "    #output data into array    \n",
    "    diff_out.append(np.mean(power_Avg_Diff[np.argmax(frequencies>7):np.argmax(frequencies>14)-1,\n",
    "                            np.argmax(times>0):np.argmax(times>1.5)-1 ])\n",
    "                   )\n",
    "\n"
   ]
  },
  {
   "cell_type": "code",
   "execution_count": 77,
   "metadata": {},
   "outputs": [
    {
     "name": "stdout",
     "output_type": "stream",
     "text": [
      "[-1.901486365186678e-11, 3.2478484215983596e-11, 4.131335523555978e-11, 6.067640967351224e-11, -5.756678314485149e-11, -2.3356452837021003e-11, 2.739872694123598e-11, 2.861155470409003e-11, 1.5005140157320852e-10, -2.1613801777494358e-11, -1.718497046640483e-10]\n"
     ]
    }
   ],
   "source": [
    "    \n",
    "    print(diff_out)\n",
    "    "
   ]
  },
  {
   "cell_type": "code",
   "execution_count": null,
   "metadata": {},
   "outputs": [],
   "source": []
  }
 ],
 "metadata": {
  "kernel_info": {
   "name": "mne"
  },
  "kernelspec": {
   "display_name": "Python 3",
   "language": "python",
   "name": "python3"
  },
  "language_info": {
   "codemirror_mode": {
    "name": "ipython",
    "version": 3
   },
   "file_extension": ".py",
   "mimetype": "text/x-python",
   "name": "python",
   "nbconvert_exporter": "python",
   "pygments_lexer": "ipython3",
   "version": "3.6.7"
  },
  "nteract": {
   "version": "0.8.4"
  }
 },
 "nbformat": 4,
 "nbformat_minor": 4
}
